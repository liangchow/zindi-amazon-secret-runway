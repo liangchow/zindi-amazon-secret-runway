{
  "nbformat": 4,
  "nbformat_minor": 0,
  "metadata": {
    "colab": {
      "provenance": [],
      "authorship_tag": "ABX9TyMvlWbWzdRLQMX/szpT0Fk3",
      "include_colab_link": true
    },
    "kernelspec": {
      "name": "python3",
      "display_name": "Python 3"
    },
    "language_info": {
      "name": "python"
    }
  },
  "cells": [
    {
      "cell_type": "markdown",
      "metadata": {
        "id": "view-in-github",
        "colab_type": "text"
      },
      "source": [
        "<a href=\"https://colab.research.google.com/github/liangchow/zindi-amazon-secret-runway/blob/main/image_cleaning.ipynb\" target=\"_parent\"><img src=\"https://colab.research.google.com/assets/colab-badge.svg\" alt=\"Open In Colab\"/></a>"
      ]
    },
    {
      "cell_type": "markdown",
      "source": [],
      "metadata": {
        "id": "jRvzaJUWtiWk"
      }
    },
    {
      "cell_type": "markdown",
      "source": [
        "# Imports and Setup."
      ],
      "metadata": {
        "id": "LwUDlijZkmlQ"
      }
    },
    {
      "cell_type": "code",
      "execution_count": 1,
      "metadata": {
        "id": "XVAHPN3ujSqo"
      },
      "outputs": [],
      "source": [
        "%%capture\n",
        "!pip -q install rasterio\n",
        "!pip -q install osmnx"
      ]
    },
    {
      "cell_type": "code",
      "source": [
        "import os\n",
        "import re\n",
        "#import torch\n",
        "import rasterio.features\n",
        "from rasterio.features import rasterize\n",
        "from rasterio.enums import MergeAlg\n",
        "import json\n",
        "from shapely.geometry import LineString, Polygon, shape\n",
        "import osmnx as ox\n",
        "\n",
        "# Data manipulation and visualization\n",
        "import matplotlib.pyplot as plt\n",
        "import numpy as np\n",
        "from skimage.measure import label, regionprops\n",
        "from sklearn.decomposition import PCA\n",
        "import pandas as pd\n",
        "import geopandas as gpd\n",
        "from pyproj import Transformer\n",
        "\n",
        "# Set seed for reproducibility\n",
        "SEED = 42\n",
        "np.random.seed(SEED)"
      ],
      "metadata": {
        "id": "fE3-VAiOlEwa"
      },
      "execution_count": 2,
      "outputs": []
    },
    {
      "cell_type": "markdown",
      "source": [
        "# Download  data to local compute node"
      ],
      "metadata": {
        "id": "2gqrUzVPp8Zy"
      }
    },
    {
      "cell_type": "markdown",
      "source": [
        "## Mount your Google Drive"
      ],
      "metadata": {
        "id": "eZ9NJwoXrC7y"
      }
    },
    {
      "cell_type": "code",
      "source": [
        "from google.colab import drive\n",
        "drive.mount('/content/drive')"
      ],
      "metadata": {
        "colab": {
          "base_uri": "https://localhost:8080/"
        },
        "id": "9FZv4psrrG-L",
        "outputId": "1cdb3152-284e-4ee9-9a10-b2a11402c170"
      },
      "execution_count": 3,
      "outputs": [
        {
          "output_type": "stream",
          "name": "stdout",
          "text": [
            "Mounted at /content/drive\n"
          ]
        }
      ]
    },
    {
      "cell_type": "markdown",
      "source": [
        "## Compress files, copy over to compute node, and uncompress"
      ],
      "metadata": {
        "id": "155cMjbjriz6"
      }
    },
    {
      "cell_type": "code",
      "source": [
        "# Navigate to the shared directory\n",
        "#%cd /content/drive/MyDrive/Zindi-Amazon/\n",
        "#!zip -r /content/predictions.zip WhateverDirectory\n",
        "#!unzip /content/predictions.zip -d /content"
      ],
      "metadata": {
        "collapsed": true,
        "id": "uiqGZSObr51z"
      },
      "execution_count": 4,
      "outputs": []
    },
    {
      "cell_type": "markdown",
      "source": [
        "# Description of process\n",
        "\n",
        "Here's a method to identify clusters, fit lines to each one, and extract the endpoints and lengths. We'll start by identifying clusters, then fit lines to each, and finally calculate endpoints and filter based on length-to-width ratios.\n",
        "\n",
        "**Step-by-Step Method:**\n",
        "1.   **Identify Clusters:** We can identify clusters of connected pixels in the binary mask using connected component analysis. Each cluster corresponds to a connected component in the binary mask.\n",
        "2.   **Fit a Line to Each Cluster:** For each identified cluster, fit a line using Principal Component Analysis (PCA), which will help determine the main axis of elongation for the cluster. The endpoints of the fitted line can be computed along this principal component.\n",
        "3.   **Extract Lengths and Calculate Length/Width Ratios:** Once we have the principal component direction, calculate the length of the line by projecting the points onto the main axis. The width can be computed as the spread of points orthogonal to this main axis, allowing for length-to-width ratio calculations.\n",
        "4.   **Reject bad clusters:** Airstrips are long and narrow. In the training set, the shortest LINESTRING was 376 meters. With a 20-meter buffer, the mininal lenght of the prediction shoud be over 400 meters. If we reject all clusters that do not intersect the bounding box, and are less than 300 meters long (30 pixels), we shoud remove almost all short road or dry river bed segments. For clusters that intersect the bounding box, we are not going to cut them based on the line segment lenght. If it looks like a problem, we'll devise a different cut.\n"
      ],
      "metadata": {
        "id": "WOH5S6QP8BE6"
      }
    },
    {
      "cell_type": "code",
      "source": [
        "def process_clusters(binary_mask, min_length=35, min_width=3, max_width=7):\n",
        "    \"\"\"\n",
        "    Identifies and processes clusters (connected components) in the binary mask.\n",
        "    \"\"\"\n",
        "\n",
        "    # Label connected components in the mask\n",
        "    labeled_mask = label(binary_mask)\n",
        "    clusters = regionprops(labeled_mask)\n",
        "    image_height, image_width = binary_mask.shape  # Get image dimensions\n",
        "\n",
        "    lines = []\n",
        "\n",
        "    for cluster in clusters:\n",
        "        # Check if the cluster has enough points for PCA\n",
        "        if cluster.area < 2:  # At least 2 points needed for PCA\n",
        "            # Handle clusters with insufficient points (e.g., skip, merge, etc.)\n",
        "            print(f\"Skipping cluster with {cluster.area} points - insufficient for PCA.\")\n",
        "            continue  # Skip this cluster\n",
        "\n",
        "        # Extract the coordinates of the pixels in the cluster\n",
        "        coords = cluster.coords\n",
        "\n",
        "        # Perform PCA to find the main axis\n",
        "        pca = PCA(n_components=2)\n",
        "        pca.fit(coords)\n",
        "        direction = pca.components_[0]\n",
        "        variance = pca.explained_variance_\n",
        "\n",
        "        # Compute the length of the cluster along the principal axis\n",
        "        projected_coords = coords @ direction\n",
        "        min_proj, max_proj = projected_coords.min(), projected_coords.max()\n",
        "        length = max_proj - min_proj\n",
        "\n",
        "        # Calculate width by projecting orthogonal to main axis\n",
        "        # Using the max / min values we get a width that covers all\n",
        "        # points, but could be impacted by outliers.\n",
        "        # Using the standard deviation, we may be less susceptible to\n",
        "        # outliers. Using 2 time the std, we cover 68% of all points. Using\n",
        "        # 4 times the std would cover 95%. Something to test.\n",
        "        orthogonal_direction = pca.components_[1]\n",
        "        orthogonal_proj = coords @ orthogonal_direction\n",
        "        width = orthogonal_proj.max() - orthogonal_proj.min()\n",
        "        #width = 2.0 * np.std(orthogonal_proj)\n",
        "\n",
        "        # Compute length-to-width ratio\n",
        "        length_width_ratio = length / width if width != 0 else np.inf\n",
        "\n",
        "        # Check if line touches the border:\n",
        "        touches_border = any(\n",
        "            (x == 0 or x == image_width - 1 or y == 0 or y == image_height - 1)\n",
        "            for x, y in coords\n",
        "        )\n",
        "\n",
        "\n",
        "        # Filter based on length and border condition and width\n",
        "        if (width >= min_width) and (width <= max_width) and ((length >= min_length and not touches_border) or (touches_border)):\n",
        "            # Get endpoints of the line along the main axis\n",
        "            endpoint1 = pca.mean_ + direction * (min_proj - pca.mean_ @ direction)\n",
        "            endpoint2 = pca.mean_ + direction * (max_proj - pca.mean_ @ direction)\n",
        "            lines.append({\n",
        "                \"length\": length,\n",
        "                \"width\": width,\n",
        "                \"ratio\": length_width_ratio,\n",
        "                \"boundary\": touches_border,\n",
        "                \"endpoints\": (endpoint1, endpoint2)\n",
        "            })\n",
        "\n",
        "    return lines"
      ],
      "metadata": {
        "id": "9mwEn_Nx8R-v"
      },
      "execution_count": 5,
      "outputs": []
    },
    {
      "cell_type": "code",
      "source": [
        "def plot_clusters_and_lines(binary_mask, lines, roads_mask):\n",
        "    fig, ax = plt.subplots(figsize=(20, 20))  # Set figure size\n",
        "\n",
        "    # Create a combined mask where each pixel takes the max value between the two masks\n",
        "    combined_mask = np.maximum(binary_mask, roads_mask)\n",
        "\n",
        "    # Plot the combined mask with custom colormap for clarity\n",
        "    cmap = plt.cm.gray\n",
        "    cmap.set_over('blue')  # Use blue to represent roads (value 2)\n",
        "\n",
        "\n",
        "    # Plot the combined mask with specific color ranges\n",
        "    ax.imshow(combined_mask, cmap=cmap, vmin=0, vmax=2)\n",
        "\n",
        "    # Plot the binary mask as background\n",
        "    #ax.imshow(binary_mask, cmap=\"gray\")\n",
        "\n",
        "    for line in lines:\n",
        "        (x1, y1), (x2, y2) = line[\"endpoints\"]\n",
        "        ax.plot([y1, y2], [x1, x2], 'r-')\n",
        "\n",
        "    plt.show()\n"
      ],
      "metadata": {
        "id": "Epa0Zl3x9Olx"
      },
      "execution_count": 6,
      "outputs": []
    },
    {
      "cell_type": "code",
      "source": [
        "def load_binary_mask_from_geotiff(geotiff_path):\n",
        "    \"\"\"\n",
        "    Loads the binary mask from a GeoTIFF file and returns it as a NumPy array.\n",
        "    \"\"\"\n",
        "    with rasterio.open(geotiff_path) as src:\n",
        "        # Read the first band (assuming the binary mask is single-band and in the first band)\n",
        "        binary_mask = src.read(1)\n",
        "\n",
        "    # Ensure mask is binary (values should be 0 or 1)\n",
        "    binary_mask = (binary_mask > 0).astype(np.uint8)\n",
        "\n",
        "    return binary_mask\n"
      ],
      "metadata": {
        "id": "dOYCTOPkeUUv"
      },
      "execution_count": 7,
      "outputs": []
    },
    {
      "cell_type": "code",
      "source": [
        "def lines_to_geojson(lines, geotiff_path, roads, exclude_intersection = False, buffer_distance=200):\n",
        "    \"\"\"\n",
        "    Converts lines with pixel coordinates to GeoJSON LINESTRING features\n",
        "    using the GeoTIFF metadata, including the CRS.\n",
        "\n",
        "    Args:\n",
        "        lines: A list of line dictionaries, each with \"endpoints\" key.\n",
        "        geotiff_path: Path to the GeoTIFF file.\n",
        "        buffer_distance: Buffer distance in meters.\n",
        "\n",
        "    Returns:\n",
        "        A GeoJSON FeatureCollection containing the Polygon features with buffer.\n",
        "    \"\"\"\n",
        "\n",
        "    with rasterio.open(geotiff_path) as src:\n",
        "        transform = src.transform\n",
        "        crs = src.crs\n",
        "\n",
        "    features = []\n",
        "    for line in lines:\n",
        "        (x1, y1), (x2, y2) = line[\"endpoints\"]\n",
        "\n",
        "        # Convert pixel coordinates to geographic coordinates\n",
        "        lon1, lat1 = rasterio.transform.xy(transform, x1, y1)\n",
        "        lon2, lat2 = rasterio.transform.xy(transform, x2, y2)\n",
        "\n",
        "        # Create Shapely LineString\n",
        "        line_geom = LineString([(lon1, lat1), (lon2, lat2)])\n",
        "\n",
        "        # Buffer the LineString (assuming UTM coordinates)\n",
        "        polygon_geom_signal = line_geom.buffer(20)\n",
        "        polygon_geom_buffer = line_geom.buffer(20+buffer_distance)\n",
        "\n",
        "        # Check for intersections\n",
        "        #intersects = intersects_any_geometry(line_geom, roads)\n",
        "        intersects = polygon_intersects_any_geometry(polygon_geom_signal, roads)\n",
        "        if intersects:\n",
        "            print(\"Line intersects with roads\")\n",
        "            if exclude_intersection:\n",
        "                continue\n",
        "\n",
        "\n",
        "        # Create GeoJSON Polygon feature.\n",
        "        # The order is critical: bacground first, then airstrip. We\n",
        "        # later merge the two and it is critical to have airstrip\n",
        "        # in second place.\n",
        "        feature = {\n",
        "            \"type\": \"Feature\",\n",
        "            \"geometry\": polygon_geom_buffer.__geo_interface__,\n",
        "            \"properties\": {\n",
        "                \"length\": line[\"length\"],\n",
        "                \"width\": line[\"width\"],\n",
        "                \"ratio\": line[\"ratio\"],\n",
        "                \"type\": \"buffer\",\n",
        "                \"signal\": 2\n",
        "            }\n",
        "        }\n",
        "        features.append(feature)\n",
        "        feature = {\n",
        "            \"type\": \"Feature\",\n",
        "            \"geometry\": polygon_geom_signal.__geo_interface__,\n",
        "            \"properties\": {\n",
        "                \"length\": line[\"length\"],\n",
        "                \"width\": line[\"width\"],\n",
        "                \"ratio\": line[\"ratio\"],\n",
        "                \"type\": \"airstrip\",\n",
        "                \"signal\": 1\n",
        "            }\n",
        "        }\n",
        "        features.append(feature)\n",
        "\n",
        "    # Create GeoJSON FeatureCollection with CRS\n",
        "    geojson = {\n",
        "        \"type\": \"FeatureCollection\",\n",
        "        \"features\": features,\n",
        "        \"crs\": {\n",
        "            \"type\": \"name\",\n",
        "            \"properties\": {\n",
        "                \"name\": crs.to_string()  # Get CRS as a string\n",
        "            }\n",
        "        }\n",
        "    }\n",
        "\n",
        "    return geojson\n"
      ],
      "metadata": {
        "id": "Bjg0sjztvieK"
      },
      "execution_count": 22,
      "outputs": []
    },
    {
      "cell_type": "code",
      "source": [
        "def create_mask_from_geojson(geojson_data, geotiff_path, output_path):\n",
        "    \"\"\"\n",
        "    Creates a new GeoTIFF mask from GeoJSON polygons,\n",
        "    using the metadata of an existing GeoTIFF.\n",
        "\n",
        "    Args:\n",
        "        geojson_data: The GeoJSON data containing the polygons.\n",
        "        geotiff_path: Path to the original GeoTIFF file.\n",
        "        output_path: Path to save the new GeoTIFF mask.\n",
        "    \"\"\"\n",
        "\n",
        "    with rasterio.open(geotiff_path) as src:\n",
        "        # Get metadata from original GeoTIFF\n",
        "        meta = src.meta.copy()\n",
        "\n",
        "        # Update data type to uint8 for binary mask\n",
        "        #meta.update(dtype=rasterio.uint8, count=1, nodata=None)\n",
        "        meta.update(dtype=rasterio.uint8, count=1, nodata=0)\n",
        "\n",
        "        # Create an empty mask array\n",
        "        mask = np.zeros((meta['height'], meta['width']), dtype=rasterio.uint8)\n",
        "\n",
        "        # Rasterize GeoJSON polygons onto the mask with value 1\n",
        "        #for feature in geojson_data['features']:\n",
        "        #    # Burn the polygon with a value of 1\n",
        "        #    # Use rasterio.features.rasterize instead of features.rasterize\n",
        "        #    rasterio.features.rasterize(\n",
        "        #        [(feature['geometry'], 1)],\n",
        "        #        out=mask,\n",
        "        #        transform=meta['transform'],\n",
        "        #        all_touched=True,\n",
        "        #        #default_value=1,  # Set polygon value to 1\n",
        "        #        default_value=np.uint8(feature['properties']['signal']),  # Set polygon value to 1\n",
        "        #        dtype=rasterio.uint8,\n",
        "        #    )\n",
        "\n",
        "        # Prepare geometries with associated 'signal' values for rasterization.\n",
        "        # The value is 1 for airstrips and 2 for background in the buffer.\n",
        "        shapes = [(feature['geometry'], feature['properties']['signal']) for feature in geojson_data['features']]\n",
        "\n",
        "        # Rasterize the shapes with their respective 'signal' values\n",
        "        rasterio.features.rasterize(\n",
        "            shapes,\n",
        "            out=mask,\n",
        "            transform=meta['transform'],\n",
        "            all_touched=True,\n",
        "            dtype=rasterio.uint8,\n",
        "            merge_alg=MergeAlg.replace  # Ensure each shape overwrites previous values\n",
        "        )\n",
        "\n",
        "\n",
        "        # Write the new mask to a GeoTIFF file\n",
        "        with rasterio.open(output_path, 'w', **meta) as dst:\n",
        "            dst.write(mask, indexes=1)\n"
      ],
      "metadata": {
        "id": "X9M4r0i9zi_A"
      },
      "execution_count": 9,
      "outputs": []
    },
    {
      "cell_type": "code",
      "source": [
        "def create_dataframe_from_mask(mask_path, aoi_file):\n",
        "    \"\"\"\n",
        "    Creates a Pandas DataFrame from a GeoTIFF mask file,\n",
        "    extracting pixels with value 1 (airstrip) or\n",
        "    2 (background).\n",
        "\n",
        "    Args:\n",
        "        mask_path: Path to the GeoTIFF mask file.\n",
        "        aoi_file: Name of the AOI file (used in the DataFrame index).\n",
        "\n",
        "    Returns:\n",
        "        A Pandas DataFrame with columns 'pixel_id' and 'value'.\n",
        "    \"\"\"\n",
        "\n",
        "    with rasterio.open(mask_path) as src:\n",
        "        mask_data = src.read(1)  # Read the mask data as a NumPy array\n",
        "\n",
        "    # Get indices of pixels with value 1 or 2\n",
        "    row_indices, col_indices = np.where((mask_data == 1) | (mask_data == 2))\n",
        "\n",
        "    # --- Overwrite label with 0 when mask_data is 2 ---\n",
        "    labels = mask_data[row_indices, col_indices]  # Get original labels\n",
        "    labels[labels == 2] = 0  # Overwrite 2 with 0\n",
        "\n",
        "    # Create a list of pixel IDs in the specified format\n",
        "    #\n",
        "    # NOTICE THAT THE ZINDI TEAM FLIPPED THE COLUMN AND ROW!!!! THIS IS SO\n",
        "    # WEIRD. MAKES NO SENSE TO BREAK WITH CONVENTIONS\n",
        "    #\n",
        "    #pixel_ids = [f'Tile{aoi_file}_{row}_{col}' for row, col in zip(row_indices, col_indices)]\n",
        "    pixel_ids = [f'Tile{aoi_file}_{row}_{col}' for row, col in zip(col_indices, row_indices)]\n",
        "\n",
        "    # Create the DataFrame\n",
        "    df = pd.DataFrame({'tile_row_column': pixel_ids, 'label': labels})\n",
        "    df.set_index('tile_row_column', inplace=True)\n",
        "\n",
        "    return df"
      ],
      "metadata": {
        "id": "5f70o9zPsd3X"
      },
      "execution_count": 21,
      "outputs": []
    },
    {
      "cell_type": "code",
      "source": [
        "def create_dataframe_from_mask_all_pixels(mask_path, aoi_file, no_data_value=None):\n",
        "    \"\"\"\n",
        "    Creates a Pandas DataFrame from a GeoTIFF mask file,\n",
        "    setting 'no data' pixels to 0, pixels with value 2 to 0,\n",
        "    and including all pixels in the image.\n",
        "\n",
        "    Args:\n",
        "        mask_path: Path to the GeoTIFF mask file.\n",
        "        aoi_file: Name of the AOI file (used in the DataFrame index).\n",
        "        no_data_value: The value representing 'no data' in the mask.\n",
        "\n",
        "    Returns:\n",
        "        A Pandas DataFrame with columns 'tile_row_column' and 'label'.\n",
        "    \"\"\"\n",
        "\n",
        "    with rasterio.open(mask_path) as src:\n",
        "        mask_data = src.read(1)  # Read the mask data\n",
        "        height, width = mask_data.shape  # Get image dimensions\n",
        "\n",
        "    # Create a list of all pixel IDs\n",
        "    pixel_ids = [f'Tile{aoi_file}_{col}_{row}' for row in range(height) for col in range(width)]\n",
        "\n",
        "    # Create a flattened array of the mask data\n",
        "    mask_data_flat = mask_data.flatten()\n",
        "\n",
        "    # Set 'no data' values to 0\n",
        "    if no_data_value is not None:\n",
        "        mask_data_flat[mask_data_flat == no_data_value] = 0\n",
        "\n",
        "    # Set pixels with value 2 to 0\n",
        "    mask_data_flat[mask_data_flat == 2] = 0\n",
        "\n",
        "    # Create the DataFrame\n",
        "    df = pd.DataFrame({'tile_row_column': pixel_ids, 'label': mask_data_flat})\n",
        "    df.set_index('tile_row_column', inplace=True)\n",
        "\n",
        "    return df"
      ],
      "metadata": {
        "id": "e0LGQwuxh-nh"
      },
      "execution_count": 23,
      "outputs": []
    },
    {
      "cell_type": "code",
      "source": [
        "def export_dataframe_to_csv(df, csv_path):\n",
        "    \"\"\"\n",
        "    Exports a Pandas DataFrame to a CSV file, appending if the file exists.\n",
        "\n",
        "    Args:\n",
        "        df: The Pandas DataFrame to export.\n",
        "        csv_path: Path to the CSV file.\n",
        "    \"\"\"\n",
        "\n",
        "    # Check if the file exists\n",
        "    if os.path.exists(csv_path):\n",
        "        # Append to the existing file without header\n",
        "        df.to_csv(csv_path, mode='a', header=False, index=True)\n",
        "    else:\n",
        "        # Create a new file with header\n",
        "        df.to_csv(csv_path, mode='w', header=True, index=True)\n"
      ],
      "metadata": {
        "id": "b1nnm8G3uHDk"
      },
      "execution_count": 11,
      "outputs": []
    },
    {
      "cell_type": "code",
      "source": [
        "def extract_model_bands(text):\n",
        "    \"\"\"\n",
        "    Extracts the part of the string after \"lr0005\".\n",
        "\n",
        "    Args:\n",
        "      text: The input string.\n",
        "\n",
        "    Returns:\n",
        "      The part of the string after \"lr0005\", or None if \"lr0005\" is not found.\n",
        "    \"\"\"\n",
        "    match = re.search(r\"lr0005_(.*)\", text)\n",
        "    if match:\n",
        "        return match.group(1)\n",
        "    else:\n",
        "        return None\n"
      ],
      "metadata": {
        "id": "AAr7l445kTI0"
      },
      "execution_count": 12,
      "outputs": []
    },
    {
      "cell_type": "code",
      "source": [
        "def modify_string_for_submission_file(input_string):\n",
        "    \"\"\"\n",
        "    Removes \"20\" from the input string if it's in the format \"aoi_20YY_MM\".\n",
        "\n",
        "    Args:\n",
        "      input_string: The input string.\n",
        "\n",
        "    Returns:\n",
        "      The modified string with \"20\" removed, or the original string if\n",
        "      it doesn't match the expected format.\n",
        "    \"\"\"\n",
        "    return re.sub(r\"aoi_20(\\d\\d)_(\\d\\d)\", r\"aoi_\\1_\\2\", input_string)\n"
      ],
      "metadata": {
        "id": "kyGkHRI0lfss"
      },
      "execution_count": 13,
      "outputs": []
    },
    {
      "cell_type": "code",
      "source": [
        "def load_osm_roads(geotiff_path):\n",
        "    # Open the GeoTIFF and read metadata\n",
        "    with rasterio.open(geotiff_path) as src:\n",
        "        bbox = src.bounds  # left, bottom, right, top in original CRS\n",
        "        src_crs = src.crs  # original CRS\n",
        "        transform = src.transform\n",
        "        height, width = src.height, src.width\n",
        "\n",
        "    # Define target CRS for OSM (EPSG:4326)\n",
        "    target_crs = 'EPSG:4326'\n",
        "\n",
        "    # Convert bounding box coordinates if required\n",
        "    if src_crs != target_crs:\n",
        "        transformer = Transformer.from_crs(src_crs, target_crs, always_xy=True)\n",
        "        min_x, min_y = transformer.transform(bbox.left, bbox.bottom)\n",
        "        max_x, max_y = transformer.transform(bbox.right, bbox.top)\n",
        "    else:\n",
        "        min_x, min_y, max_x, max_y = bbox.left, bbox.bottom, bbox.right, bbox.top\n",
        "\n",
        "    # Query OSM within the bounding box\n",
        "    roads = ox.geometries_from_bbox(north=max_y, south=min_y, east=max_x, west=min_x, tags={'highway': True})\n",
        "\n",
        "    # Convert roads back to the original CRS of the GeoTIFF\n",
        "    roads = roads.to_crs(src_crs)\n",
        "\n",
        "    # Create an empty mask array\n",
        "    mask = np.zeros((height, width), dtype=rasterio.uint8)\n",
        "\n",
        "    # Rasterize the roads with a value of 2\n",
        "    road_shapes = ((geom, 2) for geom in roads.geometry)\n",
        "    mask = rasterize(\n",
        "        road_shapes,\n",
        "        out_shape=(height, width),\n",
        "        transform=transform,\n",
        "        fill=0,         # Background value\n",
        "        dtype=rasterio.uint8,\n",
        "    )\n",
        "\n",
        "\n",
        "    return roads, mask"
      ],
      "metadata": {
        "id": "8RCoUaptjFOX"
      },
      "execution_count": 14,
      "outputs": []
    },
    {
      "cell_type": "code",
      "source": [
        "def find_intersecting_airstrips(geojson_data, roads):\n",
        "    \"\"\"\n",
        "    Identifies airstrips in geojson_data that intersect with roads.\n",
        "\n",
        "    Args:\n",
        "      geojson_data: A GeoJSON-like dictionary containing features.\n",
        "      roads: A geopandas GeoDataFrame containing road geometries.\n",
        "\n",
        "    Returns:\n",
        "      A list of airstrip features that intersect with roads.\n",
        "    \"\"\"\n",
        "\n",
        "    # Create a GeoDataFrame from the GeoJSON features\n",
        "    airstrips_gdf = gpd.GeoDataFrame.from_features([\n",
        "        feature for feature in geojson_data['features']\n",
        "        if feature['properties']['type'] == 'airstrip'\n",
        "    ])\n",
        "\n",
        "    # Assign CRS to airstrips_gdf if not already set\n",
        "    if airstrips_gdf.crs is None:\n",
        "        airstrips_gdf.set_crs(roads.crs, inplace=True)\n",
        "    else:\n",
        "        # Convert airstrips to the roads CRS if needed\n",
        "        airstrips_gdf = airstrips_gdf.to_crs(roads.crs)\n",
        "\n",
        "    # Perform spatial join to find intersections\n",
        "    intersecting_airstrips = gpd.sjoin(\n",
        "        airstrips_gdf, roads, how=\"inner\", predicate=\"intersects\"\n",
        "    )\n",
        "\n",
        "    # Return the intersecting airstrip features as a list of dictionaries\n",
        "    return intersecting_airstrips.to_dict('records')"
      ],
      "metadata": {
        "id": "4ZlsIMwaX7DB"
      },
      "execution_count": 15,
      "outputs": []
    },
    {
      "cell_type": "code",
      "source": [
        "def intersects_any_geometry(linestring, geodataframe):\n",
        "    \"\"\"\n",
        "    Checks if a LineString intersects any geometry in a GeoDataFrame.\n",
        "\n",
        "    Args:\n",
        "        linestring: A shapely.geometry.LineString object.\n",
        "        geodataframe: A geopandas.GeoDataFrame containing geometries.\n",
        "\n",
        "    Returns:\n",
        "        True if the LineString intersects any geometry in the GeoDataFrame,\n",
        "        False otherwise.\n",
        "    \"\"\"\n",
        "\n",
        "    # Ensure both geometries have the same CRS\n",
        "    #if linestring.crs is None and geodataframe.crs is not None:\n",
        "    #    linestring = gpd.GeoSeries([linestring], crs=geodataframe.crs).iloc[0]\n",
        "    #elif linestring.crs != geodataframe.crs:\n",
        "    #    linestring = linestring.to_crs(geodataframe.crs)\n",
        "    linestring = gpd.GeoSeries([linestring], crs=geodataframe.crs).iloc[0]\n",
        "\n",
        "    # Check for intersections using any() for efficiency\n",
        "    return geodataframe.geometry.intersects(linestring).any()\n"
      ],
      "metadata": {
        "id": "zXOpQhi4eAc7"
      },
      "execution_count": 16,
      "outputs": []
    },
    {
      "cell_type": "code",
      "source": [
        "def polygon_intersects_any_geometry(polygon, geodataframe):\n",
        "    \"\"\"\n",
        "    Checks if a Polygon intersects any geometry in a GeoDataFrame.\n",
        "\n",
        "    Args:\n",
        "        polygon: A shapely.geometry.Polygon object.\n",
        "        geodataframe: A geopandas.GeoDataFrame containing geometries.\n",
        "\n",
        "    Returns:\n",
        "        True if the Polygon intersects any geometry in the GeoDataFrame,\n",
        "        False otherwise.\n",
        "    \"\"\"\n",
        "\n",
        "    # Create a GeoSeries from the Polygon and assign the geodataframe's CRS\n",
        "    polygon = gpd.GeoSeries([polygon], crs=geodataframe.crs).iloc[0]\n",
        "\n",
        "    # Check for intersections using any() for efficiency\n",
        "    return geodataframe.geometry.intersects(polygon).any()"
      ],
      "metadata": {
        "id": "NS3KY-qrhVPd"
      },
      "execution_count": 17,
      "outputs": []
    },
    {
      "cell_type": "markdown",
      "source": [
        "# Main loop\n",
        "\n",
        "This is where we load the GeoTIFF file prediction, find the clusters,\n",
        "clean the image and then produce a final prediction. Notice that the final prediction must have a 200 meter buffer."
      ],
      "metadata": {
        "id": "1AGVEdy--CH5"
      }
    },
    {
      "cell_type": "code",
      "source": [
        "aoi_files = ['aoi_2020_01', 'aoi_2020_02', 'aoi_2020_03', 'aoi_2021_01', 'aoi_2021_02', 'aoi_2021_03', 'aoi_2021_04', 'aoi_2022_01', 'aoi_2022_02', 'aoi_2023_01', 'aoi_2024_01']\n",
        "aoi_directory = '/content/drive/MyDrive/Zindi-Amazon/Studies/model_20241030_20m_lr0005_B4_B3_B2_B8_VV'\n",
        "\n",
        "total_airstrips = 0\n",
        "total_intersecting_airstrips = 0\n",
        "\n",
        "full_CSV_output = False\n",
        "\n",
        "for aoi_file in aoi_files:\n",
        "    print(f'Processing {aoi_file}')\n",
        "    geotiff_path = f'{aoi_directory}/{aoi_file}_prediction_mosaic.tif'\n",
        "\n",
        "    binary_mask = load_binary_mask_from_geotiff(geotiff_path)\n",
        "    lines = process_clusters(binary_mask)\n",
        "    roads, roads_mask = load_osm_roads(geotiff_path)\n",
        "    #print(roads.geometry.iloc[0])\n",
        "\n",
        "    plot_clusters_and_lines(binary_mask, lines, roads_mask)\n",
        "\n",
        "    # Output the line information\n",
        "    #for line in lines:\n",
        "    #    print(f\" Length: {line['length']}, Width: {line['width']}, Ratio: {line['ratio']}\")\n",
        "    #    print(f\" Endpoints: {line['endpoints']}\")\n",
        "\n",
        "    # Convert lines to GeoJSON object. This is also where we exclude lines\n",
        "    # that intersect with roads.\n",
        "    geojson_data = lines_to_geojson(lines, geotiff_path, roads, exclude_intersection = True)\n",
        "\n",
        "    airstrips = [feature for feature in geojson_data['features'] if feature['properties']['type'] == 'airstrip']\n",
        "    #print(f\"Number of airstrips: {len(airstrips)}\")\n",
        "    total_airstrips += len(airstrips)\n",
        "\n",
        "    # Print the number of intersecting airstrips\n",
        "    #intersecting_airstrips = find_intersecting_airstrips(geojson_data, roads)\n",
        "    #print(f\"Number of intersecting airstrips: {len(intersecting_airstrips)}\")\n",
        "    #total_intersecting_airstrips += len(intersecting_airstrips)\n",
        "\n",
        "\n",
        "    # Get model bands stored in name of the directory\n",
        "    bands = extract_model_bands(aoi_directory)\n",
        "\n",
        "    # Create final mask with padding.\n",
        "    create_mask_from_geojson(geojson_data, geotiff_path, f'{aoi_file}_{bands}_prediction_final.tif')\n",
        "\n",
        "    submission_tag = modify_string_for_submission_file(aoi_file)\n",
        "    if full_CSV_output:\n",
        "        df = create_dataframe_from_mask_all_pixels(f'{aoi_file}_{bands}_prediction_final.tif', submission_tag)\n",
        "    else:\n",
        "        df = create_dataframe_from_mask(f'{aoi_file}_{bands}_prediction_final.tif', submission_tag)\n",
        "\n",
        "    csv_path = f'output_file_{bands}.csv'  # Path to your CSV file\n",
        "    export_dataframe_to_csv(df, csv_path)\n",
        "    #print(f'Number of pixels with background or signal:{len(df)}')\n",
        "\n",
        "    #break\n",
        "\n",
        "\n",
        "print(f'Total number of airstrips: {total_airstrips}')\n",
        "#print(f'Total number of intersecting airstrips: {total_intersecting_airstrips}')\n"
      ],
      "metadata": {
        "id": "WGxpDKL9-Z4w",
        "colab": {
          "base_uri": "https://localhost:8080/",
          "height": 1000
        },
        "outputId": "bab0447a-796b-4dbc-b8e2-9f0fbcd69585"
      },
      "execution_count": 24,
      "outputs": [
        {
          "output_type": "stream",
          "name": "stderr",
          "text": [
            "/usr/local/lib/python3.10/dist-packages/ipykernel/ipkernel.py:283: DeprecationWarning: `should_run_async` will not call `transform_cell` automatically in the future. Please pass the result to `transformed_cell` argument and any exception that happen during thetransform in `preprocessing_exc_tuple` in IPython 7.17 and above.\n",
            "  and should_run_async(code)\n",
            "<ipython-input-14-e99605ac2913>:21: FutureWarning: The `geometries` module and `geometries_from_X` functions have been renamed the `features` module and `features_from_X` functions. Use these instead. The `geometries` module and function names are deprecated and will be removed in the v2.0.0 release. See the OSMnx v2 migration guide: https://github.com/gboeing/osmnx/issues/1123\n",
            "  roads = ox.geometries_from_bbox(north=max_y, south=min_y, east=max_x, west=min_x, tags={'highway': True})\n",
            "/usr/local/lib/python3.10/dist-packages/osmnx/geometries.py:48: FutureWarning: The `north`, `south`, `east`, and `west` parameters are deprecated and will be removed in the v2.0.0 release. Use the `bbox` parameter instead. See the OSMnx v2 migration guide: https://github.com/gboeing/osmnx/issues/1123\n",
            "  return features.features_from_bbox(north, south, east, west, tags=tags)\n",
            "/usr/local/lib/python3.10/dist-packages/osmnx/geometries.py:48: FutureWarning: The expected order of coordinates in `bbox` will change in the v2.0.0 release to `(left, bottom, right, top)`.\n",
            "  return features.features_from_bbox(north, south, east, west, tags=tags)\n"
          ]
        },
        {
          "output_type": "stream",
          "name": "stdout",
          "text": [
            "Processing aoi_2020_01\n"
          ]
        },
        {
          "output_type": "display_data",
          "data": {
            "text/plain": [
              "<Figure size 2000x2000 with 1 Axes>"
            ],
            "image/png": "[encoded data removed]"
          },
          "metadata": {}
        },
        {
          "output_type": "stream",
          "name": "stdout",
          "text": [
            "Total number of airstrips: 5\n"
          ]
        }
      ]
    },
    {
      "cell_type": "code",
      "source": [],
      "metadata": {
        "id": "kVLGl3Elh6kJ"
      },
      "execution_count": null,
      "outputs": []
    }
  ]
}