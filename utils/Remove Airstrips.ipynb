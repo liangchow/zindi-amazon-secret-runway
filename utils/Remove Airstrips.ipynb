{
 "cells": [
  {
   "cell_type": "markdown",
   "id": "8e23c29a-2410-45ca-b1ca-4004c58167f2",
   "metadata": {},
   "source": [
    "# This code removes airstrips from the master file\n",
    "\n",
    "Based on a detailed inspections of individual Sentinel tiles, we decided to remove the following airstrips from the master file. For most cases, more than one airstrips were visible in the image. We carefully identified airstrips that appeared to be *active*, but we did't have time to implement a function to process those special cases. Because of time constraints we decided to only use training tiles with a single airstrip visible in the bounding box.\n",
    "\n",
    "A few airstrips didn't have Sentinel data available for the year of detection. We reviewed images from the follwing year and used those images when appropriate.\n",
    "\n",
    "Finally, a few airstrips had to many clouds. Despite a good cloud masking process, in some cases a full year of Sentinel data wasn't sufficient, so those airstrips were removed from the final set."
   ]
  },
  {
   "cell_type": "code",
   "execution_count": null,
   "id": "68886a39-040f-41e0-b789-4db44fb7d122",
   "metadata": {},
   "outputs": [],
   "source": [
    "# Read the shapefile for the training dataset\n",
    "airstrip_training_path = '/content/zindi-amazon-secret-runway/Data_Visualization/data/pac_2024_training/pac_2024_training.shp'\n",
    "airstrip_training_gdf = gpd.read_file(airstrip_training_path)\n",
    "\n",
    "# Create a copy\n",
    "gdf_copy = airstrip_training_gdf.copy()\n",
    "\n",
    "# Delete entries for specific airstrip ID\n",
    "ids_to_delete = [3,4,5,6,7,8,12,13,14,15,16,24,25,26,43,48,50,51,52,\n",
    "                 80,81,86,87,90,91,92,93,94,95,96,97,109,122,127,140,\n",
    "                 142,153,158,159,164,166,167,168,170,173,174]\n",
    "column_name = 'id'\n",
    "gdf_copy = gdf_copy[~gdf_copy[column_name].isin(ids_to_delete)]\n",
    "\n",
    "# Update date of detection for missing data in 2015 or badly identified year.\n",
    "replacement_pairs = {\n",
    "    22: 2016,\n",
    "    30: 2016,\n",
    "    102: 2016,\n",
    "    103: 2016,\n",
    "    139: 2021\n",
    "}\n",
    "\n",
    "column_to_check = 'id'  # Replace with the actual column name\n",
    "column_to_replace = 'yr'  # Replace with the actual column name\n",
    "for matching_value, replacement_value in replacement_pairs.items():\n",
    "    gdf_copy.loc[gdf_copy[column_to_check] == matching_value, column_to_replace] = replacement_value\n",
    "\n",
    "gdf_copy.to_file(\"pac_2024_training_simple.shp\", driver='ESRI Shapefile')"
   ]
  }
 ],
 "metadata": {
  "kernelspec": {
   "display_name": "Python 3 (ipykernel)",
   "language": "python",
   "name": "python3"
  },
  "language_info": {
   "codemirror_mode": {
    "name": "ipython",
    "version": 3
   },
   "file_extension": ".py",
   "mimetype": "text/x-python",
   "name": "python",
   "nbconvert_exporter": "python",
   "pygments_lexer": "ipython3",
   "version": "3.11.5"
  }
 },
 "nbformat": 4,
 "nbformat_minor": 5
}
