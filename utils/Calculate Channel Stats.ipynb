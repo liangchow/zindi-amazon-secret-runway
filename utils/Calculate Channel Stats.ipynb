{
 "cells": [
  {
   "cell_type": "markdown",
   "id": "17e03652-89e8-4683-95a7-d065a2c8ed42",
   "metadata": {},
   "source": [
    "# Code to get stats from the training set\n",
    "\n",
    "This code loads all the training images and calculates the stats (mean and std) for all channels. These values will be required by the model to normalize the pixel values."
   ]
  },
  {
   "cell_type": "code",
   "execution_count": 1,
   "id": "3eb76b7a-c30d-4c64-a679-fe7bd347038b",
   "metadata": {},
   "outputs": [],
   "source": [
    "import numpy as np\n",
    "import rasterio\n",
    "from glob import glob"
   ]
  },
  {
   "cell_type": "code",
   "execution_count": 3,
   "id": "56ead3a3-db44-43f3-b846-70b271a2c7b1",
   "metadata": {},
   "outputs": [],
   "source": [
    "def compute_mean_std(image_paths, band_names):\n",
    "    means = {band: [] for band in band_names}\n",
    "    stds = {band: [] for band in band_names}\n",
    "\n",
    "    for image_path in image_paths:\n",
    "        with rasterio.open(image_path) as src:\n",
    "            for i, band in enumerate(src.descriptions):\n",
    "                if band in band_names:\n",
    "                    data = src.read(i + 1)\n",
    "                    means[band].append(np.mean(data))\n",
    "                    stds[band].append(np.std(data))\n",
    "    \n",
    "    mean_values = {band: np.mean(means[band]) for band in band_names}\n",
    "    std_values = {band: np.mean(stds[band]) for band in band_names}\n",
    "    return mean_values, std_values\n"
   ]
  },
  {
   "cell_type": "code",
   "execution_count": 7,
   "id": "f3a8a31c-3ca6-4110-b26f-1c65c60c7238",
   "metadata": {},
   "outputs": [
    {
     "name": "stdout",
     "output_type": "stream",
     "text": [
      "Means: {'B4': 385.4837328334345, 'B3': 608.6794434009972, 'B2': 482.6892780541505, 'B8': 2987.760411680927, 'B11': 1656.3028851901556, 'B12': 729.0679844184108, 'VV': -8.048049832676181, 'VH': -14.455757942391896, 'VV_VH_Ratio': 0.5472395056597461}\n",
      "Stds: {'B4': 157.8013863569896, 'B3': 118.0567279781918, 'B2': 91.76987500156885, 'B8': 504.1651899955575, 'B11': 314.12320865477164, 'B12': 203.18349333270183, 'VV': 1.9110563790660406, 'VH': 1.8252674169299123, 'VV_VH_Ratio': 0.06408179194873807}\n"
     ]
    }
   ],
   "source": [
    "# Directory containing .tif files\n",
    "directory = '/Users/fortin/Downloads/images'\n",
    "image_paths = glob(f\"{directory}/*.tif\")\n",
    "band_names = ['B4','B3','B2','B8','B11','B12','VV','VH','VV_VH_Ratio']\n",
    "\n",
    "mean_values, std_values = compute_mean_std(image_paths, band_names)\n",
    "print(\"Means:\", mean_values)\n",
    "print(\"Stds:\", std_values)"
   ]
  },
  {
   "cell_type": "code",
   "execution_count": null,
   "id": "63e840d7-6bba-41ba-8263-3016ba7ead99",
   "metadata": {},
   "outputs": [],
   "source": []
  }
 ],
 "metadata": {
  "kernelspec": {
   "display_name": "Python 3 (ipykernel)",
   "language": "python",
   "name": "python3"
  },
  "language_info": {
   "codemirror_mode": {
    "name": "ipython",
    "version": 3
   },
   "file_extension": ".py",
   "mimetype": "text/x-python",
   "name": "python",
   "nbconvert_exporter": "python",
   "pygments_lexer": "ipython3",
   "version": "3.11.5"
  }
 },
 "nbformat": 4,
 "nbformat_minor": 5
}
