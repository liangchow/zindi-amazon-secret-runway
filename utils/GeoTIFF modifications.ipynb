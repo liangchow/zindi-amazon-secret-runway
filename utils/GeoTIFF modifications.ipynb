{
 "cells": [
  {
   "cell_type": "markdown",
   "id": "f9af0775-f55b-4158-b70b-5c0c07cf6d80",
   "metadata": {},
   "source": [
    "# Remove NaN columns in GeoTiFF files\n",
    "\n",
    "This code was necessary to fix a few images that included an extra column filled wiht NaN values. The extra columns (left or right side of image) were created by Google Earth Engine. Not sure why this happened, but it didn't impact the bounding box of the image. This as probably caused by a floaing point calculation when converting between CRS."
   ]
  },
  {
   "cell_type": "code",
   "execution_count": 1,
   "id": "c7d1309f-4f25-446f-9e74-f630f0ba055e",
   "metadata": {},
   "outputs": [],
   "source": [
    "import rasterio\n",
    "import numpy as np"
   ]
  },
  {
   "cell_type": "code",
   "execution_count": 63,
   "id": "b67bf2f8-6f96-40c6-aea4-c3528e90a4e6",
   "metadata": {},
   "outputs": [],
   "source": [
    "def remove_nan_column(geotiff_path, output_path, remove='first'):\n",
    "    \"\"\"\n",
    "    Remove the first or last column from all bands in a GeoTIFF file.\n",
    "\n",
    "    Args:\n",
    "        geotiff_path (str): Path to the input GeoTIFF file.\n",
    "        output_path (str): Path to the output GeoTIFF file.\n",
    "        remove (str): 'first' to remove the first column, 'last' to remove the last column.\n",
    "    \"\"\"\n",
    "\n",
    "    # Open the GeoTIFF file for reading\n",
    "    with rasterio.open(geotiff_path) as src:\n",
    "        # Read the original image data\n",
    "        image_data = src.read()  # shape: (num_bands, height, width)\n",
    "\n",
    "        # Get band descriptions (band names)\n",
    "        band_descriptions = src.descriptions\n",
    "\n",
    "        # Check the dimensions\n",
    "        _, height, width = image_data.shape\n",
    "\n",
    "        # Decide whether to remove the first or last column\n",
    "        if remove == 'first':\n",
    "            new_image_data = image_data[:, :, 1:]  # Remove first column\n",
    "            # Update the transform for the removed column\n",
    "            new_transform = src.transform * rasterio.Affine.translation(1, 0)\n",
    "        elif remove == 'last':\n",
    "            new_image_data = image_data[:, :, :-1]  # Remove last column\n",
    "            new_transform = src.transform\n",
    "        else:\n",
    "            raise ValueError(\"Invalid value for 'remove'. Use 'first' or 'last'.\")\n",
    "\n",
    "        # Update metadata\n",
    "        new_meta = src.meta.copy()\n",
    "        new_meta.update({\n",
    "            \"width\": new_image_data.shape[2],  # New width\n",
    "            \"transform\": new_transform,  # Adjust the transform for geospatial coordinates\n",
    "            \"descriptions\": band_descriptions  # Retain band descriptions (names)\n",
    "        })\n",
    "\n",
    "        # Write the modified image data to a new GeoTIFF file\n",
    "        with rasterio.open(output_path, 'w', **new_meta) as dst:\n",
    "            dst.write(new_image_data)\n",
    "            # Set the descriptions to maintain band names\n",
    "            dst.descriptions = band_descriptions\n",
    "\n",
    "\n",
    "    \n",
    "    print(f\"Updated GeoTIFF saved to {output_path}\")\n"
   ]
  },
  {
   "cell_type": "code",
   "execution_count": 115,
   "id": "a9fc702e-0dfe-4c98-800c-d6152fb8a30b",
   "metadata": {},
   "outputs": [
    {
     "name": "stdout",
     "output_type": "stream",
     "text": [
      "Updated GeoTIFF saved to /Volumes/Macintosh HD/Users/fortin/Downloads/Sentinel_AllBands_Training_Id_182_fix.tif\n",
      "Updated GeoTIFF saved to /Volumes/Macintosh HD/Users/fortin/Downloads/masks/Mask_Buffer50m_Id_182_fix.tif\n"
     ]
    }
   ],
   "source": [
    "# Example usage:\n",
    "id = 182\n",
    "geotiff_path = f'/Volumes/Macintosh HD/Users/fortin/Downloads/Sentinel_AllBands_Training_Id_{id}.tif'\n",
    "mask_path = f'/Volumes/Macintosh HD/Users/fortin/Downloads/masks/Mask_Buffer50m_Id_{id}.tif'\n",
    "geo_output_path = f'/Volumes/Macintosh HD/Users/fortin/Downloads/Sentinel_AllBands_Training_Id_{id}_fix.tif'\n",
    "mask_output_path = f'/Volumes/Macintosh HD/Users/fortin/Downloads/masks/Mask_Buffer50m_Id_{id}_fix.tif'\n",
    "\n",
    "remove_nan_column(geotiff_path, geo_output_path, remove='last')  # You can use 'last' instead of 'first'\n",
    "remove_nan_column(mask_path, mask_output_path, remove='last')  # You can use 'last' instead of 'first'"
   ]
  },
  {
   "cell_type": "code",
   "execution_count": null,
   "id": "a57e8ee7-b71a-4175-93ef-dd26674695c7",
   "metadata": {},
   "outputs": [],
   "source": []
  }
 ],
 "metadata": {
  "kernelspec": {
   "display_name": "Python 3 (ipykernel)",
   "language": "python",
   "name": "python3"
  },
  "language_info": {
   "codemirror_mode": {
    "name": "ipython",
    "version": 3
   },
   "file_extension": ".py",
   "mimetype": "text/x-python",
   "name": "python",
   "nbconvert_exporter": "python",
   "pygments_lexer": "ipython3",
   "version": "3.11.5"
  }
 },
 "nbformat": 4,
 "nbformat_minor": 5
}
