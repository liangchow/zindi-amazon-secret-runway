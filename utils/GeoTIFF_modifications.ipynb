{
  "cells": [
    {
      "cell_type": "markdown",
      "metadata": {
        "id": "view-in-github",
        "colab_type": "text"
      },
      "source": [
        "<a href=\"https://colab.research.google.com/github/liangchow/zindi-amazon-secret-runway/blob/main/utils/GeoTIFF%20modifications.ipynb\" target=\"_parent\"><img src=\"https://colab.research.google.com/assets/colab-badge.svg\" alt=\"Open In Colab\"/></a>"
      ]
    },
    {
      "cell_type": "markdown",
      "id": "f9af0775-f55b-4158-b70b-5c0c07cf6d80",
      "metadata": {
        "id": "f9af0775-f55b-4158-b70b-5c0c07cf6d80"
      },
      "source": [
        "# Remove NaN columns in GeoTiFF files\n",
        "\n",
        "This code was necessary to fix a few images that included an extra column filled wiht NaN values. The extra columns (left or right side of image) were created by Google Earth Engine. Not sure why this happened, but it didn't impact the bounding box of the image. This as probably caused by a floating point calculation when converting between CRS.\n",
        "\n",
        "**Attention:** This code save the modifed file to the compute node. You need to download the files and then overwrite or replace the original file on the drive."
      ]
    },
    {
      "cell_type": "markdown",
      "source": [
        "# Install and import packages"
      ],
      "metadata": {
        "id": "_NFcXVeAAk75"
      },
      "id": "_NFcXVeAAk75"
    },
    {
      "cell_type": "code",
      "source": [
        "!pip -q install rasterio"
      ],
      "metadata": {
        "id": "bT1e0dkUAwNv"
      },
      "id": "bT1e0dkUAwNv",
      "execution_count": 5,
      "outputs": []
    },
    {
      "cell_type": "code",
      "execution_count": 9,
      "id": "c7d1309f-4f25-446f-9e74-f630f0ba055e",
      "metadata": {
        "id": "c7d1309f-4f25-446f-9e74-f630f0ba055e"
      },
      "outputs": [],
      "source": [
        "import os\n",
        "import glob\n",
        "import rasterio\n",
        "import numpy as np"
      ]
    },
    {
      "cell_type": "markdown",
      "source": [
        "# Mount Google Drive"
      ],
      "metadata": {
        "id": "MIVpnIfqAbpE"
      },
      "id": "MIVpnIfqAbpE"
    },
    {
      "cell_type": "code",
      "source": [
        "# mount your drive in case you have any new data uploaded there you want to use\n",
        "from google.colab import drive\n",
        "drive.mount('/content/drive')"
      ],
      "metadata": {
        "id": "XjDkY_ooAe1G",
        "outputId": "366da09f-0488-4a4c-ccca-47f40aafb461",
        "colab": {
          "base_uri": "https://localhost:8080/"
        }
      },
      "id": "XjDkY_ooAe1G",
      "execution_count": 4,
      "outputs": [
        {
          "output_type": "stream",
          "name": "stdout",
          "text": [
            "Mounted at /content/drive\n"
          ]
        }
      ]
    },
    {
      "cell_type": "markdown",
      "source": [
        "# Functions"
      ],
      "metadata": {
        "id": "F_rsWvvWBFcg"
      },
      "id": "F_rsWvvWBFcg"
    },
    {
      "cell_type": "code",
      "source": [
        "def check_nan_border_pixels(geotiff_path):\n",
        "    \"\"\"\n",
        "    Checks if any pixel in the first or last column of a multi-band GeoTIFF\n",
        "    file has NaN as a value.\n",
        "\n",
        "    Args:\n",
        "        geotiff_path (str): Path to the GeoTIFF file.\n",
        "\n",
        "    Returns:\n",
        "        tuple: A tuple containing:\n",
        "            - bool: True if NaN is found in the border columns, False otherwise.\n",
        "            - str: 'first' if NaN is found in the first column,\n",
        "                   'last' if found in the last column,\n",
        "                   None if no NaN is found.\n",
        "    \"\"\"\n",
        "    with rasterio.open(geotiff_path) as src:\n",
        "        image_data = src.read()  # Read all bands\n",
        "\n",
        "        # Check for NaN in the first column\n",
        "        if np.isnan(image_data[:, :, 0]).any():\n",
        "            return True, 'first'\n",
        "\n",
        "        # Check for NaN in the last column\n",
        "        if np.isnan(image_data[:, :, -1]).any():\n",
        "            return True, 'last'\n",
        "\n",
        "    return False, None  # No NaN found\n"
      ],
      "metadata": {
        "id": "CA-g3WFtFAl4"
      },
      "id": "CA-g3WFtFAl4",
      "execution_count": 11,
      "outputs": []
    },
    {
      "cell_type": "code",
      "execution_count": 23,
      "id": "b67bf2f8-6f96-40c6-aea4-c3528e90a4e6",
      "metadata": {
        "id": "b67bf2f8-6f96-40c6-aea4-c3528e90a4e6"
      },
      "outputs": [],
      "source": [
        "def remove_nan_column(geotiff_path, output_path, remove='first'):\n",
        "    \"\"\"\n",
        "    Remove the first or last column from all bands in a GeoTIFF file.\n",
        "\n",
        "    Args:\n",
        "        geotiff_path (str): Path to the input GeoTIFF file.\n",
        "        output_path (str): Path to the output GeoTIFF file.\n",
        "        remove (str): 'first' to remove the first column, 'last' to remove the last column.\n",
        "    \"\"\"\n",
        "\n",
        "    # Open the GeoTIFF file for reading\n",
        "    with rasterio.open(geotiff_path) as src:\n",
        "        # Read the original image data\n",
        "        image_data = src.read()  # shape: (num_bands, height, width)\n",
        "\n",
        "        # Get band descriptions (band names)\n",
        "        band_descriptions = src.descriptions\n",
        "\n",
        "        # Check the dimensions\n",
        "        _, height, width = image_data.shape\n",
        "\n",
        "        # Decide whether to remove the first or last column\n",
        "        if remove == 'first':\n",
        "            new_image_data = image_data[:, :, 1:]  # Remove first column\n",
        "            # Update the transform for the removed column\n",
        "            new_transform = src.transform * rasterio.Affine.translation(1, 0)\n",
        "        elif remove == 'last':\n",
        "            new_image_data = image_data[:, :, :-1]  # Remove last column\n",
        "            new_transform = src.transform\n",
        "        else:\n",
        "            raise ValueError(\"Invalid value for 'remove'. Use 'first' or 'last'.\")\n",
        "\n",
        "        # Update metadata\n",
        "        new_meta = src.meta.copy()\n",
        "        new_meta.update({\n",
        "            \"width\": new_image_data.shape[2],  # New width\n",
        "            \"transform\": new_transform,  # Adjust the transform for geospatial coordinates\n",
        "            \"descriptions\": band_descriptions  # Retain band descriptions (names)\n",
        "        })\n",
        "\n",
        "        # Write the modified image data to a new GeoTIFF file\n",
        "        with rasterio.open(output_path, 'w', **new_meta) as dst:\n",
        "            dst.write(new_image_data)\n",
        "            # Set the descriptions to maintain band names\n",
        "            dst.descriptions = band_descriptions\n",
        "\n",
        "\n",
        "\n",
        "    print(f\"Updated GeoTIFF saved to {output_path}\")\n"
      ]
    },
    {
      "cell_type": "code",
      "source": [
        "def find_matching_mask_file(mask_files, id):\n",
        "    \"\"\"\n",
        "    Finds the file in mask_files that matches the given id value.\n",
        "\n",
        "    Args:\n",
        "        mask_files (list): A list of mask file paths.\n",
        "        id (int): The id value to search for.\n",
        "\n",
        "    Returns:\n",
        "        str: The path to the matching mask file, or None if not found.\n",
        "    \"\"\"\n",
        "    for mask_file in mask_files:\n",
        "        if f\"Id_{id}\" in os.path.basename(mask_file):\n",
        "            return mask_file\n",
        "    return None\n"
      ],
      "metadata": {
        "id": "xPoZuAAgGmNp"
      },
      "id": "xPoZuAAgGmNp",
      "execution_count": 16,
      "outputs": []
    },
    {
      "cell_type": "markdown",
      "source": [
        "# Main Code"
      ],
      "metadata": {
        "id": "igzfoUhWBI2t"
      },
      "id": "igzfoUhWBI2t"
    },
    {
      "cell_type": "code",
      "execution_count": 25,
      "id": "a9fc702e-0dfe-4c98-800c-d6152fb8a30b",
      "metadata": {
        "id": "a9fc702e-0dfe-4c98-800c-d6152fb8a30b",
        "outputId": "b95bb718-1112-4b0d-86ad-ed49f7856853",
        "colab": {
          "base_uri": "https://localhost:8080/"
        }
      },
      "outputs": [
        {
          "output_type": "stream",
          "name": "stdout",
          "text": [
            "Image Copy of Sentinel_AllBands_Training_Id_182.tif has NaN in the last column\n"
          ]
        },
        {
          "output_type": "stream",
          "name": "stderr",
          "text": [
            "WARNING:rasterio._env:CPLE_NotSupported in driver GTiff does not support creation option DESCRIPTIONS\n"
          ]
        },
        {
          "output_type": "stream",
          "name": "stdout",
          "text": [
            "Updated GeoTIFF saved to Copy of Sentinel_AllBands_Training_Id_182.tif\n",
            "Image Sentinel_AllBands_Training_Id_182.tif has NaN in the last column\n"
          ]
        },
        {
          "output_type": "stream",
          "name": "stderr",
          "text": [
            "WARNING:rasterio._env:CPLE_NotSupported in driver GTiff does not support creation option DESCRIPTIONS\n"
          ]
        },
        {
          "output_type": "stream",
          "name": "stdout",
          "text": [
            "Updated GeoTIFF saved to Sentinel_AllBands_Training_Id_182.tif\n"
          ]
        }
      ],
      "source": [
        "# Edit the link to the directory containing the GeoTIFF files\n",
        "image_directory = '/content/drive/MyDrive/Sentinel_temp'\n",
        "\n",
        "# Get a list of all GeoTIFF files in the directories\n",
        "image_files = glob.glob(f\"{image_directory}/*.tif\")\n",
        "image_files.sort(key=os.path.basename)\n",
        "\n",
        "\n",
        "for image_file in image_files:\n",
        "    has_nan, nan_column = check_nan_border_pixels(image_file)\n",
        "    if has_nan:\n",
        "        filename = os.path.basename(image_file)\n",
        "        print(f\"Image {filename} has NaN in the {nan_column} column\")\n",
        "        #id = os.path.basename(image_file).split('_')[4].split('.')[0]\n",
        "        remove_nan_column(image_file, filename, remove=nan_column)\n",
        "\n"
      ]
    },
    {
      "cell_type": "code",
      "execution_count": null,
      "id": "a57e8ee7-b71a-4175-93ef-dd26674695c7",
      "metadata": {
        "id": "a57e8ee7-b71a-4175-93ef-dd26674695c7"
      },
      "outputs": [],
      "source": []
    }
  ],
  "metadata": {
    "kernelspec": {
      "display_name": "Python 3 (ipykernel)",
      "language": "python",
      "name": "python3"
    },
    "language_info": {
      "codemirror_mode": {
        "name": "ipython",
        "version": 3
      },
      "file_extension": ".py",
      "mimetype": "text/x-python",
      "name": "python",
      "nbconvert_exporter": "python",
      "pygments_lexer": "ipython3",
      "version": "3.11.5"
    },
    "colab": {
      "provenance": [],
      "include_colab_link": true
    }
  },
  "nbformat": 4,
  "nbformat_minor": 5
}
