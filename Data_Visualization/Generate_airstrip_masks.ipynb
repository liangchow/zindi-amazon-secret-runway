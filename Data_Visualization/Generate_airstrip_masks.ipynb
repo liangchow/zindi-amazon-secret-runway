{
  "nbformat": 4,
  "nbformat_minor": 0,
  "metadata": {
    "colab": {
      "provenance": [],
      "authorship_tag": "ABX9TyNrKxqlx3Jj+DljGoj6GfqQ",
      "include_colab_link": true
    },
    "kernelspec": {
      "name": "python3",
      "display_name": "Python 3"
    },
    "language_info": {
      "name": "python"
    }
  },
  "cells": [
    {
      "cell_type": "markdown",
      "metadata": {
        "id": "view-in-github",
        "colab_type": "text"
      },
      "source": [
        "<a href=\"https://colab.research.google.com/github/liangchow/zindi-amazon-secret-runway/blob/explore-sentinel1-data/Generate_airstrip_masks.ipynb\" target=\"_parent\"><img src=\"https://colab.research.google.com/assets/colab-badge.svg\" alt=\"Open In Colab\"/></a>"
      ]
    },
    {
      "cell_type": "markdown",
      "source": [
        "### Imports and Setup."
      ],
      "metadata": {
        "id": "MZAZkg55QAky"
      }
    },
    {
      "cell_type": "code",
      "source": [
        "%%capture\n",
        "!pip -q install rasterio"
      ],
      "metadata": {
        "id": "oD0JKg8P1Nqa"
      },
      "execution_count": 56,
      "outputs": []
    },
    {
      "cell_type": "code",
      "execution_count": 57,
      "metadata": {
        "id": "Qs0h92OHzpzi"
      },
      "outputs": [],
      "source": [
        "import rasterio\n",
        "import geopandas as gpd\n",
        "from rasterio.features import rasterize\n",
        "import numpy as np\n",
        "import os"
      ]
    },
    {
      "cell_type": "markdown",
      "source": [
        "### Mount your Google Drive and install project files\n",
        "\n",
        "First, we'll mount your Google Drive. Then we'll clone the main branch from the GitHub repo so we have access to all of the files from there."
      ],
      "metadata": {
        "id": "ZTC1t41tQGCL"
      }
    },
    {
      "cell_type": "code",
      "source": [
        "# mount your drive in case you have any new data uploaded there you want to use\n",
        "from google.colab import drive\n",
        "drive.mount('/content/drive')\n",
        "\n",
        "# clone the main branch from GitHub to get all the data and files from there onto the current runtime session\n",
        "!apt-get install git\n",
        "!git clone https://github.com/liangchow/zindi-amazon-secret-runway.git\n",
        "!git pull # pulls the latest changes from repo"
      ],
      "metadata": {
        "colab": {
          "base_uri": "https://localhost:8080/"
        },
        "id": "o8SSau2M1KWK",
        "outputId": "668e8b30-6d4a-4ec7-e5fc-af7e57285fb1"
      },
      "execution_count": 58,
      "outputs": [
        {
          "output_type": "stream",
          "name": "stdout",
          "text": [
            "Drive already mounted at /content/drive; to attempt to forcibly remount, call drive.mount(\"/content/drive\", force_remount=True).\n",
            "Reading package lists... Done\n",
            "Building dependency tree... Done\n",
            "Reading state information... Done\n",
            "git is already the newest version (1:2.34.1-1ubuntu1.11).\n",
            "0 upgraded, 0 newly installed, 0 to remove and 49 not upgraded.\n",
            "fatal: destination path 'zindi-amazon-secret-runway' already exists and is not an empty directory.\n",
            "fatal: not a git repository (or any of the parent directories): .git\n"
          ]
        }
      ]
    },
    {
      "cell_type": "markdown",
      "source": [
        "**Note: Before you run the following cell**\n",
        "\n",
        "The training images are store in a shared folder `Sentinel` on Google Drive. To access the shared folder in Google Colab, first create a shortcut to the shared folder. Copy the shortcut to your Google Drive.\n",
        "\n",
        "Now you can access the folder `Sentinel` like any other folder in your Google Drive."
      ],
      "metadata": {
        "id": "j7YxGH8FQMTf"
      }
    },
    {
      "cell_type": "code",
      "source": [
        "shared_drive_path = \"/content/drive/MyDrive/Sentinel\"\n",
        "\n",
        "# List files in the shared drive\n",
        "# print(os.listdir(shared_drive_path))"
      ],
      "metadata": {
        "id": "2kD3QvOX7Sz3"
      },
      "execution_count": 59,
      "outputs": []
    },
    {
      "cell_type": "code",
      "source": [
        "# Load the polygon shapefile\n",
        "airstrips_gdf = gpd.read_file(\"/content/zindi-amazon-secret-runway/Data_Visualization/data/pac_2024_training/pac_2024_training.shp\")"
      ],
      "metadata": {
        "id": "kDhkywEp1xTU"
      },
      "execution_count": 60,
      "outputs": []
    },
    {
      "cell_type": "code",
      "source": [
        "# Load one of the multiband rasters to get the crs\n",
        "with rasterio.open(shared_drive_path + \"/training/images/Sentinel_AllBands_Training_Id_1.tif\") as src:\n",
        "    crs = src.crs"
      ],
      "metadata": {
        "id": "MqbDjKdk1_19"
      },
      "execution_count": 68,
      "outputs": []
    },
    {
      "cell_type": "code",
      "source": [
        "# Convert the GeoDataFrame to match the raster CRS\n",
        "airstrips_projected_gdf = airstrips_gdf.to_crs(crs)"
      ],
      "metadata": {
        "id": "XoViOZ172En6"
      },
      "execution_count": 62,
      "outputs": []
    },
    {
      "cell_type": "markdown",
      "source": [
        "Create a buffer around each of the airstrip"
      ],
      "metadata": {
        "id": "_yJte-0KRCYn"
      }
    },
    {
      "cell_type": "code",
      "source": [
        "# Define buffer distance\n",
        "buffer_distance = 200\n",
        "\n",
        "# Buffer the airstrips\n",
        "polygon_gdf['geometry'] = airstrips_projected_gdf.geometry.buffer(buffer_distance)"
      ],
      "metadata": {
        "id": "vAfiD-1236fY"
      },
      "execution_count": 64,
      "outputs": []
    },
    {
      "cell_type": "code",
      "source": [
        "# Use a subset of the airstrips for testing\n",
        "polygon_gdf_subset = polygon_gdf.head(2)"
      ],
      "metadata": {
        "id": "12Ha7ULa_v13"
      },
      "execution_count": 65,
      "outputs": []
    },
    {
      "cell_type": "markdown",
      "source": [
        "To process all airstrip use polygon_gdf instead of polygon_gdf_subset in the cell below"
      ],
      "metadata": {
        "id": "WDhzJGyJTqWy"
      }
    },
    {
      "cell_type": "code",
      "source": [
        "# Iterate over each polygon to create individual mask rasters\n",
        "#for idx, row in polygon_gdf.iterrows():\n",
        "for idx, row in polygon_gdf_subset.iterrows():\n",
        "    # Get the airstrip ID\n",
        "    airstrip_id = row['id']\n",
        "\n",
        "    # Check for an associated TIFF file\n",
        "    img = f\"{shared_drive_path}/training/images/Sentinel_AllBands_Training_Id_{airstrip_id}.tif\"\n",
        "\n",
        "    if not os.path.exists(img):\n",
        "        print(f\"No TIFF file found for airstrip ID: {airstrip_id}\")\n",
        "    else:\n",
        "        print(f\"Creating mask for airstrip ID: {airstrip_id}\")\n",
        "        # Initialize a blank mask for the current polygon\n",
        "        mask = np.zeros((height, width), dtype='uint8')\n",
        "\n",
        "        # Load the TIFF file and read it\n",
        "        with rasterio.open(img) as img_src:\n",
        "            # Get the raster metadata (to match extent and resolution)\n",
        "            img_meta = img_src.meta.copy()\n",
        "            # Create an affine transformation\n",
        "            img_transform = img_src.transform\n",
        "            # Get raster dimensions\n",
        "            img_width = img_src.width\n",
        "            img_height = img_src.height\n",
        "\n",
        "            # Set mask to 1 where the airstrip buffer is present\n",
        "            shape = [(row.geometry, 1)]\n",
        "            mask = rasterize(\n",
        "                shapes=shape,\n",
        "                out_shape=(img_height, img_width),\n",
        "                transform=img_transform,\n",
        "                fill=0,   # Assign 0 to areas outside the polygon\n",
        "                dtype='uint8'\n",
        "            )\n",
        "\n",
        "            # Update metadata for the output raster\n",
        "            out_meta = img_meta.copy()\n",
        "            out_meta.update({\n",
        "                \"count\": 1,\n",
        "                \"dtype\": \"uint8\",\n",
        "                \"nodata\": None  # Disable nodata (otherwise QGIS will not display the 0s)\n",
        "            })\n",
        "\n",
        "            # Save the individual mask raster\n",
        "            output_raster = f\"Mask_Airstrip_Id_{airstrip_id}.tif\"\n",
        "            #output_raster = f\"{shared_drive_path}/training/masks/Mask_Airstrip_Id_{airstrip_id}.tif\"\n",
        "            with rasterio.open(output_raster, \"w\", **out_meta) as dest:\n",
        "                dest.write(mask, 1)\n",
        "\n",
        "            print(f\"Saved mask for airstrip ID {airstrip_id} as {output_raster}\")"
      ],
      "metadata": {
        "colab": {
          "base_uri": "https://localhost:8080/"
        },
        "collapsed": true,
        "id": "Zu2jR5q66YDv",
        "outputId": "37d44e55-bd83-4fe4-9450-79bf8546ffa3"
      },
      "execution_count": 67,
      "outputs": [
        {
          "output_type": "stream",
          "name": "stdout",
          "text": [
            "Creating mask for airstrip ID: 1\n",
            "Saved mask for airstrip ID 1 as Mask_Airstrip_Id_1.tif\n",
            "Creating mask for airstrip ID: 2\n",
            "Saved mask for airstrip ID 2 as Mask_Airstrip_Id_2.tif\n"
          ]
        }
      ]
    }
  ]
}