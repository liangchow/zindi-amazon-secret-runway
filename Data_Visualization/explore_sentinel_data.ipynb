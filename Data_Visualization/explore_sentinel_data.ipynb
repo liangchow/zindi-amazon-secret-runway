{
  "cells": [
    {
      "cell_type": "markdown",
      "metadata": {
        "id": "view-in-github",
        "colab_type": "text"
      },
      "source": [
        "<a href=\"https://colab.research.google.com/github/liangchow/zindi-amazon-secret-runway/blob/main/Data_Visualization/explore_sentinel_data.ipynb\" target=\"_parent\"><img src=\"https://colab.research.google.com/assets/colab-badge.svg\" alt=\"Open In Colab\"/></a>"
      ]
    },
    {
      "cell_type": "markdown",
      "metadata": {
        "id": "AIhe7OV6OrYf"
      },
      "source": [
        "# Working with github: [A guide from Google](https://colab.research.google.com/github/googlecolab/colabtools/blob/master/notebooks/colab-github-demo.ipynb)"
      ]
    },
    {
      "cell_type": "markdown",
      "source": [
        "### Imports and Setup."
      ],
      "metadata": {
        "id": "0DTLmDupDf4n"
      }
    },
    {
      "cell_type": "code",
      "source": [
        "%%capture\n",
        "!pip -q install geojson\n",
        "!pip -q install rasterio\n",
        "!pip -q install eeconvert\n",
        "!pip -q install geemap==0.17.3"
      ],
      "metadata": {
        "collapsed": true,
        "id": "mvAcyNzKElmB"
      },
      "execution_count": 1,
      "outputs": []
    },
    {
      "cell_type": "code",
      "source": [
        "# Standard imports\n",
        "import os\n",
        "import json\n",
        "\n",
        "# Geospatial processing packages\n",
        "import geopandas as gpd\n",
        "import geojson\n",
        "import shapely\n",
        "import rasterio as rio\n",
        "from rasterio.plot import show\n",
        "import rasterio.mask\n",
        "from shapely.geometry import box\n",
        "from shapely.geometry import Polygon\n",
        "from pyproj import Transformer\n",
        "\n",
        "# Mapping and plotting libraries\n",
        "import matplotlib.pyplot as plt\n",
        "import matplotlib.colors as cl\n",
        "import ee\n",
        "import eeconvert as eec\n",
        "import geemap\n",
        "import geemap.eefolium as emap\n",
        "import folium"
      ],
      "metadata": {
        "id": "YKA6BXObDy_K"
      },
      "execution_count": 2,
      "outputs": []
    },
    {
      "cell_type": "markdown",
      "metadata": {
        "id": "WLlGqdpCe49T"
      },
      "source": [
        "### Mount your Google Drive and install project files\n",
        "\n",
        "First, we'll mount your Google Drive as we'll save the GeoTiff files to our drive. Then we'll clone the main branch from the GitHub repo so we have access to all of the files from there.\n",
        "If you want to save your files and make a pull request to github, make a new branch and check out the link at the top."
      ]
    },
    {
      "cell_type": "code",
      "execution_count": 3,
      "metadata": {
        "colab": {
          "base_uri": "https://localhost:8080/"
        },
        "id": "ONN-mhsCfRX5",
        "outputId": "6e39b1e9-d305-485b-f13e-a2a99923eeee",
        "collapsed": true
      },
      "outputs": [
        {
          "output_type": "stream",
          "name": "stdout",
          "text": [
            "Mounted at /content/drive\n",
            "Reading package lists... Done\n",
            "Building dependency tree... Done\n",
            "Reading state information... Done\n",
            "git is already the newest version (1:2.34.1-1ubuntu1.11).\n",
            "0 upgraded, 0 newly installed, 0 to remove and 49 not upgraded.\n",
            "Cloning into 'zindi-amazon-secret-runway'...\n",
            "remote: Enumerating objects: 102, done.\u001b[K\n",
            "remote: Counting objects: 100% (102/102), done.\u001b[K\n",
            "remote: Compressing objects: 100% (100/100), done.\u001b[K\n",
            "remote: Total 102 (delta 30), reused 7 (delta 1), pack-reused 0 (from 0)\u001b[K\n",
            "Receiving objects: 100% (102/102), 568.33 KiB | 4.12 MiB/s, done.\n",
            "Resolving deltas: 100% (30/30), done.\n",
            "fatal: not a git repository (or any of the parent directories): .git\n"
          ]
        }
      ],
      "source": [
        "# mount your drive in case you have any new data uploaded there you want to use\n",
        "from google.colab import drive\n",
        "drive.mount('/content/drive')\n",
        "\n",
        "# clone the main branch from GitHub to get all the data and files from there onto the current runtime session\n",
        "!apt-get install git\n",
        "!git clone https://github.com/liangchow/zindi-amazon-secret-runway.git\n",
        "!git pull # pulls the latest changes from repo"
      ]
    },
    {
      "cell_type": "markdown",
      "source": [
        "###Setup the main paths to the project files.###"
      ],
      "metadata": {
        "id": "QeyWGSkVIc3a"
      }
    },
    {
      "cell_type": "code",
      "source": [
        "airstrip_training_path = '/content/zindi-amazon-secret-runway/Data_Visualization/data/pac_2024_training/pac_2024_training.shp'\n",
        "base_aoi_path = '/content/zindi-amazon-secret-runway/Data_Visualization//data/shp_test_AOIs'\n",
        "illegal_runways_path = '/content/zindi-amazon-secret-runway/Data_Visualization/data/nyt_intercept_illegal_runways/Illegal-Airstrips-NYT-Intercept-Public.geojson'"
      ],
      "metadata": {
        "id": "ouCS_31hIgIy"
      },
      "execution_count": 4,
      "outputs": []
    },
    {
      "cell_type": "markdown",
      "source": [
        "### Authenticate Google Earth Engine\n",
        "Make sure you have signed up for access to Google Earth Engine. You will need to edit the following code cell to use your own account. All the Sentinel data will be downloaded through the Google Earth Engine."
      ],
      "metadata": {
        "id": "rNqavIojGpUb"
      }
    },
    {
      "cell_type": "code",
      "source": [
        "ee.Authenticate()\n",
        "ee.Initialize(project=\"ee-fortinpascal\")"
      ],
      "metadata": {
        "id": "Nq1kHtxNG7Fw"
      },
      "execution_count": 5,
      "outputs": []
    },
    {
      "cell_type": "markdown",
      "source": [
        "###Let's look at the Sentinel data###\n",
        "We'll use the airstrip training shape file. Each record contains columns for id, year of detection, largo (length probably in meters), Activo (activity status???), and geometry of type *Linestring* with coordinates (LNG LAT) which define points along the airstrip. For each airstrip, we'll define a square AOI to define a boundary when downloading Sentinel data."
      ],
      "metadata": {
        "id": "zF6L5ZGyJi9N"
      }
    },
    {
      "cell_type": "code",
      "source": [
        "# Read the shapefile\n",
        "airstrip_training_gdf = gpd.read_file(airstrip_training_path)\n",
        "\n",
        "# Display the data\n",
        "print(airstrip_training_gdf.head().to_markdown(), \"\\n\")\n",
        "print(airstrip_training_gdf.info(), \"\\n\")"
      ],
      "metadata": {
        "colab": {
          "base_uri": "https://localhost:8080/"
        },
        "collapsed": true,
        "id": "ygubMkFvKog8",
        "outputId": "eb9029f6-985c-490b-f1b1-c68b1214cdab"
      },
      "execution_count": 6,
      "outputs": [
        {
          "output_type": "stream",
          "name": "stdout",
          "text": [
            "|    |   id |   yr |    largo |   Activo | geometry                                                                                                                            |\n",
            "|---:|-----:|-----:|---------:|---------:|:------------------------------------------------------------------------------------------------------------------------------------|\n",
            "|  0 |    1 | 2023 |  968.918 |        0 | LINESTRING (-70.08928656863503 -13.129844039931504, -70.08052787039317 -13.128251134052485, -70.08052787039317 -13.128251134052485) |\n",
            "|  1 |    2 | 2022 | 1105.49  |        0 | LINESTRING (-69.16744237255283 -13.620679758207931, -69.1728593987747 -13.612261251288524)                                          |\n",
            "|  2 |    3 | 2015 |  985.018 |        0 | LINESTRING (-69.14224792429687 -13.694510447986984, -69.14189616934739 -13.685654549844925)                                         |\n",
            "|  3 |    4 | 2020 |  681.914 |        0 | LINESTRING (-69.07843632939438 -13.787902019520923, -69.08404112675193 -13.7906640035937)                                           |\n",
            "|  4 |    5 | 2020 |  699.552 |        0 | LINESTRING (-69.07838092777308 -13.787884084452626, -69.08279459027209 -13.78330162936446)                                          | \n",
            "\n",
            "<class 'geopandas.geodataframe.GeoDataFrame'>\n",
            "RangeIndex: 154 entries, 0 to 153\n",
            "Data columns (total 5 columns):\n",
            " #   Column    Non-Null Count  Dtype   \n",
            "---  ------    --------------  -----   \n",
            " 0   id        154 non-null    int64   \n",
            " 1   yr        154 non-null    int64   \n",
            " 2   largo     154 non-null    float64 \n",
            " 3   Activo    154 non-null    int64   \n",
            " 4   geometry  154 non-null    geometry\n",
            "dtypes: float64(1), geometry(1), int64(3)\n",
            "memory usage: 6.1 KB\n",
            "None \n",
            "\n"
          ]
        }
      ]
    },
    {
      "cell_type": "code",
      "source": [
        "def create_square_pentagon(center_lon, center_lat, side_length_meters):\n",
        "  \"\"\"\n",
        "  Creates a square geopandas pentagon centered on\n",
        "  a set of Lon/Lat coordinates.\n",
        "\n",
        "  Args:\n",
        "    center_lon: The longitude of the center point.\n",
        "    center_lat: The latitude of the center point.\n",
        "    side_length_meters: The length of each side of\n",
        "                         the square in meters.\n",
        "\n",
        "  Returns:\n",
        "    A geopandas GeoDataFrame containing the pentagon.\n",
        "  \"\"\"\n",
        "\n",
        "  # Define the source and destination coordinate systems\n",
        "  source_crs = \"EPSG:4326\"  # WGS 84 (Lon/Lat)\n",
        "  target_crs = \"EPSG:3395\"  # World Mercator (meters)\n",
        "\n",
        "\n",
        "  # Create a transformer object to convert between coordinate systems\n",
        "  transformer = Transformer.from_crs(source_crs, target_crs, always_xy=True)\n",
        "\n",
        "  # Transform the center coordinates to Web Mercator\n",
        "  center_x, center_y = transformer.transform(center_lon, center_lat)\n",
        "\n",
        "  # Calculate half the side length\n",
        "  half_side = side_length_meters / 2\n",
        "\n",
        "  # Calculate the coordinates of the pentagon's vertices in meters\n",
        "  #coordinates = [\n",
        "  #    (center_x, center_y + half_side),  # Top\n",
        "  #    (center_x + half_side, center_y),  # Right\n",
        "  #    (center_x, center_y - half_side),  # Bottom\n",
        "  #    (center_x - half_side, center_y),  # Left\n",
        "  #    (center_x, center_y + half_side)   # Top (close the polygon)\n",
        "  #]\n",
        "  coordinates = [\n",
        "      (center_x - half_side, center_y + half_side),  # Top left\n",
        "      (center_x + half_side, center_y + half_side),  # Top right\n",
        "      (center_x + half_side, center_y - half_side),  # Bottom right\n",
        "      (center_x - half_side, center_y - half_side),  # Bottom Left\n",
        "      (center_x - half_side, center_y + half_side)   # Top left (close the polygon)\n",
        "  ]\n",
        "\n",
        "\n",
        "  # Create a Polygon object from the coordinates\n",
        "  polygon = Polygon(coordinates)\n",
        "\n",
        "  # Create a GeoDataFrame from the Polygon with World Mercator CRS\n",
        "  gdf = gpd.GeoDataFrame(geometry=[polygon], crs=target_crs)\n",
        "\n",
        "  # Transform the GeoDataFrame back to WGS 84\n",
        "  gdf = gdf.to_crs(source_crs)\n",
        "\n",
        "  return gdf"
      ],
      "metadata": {
        "id": "femEjNbUK6UQ"
      },
      "execution_count": 7,
      "outputs": []
    },
    {
      "cell_type": "code",
      "source": [
        "# Temporarily reproject to a projected CRS for accurate centroid calculation\n",
        "projected_airstrip_training_gdf = airstrip_training_gdf.to_crs(epsg=3395)  # World Mercator projection\n",
        "\n",
        "# Access the first airstip and calculate its centroid\n",
        "centroid = projected_airstrip_training_gdf.geometry[0].centroid\n",
        "\n",
        "# Convert the centroid back to WGS84 (LNG, LAT)\n",
        "centroid_wgs84 = gpd.GeoSeries([centroid], crs=projected_airstrip_training_gdf.crs).to_crs(epsg=4326).geometry[0]\n",
        "\n",
        "# Create a new AOI center on the centroid. The lenght of each side is 5km.\n",
        "newAOI = create_square_pentagon(centroid_wgs84.x, centroid_wgs84.y, 5000)\n",
        "print(newAOI.info(), \"\\n\")\n",
        "\n",
        "#fig, ax = plt.subplots(1, figsize=(10,10))\n",
        "#newAOI.plot(legend=True, ax=ax);"
      ],
      "metadata": {
        "colab": {
          "base_uri": "https://localhost:8080/"
        },
        "collapsed": true,
        "id": "WqOj7E-xNKwV",
        "outputId": "6c663522-7671-4207-a7c9-8b2fb6748b32"
      },
      "execution_count": 23,
      "outputs": [
        {
          "output_type": "stream",
          "name": "stdout",
          "text": [
            "<class 'geopandas.geodataframe.GeoDataFrame'>\n",
            "RangeIndex: 1 entries, 0 to 0\n",
            "Data columns (total 1 columns):\n",
            " #   Column    Non-Null Count  Dtype   \n",
            "---  ------    --------------  -----   \n",
            " 0   geometry  1 non-null      geometry\n",
            "dtypes: geometry(1)\n",
            "memory usage: 136.0 bytes\n",
            "None \n",
            "\n"
          ]
        }
      ]
    },
    {
      "cell_type": "markdown",
      "source": [
        "**Generate the Sentinel images**"
      ],
      "metadata": {
        "id": "bKn8EnvTTUMM"
      }
    },
    {
      "cell_type": "code",
      "source": [
        "# Select export folder on Google Drive\n",
        "export_folder = 'Colab Notebooks'\n",
        "\n",
        "# Select bands (replace with desired bands)\n",
        "bands = ['B4', 'B3', 'B2', 'B8', 'B11', 'B12']"
      ],
      "metadata": {
        "id": "BJ6tlejnuWP4"
      },
      "execution_count": 64,
      "outputs": []
    },
    {
      "cell_type": "code",
      "source": [
        "# Function to export an image\n",
        "def export_image(image,export_folder):\n",
        "  date = ee.Date(image.get('system:time_start')).format('YYYY-MM-dd').getInfo()\n",
        "  filename = f\"Sentinel2_{date}\"\n",
        "\n",
        "  task = ee.batch.Export.image.toDrive(\n",
        "      image=image.select(bands).clip(region),\n",
        "      description='filename',\n",
        "      #folder='Colab Notebooks',\n",
        "      folder=export_folder,\n",
        "      fileNamePrefix=filename,\n",
        "      scale=10,  # Adjust scale as needed\n",
        "      region=region.getInfo()['coordinates'],\n",
        "      maxPixels=1e13,\n",
        "      fileFormat='GeoTIFF'\n",
        "  )\n",
        "  task.start()\n",
        "  print(f'Task ID: {task.id}')\n",
        "  print('Exporting to Google Drive...')\n"
      ],
      "metadata": {
        "id": "tAmGIxPVtnsI"
      },
      "execution_count": 66,
      "outputs": []
    },
    {
      "cell_type": "code",
      "execution_count": 69,
      "metadata": {
        "id": "uFlTm3WHaSPZ"
      },
      "outputs": [],
      "source": [
        "def download_images(\n",
        "    region,\n",
        "    bands=['B4', 'B3', 'B2', 'B8', 'B11', 'B12'],\n",
        "    export_folder='Colab Notebooks',\n",
        "    product='COPERNICUS/S2_HARMONIZED',\n",
        "    min_date='2021-01-01',\n",
        "    max_date='2024-06-01',\n",
        "    range_min=0,\n",
        "    range_max=2000,\n",
        "    cloud_pct=10\n",
        "):\n",
        "\n",
        "    \"\"\"Generates cloud-filtered, Sentinel-2 images from\n",
        "    Google Earth Engine using the Python Earth Engine API.\n",
        "\n",
        "    Args:\n",
        "      region (ee.Geometry): The geometry of the area of interest to filter to.\n",
        "      product (str): Earth Engine asset ID\n",
        "        You can find the full list of ImageCollection IDs\n",
        "        at https://developers.google.com/earth-engine/datasets\n",
        "      min_date (str): Minimum date to acquire collection of satellite images\n",
        "      max_date (str): Maximum date to acquire collection of satellite images\n",
        "      range_min (int): Minimum value for visalization range\n",
        "      range_max (int): Maximum value for visualization range\n",
        "      cloud_pct (float): The cloud cover percent to filter by (default 10)\n",
        "\n",
        "    Returns:\n",
        "      ee.image.Image: Generated Sentinel-2 images clipped to the region of interest\n",
        "    \"\"\"\n",
        "\n",
        "    # Generate collection of images\n",
        "    sentinel2 = ee.ImageCollection(product)\\\n",
        "        .filterBounds(region)\\\n",
        "        .filterDate(str(min_date), str(max_date))\\\n",
        "        .filter(ee.Filter.lt(\"CLOUDY_PIXEL_PERCENTAGE\", cloud_pct))\n",
        "\n",
        "    # Apply the export function to each image in the collection.\n",
        "    collection_list = sentinel2.toList(sentinel2.size())\n",
        "    for i in range(sentinel2.size().getInfo()):\n",
        "      image = ee.Image(collection_list.get(i))\n",
        "      export_image(image=image,export_folder=export_folder)\n",
        "\n",
        "    print(\"Export tasks should be complete.\")\n"
      ]
    },
    {
      "cell_type": "code",
      "source": [
        "#newAOI = eec.gdfToFc(newAOI) #geodataframe to feature collection\n",
        "newAOI_fc = geemap.geopandas_to_ee(newAOI)\n",
        "region = newAOI_fc.geometry()\n",
        "download_images(region, bands=bands, export_folder=export_folder)"
      ],
      "metadata": {
        "colab": {
          "base_uri": "https://localhost:8080/"
        },
        "id": "fsORrrfUwXXy",
        "outputId": "90cacec5-12fb-49b5-8715-a3fcb7861660"
      },
      "execution_count": 70,
      "outputs": [
        {
          "output_type": "stream",
          "name": "stdout",
          "text": [
            "Task ID: WSSWBDV2ZZR46UXMM6BBMYMQ\n",
            "Exporting to Google Drive...\n",
            "Task ID: S2E32PXLB5MA4Q52OA76IMPR\n",
            "Exporting to Google Drive...\n",
            "Task ID: HQYU2Q7BGOP2KXLTLFK5I6OD\n",
            "Exporting to Google Drive...\n",
            "Task ID: 53DHHTV3QOE6INY7PUDOHXT7\n",
            "Exporting to Google Drive...\n",
            "Task ID: Z4GMJGL5M66I2BDF3UFW6SQV\n",
            "Exporting to Google Drive...\n",
            "Task ID: R2JMTP5CDFTXBEMHUTDSP2O5\n",
            "Exporting to Google Drive...\n",
            "Task ID: J7R2FU44BQNR4URE37ESA5W7\n",
            "Exporting to Google Drive...\n",
            "Task ID: 3TSJOZSGFEU5LR3JZL6W6MNF\n",
            "Exporting to Google Drive...\n",
            "Task ID: FB6LWNBQD4RYP6AJIJLPEJ6V\n",
            "Exporting to Google Drive...\n",
            "Task ID: 7C5CRC46MSZM4YEYTAILS64G\n",
            "Exporting to Google Drive...\n",
            "Task ID: V3EQIYF3FABPU3WQBIJ3IV7N\n",
            "Exporting to Google Drive...\n",
            "Task ID: UNAI2RC574VMZE52JWAKUBDH\n",
            "Exporting to Google Drive...\n",
            "Task ID: ZAKM3NDUBTYCV2FNURSDZVTD\n",
            "Exporting to Google Drive...\n",
            "Export tasks have been started.\n"
          ]
        }
      ]
    },
    {
      "cell_type": "code",
      "execution_count": null,
      "metadata": {
        "id": "raNfXEQV5urb"
      },
      "outputs": [],
      "source": []
    }
  ],
  "metadata": {
    "colab": {
      "provenance": [],
      "include_colab_link": true
    },
    "kernelspec": {
      "display_name": "Python 3",
      "name": "python3"
    },
    "language_info": {
      "name": "python"
    }
  },
  "nbformat": 4,
  "nbformat_minor": 0
}