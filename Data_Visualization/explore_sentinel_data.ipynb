{
  "cells": [
    {
      "cell_type": "markdown",
      "metadata": {
        "id": "view-in-github",
        "colab_type": "text"
      },
      "source": [
        "<a href=\"https://colab.research.google.com/github/liangchow/zindi-amazon-secret-runway/blob/main/Data_Visualization/explore_sentinel_data.ipynb\" target=\"_parent\"><img src=\"https://colab.research.google.com/assets/colab-badge.svg\" alt=\"Open In Colab\"/></a>"
      ]
    },
    {
      "cell_type": "markdown",
      "metadata": {
        "id": "AIhe7OV6OrYf"
      },
      "source": [
        "# Working with github: [A guide from Google](https://colab.research.google.com/github/googlecolab/colabtools/blob/master/notebooks/colab-github-demo.ipynb)"
      ]
    },
    {
      "cell_type": "markdown",
      "source": [
        "### Imports and Setup."
      ],
      "metadata": {
        "id": "0DTLmDupDf4n"
      }
    },
    {
      "cell_type": "code",
      "source": [
        "%%capture\n",
        "!pip -q install geojson\n",
        "!pip -q install rasterio\n",
        "!pip -q install eeconvert\n",
        "!pip -q install geemap==0.17.3"
      ],
      "metadata": {
        "collapsed": true,
        "id": "mvAcyNzKElmB"
      },
      "execution_count": 1,
      "outputs": []
    },
    {
      "cell_type": "code",
      "source": [
        "# Standard imports\n",
        "import os\n",
        "import json\n",
        "\n",
        "# Geospatial processing packages\n",
        "import geopandas as gpd\n",
        "import geojson\n",
        "import shapely\n",
        "import rasterio as rio\n",
        "from rasterio.plot import show\n",
        "import rasterio.mask\n",
        "from shapely.geometry import box\n",
        "from shapely.geometry import Polygon\n",
        "from pyproj import Transformer\n",
        "\n",
        "# Mapping and plotting libraries\n",
        "import matplotlib.pyplot as plt\n",
        "import matplotlib.colors as cl\n",
        "import ee\n",
        "import eeconvert as eec\n",
        "import geemap\n",
        "import geemap.eefolium as emap\n",
        "import folium"
      ],
      "metadata": {
        "id": "YKA6BXObDy_K"
      },
      "execution_count": 2,
      "outputs": []
    },
    {
      "cell_type": "markdown",
      "metadata": {
        "id": "WLlGqdpCe49T"
      },
      "source": [
        "### Mount your Google Drive and install project files\n",
        "\n",
        "First, we'll mount your Google Drive as we'll save the GeoTiff files to our drive. Then we'll clone the main branch from the GitHub repo so we have access to all of the files from there.\n",
        "If you want to save your files and make a pull request to github, make a new branch and check out the link at the top."
      ]
    },
    {
      "cell_type": "code",
      "execution_count": 3,
      "metadata": {
        "colab": {
          "base_uri": "https://localhost:8080/"
        },
        "id": "ONN-mhsCfRX5",
        "outputId": "12125d7f-6297-4414-c47e-e39f0974b7db",
        "collapsed": true
      },
      "outputs": [
        {
          "output_type": "stream",
          "name": "stdout",
          "text": [
            "Mounted at /content/drive\n",
            "Reading package lists... Done\n",
            "Building dependency tree... Done\n",
            "Reading state information... Done\n",
            "git is already the newest version (1:2.34.1-1ubuntu1.11).\n",
            "0 upgraded, 0 newly installed, 0 to remove and 49 not upgraded.\n",
            "Cloning into 'zindi-amazon-secret-runway'...\n",
            "remote: Enumerating objects: 106, done.\u001b[K\n",
            "remote: Counting objects: 100% (106/106), done.\u001b[K\n",
            "remote: Compressing objects: 100% (104/104), done.\u001b[K\n",
            "remote: Total 106 (delta 31), reused 7 (delta 1), pack-reused 0 (from 0)\u001b[K\n",
            "Receiving objects: 100% (106/106), 574.34 KiB | 4.10 MiB/s, done.\n",
            "Resolving deltas: 100% (31/31), done.\n",
            "fatal: not a git repository (or any of the parent directories): .git\n"
          ]
        }
      ],
      "source": [
        "# mount your drive in case you have any new data uploaded there you want to use\n",
        "from google.colab import drive\n",
        "drive.mount('/content/drive')\n",
        "\n",
        "# clone the main branch from GitHub to get all the data and files from there onto the current runtime session\n",
        "!apt-get install git\n",
        "!git clone https://github.com/liangchow/zindi-amazon-secret-runway.git\n",
        "!git pull # pulls the latest changes from repo"
      ]
    },
    {
      "cell_type": "markdown",
      "source": [
        "### Setup the main paths to the project files."
      ],
      "metadata": {
        "id": "QeyWGSkVIc3a"
      }
    },
    {
      "cell_type": "code",
      "source": [
        "airstrip_training_path = '/content/zindi-amazon-secret-runway/Data_Visualization/data/pac_2024_training/pac_2024_training.shp'\n",
        "base_aoi_path = '/content/zindi-amazon-secret-runway/Data_Visualization//data/shp_test_AOIs'\n",
        "illegal_runways_path = '/content/zindi-amazon-secret-runway/Data_Visualization/data/nyt_intercept_illegal_runways/Illegal-Airstrips-NYT-Intercept-Public.geojson'"
      ],
      "metadata": {
        "id": "ouCS_31hIgIy"
      },
      "execution_count": 4,
      "outputs": []
    },
    {
      "cell_type": "markdown",
      "source": [
        "### Authenticate Google Earth Engine\n",
        "Make sure you have signed up for access to Google Earth Engine. You will need to edit the following code cell to use your own account. All the Sentinel data will be downloaded through the Google Earth Engine."
      ],
      "metadata": {
        "id": "rNqavIojGpUb"
      }
    },
    {
      "cell_type": "code",
      "source": [
        "ee.Authenticate()\n",
        "ee.Initialize(project=\"ee-fortinpascal\")"
      ],
      "metadata": {
        "id": "Nq1kHtxNG7Fw"
      },
      "execution_count": 5,
      "outputs": []
    },
    {
      "cell_type": "markdown",
      "source": [
        "### Let's look at the Sentinel data\n",
        "We'll use the airstrip training shape file. Each record contains columns for id, year of detection, largo (length probably in meters), Activo (activity status???), and geometry of type *Linestring* with coordinates (LNG LAT) which define points along the airstrip. For each airstrip, we'll define a square AOI to define a boundary when downloading Sentinel data."
      ],
      "metadata": {
        "id": "zF6L5ZGyJi9N"
      }
    },
    {
      "cell_type": "code",
      "source": [
        "# Read the shapefile\n",
        "airstrip_training_gdf = gpd.read_file(airstrip_training_path)\n",
        "\n",
        "# Display the data\n",
        "print(airstrip_training_gdf.head().to_markdown(), \"\\n\")\n",
        "print(airstrip_training_gdf.info(), \"\\n\")"
      ],
      "metadata": {
        "colab": {
          "base_uri": "https://localhost:8080/"
        },
        "collapsed": true,
        "id": "ygubMkFvKog8",
        "outputId": "b6b57ab6-adbc-4fe6-da7b-6d70441f1c88"
      },
      "execution_count": 6,
      "outputs": [
        {
          "output_type": "stream",
          "name": "stdout",
          "text": [
            "|    |   id |   yr |    largo |   Activo | geometry                                                                                                                            |\n",
            "|---:|-----:|-----:|---------:|---------:|:------------------------------------------------------------------------------------------------------------------------------------|\n",
            "|  0 |    1 | 2023 |  968.918 |        0 | LINESTRING (-70.08928656863503 -13.129844039931504, -70.08052787039317 -13.128251134052485, -70.08052787039317 -13.128251134052485) |\n",
            "|  1 |    2 | 2022 | 1105.49  |        0 | LINESTRING (-69.16744237255283 -13.620679758207931, -69.1728593987747 -13.612261251288524)                                          |\n",
            "|  2 |    3 | 2015 |  985.018 |        0 | LINESTRING (-69.14224792429687 -13.694510447986984, -69.14189616934739 -13.685654549844925)                                         |\n",
            "|  3 |    4 | 2020 |  681.914 |        0 | LINESTRING (-69.07843632939438 -13.787902019520923, -69.08404112675193 -13.7906640035937)                                           |\n",
            "|  4 |    5 | 2020 |  699.552 |        0 | LINESTRING (-69.07838092777308 -13.787884084452626, -69.08279459027209 -13.78330162936446)                                          | \n",
            "\n",
            "<class 'geopandas.geodataframe.GeoDataFrame'>\n",
            "RangeIndex: 154 entries, 0 to 153\n",
            "Data columns (total 5 columns):\n",
            " #   Column    Non-Null Count  Dtype   \n",
            "---  ------    --------------  -----   \n",
            " 0   id        154 non-null    int64   \n",
            " 1   yr        154 non-null    int64   \n",
            " 2   largo     154 non-null    float64 \n",
            " 3   Activo    154 non-null    int64   \n",
            " 4   geometry  154 non-null    geometry\n",
            "dtypes: float64(1), geometry(1), int64(3)\n",
            "memory usage: 6.1 KB\n",
            "None \n",
            "\n"
          ]
        }
      ]
    },
    {
      "cell_type": "code",
      "source": [
        "def create_square_pentagon(center_lon, center_lat, side_length_meters):\n",
        "  \"\"\"\n",
        "  Creates a square geopandas pentagon centered on\n",
        "  a set of Lon/Lat coordinates.\n",
        "\n",
        "  Args:\n",
        "    center_lon: The longitude of the center point.\n",
        "    center_lat: The latitude of the center point.\n",
        "    side_length_meters: The length of each side of\n",
        "                         the square in meters.\n",
        "\n",
        "  Returns:\n",
        "    A geopandas GeoDataFrame containing the pentagon.\n",
        "  \"\"\"\n",
        "\n",
        "  # Define the source and destination coordinate systems\n",
        "  source_crs = \"EPSG:4326\"  # WGS 84 (Lon/Lat)\n",
        "  target_crs = \"EPSG:3395\"  # World Mercator (meters)\n",
        "\n",
        "\n",
        "  # Create a transformer object to convert between coordinate systems\n",
        "  transformer = Transformer.from_crs(source_crs, target_crs, always_xy=True)\n",
        "\n",
        "  # Transform the center coordinates to Web Mercator\n",
        "  center_x, center_y = transformer.transform(center_lon, center_lat)\n",
        "\n",
        "  # Calculate half the side length\n",
        "  half_side = side_length_meters / 2\n",
        "\n",
        "  # Calculate the coordinates of the pentagon's vertices in meters\n",
        "  #coordinates = [\n",
        "  #    (center_x, center_y + half_side),  # Top\n",
        "  #    (center_x + half_side, center_y),  # Right\n",
        "  #    (center_x, center_y - half_side),  # Bottom\n",
        "  #    (center_x - half_side, center_y),  # Left\n",
        "  #    (center_x, center_y + half_side)   # Top (close the polygon)\n",
        "  #]\n",
        "  coordinates = [\n",
        "      (center_x - half_side, center_y + half_side),  # Top left\n",
        "      (center_x + half_side, center_y + half_side),  # Top right\n",
        "      (center_x + half_side, center_y - half_side),  # Bottom right\n",
        "      (center_x - half_side, center_y - half_side),  # Bottom Left\n",
        "      (center_x - half_side, center_y + half_side)   # Top left (close the polygon)\n",
        "  ]\n",
        "\n",
        "\n",
        "  # Create a Polygon object from the coordinates\n",
        "  polygon = Polygon(coordinates)\n",
        "\n",
        "  # Create a GeoDataFrame from the Polygon with World Mercator CRS\n",
        "  gdf = gpd.GeoDataFrame(geometry=[polygon], crs=target_crs)\n",
        "\n",
        "  # Transform the GeoDataFrame back to WGS 84\n",
        "  gdf = gdf.to_crs(source_crs)\n",
        "\n",
        "  return gdf"
      ],
      "metadata": {
        "id": "femEjNbUK6UQ"
      },
      "execution_count": 7,
      "outputs": []
    },
    {
      "cell_type": "code",
      "source": [
        "# Temporarily reproject to a projected CRS for accurate centroid calculation\n",
        "projected_airstrip_training_gdf = airstrip_training_gdf.to_crs(epsg=3395)  # World Mercator projection\n",
        "\n",
        "# Access the first airstip and calculate its centroid\n",
        "centroid = projected_airstrip_training_gdf.geometry[0].centroid\n",
        "\n",
        "# Convert the centroid back to WGS84 (LNG, LAT)\n",
        "centroid_wgs84 = gpd.GeoSeries([centroid], crs=projected_airstrip_training_gdf.crs).to_crs(epsg=4326).geometry[0]\n",
        "\n",
        "# Create a new AOI center on the centroid. The lenght of each side is 5km.\n",
        "newAOI = create_square_pentagon(centroid_wgs84.x, centroid_wgs84.y, 5000)\n",
        "print(newAOI.info(), \"\\n\")\n",
        "\n",
        "#fig, ax = plt.subplots(1, figsize=(10,10))\n",
        "#newAOI.plot(legend=True, ax=ax);"
      ],
      "metadata": {
        "colab": {
          "base_uri": "https://localhost:8080/"
        },
        "collapsed": true,
        "id": "WqOj7E-xNKwV",
        "outputId": "3fd77310-3495-4a68-b103-c7fb9a8ed8ac"
      },
      "execution_count": 8,
      "outputs": [
        {
          "output_type": "stream",
          "name": "stdout",
          "text": [
            "<class 'geopandas.geodataframe.GeoDataFrame'>\n",
            "RangeIndex: 1 entries, 0 to 0\n",
            "Data columns (total 1 columns):\n",
            " #   Column    Non-Null Count  Dtype   \n",
            "---  ------    --------------  -----   \n",
            " 0   geometry  1 non-null      geometry\n",
            "dtypes: geometry(1)\n",
            "memory usage: 136.0 bytes\n",
            "None \n",
            "\n"
          ]
        }
      ]
    },
    {
      "cell_type": "markdown",
      "source": [
        "**Generate the Sentinel images**"
      ],
      "metadata": {
        "id": "bKn8EnvTTUMM"
      }
    },
    {
      "cell_type": "code",
      "source": [
        "# Select export folder on Google Drive\n",
        "export_folder = 'Colab Notebooks'\n",
        "\n",
        "# Select bands (replace with desired bands)\n",
        "s2_bands = ['B4', 'B3', 'B2', 'B8', 'B11', 'B12']\n",
        "s1_bands = ['VV', 'VH']\n"
      ],
      "metadata": {
        "id": "BJ6tlejnuWP4"
      },
      "execution_count": 18,
      "outputs": []
    },
    {
      "cell_type": "code",
      "source": [
        "# Function to export an image\n",
        "def export_image(image,filename_prefix,bands,export_folder):\n",
        "  date = ee.Date(image.get('system:time_start')).format('YYYY-MM-dd').getInfo()\n",
        "  filename = f\"{filename_prefix}_{date}\"\n",
        "\n",
        "  task = ee.batch.Export.image.toDrive(\n",
        "      image=image.select(bands).clip(region),\n",
        "      description='filename',\n",
        "      folder=export_folder,\n",
        "      fileNamePrefix=filename,\n",
        "      scale=10,  # Adjust scale as needed (meters)\n",
        "      region=region.getInfo()['coordinates'],\n",
        "      maxPixels=1e13,\n",
        "      fileFormat='GeoTIFF'\n",
        "  )\n",
        "  task.start()\n",
        "  print(f'Task ID: {task.id}')\n",
        "  print('Exporting to Google Drive...')\n"
      ],
      "metadata": {
        "id": "tAmGIxPVtnsI"
      },
      "execution_count": 19,
      "outputs": []
    },
    {
      "cell_type": "code",
      "execution_count": 20,
      "metadata": {
        "id": "uFlTm3WHaSPZ"
      },
      "outputs": [],
      "source": [
        "def download_s2_images(\n",
        "    region,\n",
        "    bands=['B4', 'B3', 'B2', 'B8', 'B11', 'B12'],\n",
        "    filename_prefix='Sentinel2',\n",
        "    export_folder='Colab Notebooks',\n",
        "    product='COPERNICUS/S2_HARMONIZED',\n",
        "    min_date='2023-01-01',\n",
        "    max_date='2024-06-01',\n",
        "    range_min=0,\n",
        "    range_max=2000,\n",
        "    cloud_pct=10\n",
        "):\n",
        "\n",
        "    \"\"\"Generates cloud-filtered, Sentinel-2 images from\n",
        "    Google Earth Engine using the Python Earth Engine API.\n",
        "\n",
        "    Args:\n",
        "      region (ee.Geometry): The geometry of the area of interest to filter to.\n",
        "      product (str): Earth Engine asset ID\n",
        "        You can find the full list of ImageCollection IDs\n",
        "        at https://developers.google.com/earth-engine/datasets\n",
        "      min_date (str): Minimum date to acquire collection of satellite images\n",
        "      max_date (str): Maximum date to acquire collection of satellite images\n",
        "      range_min (int): Minimum value for visalization range\n",
        "      range_max (int): Maximum value for visualization range\n",
        "      cloud_pct (float): The cloud cover percent to filter by (default 10)\n",
        "\n",
        "    Returns:\n",
        "      ee.image.Image: Generated Sentinel-2 images clipped to the region of interest\n",
        "    \"\"\"\n",
        "\n",
        "    # Generate collection of images\n",
        "    sentinel2 = ee.ImageCollection(product)\\\n",
        "        .filterBounds(region)\\\n",
        "        .filterDate(str(min_date), str(max_date))\\\n",
        "        .filter(ee.Filter.lt(\"CLOUDY_PIXEL_PERCENTAGE\", cloud_pct))\n",
        "\n",
        "    # Apply the export function to each image in the collection.\n",
        "    collection_list = sentinel2.toList(sentinel2.size())\n",
        "    for i in range(sentinel2.size().getInfo()):\n",
        "      image = ee.Image(collection_list.get(i))\n",
        "      export_image(image=image,filename_prefix=filename_prefix,bands=bands,export_folder=export_folder)\n",
        "\n",
        "    print(\"Export tasks should be complete.\")\n"
      ]
    },
    {
      "cell_type": "code",
      "execution_count": 24,
      "metadata": {
        "id": "SpOJ_5Je5B_d"
      },
      "outputs": [],
      "source": [
        "def download_s1_images(\n",
        "    region,\n",
        "    bands = ['VV', 'VH'],\n",
        "    filename_prefix='Sentinel2',\n",
        "    export_folder='Colab Notebooks',\n",
        "    product='COPERNICUS/S1_GRD',\n",
        "    min_date='2024-04-01',\n",
        "    max_date='2024-06-01',\n",
        "):\n",
        "\n",
        "    \"\"\"Generates Sentinel-1 images from Google Earth Engine using the Python Earth Engine API.\n",
        "\n",
        "    Args:\n",
        "      region (ee.Geometry): The geometry of the area of interest to filter to.\n",
        "      bands: List of bands\n",
        "      filename_prefix: Filename prexix to save to disk\n",
        "      export_folder: Google Drive folder to save to\n",
        "      product (str): Earth Engine asset ID\n",
        "        You can find the full list of ImageCollection IDs\n",
        "        at https://developers.google.com/earth-engine/datasets\n",
        "      min_date (str): Minimum date to acquire collection of satellite images\n",
        "      max_date (str): Maximum date to acquire collection of satellite images\n",
        "      range_min (int): Minimum value for visalization range\n",
        "      range_max (int): Maximum value for visualization range\n",
        "      cloud_pct (float): The cloud cover percent to filter by (default 10)\n",
        "\n",
        "    Returns:\n",
        "      ee.image.Image: Generated Sentinel-1 images clipped to the region of interest\n",
        "    \"\"\"\n",
        "\n",
        "    # Define the Sentinel-1 image collection and filter by date and region.\n",
        "    sentinel1 = ee.ImageCollection(product) \\\n",
        "        .filterDate(min_date, max_date) \\\n",
        "        .filterBounds(region) \\\n",
        "        .filter(ee.Filter.eq('instrumentMode', 'IW'))  # Interferometric Wide (IW) swath mode\n",
        "\n",
        "    # Apply the export function to each image in the collection.\n",
        "    collection_list = sentinel1.toList(sentinel1.size())\n",
        "    for i in range(sentinel1.size().getInfo()):\n",
        "      image = ee.Image(collection_list.get(i))\n",
        "      export_image(image=image,filename_prefix=filename_prefix,bands=bands,export_folder=export_folder)\n",
        "\n",
        "    print(\"Export tasks should be complete.\")\n"
      ]
    },
    {
      "cell_type": "code",
      "source": [
        "def plot_s1_images(\n",
        "    region,\n",
        "    bands = ['VV', 'VH'],\n",
        "    product='COPERNICUS/S1_GRD',\n",
        "    min_date='2023-06-01',\n",
        "    max_date='2023-07-01',\n",
        "):\n",
        "\n",
        "    \"\"\"Generates Sentinel-1 images from Google Earth Engine using the Python Earth Engine API.\n",
        "\n",
        "    Args:\n",
        "      region (ee.Geometry): The geometry of the area of interest to filter to.\n",
        "      bands: List of bands\n",
        "      product (str): Earth Engine asset ID\n",
        "        You can find the full list of ImageCollection IDs\n",
        "        at https://developers.google.com/earth-engine/datasets\n",
        "      min_date (str): Minimum date to acquire collection of satellite images\n",
        "      max_date (str): Maximum date to acquire collection of satellite images\n",
        "\n",
        "    Returns:\n",
        "      Map\n",
        "    \"\"\"\n",
        "\n",
        "    # Define the Sentinel-1 image collection and filter by date and region.\n",
        "    sentinel1 = ee.ImageCollection(product) \\\n",
        "        .filterDate(min_date, max_date) \\\n",
        "        .filterBounds(region) \\\n",
        "        .filter(ee.Filter.eq('instrumentMode', 'IW'))  # Interferometric Wide (IW) swath mode\n",
        "\n",
        "    # Get the most recent image in the collection.\n",
        "    most_recent_image = sentinel1.sort('system:time_start', False).first().clip(region)\n",
        "\n",
        "    # Select the VV and VH bands.\n",
        "    vv_vh_image = most_recent_image.select(['VV', 'VH'])\n",
        "\n",
        "    # Create a map.\n",
        "    location = region.centroid().coordinates().getInfo()[::-1]\n",
        "    Map = geemap.Map(center=location, zoom=10, basemap='SATELLITE')\n",
        "\n",
        "    # Add Google TERRAIN as a base map.\n",
        "    Map.add_basemap('TERRAIN')\n",
        "\n",
        "    # Define visualization parameters for the VV and VH bands.\n",
        "    #vv_vis_params = {\n",
        "    #    'min': -25,\n",
        "    #    'max': 0,\n",
        "    #    'palette': ['blue', 'white', 'green']\n",
        "    #}\n",
        "    vv_vis_params = {\n",
        "        'min': -25,\n",
        "        'max': 0,\n",
        "        'palette': ['black', 'white']\n",
        "    }\n",
        "\n",
        "\n",
        "    vh_vis_params = {\n",
        "        'min': -25,\n",
        "        'max': 0,\n",
        "        'palette': ['purple', 'white', 'orange']\n",
        "    }\n",
        "\n",
        "    # Make an RGB color composite image (VV,VH,VV/VH).\n",
        "    rgb = ee.Image.rgb(vv_vh_image.select('VV'),\n",
        "                       vv_vh_image.select('VH'),\n",
        "                       vv_vh_image.select('VV').divide(vv_vh_image.select('VH')))\n",
        "\n",
        "\n",
        "    # Add the S1 rgb composite to the map object.\n",
        "    Map.addLayer(rgb, {'min': [-25, -25, 0], 'max': [0, 0, 2]}, 'Fake S1 RGB')\n",
        "\n",
        "    # Add the VV band layer to the map.\n",
        "    Map.addLayer(vv_vh_image.select('VV'), vv_vis_params, 'VV Band')\n",
        "\n",
        "    # Add the VH band layer to the map.\n",
        "    Map.addLayer(vv_vh_image.select('VH'), vh_vis_params, 'VH Band')\n",
        "\n",
        "    # Add the region of interest as a layer.\n",
        "    Map.addLayer(region, {}, 'Region of Interest')\n",
        "\n",
        "    # Display the map.\n",
        "    Map.addLayerControl()  # This line will add a layer control to toggle the layers on/off.\n",
        "    return Map\n"
      ],
      "metadata": {
        "id": "VAElPNUi-sho"
      },
      "execution_count": 56,
      "outputs": []
    },
    {
      "cell_type": "code",
      "source": [
        "newAOI_fc = geemap.geopandas_to_ee(newAOI)\n",
        "region = newAOI_fc.geometry()\n",
        "#download_s1_images(region, bands=s1_bands, filename_prefix='Sentinel1', export_folder=export_folder)\n",
        "#download_s2_images(region, bands=s2_bands, filename_prefix='Sentinel2', export_folder=export_folder)\n",
        "Map = plot_s1_images(region, bands=s1_bands)\n",
        "Map"
      ],
      "metadata": {
        "colab": {
          "base_uri": "https://localhost:8080/",
          "height": 621,
          "referenced_widgets": [
            "79af9ed34f6e409092b216da21a8ef5b",
            "f2d521eb5fcc4e879b97f9af481801de",
            "788ece41056b44f196418769b2ccd847",
            "55c43b842ccb43f79f5db515b407e392",
            "073c431691004f06bb9317ae7c02ef77",
            "91eb2c113254495790f2dd0618d7f494",
            "124d7ca9124b4dec8866903565f0e536",
            "253f6c2e25714d5985ab8b0f70277d63",
            "e453a4ff45034c159a6a0a666dd82428",
            "bdcfdb00827d49af80c44b5a521355ae",
            "b8ae5ecb103f48319e9eb9a645d64e25",
            "cb145ef15bc84098858875c2b8eb8945",
            "4e81cbebba934a588abd140616b5fc0c",
            "7516540b58504a9a9782886fac4cd3a7",
            "1224caea7c114182b30977980be3db51",
            "b92e76d65f18471381c96e22b1e70131",
            "41b81dce31b74b73bb572f604e5bb4e1",
            "c6841d21311240f6b4773403c9747f9e",
            "7800f384c46e4e8da582ac540e4deb5d",
            "1db66e7d064c48f0b77d94ce63760ec4",
            "3c469b06d57242f7923e234d4fb6291f",
            "8b9e7d265494420aa6def9ccfccfab11",
            "6afbe8655e634569bd6d7f6ef918212e",
            "84a57418674a45449508f0c6f9e17587",
            "e2ab4306a2924976b329aaea73ca17f7",
            "0789c5223fc04d35839aab214cea128e",
            "cf2cbb8e57a0462b96d020631aae2052",
            "0d37ce1a9775463288ba0f2d45bfd4a1",
            "45b9b5aeb43d420ba4ac5971776196b4",
            "02d9d7b88b374d798ebdedb4e72fe28d"
          ]
        },
        "id": "fsORrrfUwXXy",
        "outputId": "cb7c6f51-5995-4564-82cf-dd1b3df24be8"
      },
      "execution_count": 57,
      "outputs": [
        {
          "output_type": "display_data",
          "data": {
            "text/plain": [
              "Map(center=[-13.12904690589121, -70.0849072195116], controls=(WidgetControl(options=['position', 'transparent_…"
            ],
            "application/vnd.jupyter.widget-view+json": {
              "version_major": 2,
              "version_minor": 0,
              "model_id": "79af9ed34f6e409092b216da21a8ef5b"
            }
          },
          "metadata": {
            "application/vnd.jupyter.widget-view+json": {
              "colab": {
                "custom_widget_manager": {
                  "url": "https://ssl.gstatic.com/colaboratory-static/widgets/colab-cdn-widget-manager/2b70e893a8ba7c0f/manager.min.js"
                }
              }
            }
          }
        }
      ]
    },
    {
      "cell_type": "code",
      "execution_count": null,
      "metadata": {
        "id": "raNfXEQV5urb"
      },
      "outputs": [],
      "source": []
    }
  ],
  "metadata": {
    "colab": {
      "provenance": [],
      "include_colab_link": true
    },
    "kernelspec": {
      "display_name": "Python 3",
      "name": "python3"
    },
    "language_info": {
      "name": "python"
    },
    "widgets": {
      "application/vnd.jupyter.widget-state+json": {
        "79af9ed34f6e409092b216da21a8ef5b": {
          "model_module": "jupyter-leaflet",
          "model_name": "LeafletMapModel",
          "model_module_version": "^0.18",
          "state": {
            "_dom_classes": [],
            "_model_module": "jupyter-leaflet",
            "_model_module_version": "^0.18",
            "_model_name": "LeafletMapModel",
            "_view_count": null,
            "_view_module": "jupyter-leaflet",
            "_view_module_version": "^0.18",
            "_view_name": "LeafletMapView",
            "bottom": 9006135,
            "bounce_at_zoom_limits": true,
            "box_zoom": true,
            "center": [
              -13.127859334460023,
              -70.08298873901369
            ],
            "close_popup_on_click": true,
            "controls": [
              "IPY_MODEL_f2d521eb5fcc4e879b97f9af481801de",
              "IPY_MODEL_788ece41056b44f196418769b2ccd847",
              "IPY_MODEL_55c43b842ccb43f79f5db515b407e392",
              "IPY_MODEL_073c431691004f06bb9317ae7c02ef77",
              "IPY_MODEL_91eb2c113254495790f2dd0618d7f494",
              "IPY_MODEL_124d7ca9124b4dec8866903565f0e536",
              "IPY_MODEL_253f6c2e25714d5985ab8b0f70277d63",
              "IPY_MODEL_e453a4ff45034c159a6a0a666dd82428",
              "IPY_MODEL_bdcfdb00827d49af80c44b5a521355ae"
            ],
            "crs": {
              "name": "EPSG3857",
              "custom": false
            },
            "default_style": "IPY_MODEL_b8ae5ecb103f48319e9eb9a645d64e25",
            "double_click_zoom": true,
            "dragging": true,
            "dragging_style": "IPY_MODEL_cb145ef15bc84098858875c2b8eb8945",
            "east": -70.06584405899049,
            "fullscreen": false,
            "inertia": true,
            "inertia_deceleration": 3000,
            "inertia_max_speed": 1500,
            "interpolation": "bilinear",
            "keyboard": true,
            "keyboard_pan_offset": 80,
            "keyboard_zoom_offset": 1,
            "layers": [
              "IPY_MODEL_4e81cbebba934a588abd140616b5fc0c",
              "IPY_MODEL_7516540b58504a9a9782886fac4cd3a7",
              "IPY_MODEL_1224caea7c114182b30977980be3db51",
              "IPY_MODEL_b92e76d65f18471381c96e22b1e70131",
              "IPY_MODEL_41b81dce31b74b73bb572f604e5bb4e1",
              "IPY_MODEL_c6841d21311240f6b4773403c9747f9e"
            ],
            "layout": "IPY_MODEL_7800f384c46e4e8da582ac540e4deb5d",
            "left": 5121705,
            "max_zoom": 24,
            "min_zoom": null,
            "modisdate": "2024-09-03",
            "north": -13.121590187569815,
            "options": [
              "bounce_at_zoom_limits",
              "box_zoom",
              "center",
              "close_popup_on_click",
              "double_click_zoom",
              "dragging",
              "fullscreen",
              "inertia",
              "inertia_deceleration",
              "inertia_max_speed",
              "interpolation",
              "keyboard",
              "keyboard_pan_offset",
              "keyboard_zoom_offset",
              "max_zoom",
              "min_zoom",
              "prefer_canvas",
              "scroll_wheel_zoom",
              "tap",
              "tap_tolerance",
              "touch_zoom",
              "world_copy_jump",
              "zoom",
              "zoom_animation_threshold",
              "zoom_delta",
              "zoom_snap"
            ],
            "panes": {},
            "prefer_canvas": false,
            "right": 5123303,
            "scroll_wheel_zoom": true,
            "south": -13.134128321376448,
            "style": "IPY_MODEL_b8ae5ecb103f48319e9eb9a645d64e25",
            "tap": true,
            "tap_tolerance": 15,
            "top": 9005535,
            "touch_zoom": true,
            "west": -70.10013341903688,
            "window_url": "https://5t6aa8b5gvn-496ff2e9c6d22116-0-colab.googleusercontent.com/outputframe.html?vrz=colab_20240903-060129_RC00_670496038",
            "world_copy_jump": false,
            "zoom": 16,
            "zoom_animation_threshold": 4,
            "zoom_delta": 1,
            "zoom_snap": 1
          }
        },
        "f2d521eb5fcc4e879b97f9af481801de": {
          "model_module": "jupyter-leaflet",
          "model_name": "LeafletWidgetControlModel",
          "model_module_version": "^0.18",
          "state": {
            "_model_module": "jupyter-leaflet",
            "_model_module_version": "^0.18",
            "_model_name": "LeafletWidgetControlModel",
            "_view_count": null,
            "_view_module": "jupyter-leaflet",
            "_view_module_version": "^0.18",
            "_view_name": "LeafletWidgetControlView",
            "max_height": null,
            "max_width": null,
            "min_height": null,
            "min_width": null,
            "options": [
              "position",
              "transparent_bg"
            ],
            "position": "topleft",
            "transparent_bg": false,
            "widget": "IPY_MODEL_3c469b06d57242f7923e234d4fb6291f"
          }
        },
        "788ece41056b44f196418769b2ccd847": {
          "model_module": "jupyter-leaflet",
          "model_name": "LeafletZoomControlModel",
          "model_module_version": "^0.18",
          "state": {
            "_model_module": "jupyter-leaflet",
            "_model_module_version": "^0.18",
            "_model_name": "LeafletZoomControlModel",
            "_view_count": null,
            "_view_module": "jupyter-leaflet",
            "_view_module_version": "^0.18",
            "_view_name": "LeafletZoomControlView",
            "options": [
              "position",
              "zoom_in_text",
              "zoom_in_title",
              "zoom_out_text",
              "zoom_out_title"
            ],
            "position": "topleft",
            "zoom_in_text": "+",
            "zoom_in_title": "Zoom in",
            "zoom_out_text": "-",
            "zoom_out_title": "Zoom out"
          }
        },
        "55c43b842ccb43f79f5db515b407e392": {
          "model_module": "jupyter-leaflet",
          "model_name": "LeafletScaleControlModel",
          "model_module_version": "^0.18",
          "state": {
            "_model_module": "jupyter-leaflet",
            "_model_module_version": "^0.18",
            "_model_name": "LeafletScaleControlModel",
            "_view_count": null,
            "_view_module": "jupyter-leaflet",
            "_view_module_version": "^0.18",
            "_view_name": "LeafletScaleControlView",
            "imperial": true,
            "max_width": 100,
            "metric": true,
            "options": [
              "imperial",
              "max_width",
              "metric",
              "position",
              "update_when_idle"
            ],
            "position": "bottomleft",
            "update_when_idle": false
          }
        },
        "073c431691004f06bb9317ae7c02ef77": {
          "model_module": "jupyter-leaflet",
          "model_name": "LeafletFullScreenControlModel",
          "model_module_version": "^0.18",
          "state": {
            "_model_module": "jupyter-leaflet",
            "_model_module_version": "^0.18",
            "_model_name": "LeafletFullScreenControlModel",
            "_view_count": null,
            "_view_module": "jupyter-leaflet",
            "_view_module_version": "^0.18",
            "_view_name": "LeafletFullScreenControlView",
            "options": [
              "position"
            ],
            "position": "topleft"
          }
        },
        "91eb2c113254495790f2dd0618d7f494": {
          "model_module": "jupyter-leaflet",
          "model_name": "LeafletMeasureControlModel",
          "model_module_version": "^0.18",
          "state": {
            "_custom_units": {},
            "_model_module": "jupyter-leaflet",
            "_model_module_version": "^0.18",
            "_model_name": "LeafletMeasureControlModel",
            "_view_count": null,
            "_view_module": "jupyter-leaflet",
            "_view_module_version": "^0.18",
            "_view_name": "LeafletMeasureControlView",
            "active_color": "orange",
            "capture_z_index": 10000,
            "completed_color": "#C8F2BE",
            "options": [
              "active_color",
              "capture_z_index",
              "completed_color",
              "popup_options",
              "position",
              "primary_area_unit",
              "primary_length_unit",
              "secondary_area_unit",
              "secondary_length_unit"
            ],
            "popup_options": {
              "className": "leaflet-measure-resultpopup",
              "autoPanPadding": [
                10,
                10
              ]
            },
            "position": "bottomleft",
            "primary_area_unit": "acres",
            "primary_length_unit": "kilometers",
            "secondary_area_unit": null,
            "secondary_length_unit": null
          }
        },
        "124d7ca9124b4dec8866903565f0e536": {
          "model_module": "jupyter-leaflet",
          "model_name": "LeafletAttributionControlModel",
          "model_module_version": "^0.18",
          "state": {
            "_model_module": "jupyter-leaflet",
            "_model_module_version": "^0.18",
            "_model_name": "LeafletAttributionControlModel",
            "_view_count": null,
            "_view_module": "jupyter-leaflet",
            "_view_module_version": "^0.18",
            "_view_name": "LeafletAttributionControlView",
            "options": [
              "position",
              "prefix"
            ],
            "position": "bottomright",
            "prefix": "ipyleaflet"
          }
        },
        "253f6c2e25714d5985ab8b0f70277d63": {
          "model_module": "jupyter-leaflet",
          "model_name": "LeafletDrawControlModel",
          "model_module_version": "^0.18",
          "state": {
            "_model_module": "jupyter-leaflet",
            "_model_module_version": "^0.18",
            "_model_name": "LeafletDrawControlModel",
            "_view_count": null,
            "_view_module": "jupyter-leaflet",
            "_view_module_version": "^0.18",
            "_view_name": "LeafletDrawControlView",
            "circle": {
              "shapeOptions": {
                "color": "#3388ff"
              }
            },
            "circlemarker": {},
            "data": [],
            "edit": true,
            "marker": {
              "shapeOptions": {
                "color": "#3388ff"
              }
            },
            "options": [
              "position"
            ],
            "polygon": {
              "shapeOptions": {}
            },
            "polyline": {
              "shapeOptions": {}
            },
            "position": "topleft",
            "rectangle": {
              "shapeOptions": {
                "color": "#3388ff"
              }
            },
            "remove": true
          }
        },
        "e453a4ff45034c159a6a0a666dd82428": {
          "model_module": "jupyter-leaflet",
          "model_name": "LeafletWidgetControlModel",
          "model_module_version": "^0.18",
          "state": {
            "_model_module": "jupyter-leaflet",
            "_model_module_version": "^0.18",
            "_model_name": "LeafletWidgetControlModel",
            "_view_count": null,
            "_view_module": "jupyter-leaflet",
            "_view_module_version": "^0.18",
            "_view_name": "LeafletWidgetControlView",
            "max_height": null,
            "max_width": null,
            "min_height": null,
            "min_width": null,
            "options": [
              "position",
              "transparent_bg"
            ],
            "position": "topright",
            "transparent_bg": false,
            "widget": "IPY_MODEL_8b9e7d265494420aa6def9ccfccfab11"
          }
        },
        "bdcfdb00827d49af80c44b5a521355ae": {
          "model_module": "jupyter-leaflet",
          "model_name": "LeafletLayersControlModel",
          "model_module_version": "^0.18",
          "state": {
            "_model_module": "jupyter-leaflet",
            "_model_module_version": "^0.18",
            "_model_name": "LeafletLayersControlModel",
            "_view_count": null,
            "_view_module": "jupyter-leaflet",
            "_view_module_version": "^0.18",
            "_view_name": "LeafletLayersControlView",
            "collapsed": true,
            "options": [
              "collapsed",
              "position"
            ],
            "position": "topright"
          }
        },
        "b8ae5ecb103f48319e9eb9a645d64e25": {
          "model_module": "jupyter-leaflet",
          "model_name": "LeafletMapStyleModel",
          "model_module_version": "^0.18",
          "state": {
            "_model_module": "jupyter-leaflet",
            "_model_module_version": "^0.18",
            "_model_name": "LeafletMapStyleModel",
            "_view_count": null,
            "_view_module": "@jupyter-widgets/base",
            "_view_module_version": "1.2.0",
            "_view_name": "StyleView",
            "cursor": "grab"
          }
        },
        "cb145ef15bc84098858875c2b8eb8945": {
          "model_module": "jupyter-leaflet",
          "model_name": "LeafletMapStyleModel",
          "model_module_version": "^0.18",
          "state": {
            "_model_module": "jupyter-leaflet",
            "_model_module_version": "^0.18",
            "_model_name": "LeafletMapStyleModel",
            "_view_count": null,
            "_view_module": "@jupyter-widgets/base",
            "_view_module_version": "1.2.0",
            "_view_name": "StyleView",
            "cursor": "move"
          }
        },
        "4e81cbebba934a588abd140616b5fc0c": {
          "model_module": "jupyter-leaflet",
          "model_name": "LeafletTileLayerModel",
          "model_module_version": "^0.18",
          "state": {
            "_model_module": "jupyter-leaflet",
            "_model_module_version": "^0.18",
            "_model_name": "LeafletTileLayerModel",
            "_view_count": null,
            "_view_module": "jupyter-leaflet",
            "_view_module_version": "^0.18",
            "_view_name": "LeafletTileLayerView",
            "attribution": "Google",
            "base": true,
            "bottom": true,
            "bounds": null,
            "detect_retina": false,
            "loading": false,
            "max_native_zoom": null,
            "max_zoom": 22,
            "min_native_zoom": null,
            "min_zoom": 0,
            "name": "Google Satellite",
            "no_wrap": false,
            "opacity": 1,
            "options": [
              "attribution",
              "bounds",
              "detect_retina",
              "max_native_zoom",
              "max_zoom",
              "min_native_zoom",
              "min_zoom",
              "no_wrap",
              "tile_size",
              "tms",
              "zoom_offset"
            ],
            "pane": "",
            "popup": null,
            "popup_max_height": null,
            "popup_max_width": 300,
            "popup_min_width": 50,
            "show_loading": false,
            "subitems": [],
            "tile_size": 256,
            "tms": false,
            "url": "https://mt1.google.com/vt/lyrs=s&x={x}&y={y}&z={z}",
            "visible": true,
            "zoom_offset": 0
          }
        },
        "7516540b58504a9a9782886fac4cd3a7": {
          "model_module": "jupyter-leaflet",
          "model_name": "LeafletTileLayerModel",
          "model_module_version": "^0.18",
          "state": {
            "_model_module": "jupyter-leaflet",
            "_model_module_version": "^0.18",
            "_model_name": "LeafletTileLayerModel",
            "_view_count": null,
            "_view_module": "jupyter-leaflet",
            "_view_module_version": "^0.18",
            "_view_name": "LeafletTileLayerView",
            "attribution": "Google",
            "base": false,
            "bottom": true,
            "bounds": null,
            "detect_retina": false,
            "loading": false,
            "max_native_zoom": null,
            "max_zoom": 22,
            "min_native_zoom": null,
            "min_zoom": 0,
            "name": "Google Terrain",
            "no_wrap": false,
            "opacity": 1,
            "options": [
              "attribution",
              "bounds",
              "detect_retina",
              "max_native_zoom",
              "max_zoom",
              "min_native_zoom",
              "min_zoom",
              "no_wrap",
              "tile_size",
              "tms",
              "zoom_offset"
            ],
            "pane": "",
            "popup": null,
            "popup_max_height": null,
            "popup_max_width": 300,
            "popup_min_width": 50,
            "show_loading": false,
            "subitems": [],
            "tile_size": 256,
            "tms": false,
            "url": "https://mt1.google.com/vt/lyrs=p&x={x}&y={y}&z={z}",
            "visible": false,
            "zoom_offset": 0
          }
        },
        "1224caea7c114182b30977980be3db51": {
          "model_module": "jupyter-leaflet",
          "model_name": "LeafletTileLayerModel",
          "model_module_version": "^0.18",
          "state": {
            "_model_module": "jupyter-leaflet",
            "_model_module_version": "^0.18",
            "_model_name": "LeafletTileLayerModel",
            "_view_count": null,
            "_view_module": "jupyter-leaflet",
            "_view_module_version": "^0.18",
            "_view_name": "LeafletTileLayerView",
            "attribution": "Google Earth Engine",
            "base": false,
            "bottom": true,
            "bounds": null,
            "detect_retina": false,
            "loading": false,
            "max_native_zoom": null,
            "max_zoom": 24,
            "min_native_zoom": null,
            "min_zoom": 0,
            "name": "Fake S1 RGB",
            "no_wrap": false,
            "opacity": 1,
            "options": [
              "attribution",
              "bounds",
              "detect_retina",
              "max_native_zoom",
              "max_zoom",
              "min_native_zoom",
              "min_zoom",
              "no_wrap",
              "tile_size",
              "tms",
              "zoom_offset"
            ],
            "pane": "",
            "popup": null,
            "popup_max_height": null,
            "popup_max_width": 300,
            "popup_min_width": 50,
            "show_loading": false,
            "subitems": [],
            "tile_size": 256,
            "tms": false,
            "url": "https://earthengine.googleapis.com/v1/projects/ee-fortinpascal/maps/4a30b9a9e1d12bec8680cb377c5fa27a-7caca120b8dc870a9a5a8945b399d840/tiles/{z}/{x}/{y}",
            "visible": true,
            "zoom_offset": 0
          }
        },
        "b92e76d65f18471381c96e22b1e70131": {
          "model_module": "jupyter-leaflet",
          "model_name": "LeafletTileLayerModel",
          "model_module_version": "^0.18",
          "state": {
            "_model_module": "jupyter-leaflet",
            "_model_module_version": "^0.18",
            "_model_name": "LeafletTileLayerModel",
            "_view_count": null,
            "_view_module": "jupyter-leaflet",
            "_view_module_version": "^0.18",
            "_view_name": "LeafletTileLayerView",
            "attribution": "Google Earth Engine",
            "base": false,
            "bottom": true,
            "bounds": null,
            "detect_retina": false,
            "loading": false,
            "max_native_zoom": null,
            "max_zoom": 24,
            "min_native_zoom": null,
            "min_zoom": 0,
            "name": "VV Band",
            "no_wrap": false,
            "opacity": 1,
            "options": [
              "attribution",
              "bounds",
              "detect_retina",
              "max_native_zoom",
              "max_zoom",
              "min_native_zoom",
              "min_zoom",
              "no_wrap",
              "tile_size",
              "tms",
              "zoom_offset"
            ],
            "pane": "",
            "popup": null,
            "popup_max_height": null,
            "popup_max_width": 300,
            "popup_min_width": 50,
            "show_loading": false,
            "subitems": [],
            "tile_size": 256,
            "tms": false,
            "url": "https://earthengine.googleapis.com/v1/projects/ee-fortinpascal/maps/33d7b5c83d0538e984b0fbd3a4dae4c5-caa08b1e83440e9ceb2b9b60f5a44b53/tiles/{z}/{x}/{y}",
            "visible": true,
            "zoom_offset": 0
          }
        },
        "41b81dce31b74b73bb572f604e5bb4e1": {
          "model_module": "jupyter-leaflet",
          "model_name": "LeafletTileLayerModel",
          "model_module_version": "^0.18",
          "state": {
            "_model_module": "jupyter-leaflet",
            "_model_module_version": "^0.18",
            "_model_name": "LeafletTileLayerModel",
            "_view_count": null,
            "_view_module": "jupyter-leaflet",
            "_view_module_version": "^0.18",
            "_view_name": "LeafletTileLayerView",
            "attribution": "Google Earth Engine",
            "base": false,
            "bottom": true,
            "bounds": null,
            "detect_retina": false,
            "loading": false,
            "max_native_zoom": null,
            "max_zoom": 24,
            "min_native_zoom": null,
            "min_zoom": 0,
            "name": "VH Band",
            "no_wrap": false,
            "opacity": 1,
            "options": [
              "attribution",
              "bounds",
              "detect_retina",
              "max_native_zoom",
              "max_zoom",
              "min_native_zoom",
              "min_zoom",
              "no_wrap",
              "tile_size",
              "tms",
              "zoom_offset"
            ],
            "pane": "",
            "popup": null,
            "popup_max_height": null,
            "popup_max_width": 300,
            "popup_min_width": 50,
            "show_loading": false,
            "subitems": [],
            "tile_size": 256,
            "tms": false,
            "url": "https://earthengine.googleapis.com/v1/projects/ee-fortinpascal/maps/0f51a2a53c1b3b8b5a43fcd848ed5504-4caa96c7dee605f4f0ecffc52f51988c/tiles/{z}/{x}/{y}",
            "visible": true,
            "zoom_offset": 0
          }
        },
        "c6841d21311240f6b4773403c9747f9e": {
          "model_module": "jupyter-leaflet",
          "model_name": "LeafletTileLayerModel",
          "model_module_version": "^0.18",
          "state": {
            "_model_module": "jupyter-leaflet",
            "_model_module_version": "^0.18",
            "_model_name": "LeafletTileLayerModel",
            "_view_count": null,
            "_view_module": "jupyter-leaflet",
            "_view_module_version": "^0.18",
            "_view_name": "LeafletTileLayerView",
            "attribution": "Google Earth Engine",
            "base": false,
            "bottom": true,
            "bounds": null,
            "detect_retina": false,
            "loading": false,
            "max_native_zoom": null,
            "max_zoom": 24,
            "min_native_zoom": null,
            "min_zoom": 0,
            "name": "Region of Interest",
            "no_wrap": false,
            "opacity": 1,
            "options": [
              "attribution",
              "bounds",
              "detect_retina",
              "max_native_zoom",
              "max_zoom",
              "min_native_zoom",
              "min_zoom",
              "no_wrap",
              "tile_size",
              "tms",
              "zoom_offset"
            ],
            "pane": "",
            "popup": null,
            "popup_max_height": null,
            "popup_max_width": 300,
            "popup_min_width": 50,
            "show_loading": false,
            "subitems": [],
            "tile_size": 256,
            "tms": false,
            "url": "https://earthengine.googleapis.com/v1/projects/ee-fortinpascal/maps/f21fde2905c8f3dc5e4b73dcf906a5b6-0d96d99e1e3fdf0acad7a05ea918d969/tiles/{z}/{x}/{y}",
            "visible": true,
            "zoom_offset": 0
          }
        },
        "7800f384c46e4e8da582ac540e4deb5d": {
          "model_module": "@jupyter-widgets/base",
          "model_name": "LayoutModel",
          "model_module_version": "1.2.0",
          "state": {
            "_model_module": "@jupyter-widgets/base",
            "_model_module_version": "1.2.0",
            "_model_name": "LayoutModel",
            "_view_count": null,
            "_view_module": "@jupyter-widgets/base",
            "_view_module_version": "1.2.0",
            "_view_name": "LayoutView",
            "align_content": null,
            "align_items": null,
            "align_self": null,
            "border": null,
            "bottom": null,
            "display": null,
            "flex": null,
            "flex_flow": null,
            "grid_area": null,
            "grid_auto_columns": null,
            "grid_auto_flow": null,
            "grid_auto_rows": null,
            "grid_column": null,
            "grid_gap": null,
            "grid_row": null,
            "grid_template_areas": null,
            "grid_template_columns": null,
            "grid_template_rows": null,
            "height": "600px",
            "justify_content": null,
            "justify_items": null,
            "left": null,
            "margin": null,
            "max_height": null,
            "max_width": null,
            "min_height": null,
            "min_width": null,
            "object_fit": null,
            "object_position": null,
            "order": null,
            "overflow": null,
            "overflow_x": null,
            "overflow_y": null,
            "padding": null,
            "right": null,
            "top": null,
            "visibility": null,
            "width": null
          }
        },
        "1db66e7d064c48f0b77d94ce63760ec4": {
          "model_module": "jupyter-leaflet",
          "model_name": "LeafletMapStyleModel",
          "model_module_version": "^0.18",
          "state": {
            "_model_module": "jupyter-leaflet",
            "_model_module_version": "^0.18",
            "_model_name": "LeafletMapStyleModel",
            "_view_count": null,
            "_view_module": "@jupyter-widgets/base",
            "_view_module_version": "1.2.0",
            "_view_name": "StyleView",
            "cursor": "grab"
          }
        },
        "3c469b06d57242f7923e234d4fb6291f": {
          "model_module": "@jupyter-widgets/controls",
          "model_name": "HBoxModel",
          "model_module_version": "1.5.0",
          "state": {
            "_dom_classes": [],
            "_model_module": "@jupyter-widgets/controls",
            "_model_module_version": "1.5.0",
            "_model_name": "HBoxModel",
            "_view_count": null,
            "_view_module": "@jupyter-widgets/controls",
            "_view_module_version": "1.5.0",
            "_view_name": "HBoxView",
            "box_style": "",
            "children": [
              "IPY_MODEL_6afbe8655e634569bd6d7f6ef918212e"
            ],
            "layout": "IPY_MODEL_84a57418674a45449508f0c6f9e17587"
          }
        },
        "8b9e7d265494420aa6def9ccfccfab11": {
          "model_module": "@jupyter-widgets/controls",
          "model_name": "VBoxModel",
          "model_module_version": "1.5.0",
          "state": {
            "_dom_classes": [],
            "_model_module": "@jupyter-widgets/controls",
            "_model_module_version": "1.5.0",
            "_model_name": "VBoxModel",
            "_view_count": null,
            "_view_module": "@jupyter-widgets/controls",
            "_view_module_version": "1.5.0",
            "_view_name": "VBoxView",
            "box_style": "",
            "children": [
              "IPY_MODEL_e2ab4306a2924976b329aaea73ca17f7"
            ],
            "layout": "IPY_MODEL_0789c5223fc04d35839aab214cea128e"
          }
        },
        "6afbe8655e634569bd6d7f6ef918212e": {
          "model_module": "@jupyter-widgets/controls",
          "model_name": "ToggleButtonModel",
          "model_module_version": "1.5.0",
          "state": {
            "_dom_classes": [],
            "_model_module": "@jupyter-widgets/controls",
            "_model_module_version": "1.5.0",
            "_model_name": "ToggleButtonModel",
            "_view_count": null,
            "_view_module": "@jupyter-widgets/controls",
            "_view_module_version": "1.5.0",
            "_view_name": "ToggleButtonView",
            "button_style": "",
            "description": "",
            "description_tooltip": null,
            "disabled": false,
            "icon": "globe",
            "layout": "IPY_MODEL_cf2cbb8e57a0462b96d020631aae2052",
            "style": "IPY_MODEL_0d37ce1a9775463288ba0f2d45bfd4a1",
            "tooltip": "Search location/data",
            "value": false
          }
        },
        "84a57418674a45449508f0c6f9e17587": {
          "model_module": "@jupyter-widgets/base",
          "model_name": "LayoutModel",
          "model_module_version": "1.2.0",
          "state": {
            "_model_module": "@jupyter-widgets/base",
            "_model_module_version": "1.2.0",
            "_model_name": "LayoutModel",
            "_view_count": null,
            "_view_module": "@jupyter-widgets/base",
            "_view_module_version": "1.2.0",
            "_view_name": "LayoutView",
            "align_content": null,
            "align_items": null,
            "align_self": null,
            "border": null,
            "bottom": null,
            "display": null,
            "flex": null,
            "flex_flow": null,
            "grid_area": null,
            "grid_auto_columns": null,
            "grid_auto_flow": null,
            "grid_auto_rows": null,
            "grid_column": null,
            "grid_gap": null,
            "grid_row": null,
            "grid_template_areas": null,
            "grid_template_columns": null,
            "grid_template_rows": null,
            "height": null,
            "justify_content": null,
            "justify_items": null,
            "left": null,
            "margin": null,
            "max_height": null,
            "max_width": null,
            "min_height": null,
            "min_width": null,
            "object_fit": null,
            "object_position": null,
            "order": null,
            "overflow": null,
            "overflow_x": null,
            "overflow_y": null,
            "padding": null,
            "right": null,
            "top": null,
            "visibility": null,
            "width": null
          }
        },
        "e2ab4306a2924976b329aaea73ca17f7": {
          "model_module": "@jupyter-widgets/controls",
          "model_name": "ToggleButtonModel",
          "model_module_version": "1.5.0",
          "state": {
            "_dom_classes": [],
            "_model_module": "@jupyter-widgets/controls",
            "_model_module_version": "1.5.0",
            "_model_name": "ToggleButtonModel",
            "_view_count": null,
            "_view_module": "@jupyter-widgets/controls",
            "_view_module_version": "1.5.0",
            "_view_name": "ToggleButtonView",
            "button_style": "",
            "description": "",
            "description_tooltip": null,
            "disabled": false,
            "icon": "wrench",
            "layout": "IPY_MODEL_45b9b5aeb43d420ba4ac5971776196b4",
            "style": "IPY_MODEL_02d9d7b88b374d798ebdedb4e72fe28d",
            "tooltip": "Toolbar",
            "value": false
          }
        },
        "0789c5223fc04d35839aab214cea128e": {
          "model_module": "@jupyter-widgets/base",
          "model_name": "LayoutModel",
          "model_module_version": "1.2.0",
          "state": {
            "_model_module": "@jupyter-widgets/base",
            "_model_module_version": "1.2.0",
            "_model_name": "LayoutModel",
            "_view_count": null,
            "_view_module": "@jupyter-widgets/base",
            "_view_module_version": "1.2.0",
            "_view_name": "LayoutView",
            "align_content": null,
            "align_items": null,
            "align_self": null,
            "border": null,
            "bottom": null,
            "display": null,
            "flex": null,
            "flex_flow": null,
            "grid_area": null,
            "grid_auto_columns": null,
            "grid_auto_flow": null,
            "grid_auto_rows": null,
            "grid_column": null,
            "grid_gap": null,
            "grid_row": null,
            "grid_template_areas": null,
            "grid_template_columns": null,
            "grid_template_rows": null,
            "height": null,
            "justify_content": null,
            "justify_items": null,
            "left": null,
            "margin": null,
            "max_height": null,
            "max_width": null,
            "min_height": null,
            "min_width": null,
            "object_fit": null,
            "object_position": null,
            "order": null,
            "overflow": null,
            "overflow_x": null,
            "overflow_y": null,
            "padding": null,
            "right": null,
            "top": null,
            "visibility": null,
            "width": null
          }
        },
        "cf2cbb8e57a0462b96d020631aae2052": {
          "model_module": "@jupyter-widgets/base",
          "model_name": "LayoutModel",
          "model_module_version": "1.2.0",
          "state": {
            "_model_module": "@jupyter-widgets/base",
            "_model_module_version": "1.2.0",
            "_model_name": "LayoutModel",
            "_view_count": null,
            "_view_module": "@jupyter-widgets/base",
            "_view_module_version": "1.2.0",
            "_view_name": "LayoutView",
            "align_content": null,
            "align_items": null,
            "align_self": null,
            "border": null,
            "bottom": null,
            "display": null,
            "flex": null,
            "flex_flow": null,
            "grid_area": null,
            "grid_auto_columns": null,
            "grid_auto_flow": null,
            "grid_auto_rows": null,
            "grid_column": null,
            "grid_gap": null,
            "grid_row": null,
            "grid_template_areas": null,
            "grid_template_columns": null,
            "grid_template_rows": null,
            "height": "28px",
            "justify_content": null,
            "justify_items": null,
            "left": null,
            "margin": null,
            "max_height": null,
            "max_width": null,
            "min_height": null,
            "min_width": null,
            "object_fit": null,
            "object_position": null,
            "order": null,
            "overflow": null,
            "overflow_x": null,
            "overflow_y": null,
            "padding": "0px 0px 0px 4px",
            "right": null,
            "top": null,
            "visibility": null,
            "width": "28px"
          }
        },
        "0d37ce1a9775463288ba0f2d45bfd4a1": {
          "model_module": "@jupyter-widgets/controls",
          "model_name": "DescriptionStyleModel",
          "model_module_version": "1.5.0",
          "state": {
            "_model_module": "@jupyter-widgets/controls",
            "_model_module_version": "1.5.0",
            "_model_name": "DescriptionStyleModel",
            "_view_count": null,
            "_view_module": "@jupyter-widgets/base",
            "_view_module_version": "1.2.0",
            "_view_name": "StyleView",
            "description_width": ""
          }
        },
        "45b9b5aeb43d420ba4ac5971776196b4": {
          "model_module": "@jupyter-widgets/base",
          "model_name": "LayoutModel",
          "model_module_version": "1.2.0",
          "state": {
            "_model_module": "@jupyter-widgets/base",
            "_model_module_version": "1.2.0",
            "_model_name": "LayoutModel",
            "_view_count": null,
            "_view_module": "@jupyter-widgets/base",
            "_view_module_version": "1.2.0",
            "_view_name": "LayoutView",
            "align_content": null,
            "align_items": null,
            "align_self": null,
            "border": null,
            "bottom": null,
            "display": null,
            "flex": null,
            "flex_flow": null,
            "grid_area": null,
            "grid_auto_columns": null,
            "grid_auto_flow": null,
            "grid_auto_rows": null,
            "grid_column": null,
            "grid_gap": null,
            "grid_row": null,
            "grid_template_areas": null,
            "grid_template_columns": null,
            "grid_template_rows": null,
            "height": "28px",
            "justify_content": null,
            "justify_items": null,
            "left": null,
            "margin": null,
            "max_height": null,
            "max_width": null,
            "min_height": null,
            "min_width": null,
            "object_fit": null,
            "object_position": null,
            "order": null,
            "overflow": null,
            "overflow_x": null,
            "overflow_y": null,
            "padding": "0px 0px 0px 4px",
            "right": null,
            "top": null,
            "visibility": null,
            "width": "28px"
          }
        },
        "02d9d7b88b374d798ebdedb4e72fe28d": {
          "model_module": "@jupyter-widgets/controls",
          "model_name": "DescriptionStyleModel",
          "model_module_version": "1.5.0",
          "state": {
            "_model_module": "@jupyter-widgets/controls",
            "_model_module_version": "1.5.0",
            "_model_name": "DescriptionStyleModel",
            "_view_count": null,
            "_view_module": "@jupyter-widgets/base",
            "_view_module_version": "1.2.0",
            "_view_name": "StyleView",
            "description_width": ""
          }
        }
      }
    }
  },
  "nbformat": 4,
  "nbformat_minor": 0
}