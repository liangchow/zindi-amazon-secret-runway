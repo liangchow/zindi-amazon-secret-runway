{
  "cells": [
    {
      "cell_type": "markdown",
      "metadata": {
        "id": "view-in-github",
        "colab_type": "text"
      },
      "source": [
        "<a href=\"https://colab.research.google.com/github/liangchow/zindi-amazon-secret-runway/blob/main/Data_Visualization/explore_sentinel_data.ipynb\" target=\"_parent\"><img src=\"https://colab.research.google.com/assets/colab-badge.svg\" alt=\"Open In Colab\"/></a>"
      ]
    },
    {
      "cell_type": "markdown",
      "source": [
        "### Imports and Setup\n",
        "\n",
        "Install essential packages missing from the Google Colab environment and import all required packages for the functions in this notebook."
      ],
      "metadata": {
        "id": "0DTLmDupDf4n"
      }
    },
    {
      "cell_type": "code",
      "source": [
        "%%capture\n",
        "!pip -q install geojson\n",
        "!pip -q install rasterio\n",
        "!pip -q install eeconvert\n",
        "!pip -q install geemap\n",
        "!pip install ffmpeg-python"
      ],
      "metadata": {
        "collapsed": true,
        "id": "mvAcyNzKElmB"
      },
      "execution_count": null,
      "outputs": []
    },
    {
      "cell_type": "code",
      "source": [
        "# Standard imports\n",
        "import os\n",
        "import json\n",
        "import time\n",
        "import datetime\n",
        "import imageio\n",
        "import re\n",
        "\n",
        "# Geospatial processing packages\n",
        "import geopandas as gpd\n",
        "import geojson\n",
        "import shapely\n",
        "import rasterio as rio\n",
        "from rasterio.plot import show\n",
        "from rasterio.plot import reshape_as_image\n",
        "import rasterio.mask\n",
        "from shapely.geometry import Point, Polygon, box\n",
        "from pyproj import Transformer\n",
        "\n",
        "# Mapping and plotting libraries\n",
        "import matplotlib.pyplot as plt\n",
        "import matplotlib.colors as cl\n",
        "import ee\n",
        "import eeconvert as eec\n",
        "import geemap\n",
        "import geemap.foliumap as emap\n",
        "import folium\n",
        "import numpy as np"
      ],
      "metadata": {
        "id": "YKA6BXObDy_K"
      },
      "execution_count": null,
      "outputs": []
    },
    {
      "cell_type": "markdown",
      "metadata": {
        "id": "WLlGqdpCe49T"
      },
      "source": [
        "### Mount Google Drive and install project files from GitHub\n",
        "\n",
        "First, we'll mount our Google Drive as we'll save the GeoTiff files to our drive. Then we'll clone the main branch from the GitHub repo so we have access to all of the files from there. In particular, we need access to the shape files for the training and test sets."
      ]
    },
    {
      "cell_type": "code",
      "execution_count": null,
      "metadata": {
        "colab": {
          "base_uri": "https://localhost:8080/",
          "height": 260
        },
        "id": "ONN-mhsCfRX5",
        "outputId": "993e2e9c-d5ad-44a7-e4d0-c660a75efb1f",
        "collapsed": true
      },
      "outputs": [
        {
          "output_type": "display_data",
          "data": {
            "text/plain": [
              "<IPython.core.display.HTML object>"
            ],
            "text/html": [
              "\n",
              "            <style>\n",
              "                .geemap-dark {\n",
              "                    --jp-widgets-color: white;\n",
              "                    --jp-widgets-label-color: white;\n",
              "                    --jp-ui-font-color1: white;\n",
              "                    --jp-layout-color2: #454545;\n",
              "                    background-color: #383838;\n",
              "                }\n",
              "\n",
              "                .geemap-dark .jupyter-button {\n",
              "                    --jp-layout-color3: #383838;\n",
              "                }\n",
              "\n",
              "                .geemap-colab {\n",
              "                    background-color: var(--colab-primary-surface-color, white);\n",
              "                }\n",
              "\n",
              "                .geemap-colab .jupyter-button {\n",
              "                    --jp-layout-color3: var(--colab-primary-surface-color, white);\n",
              "                }\n",
              "            </style>\n",
              "            "
            ]
          },
          "metadata": {}
        },
        {
          "output_type": "stream",
          "name": "stdout",
          "text": [
            "Mounted at /content/drive\n",
            "Reading package lists... Done\n",
            "Building dependency tree... Done\n",
            "Reading state information... Done\n",
            "git is already the newest version (1:2.34.1-1ubuntu1.11).\n",
            "0 upgraded, 0 newly installed, 0 to remove and 49 not upgraded.\n",
            "Cloning into 'zindi-amazon-secret-runway'...\n",
            "remote: Enumerating objects: 359, done.\u001b[K\n",
            "remote: Counting objects: 100% (197/197), done.\u001b[K\n",
            "remote: Compressing objects: 100% (155/155), done.\u001b[K\n",
            "remote: Total 359 (delta 89), reused 99 (delta 42), pack-reused 162 (from 1)\u001b[K\n",
            "Receiving objects: 100% (359/359), 56.98 MiB | 17.96 MiB/s, done.\n",
            "Resolving deltas: 100% (156/156), done.\n",
            "fatal: not a git repository (or any of the parent directories): .git\n"
          ]
        }
      ],
      "source": [
        "# mount your drive in case you have any new data uploaded there you want to use\n",
        "from google.colab import drive\n",
        "drive.mount('/content/drive')\n",
        "\n",
        "# clone the main branch from GitHub to get all the data and files from there onto the current runtime session\n",
        "!apt-get install git\n",
        "!git clone https://github.com/liangchow/zindi-amazon-secret-runway.git\n",
        "!git pull # pulls the latest changes from repo"
      ]
    },
    {
      "cell_type": "markdown",
      "source": [
        "### Authenticate Google Earth Engine\n",
        "Make sure you have signed up for access to Google Earth Engine. You will need to edit the following code cell to use your own account. All the Sentinel data will be downloaded through the Google Earth Engine."
      ],
      "metadata": {
        "id": "rNqavIojGpUb"
      }
    },
    {
      "cell_type": "code",
      "source": [
        "ee.Authenticate()\n",
        "ee.Initialize(project=\"ee-fortinpascal\")"
      ],
      "metadata": {
        "id": "Nq1kHtxNG7Fw",
        "colab": {
          "base_uri": "https://localhost:8080/",
          "height": 17
        },
        "outputId": "c9b395bf-4169-4102-d992-2d33fd6d7c39"
      },
      "execution_count": null,
      "outputs": [
        {
          "output_type": "display_data",
          "data": {
            "text/plain": [
              "<IPython.core.display.HTML object>"
            ],
            "text/html": [
              "\n",
              "            <style>\n",
              "                .geemap-dark {\n",
              "                    --jp-widgets-color: white;\n",
              "                    --jp-widgets-label-color: white;\n",
              "                    --jp-ui-font-color1: white;\n",
              "                    --jp-layout-color2: #454545;\n",
              "                    background-color: #383838;\n",
              "                }\n",
              "\n",
              "                .geemap-dark .jupyter-button {\n",
              "                    --jp-layout-color3: #383838;\n",
              "                }\n",
              "\n",
              "                .geemap-colab {\n",
              "                    background-color: var(--colab-primary-surface-color, white);\n",
              "                }\n",
              "\n",
              "                .geemap-colab .jupyter-button {\n",
              "                    --jp-layout-color3: var(--colab-primary-surface-color, white);\n",
              "                }\n",
              "            </style>\n",
              "            "
            ]
          },
          "metadata": {}
        }
      ]
    },
    {
      "cell_type": "markdown",
      "source": [
        "### Set the paths to the GitHub shape files"
      ],
      "metadata": {
        "id": "QeyWGSkVIc3a"
      }
    },
    {
      "cell_type": "code",
      "source": [
        "airstrip_training_path = '/content/zindi-amazon-secret-runway/Data_Visualization/data/pac_2024_training/pac_2024_training.shp'\n",
        "base_aoi_path = '/content/zindi-amazon-secret-runway/Data_Visualization/data/shp_test_AOIs'"
      ],
      "metadata": {
        "id": "ouCS_31hIgIy",
        "colab": {
          "base_uri": "https://localhost:8080/",
          "height": 17
        },
        "outputId": "3f893bcf-8d12-441e-ccb9-ea1024bfafd3"
      },
      "execution_count": null,
      "outputs": [
        {
          "output_type": "display_data",
          "data": {
            "text/plain": [
              "<IPython.core.display.HTML object>"
            ],
            "text/html": [
              "\n",
              "            <style>\n",
              "                .geemap-dark {\n",
              "                    --jp-widgets-color: white;\n",
              "                    --jp-widgets-label-color: white;\n",
              "                    --jp-ui-font-color1: white;\n",
              "                    --jp-layout-color2: #454545;\n",
              "                    background-color: #383838;\n",
              "                }\n",
              "\n",
              "                .geemap-dark .jupyter-button {\n",
              "                    --jp-layout-color3: #383838;\n",
              "                }\n",
              "\n",
              "                .geemap-colab {\n",
              "                    background-color: var(--colab-primary-surface-color, white);\n",
              "                }\n",
              "\n",
              "                .geemap-colab .jupyter-button {\n",
              "                    --jp-layout-color3: var(--colab-primary-surface-color, white);\n",
              "                }\n",
              "            </style>\n",
              "            "
            ]
          },
          "metadata": {}
        }
      ]
    },
    {
      "cell_type": "markdown",
      "source": [
        "### Functions to download and manipulate Sentinel data\n",
        "\n",
        "A significant amount of time was spent downloading and visualizing the Sentinel 1 and 2 data. Many of those functions are useful for exploring different aspects of the data. From interactive maps using the Folium package, to animated GIFs and multi-band images display."
      ],
      "metadata": {
        "id": "kg6DyXmsszj1"
      }
    },
    {
      "cell_type": "code",
      "source": [
        "def create_square_pentagon(center_lon, center_lat, side_length_meters):\n",
        "  \"\"\"\n",
        "  Creates a square geopandas pentagon centered on\n",
        "  a set of Lon/Lat coordinates.\n",
        "\n",
        "  Args:\n",
        "    center_lon: The longitude of the center point.\n",
        "    center_lat: The latitude of the center point.\n",
        "    side_length_meters: The length of each side of\n",
        "                         the square in meters.\n",
        "\n",
        "  Returns:\n",
        "    A geopandas GeoDataFrame containing the pentagon.\n",
        "  \"\"\"\n",
        "\n",
        "  # Define the source and destination coordinate systems\n",
        "  source_crs = \"EPSG:4326\"  # WGS 84 (Lon/Lat)\n",
        "  target_crs = \"EPSG:3395\"  # World Mercator (meters)\n",
        "\n",
        "\n",
        "  # Create a transformer object to convert between coordinate systems\n",
        "  transformer = Transformer.from_crs(source_crs, target_crs, always_xy=True)\n",
        "\n",
        "  # Transform the center coordinates to Web Mercator\n",
        "  center_x, center_y = transformer.transform(center_lon, center_lat)\n",
        "\n",
        "  # Calculate half the side length\n",
        "  half_side = side_length_meters / 2\n",
        "\n",
        "  coordinates = [\n",
        "      (center_x - half_side, center_y + half_side),  # Top left\n",
        "      (center_x + half_side, center_y + half_side),  # Top right\n",
        "      (center_x + half_side, center_y - half_side),  # Bottom right\n",
        "      (center_x - half_side, center_y - half_side),  # Bottom Left\n",
        "      (center_x - half_side, center_y + half_side)   # Top left (close the polygon)\n",
        "  ]\n",
        "\n",
        "\n",
        "  # Create a Polygon object from the coordinates\n",
        "  polygon = Polygon(coordinates)\n",
        "\n",
        "  # Create a GeoDataFrame from the Polygon with World Mercator CRS\n",
        "  gdf = gpd.GeoDataFrame(geometry=[polygon], crs=target_crs)\n",
        "\n",
        "  # Transform the GeoDataFrame back to WGS 84\n",
        "  gdf = gdf.to_crs(source_crs)\n",
        "\n",
        "  return gdf"
      ],
      "metadata": {
        "id": "femEjNbUK6UQ",
        "colab": {
          "base_uri": "https://localhost:8080/",
          "height": 17
        },
        "outputId": "ee43df58-3cda-4b18-cf66-3cc733353cbb"
      },
      "execution_count": null,
      "outputs": [
        {
          "output_type": "display_data",
          "data": {
            "text/plain": [
              "<IPython.core.display.HTML object>"
            ],
            "text/html": [
              "\n",
              "            <style>\n",
              "                .geemap-dark {\n",
              "                    --jp-widgets-color: white;\n",
              "                    --jp-widgets-label-color: white;\n",
              "                    --jp-ui-font-color1: white;\n",
              "                    --jp-layout-color2: #454545;\n",
              "                    background-color: #383838;\n",
              "                }\n",
              "\n",
              "                .geemap-dark .jupyter-button {\n",
              "                    --jp-layout-color3: #383838;\n",
              "                }\n",
              "\n",
              "                .geemap-colab {\n",
              "                    background-color: var(--colab-primary-surface-color, white);\n",
              "                }\n",
              "\n",
              "                .geemap-colab .jupyter-button {\n",
              "                    --jp-layout-color3: var(--colab-primary-surface-color, white);\n",
              "                }\n",
              "            </style>\n",
              "            "
            ]
          },
          "metadata": {}
        }
      ]
    },
    {
      "cell_type": "code",
      "source": [
        "def create_square_around_point(center: Point, side_length: float) -> Polygon:\n",
        "    \"\"\"\n",
        "    Create a square polygon centered on a shapely Point object.\n",
        "\n",
        "    Args:\n",
        "        center (Point): The shapely Point object representing the center.\n",
        "        side_length (float): The length of the sides of the square.\n",
        "\n",
        "    Returns:\n",
        "        Polygon: A shapely Polygon object representing the square.\n",
        "    \"\"\"\n",
        "    # Half the side length for corner calculations\n",
        "    half_side = side_length / 2\n",
        "\n",
        "    # Get the center point coordinates\n",
        "    x_center, y_center = center.x, center.y\n",
        "\n",
        "    # Create the corners of the square\n",
        "    square_coords = [\n",
        "        (x_center - half_side, y_center - half_side),  # Bottom-left corner\n",
        "        (x_center + half_side, y_center - half_side),  # Bottom-right corner\n",
        "        (x_center + half_side, y_center + half_side),  # Top-right corner\n",
        "        (x_center - half_side, y_center + half_side),  # Top-left corner\n",
        "        (x_center - half_side, y_center - half_side)   # Closing the square\n",
        "    ]\n",
        "\n",
        "    # Create the polygon using the coordinates\n",
        "    square_polygon = Polygon(square_coords)\n",
        "\n",
        "    return square_polygon\n"
      ],
      "metadata": {
        "id": "x_5gxujhiLMD",
        "outputId": "0d8f04d5-4bcb-4d00-c5bf-d5261abb5405",
        "colab": {
          "base_uri": "https://localhost:8080/",
          "height": 17
        }
      },
      "execution_count": null,
      "outputs": [
        {
          "output_type": "display_data",
          "data": {
            "text/plain": [
              "<IPython.core.display.HTML object>"
            ],
            "text/html": [
              "\n",
              "            <style>\n",
              "                .geemap-dark {\n",
              "                    --jp-widgets-color: white;\n",
              "                    --jp-widgets-label-color: white;\n",
              "                    --jp-ui-font-color1: white;\n",
              "                    --jp-layout-color2: #454545;\n",
              "                    background-color: #383838;\n",
              "                }\n",
              "\n",
              "                .geemap-dark .jupyter-button {\n",
              "                    --jp-layout-color3: #383838;\n",
              "                }\n",
              "\n",
              "                .geemap-colab {\n",
              "                    background-color: var(--colab-primary-surface-color, white);\n",
              "                }\n",
              "\n",
              "                .geemap-colab .jupyter-button {\n",
              "                    --jp-layout-color3: var(--colab-primary-surface-color, white);\n",
              "                }\n",
              "            </style>\n",
              "            "
            ]
          },
          "metadata": {}
        }
      ]
    },
    {
      "cell_type": "code",
      "source": [
        "def export_image(image,region,filename_prefix,bands,export_folder,scale=10,crs=None,crsTransform=None):\n",
        "  \"\"\"\n",
        "  Function to export an image as GeoTIFF and save it to Google Drive\n",
        "\n",
        "  Args:\n",
        "    image:            Google Earth Engine image\n",
        "    region:           Geometry to clip the image to\n",
        "    filename_prefix:  Prefix for the filename\n",
        "    bands:            List of bands to export\n",
        "    export_folder:    Google Drive folder to save to\n",
        "    scale:            Pixel scale (in meters) for the output image\n",
        "    crs:              CRS to export to (default: EPSG:4326)\n",
        "    crsTransform:     Affine transformation matrix for the output image\n",
        "\n",
        "  Returns:\n",
        "    None\n",
        "\n",
        "  \"\"\"\n",
        "\n",
        "\n",
        "  # Check if the image has the 'system:time_start' property.\n",
        "  if 'system:time_start' in image.propertyNames().getInfo():\n",
        "      date = ee.Date(image.get('system:time_start')).format('YYYY-MM-dd').getInfo()\n",
        "      filename = f\"{filename_prefix}_{date}\"\n",
        "  else:\n",
        "      # Handle the case where the property is missing (e.g., use a default date)\n",
        "      #date = 'no_date'\n",
        "      #filename = f\"{filename_prefix}_{date}\"\n",
        "      filename = f'{filename_prefix}' # No date at all...\n",
        "\n",
        "  task = ee.batch.Export.image.toDrive(\n",
        "        image=image.select(bands).clip(region),\n",
        "        description='filename',\n",
        "        folder=export_folder,\n",
        "        fileNamePrefix=filename,\n",
        "        scale=scale,\n",
        "        crs=crs,\n",
        "        crsTransform=crsTransform,\n",
        "        region=region.getInfo()['coordinates'],\n",
        "        maxPixels=1e13,\n",
        "        fileFormat='GeoTIFF'\n",
        "  )\n",
        "  task.start()\n",
        "  print(f'Task ID: {task.id}')\n",
        "  print('Exporting to Google Drive...')\n"
      ],
      "metadata": {
        "id": "tAmGIxPVtnsI",
        "colab": {
          "base_uri": "https://localhost:8080/",
          "height": 17
        },
        "outputId": "7e788953-1072-47ef-d841-18ef62315610"
      },
      "execution_count": null,
      "outputs": [
        {
          "output_type": "display_data",
          "data": {
            "text/plain": [
              "<IPython.core.display.HTML object>"
            ],
            "text/html": [
              "\n",
              "            <style>\n",
              "                .geemap-dark {\n",
              "                    --jp-widgets-color: white;\n",
              "                    --jp-widgets-label-color: white;\n",
              "                    --jp-ui-font-color1: white;\n",
              "                    --jp-layout-color2: #454545;\n",
              "                    background-color: #383838;\n",
              "                }\n",
              "\n",
              "                .geemap-dark .jupyter-button {\n",
              "                    --jp-layout-color3: #383838;\n",
              "                }\n",
              "\n",
              "                .geemap-colab {\n",
              "                    background-color: var(--colab-primary-surface-color, white);\n",
              "                }\n",
              "\n",
              "                .geemap-colab .jupyter-button {\n",
              "                    --jp-layout-color3: var(--colab-primary-surface-color, white);\n",
              "                }\n",
              "            </style>\n",
              "            "
            ]
          },
          "metadata": {}
        }
      ]
    },
    {
      "cell_type": "code",
      "source": [
        "def check_all_tasks_completed():\n",
        "  \"\"\"Checks if all Earth Engine tasks have completed.\n",
        "\n",
        "  Returns:\n",
        "    bool: True if all tasks have completed, False otherwise.\n",
        "  \"\"\"\n",
        "\n",
        "  tasks = ee.batch.Task.list()\n",
        "  for task in tasks:\n",
        "    if task.status()['state'] != 'COMPLETED':\n",
        "      return False\n",
        "  return True"
      ],
      "metadata": {
        "colab": {
          "base_uri": "https://localhost:8080/",
          "height": 17
        },
        "id": "BJCQMDoXHNWg",
        "outputId": "68f48eba-0de4-413f-e667-2b6e898f5c24"
      },
      "execution_count": null,
      "outputs": [
        {
          "output_type": "display_data",
          "data": {
            "text/plain": [
              "<IPython.core.display.HTML object>"
            ],
            "text/html": [
              "\n",
              "            <style>\n",
              "                .geemap-dark {\n",
              "                    --jp-widgets-color: white;\n",
              "                    --jp-widgets-label-color: white;\n",
              "                    --jp-ui-font-color1: white;\n",
              "                    --jp-layout-color2: #454545;\n",
              "                    background-color: #383838;\n",
              "                }\n",
              "\n",
              "                .geemap-dark .jupyter-button {\n",
              "                    --jp-layout-color3: #383838;\n",
              "                }\n",
              "\n",
              "                .geemap-colab {\n",
              "                    background-color: var(--colab-primary-surface-color, white);\n",
              "                }\n",
              "\n",
              "                .geemap-colab .jupyter-button {\n",
              "                    --jp-layout-color3: var(--colab-primary-surface-color, white);\n",
              "                }\n",
              "            </style>\n",
              "            "
            ]
          },
          "metadata": {}
        }
      ]
    },
    {
      "cell_type": "code",
      "source": [
        "# Helper function to calculate VV/VH ratio and add it as a new band\n",
        "def add_vv_vh_ratio(image):\n",
        "    ratio_band = image.select('VV').divide(image.select('VH')).rename('VV_VH_Ratio')\n",
        "    return image.addBands(ratio_band)\n"
      ],
      "metadata": {
        "colab": {
          "base_uri": "https://localhost:8080/",
          "height": 17
        },
        "id": "xpT0IuW2-HGb",
        "outputId": "3adcc9cc-6470-48e2-d174-24bff657274c"
      },
      "execution_count": null,
      "outputs": [
        {
          "output_type": "display_data",
          "data": {
            "text/plain": [
              "<IPython.core.display.HTML object>"
            ],
            "text/html": [
              "\n",
              "            <style>\n",
              "                .geemap-dark {\n",
              "                    --jp-widgets-color: white;\n",
              "                    --jp-widgets-label-color: white;\n",
              "                    --jp-ui-font-color1: white;\n",
              "                    --jp-layout-color2: #454545;\n",
              "                    background-color: #383838;\n",
              "                }\n",
              "\n",
              "                .geemap-dark .jupyter-button {\n",
              "                    --jp-layout-color3: #383838;\n",
              "                }\n",
              "\n",
              "                .geemap-colab {\n",
              "                    background-color: var(--colab-primary-surface-color, white);\n",
              "                }\n",
              "\n",
              "                .geemap-colab .jupyter-button {\n",
              "                    --jp-layout-color3: var(--colab-primary-surface-color, white);\n",
              "                }\n",
              "            </style>\n",
              "            "
            ]
          },
          "metadata": {}
        }
      ]
    },
    {
      "cell_type": "code",
      "execution_count": null,
      "metadata": {
        "id": "SpOJ_5Je5B_d",
        "colab": {
          "base_uri": "https://localhost:8080/",
          "height": 17
        },
        "outputId": "9c1f48c9-6789-456f-f393-a587a979d52e"
      },
      "outputs": [
        {
          "output_type": "display_data",
          "data": {
            "text/plain": [
              "<IPython.core.display.HTML object>"
            ],
            "text/html": [
              "\n",
              "            <style>\n",
              "                .geemap-dark {\n",
              "                    --jp-widgets-color: white;\n",
              "                    --jp-widgets-label-color: white;\n",
              "                    --jp-ui-font-color1: white;\n",
              "                    --jp-layout-color2: #454545;\n",
              "                    background-color: #383838;\n",
              "                }\n",
              "\n",
              "                .geemap-dark .jupyter-button {\n",
              "                    --jp-layout-color3: #383838;\n",
              "                }\n",
              "\n",
              "                .geemap-colab {\n",
              "                    background-color: var(--colab-primary-surface-color, white);\n",
              "                }\n",
              "\n",
              "                .geemap-colab .jupyter-button {\n",
              "                    --jp-layout-color3: var(--colab-primary-surface-color, white);\n",
              "                }\n",
              "            </style>\n",
              "            "
            ]
          },
          "metadata": {}
        }
      ],
      "source": [
        "def download_s1_images(\n",
        "    region,\n",
        "    bands = ['VV', 'VH'],\n",
        "    filename_prefix='Sentinel2',\n",
        "    export_folder='Colab Notebooks',\n",
        "    product='COPERNICUS/S1_GRD',\n",
        "    min_date='2024-04-01',\n",
        "    max_date='2024-06-01',\n",
        "):\n",
        "\n",
        "    \"\"\"Generates Sentinel-1 images from Google Earth Engine using the Python Earth Engine API.\n",
        "\n",
        "    Args:\n",
        "      region (ee.Geometry): The geometry of the area of interest to filter to.\n",
        "      bands: List of bands\n",
        "      filename_prefix: Filename prexix to save to disk\n",
        "      export_folder: Google Drive folder to save to\n",
        "      product (str): Earth Engine asset ID\n",
        "        You can find the full list of ImageCollection IDs\n",
        "        at https://developers.google.com/earth-engine/datasets\n",
        "      min_date (str): Minimum date to acquire collection of satellite images\n",
        "      max_date (str): Maximum date to acquire collection of satellite images\n",
        "      range_min (int): Minimum value for visalization range\n",
        "      range_max (int): Maximum value for visualization range\n",
        "      cloud_pct (float): The cloud cover percent to filter by (default 10)\n",
        "\n",
        "    Returns:\n",
        "      ee.image.Image: Generated Sentinel-1 images clipped to the region of interest\n",
        "    \"\"\"\n",
        "\n",
        "    # Define the Sentinel-1 image collection and filter by date and region.\n",
        "    sentinel1 = ee.ImageCollection(product) \\\n",
        "        .filterDate(min_date, max_date) \\\n",
        "        .filterBounds(region) \\\n",
        "        .filter(ee.Filter.eq('instrumentMode', 'IW'))  # Interferometric Wide (IW) swath mode\n",
        "\n",
        "    # Apply the export function to each image in the collection.\n",
        "    collection_list = sentinel1.toList(sentinel1.size())\n",
        "    for i in range(sentinel1.size().getInfo()):\n",
        "      image = ee.Image(collection_list.get(i))\n",
        "      export_image(image=image,filename_prefix=filename_prefix,bands=bands,export_folder=export_folder)\n",
        "\n",
        "    print(\"Export tasks should be complete.\")\n"
      ]
    },
    {
      "cell_type": "code",
      "execution_count": null,
      "metadata": {
        "id": "uFlTm3WHaSPZ",
        "colab": {
          "base_uri": "https://localhost:8080/",
          "height": 17
        },
        "outputId": "c7fd9b33-fa7d-43d3-a822-47ed9471e0ce"
      },
      "outputs": [
        {
          "output_type": "display_data",
          "data": {
            "text/plain": [
              "<IPython.core.display.HTML object>"
            ],
            "text/html": [
              "\n",
              "            <style>\n",
              "                .geemap-dark {\n",
              "                    --jp-widgets-color: white;\n",
              "                    --jp-widgets-label-color: white;\n",
              "                    --jp-ui-font-color1: white;\n",
              "                    --jp-layout-color2: #454545;\n",
              "                    background-color: #383838;\n",
              "                }\n",
              "\n",
              "                .geemap-dark .jupyter-button {\n",
              "                    --jp-layout-color3: #383838;\n",
              "                }\n",
              "\n",
              "                .geemap-colab {\n",
              "                    background-color: var(--colab-primary-surface-color, white);\n",
              "                }\n",
              "\n",
              "                .geemap-colab .jupyter-button {\n",
              "                    --jp-layout-color3: var(--colab-primary-surface-color, white);\n",
              "                }\n",
              "            </style>\n",
              "            "
            ]
          },
          "metadata": {}
        }
      ],
      "source": [
        "def download_s2_images(\n",
        "    region,\n",
        "    bands=['B4', 'B3', 'B2', 'B8', 'B11', 'B12'],\n",
        "    filename_prefix='Sentinel2',\n",
        "    export_folder='Colab Notebooks',\n",
        "    product='COPERNICUS/S2_SR_HARMONIZED',\n",
        "    min_date='2023-01-01',\n",
        "    max_date='2024-06-01',\n",
        "    cloud_pct=10\n",
        "):\n",
        "\n",
        "    \"\"\"Generates cloud-filtered, Sentinel-2 images from\n",
        "    Google Earth Engine using the Python Earth Engine API.\n",
        "\n",
        "    Args:\n",
        "      region (ee.Geometry): The geometry of the area of interest to filter to.\n",
        "      product (str): Earth Engine asset ID\n",
        "        You can find the full list of ImageCollection IDs\n",
        "        at https://developers.google.com/earth-engine/datasets\n",
        "      min_date (str): Minimum date to acquire collection of satellite images\n",
        "      max_date (str): Maximum date to acquire collection of satellite images\n",
        "      cloud_pct (float): The cloud cover percent to filter by (default 10)\n",
        "\n",
        "    Returns:\n",
        "      ee.image.Image: Generated Sentinel-2 images clipped to the region of interest\n",
        "    \"\"\"\n",
        "\n",
        "    # Generate collection of images\n",
        "    sentinel2 = ee.ImageCollection(product)\\\n",
        "        .filterBounds(region)\\\n",
        "        .filterDate(str(min_date), str(max_date))\\\n",
        "        .filter(ee.Filter.lt(\"CLOUDY_PIXEL_PERCENTAGE\", cloud_pct))\n",
        "\n",
        "    # Apply the export function to each image in the collection.\n",
        "    collection_list = sentinel2.toList(sentinel2.size())\n",
        "    for i in range(sentinel2.size().getInfo()):\n",
        "      image = ee.Image(collection_list.get(i))\n",
        "      export_image(image=image,filename_prefix=filename_prefix,bands=bands,export_folder=export_folder)\n",
        "\n",
        "    print(\"Export tasks should be complete.\")\n"
      ]
    },
    {
      "cell_type": "code",
      "execution_count": null,
      "metadata": {
        "colab": {
          "base_uri": "https://localhost:8080/",
          "height": 17
        },
        "outputId": "109eee34-932d-4877-b64e-b22044700551",
        "id": "BVQasWbFYBuP"
      },
      "outputs": [
        {
          "output_type": "display_data",
          "data": {
            "text/plain": [
              "<IPython.core.display.HTML object>"
            ],
            "text/html": [
              "\n",
              "            <style>\n",
              "                .geemap-dark {\n",
              "                    --jp-widgets-color: white;\n",
              "                    --jp-widgets-label-color: white;\n",
              "                    --jp-ui-font-color1: white;\n",
              "                    --jp-layout-color2: #454545;\n",
              "                    background-color: #383838;\n",
              "                }\n",
              "\n",
              "                .geemap-dark .jupyter-button {\n",
              "                    --jp-layout-color3: #383838;\n",
              "                }\n",
              "\n",
              "                .geemap-colab {\n",
              "                    background-color: var(--colab-primary-surface-color, white);\n",
              "                }\n",
              "\n",
              "                .geemap-colab .jupyter-button {\n",
              "                    --jp-layout-color3: var(--colab-primary-surface-color, white);\n",
              "                }\n",
              "            </style>\n",
              "            "
            ]
          },
          "metadata": {}
        }
      ],
      "source": [
        "def download_s2_cloud_score_composite_image(\n",
        "    region,\n",
        "    scale=10,\n",
        "    crs=None,\n",
        "    crsTransform=None,\n",
        "    bands=['B4', 'B3', 'B2', 'B8', 'B11', 'B12'],\n",
        "    filename_prefix='Sentinel2',\n",
        "    export_folder='Colab Notebooks',\n",
        "    s2_product='COPERNICUS/S2_SR_HARMONIZED',\n",
        "    csPlus_product='GOOGLE/CLOUD_SCORE_PLUS/V1/S2_HARMONIZED',\n",
        "    min_date='2023-01-01',\n",
        "    max_date='2024-06-01',\n",
        "    QA_BAND='cs_cdf',\n",
        "    clr_thres=0.60\n",
        "):\n",
        "\n",
        "    \"\"\"Generates cloud-filtered, Sentinel-2 images from\n",
        "    Google Earth Engine using the Python Earth Engine API.\n",
        "    Downloads resulting composite image to Google Drive.\n",
        "\n",
        "    Args:\n",
        "      region (ee.Geometry): The geometry of the area of interest to filter to.\n",
        "      scale: Pixel scale (in meters) for the output image.\n",
        "      crs: Coordinate reference system (CRS) for the output image.\n",
        "      crsTransform: Affine transformation matrix for the output image.\n",
        "      bands: List of bands to export.\n",
        "      filename_prefix: Filename prexix to save to disk\n",
        "      export_folder: Google Drive folder to save to\n",
        "      s2_product (str): Earth Engine asset ID\n",
        "      csPlus_product (str): Earth Engine asset ID for the Cloud Score Plus product\n",
        "      min_date (str): Minimum date to acquire collection of satellite images\n",
        "      max_date (str): Maximum date to acquire collection of satellite images\n",
        "      QA_BAND (str): Use 'cs' or 'cs_cdf', depending on your use case;\n",
        "        see docs for guidance.\n",
        "      clr_thres (float): The threshold for masking; values between 0.50 and\n",
        "        0.65 generally work well. Higher values will remove thin clouds,\n",
        "        haze & cirrus shadows.\n",
        "    \"\"\"\n",
        "\n",
        "    # Convert region of interest CRS to 4326 (needed by Google Earth Engine)\n",
        "    region_4326 = region.transform(ee.Projection('EPSG:4326'), maxError=0.001)\n",
        "\n",
        "\n",
        "    # Generate collection of images\n",
        "    sentinel2 = ee.ImageCollection(s2_product)\\\n",
        "        .filterBounds(region)\\\n",
        "        .filterDate(str(min_date), str(max_date))\n",
        "\n",
        "    # Import the Cloud Score Plus collection\n",
        "    cs = ee.ImageCollection(csPlus_product)\n",
        "\n",
        "    # Link the Sentinel-2 and Cloud Score Plus collections\n",
        "    linked_collection = sentinel2.linkCollection(cs, [QA_BAND])\n",
        "\n",
        "    # Define a function to mask clouds based on the Cloud Score Plus score\n",
        "    def cloudMask(image):\n",
        "        qa = image.select(QA_BAND)\n",
        "        mask = qa.gte(clr_thres)\n",
        "        return image.updateMask(mask)\n",
        "\n",
        "    # Apply the cloud mask function to the linked collection\n",
        "    masked_collection = linked_collection.map(cloudMask)\n",
        "\n",
        "    # Create a median composite image\n",
        "    median_composite = masked_collection.median()\n",
        "\n",
        "    # Apply the export function.\n",
        "    image = ee.Image(median_composite)\n",
        "    export_image(image=image,region=region_4326,scale=scale,crs=crs,crsTransform=crsTransform,filename_prefix=filename_prefix,bands=bands,export_folder=export_folder)\n",
        "    print(\"Export tasks should be complete.\")\n",
        "\n"
      ]
    },
    {
      "cell_type": "code",
      "source": [
        "def download_s1_and_s2_cloud_score_composite_image(\n",
        "    region,\n",
        "    scale=10,\n",
        "    crs=None,\n",
        "    crsTransform=None,\n",
        "    bands=['B4', 'B3', 'B2', 'B8', 'B11', 'B12', 'VV', 'VH', 'VV_VH_Ratio'],\n",
        "    filename_prefix='Sentinel',\n",
        "    export_folder='Colab Notebooks',\n",
        "    s1_product='COPERNICUS/S1_GRD',\n",
        "    s2_product='COPERNICUS/S2_SR_HARMONIZED',\n",
        "    csPlus_product='GOOGLE/CLOUD_SCORE_PLUS/V1/S2_HARMONIZED',\n",
        "    min_date='2023-01-01',\n",
        "    max_date='2024-06-01',\n",
        "    QA_BAND='cs_cdf',\n",
        "    clr_thres=0.60\n",
        "):\n",
        "\n",
        "    \"\"\"Generates cloud-filtered, Sentinel-2 images from Google Earth Engine\n",
        "    using the Python Earth Engine API. Generate and merge Sentinel 1 images.\n",
        "    Downloads resulting composite image to Google Drive.\n",
        "\n",
        "    Args:\n",
        "      region (ee.Geometry): The geometry of the area of interest to filter to.\n",
        "      scale: Pixel scale (in meters) for the output image.\n",
        "      crs: Coordinate reference system (CRS) for the output image.\n",
        "      crsTransform: Affine transformation matrix for the output image.\n",
        "      bands: List of bands to export.\n",
        "      filename_prefix: Filename prexix to save to disk\n",
        "      export_folder: Google Drive folder to save to\n",
        "      s1_product (str): Earth Engine asset ID for Sentinel-1\n",
        "      s2_product (str): Earth Engine asset ID for Sentinel-2\n",
        "      csPlus_product (str): Earth Engine asset ID for the Cloud Score Plus product\n",
        "      min_date (str): Minimum date to acquire collection of satellite images\n",
        "      max_date (str): Maximum date to acquire collection of satellite images\n",
        "      QA_BAND (str): Use 'cs' or 'cs_cdf', depending on your use case;\n",
        "        see docs for guidance.\n",
        "      clr_thres (float): The threshold for masking; values between 0.50 and\n",
        "        0.65 generally work well. Higher values will remove thin clouds,\n",
        "        haze & cirrus shadows.\n",
        "    \"\"\"\n",
        "\n",
        "    # Convert region of interest CRS to 4326 (needed by Google Earth Engine)\n",
        "    region_4326 = region.transform(ee.Projection('EPSG:4326'), maxError=0.001)\n",
        "\n",
        "    # Define the Sentinel-2 image collection and filter by date and region.\n",
        "    sentinel2 = ee.ImageCollection(s2_product)\\\n",
        "        .filterBounds(region)\\\n",
        "        .filterDate(str(min_date), str(max_date))\n",
        "\n",
        "    # Import the Cloud Score Plus collection\n",
        "    cs = ee.ImageCollection(csPlus_product)\n",
        "\n",
        "    # Link the Sentinel-2 and Cloud Score Plus collections\n",
        "    s2_linked_collection = sentinel2.linkCollection(cs, [QA_BAND])\n",
        "\n",
        "    # Define a function to mask clouds based on the Cloud Score Plus score\n",
        "    def cloudMask(image):\n",
        "        qa = image.select(QA_BAND)\n",
        "        mask = qa.gte(clr_thres)\n",
        "        return image.updateMask(mask)\n",
        "\n",
        "    # Apply the cloud mask function to the linked collection\n",
        "    s2_masked_collection = s2_linked_collection.map(cloudMask)\n",
        "\n",
        "    # Create a S2 median composite image\n",
        "    s2_median_composite = s2_masked_collection.median()\n",
        "\n",
        "    # Define the Sentinel-1 image collection and filter by date and region.\n",
        "    sentinel1 = ee.ImageCollection(s1_product) \\\n",
        "        .filterDate(min_date, max_date) \\\n",
        "        .filterBounds(region) \\\n",
        "        .filter(ee.Filter.listContains('transmitterReceiverPolarisation', 'VV')) \\\n",
        "        .filter(ee.Filter.listContains('transmitterReceiverPolarisation', 'VH')) \\\n",
        "        .filter(ee.Filter.eq('instrumentMode', 'IW')) \\\n",
        "        .map(lambda img: add_vv_vh_ratio(img))\n",
        "\n",
        "    # Create a S1 median composite image\n",
        "    s1_median_composite = sentinel1.median()\n",
        "\n",
        "    # Combine S1 and S2 collections into one image\n",
        "    combined_image = s2_median_composite.addBands(s1_median_composite);\n",
        "\n",
        "    # Apply the export function.\n",
        "    image = ee.Image(combined_image)\n",
        "    export_image(image=image,region=region_4326,scale=scale,crs=crs,crsTransform=crsTransform,filename_prefix=filename_prefix,bands=bands,export_folder=export_folder)\n",
        "    print(\"Export tasks should be complete.\")\n",
        "\n",
        "\n"
      ],
      "metadata": {
        "colab": {
          "base_uri": "https://localhost:8080/",
          "height": 17
        },
        "id": "Y_vjtPIH67kw",
        "outputId": "56a403e5-782a-41e4-e047-880ef0d3a081"
      },
      "execution_count": null,
      "outputs": [
        {
          "output_type": "display_data",
          "data": {
            "text/plain": [
              "<IPython.core.display.HTML object>"
            ],
            "text/html": [
              "\n",
              "            <style>\n",
              "                .geemap-dark {\n",
              "                    --jp-widgets-color: white;\n",
              "                    --jp-widgets-label-color: white;\n",
              "                    --jp-ui-font-color1: white;\n",
              "                    --jp-layout-color2: #454545;\n",
              "                    background-color: #383838;\n",
              "                }\n",
              "\n",
              "                .geemap-dark .jupyter-button {\n",
              "                    --jp-layout-color3: #383838;\n",
              "                }\n",
              "\n",
              "                .geemap-colab {\n",
              "                    background-color: var(--colab-primary-surface-color, white);\n",
              "                }\n",
              "\n",
              "                .geemap-colab .jupyter-button {\n",
              "                    --jp-layout-color3: var(--colab-primary-surface-color, white);\n",
              "                }\n",
              "            </style>\n",
              "            "
            ]
          },
          "metadata": {}
        }
      ]
    },
    {
      "cell_type": "code",
      "source": [
        "def plot_s1_images(\n",
        "    region,\n",
        "    bands = ['VV', 'VH'],\n",
        "    product='COPERNICUS/S1_GRD',\n",
        "    min_date='2024-06-01',\n",
        "    max_date='2024-07-01'\n",
        "):\n",
        "\n",
        "    \"\"\"Generates Sentinel-1 images from Google Earth Engine using the Python Earth Engine API.\n",
        "\n",
        "    Args:\n",
        "      region (ee.Geometry): The geometry of the area of interest to filter to.\n",
        "      bands: List of bands\n",
        "      product (str): Earth Engine asset ID\n",
        "        You can find the full list of ImageCollection IDs\n",
        "        at https://developers.google.com/earth-engine/datasets\n",
        "      min_date (str): Minimum date to acquire collection of satellite images\n",
        "      max_date (str): Maximum date to acquire collection of satellite images\n",
        "\n",
        "    Returns:\n",
        "      Map\n",
        "    \"\"\"\n",
        "\n",
        "    # Define the Sentinel-1 image collection and filter by date and region.\n",
        "    sentinel1 = ee.ImageCollection(product) \\\n",
        "        .filterDate(min_date, max_date) \\\n",
        "        .filterBounds(region) \\\n",
        "        .filter(ee.Filter.eq('instrumentMode', 'IW'))  # Interferometric Wide (IW) swath mode\n",
        "\n",
        "    # Get the most recent image in the collection.\n",
        "    most_recent_image = sentinel1.sort('system:time_start', False).first().clip(region)\n",
        "\n",
        "    # Select the VV and VH bands.\n",
        "    vv_vh_image = most_recent_image.select(['VV', 'VH'])\n",
        "\n",
        "    # Create a map.\n",
        "    location = region.centroid().coordinates().getInfo()[::-1]\n",
        "    Map = geemap.Map(center=location, zoom=10, basemap='SATELLITE')\n",
        "\n",
        "    # Add Google TERRAIN as a base map.\n",
        "    Map.add_basemap('TERRAIN')\n",
        "\n",
        "    # Define visualization parameters for the VV and VH bands.\n",
        "    #vv_vis_params = {\n",
        "    #    'min': -25,\n",
        "    #    'max': 0,\n",
        "    #    'palette': ['blue', 'white', 'green']\n",
        "    #}\n",
        "    vv_vis_params = {\n",
        "        'min': -25,\n",
        "        'max': 0,\n",
        "        'palette': ['black', 'white']\n",
        "    }\n",
        "\n",
        "\n",
        "    vh_vis_params = {\n",
        "        'min': -25,\n",
        "        'max': 0,\n",
        "        'palette': ['purple', 'white', 'orange']\n",
        "    }\n",
        "\n",
        "    # Make an RGB color composite image (VV,VH,VV/VH).\n",
        "    rgb = ee.Image.rgb(vv_vh_image.select('VV'),\n",
        "                       vv_vh_image.select('VH'),\n",
        "                       vv_vh_image.select('VV').divide(vv_vh_image.select('VH')))\n",
        "\n",
        "\n",
        "    # Add the S1 rgb composite to the map object.\n",
        "    Map.addLayer(rgb, {'min': [-25, -25, 0], 'max': [0, 0, 2]}, 'Fake S1 RGB')\n",
        "\n",
        "    # Add the VV band layer to the map.\n",
        "    Map.addLayer(vv_vh_image.select('VV'), vv_vis_params, 'VV Band')\n",
        "\n",
        "    # Add the VH band layer to the map.\n",
        "    Map.addLayer(vv_vh_image.select('VH'), vh_vis_params, 'VH Band')\n",
        "\n",
        "    # Add the region of interest as a layer.\n",
        "    Map.addLayer(region, {}, 'Region of Interest')\n",
        "\n",
        "    # Display the map.\n",
        "    Map.addLayerControl()  # This line will add a layer control to toggle the layers on/off.\n",
        "    return Map\n"
      ],
      "metadata": {
        "id": "VAElPNUi-sho",
        "colab": {
          "base_uri": "https://localhost:8080/",
          "height": 17
        },
        "outputId": "d1a9eef0-f4b3-4405-d06b-74795f8a9e6a"
      },
      "execution_count": null,
      "outputs": [
        {
          "output_type": "display_data",
          "data": {
            "text/plain": [
              "<IPython.core.display.HTML object>"
            ],
            "text/html": [
              "\n",
              "            <style>\n",
              "                .geemap-dark {\n",
              "                    --jp-widgets-color: white;\n",
              "                    --jp-widgets-label-color: white;\n",
              "                    --jp-ui-font-color1: white;\n",
              "                    --jp-layout-color2: #454545;\n",
              "                    background-color: #383838;\n",
              "                }\n",
              "\n",
              "                .geemap-dark .jupyter-button {\n",
              "                    --jp-layout-color3: #383838;\n",
              "                }\n",
              "\n",
              "                .geemap-colab {\n",
              "                    background-color: var(--colab-primary-surface-color, white);\n",
              "                }\n",
              "\n",
              "                .geemap-colab .jupyter-button {\n",
              "                    --jp-layout-color3: var(--colab-primary-surface-color, white);\n",
              "                }\n",
              "            </style>\n",
              "            "
            ]
          },
          "metadata": {}
        }
      ]
    },
    {
      "cell_type": "code",
      "source": [
        "def plot_s2_images(\n",
        "    region,\n",
        "    bands=['B4', 'B3', 'B2', 'B8', 'B11', 'B12'],\n",
        "    product='COPERNICUS/S2_SR_HARMONIZED',\n",
        "    min_date='2024-06-01',\n",
        "    max_date='2024-07-01',\n",
        "    cloud_pct=10\n",
        "):\n",
        "\n",
        "    \"\"\"Generates Sentinel-2 images from Google Earth Engine using the Python Earth Engine API.\n",
        "\n",
        "    Args:\n",
        "      region (ee.Geometry): The geometry of the area of interest to filter to.\n",
        "      bands: List of bands\n",
        "      product (str): Earth Engine asset ID\n",
        "        You can find the full list of ImageCollection IDs\n",
        "        at https://developers.google.com/earth-engine/datasets\n",
        "      min_date (str): Minimum date to acquire collection of satellite images\n",
        "      max_date (str): Maximum date to acquire collection of satellite images\n",
        "\n",
        "    Returns:\n",
        "      Map\n",
        "    \"\"\"\n",
        "\n",
        "    # Define the Sentinel-2 image collection and filter by date and region.\n",
        "    # Generate collection of images\n",
        "    sentinel2 = ee.ImageCollection(product)\\\n",
        "        .filterBounds(region)\\\n",
        "        .filterDate(str(min_date), str(max_date))\\\n",
        "        .filter(ee.Filter.lt(\"CLOUDY_PIXEL_PERCENTAGE\", cloud_pct))\n",
        "\n",
        "    # Get the most recent image in the collection.\n",
        "    most_recent_image = sentinel2.sort('system:time_start', False).first().clip(region)\n",
        "\n",
        "    # Select the bands to plot.\n",
        "    s2_image = most_recent_image.select(bands)\n",
        "\n",
        "    # Select all bands\n",
        "    band_names = s2_image.bandNames().getInfo()\n",
        "\n",
        "    # Create an RGB visualization layer (bands 4, 3, 2 correspond to Red, Green, Blue)\n",
        "    rgb_viz_params = {\n",
        "        'bands': ['B4', 'B3', 'B2'],  # Red, Green, Blue\n",
        "        'min': 0,\n",
        "        'max': 3000,\n",
        "        'gamma': [0.95, 1.1, 1]\n",
        "    }\n",
        "\n",
        "    # Create a map.\n",
        "    location = region.centroid().coordinates().getInfo()[::-1]\n",
        "    Map = geemap.Map(center=location, zoom=10, basemap='SATELLITE')\n",
        "\n",
        "    # Add Google TERRAIN as a base map.\n",
        "    Map.add_basemap('TERRAIN')\n",
        "\n",
        "    # Add all individual bands as layers\n",
        "    for band in band_names:\n",
        "        Map.addLayer(s2_image.select(band), {'min': 0, 'max': 3000}, f'Sentinel-2 {band}')\n",
        "\n",
        "    # Add the RGB visualization layer\n",
        "    Map.addLayer(s2_image, rgb_viz_params, 'Sentinel-2 RGB')\n",
        "\n",
        "    # Add the region of interest as a layer.\n",
        "    Map.addLayer(region, {}, 'Region of Interest')\n",
        "\n",
        "    # Display the map.\n",
        "    Map.addLayerControl()  # This line will add a layer control to toggle the layers on/off.\n",
        "    return Map\n"
      ],
      "metadata": {
        "id": "7cIqCcXLYlC7",
        "colab": {
          "base_uri": "https://localhost:8080/",
          "height": 17
        },
        "outputId": "fc81edb1-254d-458e-8fdb-3602c3ff69f2"
      },
      "execution_count": null,
      "outputs": [
        {
          "output_type": "display_data",
          "data": {
            "text/plain": [
              "<IPython.core.display.HTML object>"
            ],
            "text/html": [
              "\n",
              "            <style>\n",
              "                .geemap-dark {\n",
              "                    --jp-widgets-color: white;\n",
              "                    --jp-widgets-label-color: white;\n",
              "                    --jp-ui-font-color1: white;\n",
              "                    --jp-layout-color2: #454545;\n",
              "                    background-color: #383838;\n",
              "                }\n",
              "\n",
              "                .geemap-dark .jupyter-button {\n",
              "                    --jp-layout-color3: #383838;\n",
              "                }\n",
              "\n",
              "                .geemap-colab {\n",
              "                    background-color: var(--colab-primary-surface-color, white);\n",
              "                }\n",
              "\n",
              "                .geemap-colab .jupyter-button {\n",
              "                    --jp-layout-color3: var(--colab-primary-surface-color, white);\n",
              "                }\n",
              "            </style>\n",
              "            "
            ]
          },
          "metadata": {}
        }
      ]
    },
    {
      "cell_type": "code",
      "source": [
        "def plot_s2_cloudless_images(\n",
        "    region,\n",
        "    airstrip_gdf,\n",
        "    bands=['B4', 'B3', 'B2', 'B8', 'B11', 'B12'],\n",
        "    product='COPERNICUS/S2_HARMONIZED',\n",
        "    csPlus_product='GOOGLE/CLOUD_SCORE_PLUS/V1/S2_HARMONIZED',\n",
        "    min_date='2020-01-01',\n",
        "    max_date='2021-12-31',\n",
        "    QA_BAND='cs_cdf',\n",
        "    clr_thres=0.60\n",
        "):\n",
        "\n",
        "    \"\"\"Generates Sentinel-2 images from GEE using the Python API.\n",
        "\n",
        "    Args:\n",
        "      region (ee.Geometry): The geometry of the area of interest to filter to\n",
        "      airstrip_gdf: GeoDataFrame containing the airstrips\n",
        "      bands: List of bands\n",
        "      product (str): Earth Engine asset ID\n",
        "        You can find the full list of ImageCollection IDs\n",
        "        at https://developers.google.com/earth-engine/datasets\n",
        "      cdPlus_prodict: Not really an option..\n",
        "      min_date (str): Minimum date to acquire collection of satellite images\n",
        "      max_date (str): Maximum date to acquire collection of satellite images\n",
        "      QA_BAND (str): Use 'cs' or 'cs_cdf', depending on your use case;\n",
        "        see docs for guidance.\n",
        "      clr_thres (float): The threshold for masking; values between 0.50 and\n",
        "        0.65 generally work well.\n",
        "\n",
        "    Returns:\n",
        "      Map\n",
        "    \"\"\"\n",
        "\n",
        "    # Generate collection of images\n",
        "    sentinel2 = ee.ImageCollection(product)\\\n",
        "        .filterBounds(region)\\\n",
        "        .filterDate(str(min_date), str(max_date))\n",
        "\n",
        "    # Import the Cloud Score Plus collection\n",
        "    cs = ee.ImageCollection(csPlus_product)\n",
        "\n",
        "    # Link the Sentinel-2 and Cloud Score Plus collections\n",
        "    linked_collection = sentinel2.linkCollection(cs, [QA_BAND])\n",
        "\n",
        "    # Define a function to mask clouds based on the Cloud Score Plus score\n",
        "    def cloudMask(image):\n",
        "        qa = image.select(QA_BAND)\n",
        "        mask = qa.gte(clr_thres)\n",
        "        return image.updateMask(mask)\n",
        "\n",
        "    # Apply the cloud mask function to the linked collection\n",
        "    masked_collection = linked_collection.map(cloudMask)\n",
        "\n",
        "    # Create a median composite image\n",
        "    median_composite = masked_collection.median().clip(region)\n",
        "\n",
        "    # Select the bands\n",
        "    s2_image = median_composite.select(bands)\n",
        "\n",
        "    # Extract the band names\n",
        "    band_names = s2_image.bandNames().getInfo()\n",
        "\n",
        "    # Create an RGB visualization layer (bands 4, 3, 2 correspond to Red, Green, Blue)\n",
        "    rgb_viz_params = {\n",
        "        'bands': ['B4', 'B3', 'B2'],  # Red, Green, Blue\n",
        "        'min': 0,\n",
        "        'max': 3000,\n",
        "        'gamma': 1.9\n",
        "    }\n",
        "\n",
        "    # List to store the intersecting geometries\n",
        "    intersecting_geometries = []\n",
        "\n",
        "    # Loop through each geometry in the GeoPandas DataFrame\n",
        "    for index, row in airstrip_gdf.iterrows():\n",
        "        # Convert GeoPandas geometry to GeoJSON\n",
        "        geom_geojson = row['geometry'].__geo_interface__\n",
        "\n",
        "        # Convert GeoJSON to Earth Engine Geometry\n",
        "        geom_ee = ee.Geometry(geom_geojson)\n",
        "\n",
        "        # Check if the geometry intersects with the ee.Geometry object\n",
        "        if geom_ee.intersects(region).getInfo():\n",
        "            intersecting_geometries.append(geom_ee)\n",
        "\n",
        "\n",
        "    # Create a map.\n",
        "    location = region.centroid().coordinates().getInfo()[::-1]\n",
        "    #Map = geemap.Map(center=location, zoom=12, basemap='SATELLITE')\n",
        "    Map = geemap.Map(center=location, zoom=12)\n",
        "    Map.add_basemap('SATELLITE')\n",
        "\n",
        "\n",
        "    # Add all individual bands as layers\n",
        "    #for band in band_names:\n",
        "    #    Map.addLayer(s2_image.select(band), {'min': 0, 'max': 3000}, f'Sentinel-2 {band}')\n",
        "\n",
        "    # Add the RGB visualization layer\n",
        "    Map.addLayer(median_composite, rgb_viz_params, 'Sentinel-2 RGB')\n",
        "\n",
        "    # Add the region of interest as a layer.\n",
        "    #Map.addLayer(region, {'color': 'red', 'width': 1, 'fillColor': None}, 'Region of Interest')\n",
        "\n",
        "    # Add the intersecting geometries to the map\n",
        "    for index, geom in enumerate(intersecting_geometries):\n",
        "        Map.addLayer(geom, {'color': 'blue'}, f'Intersecting Airstrip {index}')\n",
        "\n",
        "    # Display the map.\n",
        "    Map.addLayerControl()  # This line will add a layer control to toggle the layers on/off.\n",
        "    return Map\n"
      ],
      "metadata": {
        "id": "yVFHiNzoetUB",
        "outputId": "f56eaaac-2e2b-4502-84fa-52a297658bff",
        "colab": {
          "base_uri": "https://localhost:8080/",
          "height": 17
        }
      },
      "execution_count": null,
      "outputs": [
        {
          "output_type": "display_data",
          "data": {
            "text/plain": [
              "<IPython.core.display.HTML object>"
            ],
            "text/html": [
              "\n",
              "            <style>\n",
              "                .geemap-dark {\n",
              "                    --jp-widgets-color: white;\n",
              "                    --jp-widgets-label-color: white;\n",
              "                    --jp-ui-font-color1: white;\n",
              "                    --jp-layout-color2: #454545;\n",
              "                    background-color: #383838;\n",
              "                }\n",
              "\n",
              "                .geemap-dark .jupyter-button {\n",
              "                    --jp-layout-color3: #383838;\n",
              "                }\n",
              "\n",
              "                .geemap-colab {\n",
              "                    background-color: var(--colab-primary-surface-color, white);\n",
              "                }\n",
              "\n",
              "                .geemap-colab .jupyter-button {\n",
              "                    --jp-layout-color3: var(--colab-primary-surface-color, white);\n",
              "                }\n",
              "            </style>\n",
              "            "
            ]
          },
          "metadata": {}
        }
      ]
    },
    {
      "cell_type": "code",
      "source": [
        "def create_sentinel2_timelapse(region, start_date, end_date, output_video_path):\n",
        "    # Load Sentinel-2 data and filter by date and region\n",
        "    collection = ee.ImageCollection('COPERNICUS/S2_SR_HARMONIZED')\\\n",
        "                  .filterDate(start_date, end_date)\\\n",
        "                  .filterBounds(region)\\\n",
        "                  .filter(ee.Filter.lt('CLOUDY_PIXEL_PERCENTAGE', 10))\n",
        "\n",
        "    count = collection.size()\n",
        "    print('Number of images in the collection:',count.getInfo())\n",
        "\n",
        "\n",
        "    # Define visualization parameters for the RGB composite\n",
        "    vis_params = {\n",
        "        'bands': ['B4', 'B3', 'B2'],  # Red, Green, Blue bands\n",
        "        'min': 0,\n",
        "        'max': 3000,\n",
        "        'gamma': 1.1\n",
        "    }\n",
        "\n",
        "    # Set timelapse parameters\n",
        "    timelapse_params = {\n",
        "        'bands': ['B4', 'B3', 'B2'],  # Use RGB bands\n",
        "        'start_date': start_date,\n",
        "        'end_date': end_date,\n",
        "        'frequency': 'month',  # Time intervals\n",
        "        'reducer': 'median',  # Use median exposure\n",
        "        'date_format': 'YYYY-MM-dd',\n",
        "        'dimensions': 720,\n",
        "        'frames_per_second': 1,  # Adjust FPS for video\n",
        "        'crs': 'EPSG:4326',\n",
        "        'vis_params': vis_params\n",
        "    }\n",
        "\n",
        "\n",
        "    # Generate time-lapse and export to video\n",
        "    timelapse = geemap.create_timelapse(\n",
        "        collection=collection,\n",
        "        region=region,\n",
        "        out_gif=output_video_path,\n",
        "        **timelapse_params\n",
        "    )\n"
      ],
      "metadata": {
        "id": "PFV1ikaJ7ZaZ",
        "colab": {
          "base_uri": "https://localhost:8080/",
          "height": 17
        },
        "outputId": "ef330334-2026-45f9-e3e4-ba6811ca48e4"
      },
      "execution_count": null,
      "outputs": [
        {
          "output_type": "display_data",
          "data": {
            "text/plain": [
              "<IPython.core.display.HTML object>"
            ],
            "text/html": [
              "\n",
              "            <style>\n",
              "                .geemap-dark {\n",
              "                    --jp-widgets-color: white;\n",
              "                    --jp-widgets-label-color: white;\n",
              "                    --jp-ui-font-color1: white;\n",
              "                    --jp-layout-color2: #454545;\n",
              "                    background-color: #383838;\n",
              "                }\n",
              "\n",
              "                .geemap-dark .jupyter-button {\n",
              "                    --jp-layout-color3: #383838;\n",
              "                }\n",
              "\n",
              "                .geemap-colab {\n",
              "                    background-color: var(--colab-primary-surface-color, white);\n",
              "                }\n",
              "\n",
              "                .geemap-colab .jupyter-button {\n",
              "                    --jp-layout-color3: var(--colab-primary-surface-color, white);\n",
              "                }\n",
              "            </style>\n",
              "            "
            ]
          },
          "metadata": {}
        }
      ]
    },
    {
      "cell_type": "code",
      "source": [
        "def create_geotiff_timelapse(dir_path, output_gif):\n",
        "    \"\"\"\n",
        "    Creates a timelapse animation from GeoTIFF files in a directory.\n",
        "\n",
        "    Args:\n",
        "        dir_path (str): Path to the directory containing GeoTIFF files.\n",
        "        output_gif (str): Name of the output GIF file.\n",
        "    \"\"\"\n",
        "    geotiff_files = [f for f in os.listdir(dir_path) if f.endswith('.tif')]\n",
        "    geotiff_files.sort()  # Sort files to ensure correct order\n",
        "    images = []\n",
        "    for file in geotiff_files:\n",
        "        file_path = os.path.join(dir_path, file)\n",
        "        with rio.open(file_path) as src:\n",
        "            image = src.read()\n",
        "            num_bands = src.count\n",
        "            bands = src.descriptions\n",
        "\n",
        "            # Extract date from filename using regular expression\n",
        "            match = re.search(r'(\\d{4}-\\d{2}-\\d{2})', file)\n",
        "            if match:\n",
        "                date_str = match.group(1)\n",
        "            else:\n",
        "                date_str = 'Date not found'\n",
        "\n",
        "            fig, axes = plt.subplots(1, num_bands, figsize=(30, 8))\n",
        "            for i in range(num_bands):\n",
        "                #show(image[i], ax=axes[i], cmap='gray', title=f'Band {i+1}')\n",
        "                show(image[i], ax=axes[i], cmap='gray', title=bands[i])\n",
        "            plt.suptitle(f'Date: {date_str}')  # Set date as figure title\n",
        "            plt.tight_layout()\n",
        "            temp_file = 'temp_plot.png'\n",
        "            plt.savefig(temp_file)\n",
        "            plt.close()\n",
        "            images.append(imageio.imread(temp_file))\n",
        "            os.remove(temp_file)\n",
        "    imageio.mimsave(output_gif, images, fps=0.5)\n"
      ],
      "metadata": {
        "id": "grDDSpwIUPT8",
        "outputId": "db7f2f2c-9672-471f-b1ce-bb8ba395293b",
        "colab": {
          "base_uri": "https://localhost:8080/",
          "height": 17
        }
      },
      "execution_count": null,
      "outputs": [
        {
          "output_type": "display_data",
          "data": {
            "text/plain": [
              "<IPython.core.display.HTML object>"
            ],
            "text/html": [
              "\n",
              "            <style>\n",
              "                .geemap-dark {\n",
              "                    --jp-widgets-color: white;\n",
              "                    --jp-widgets-label-color: white;\n",
              "                    --jp-ui-font-color1: white;\n",
              "                    --jp-layout-color2: #454545;\n",
              "                    background-color: #383838;\n",
              "                }\n",
              "\n",
              "                .geemap-dark .jupyter-button {\n",
              "                    --jp-layout-color3: #383838;\n",
              "                }\n",
              "\n",
              "                .geemap-colab {\n",
              "                    background-color: var(--colab-primary-surface-color, white);\n",
              "                }\n",
              "\n",
              "                .geemap-colab .jupyter-button {\n",
              "                    --jp-layout-color3: var(--colab-primary-surface-color, white);\n",
              "                }\n",
              "            </style>\n",
              "            "
            ]
          },
          "metadata": {}
        }
      ]
    },
    {
      "cell_type": "code",
      "source": [
        "def load_and_plot_geotiffs(directory, output_file, max_images=72, grid_size=(12, 6)):\n",
        "    # List all GeoTIFF files in the directory\n",
        "    files = [os.path.join(directory, f) for f in os.listdir(directory) if f.endswith('.tif')]\n",
        "    files.sort()  # Sort files to ensure correct order\n",
        "    files = files[:max_images]  # Limit to max_images\n",
        "\n",
        "    if len(files) == 0:\n",
        "        print(\"No GeoTIFF files found in the directory.\")\n",
        "        return\n",
        "\n",
        "    # Set up the figure (no spaces between plots, no axes)\n",
        "    fig, axes = plt.subplots(grid_size[0], grid_size[1], figsize=(grid_size[1] * 2, grid_size[0] * 2))\n",
        "    plt.subplots_adjust(wspace=0, hspace=0)\n",
        "\n",
        "    # Loop through files and plot them\n",
        "    for idx, file in enumerate(files):\n",
        "        row, col = divmod(idx, grid_size[1])  # Calculate the row and column for the grid\n",
        "\n",
        "        # Open the GeoTIFF file\n",
        "        with rio.open(file) as src:\n",
        "            # Read the RGB bands (B4, B3, B2). We need to find their indices\n",
        "            # as they can be stored differently...\n",
        "            bands = src.descriptions\n",
        "            B4_idx = bands.index('B4') + 1\n",
        "            B3_idx = bands.index('B3') + 1\n",
        "            B2_idx = bands.index('B2') + 1\n",
        "            b4 = src.read(B4_idx)  # Red\n",
        "            b3 = src.read(B3_idx)  # Green\n",
        "            b2 = src.read(B2_idx)  # Blue\n",
        "\n",
        "            # Normalize the bands to range [0, 1] for plotting\n",
        "            def normalize(band):\n",
        "                return (band - band.min()) / (band.max() - band.min())\n",
        "\n",
        "            rgb_image = np.dstack([normalize(b4), normalize(b3), normalize(b2)])\n",
        "\n",
        "        # Plot the image in the grid\n",
        "        ax = axes[row, col]\n",
        "        ax.imshow(rgb_image)\n",
        "        ax.axis('off')  # Disable axes\n",
        "        # Overlay filename\n",
        "        # Extract date from filename using regular expression\n",
        "        match = re.search(r'(\\d{4}-\\d{2}-\\d{2})', file)\n",
        "        if match:\n",
        "            date_str = match.group(1)\n",
        "        else:\n",
        "            date_str = 'Date not found'\n",
        "        ax.text(0.5,\n",
        "                   0.9,\n",
        "                   date_str,\n",
        "                   ha='center',\n",
        "                   va='center',\n",
        "                   transform=ax.transAxes,\n",
        "                   color='white')\n",
        "\n",
        "\n",
        "    # Remove remaining empty axes\n",
        "    for idx in range(len(files), grid_size[0] * grid_size[1]):\n",
        "        row, col = divmod(idx, grid_size[1])\n",
        "        fig.delaxes(axes[row, col])\n",
        "\n",
        "    # Save the result\n",
        "    plt.savefig(output_file, bbox_inches='tight', pad_inches=0)\n",
        "    plt.close()\n"
      ],
      "metadata": {
        "colab": {
          "base_uri": "https://localhost:8080/",
          "height": 17
        },
        "id": "VzQ8yEFjYMUU",
        "outputId": "67305c50-aa07-4759-e2be-be5565d90f18"
      },
      "execution_count": null,
      "outputs": [
        {
          "output_type": "display_data",
          "data": {
            "text/plain": [
              "<IPython.core.display.HTML object>"
            ],
            "text/html": [
              "\n",
              "            <style>\n",
              "                .geemap-dark {\n",
              "                    --jp-widgets-color: white;\n",
              "                    --jp-widgets-label-color: white;\n",
              "                    --jp-ui-font-color1: white;\n",
              "                    --jp-layout-color2: #454545;\n",
              "                    background-color: #383838;\n",
              "                }\n",
              "\n",
              "                .geemap-dark .jupyter-button {\n",
              "                    --jp-layout-color3: #383838;\n",
              "                }\n",
              "\n",
              "                .geemap-colab {\n",
              "                    background-color: var(--colab-primary-surface-color, white);\n",
              "                }\n",
              "\n",
              "                .geemap-colab .jupyter-button {\n",
              "                    --jp-layout-color3: var(--colab-primary-surface-color, white);\n",
              "                }\n",
              "            </style>\n",
              "            "
            ]
          },
          "metadata": {}
        }
      ]
    },
    {
      "cell_type": "code",
      "source": [
        "def latlon_to_utm_epsg(lat, lon):\n",
        "    \"\"\"\n",
        "    Calculate the UTM EPSG code for a given latitude and longitude.\n",
        "\n",
        "    Parameters:\n",
        "        lat (float): Latitude in EPSG:4326 (degrees).\n",
        "        lon (float): Longitude in EPSG:4326 (degrees).\n",
        "\n",
        "    Returns:\n",
        "        str: EPSG code for the corresponding UTM zone.\n",
        "    \"\"\"\n",
        "    # Determine UTM zone number based on longitude\n",
        "    utm_zone = int((lon + 180) // 6) + 1\n",
        "\n",
        "    # Determine if the point is in the northern or southern hemisphere\n",
        "    if lat >= 0:\n",
        "        epsg_code = 32600 + utm_zone  # Northern hemisphere\n",
        "    else:\n",
        "        epsg_code = 32700 + utm_zone  # Southern hemisphere\n",
        "\n",
        "    return f'EPSG:{epsg_code}'\n"
      ],
      "metadata": {
        "id": "ekfk5l2McnrK",
        "outputId": "e2a61233-d8c6-4a38-da12-56e6f5b35432",
        "colab": {
          "base_uri": "https://localhost:8080/",
          "height": 17
        }
      },
      "execution_count": null,
      "outputs": [
        {
          "output_type": "display_data",
          "data": {
            "text/plain": [
              "<IPython.core.display.HTML object>"
            ],
            "text/html": [
              "\n",
              "            <style>\n",
              "                .geemap-dark {\n",
              "                    --jp-widgets-color: white;\n",
              "                    --jp-widgets-label-color: white;\n",
              "                    --jp-ui-font-color1: white;\n",
              "                    --jp-layout-color2: #454545;\n",
              "                    background-color: #383838;\n",
              "                }\n",
              "\n",
              "                .geemap-dark .jupyter-button {\n",
              "                    --jp-layout-color3: #383838;\n",
              "                }\n",
              "\n",
              "                .geemap-colab {\n",
              "                    background-color: var(--colab-primary-surface-color, white);\n",
              "                }\n",
              "\n",
              "                .geemap-colab .jupyter-button {\n",
              "                    --jp-layout-color3: var(--colab-primary-surface-color, white);\n",
              "                }\n",
              "            </style>\n",
              "            "
            ]
          },
          "metadata": {}
        }
      ]
    },
    {
      "cell_type": "markdown",
      "source": [
        "## Sentinel data\n",
        "\n",
        "For the training and test data sets, we use the shape files provided by the Zindi team.\n",
        "\n",
        "Each training record contains columns for id, year of detection, largo (length in meters), Activo (activity status at the time of the competition), and geometry of type *LINESTRING* with coordinates (LNG LAT) which define points along the airstrip. For each airstrip, we'll define a square AOI to define a boundary when downloading Sentinel data.\n",
        "\n",
        "For the test data set, the record contains the bounding box for each area. We use the bounding box to define the area requested from Google Earth Engine and make sure the Sentinel pixel grid is precisely aligned."
      ],
      "metadata": {
        "id": "zF6L5ZGyJi9N"
      }
    },
    {
      "cell_type": "markdown",
      "source": [
        "### Select the bands for both Sentinel 1 and 2\n",
        "\n",
        "Not all bands may be used by the model, but it is better to have access to the bands in the GeoTIFF file should we decide to include more bands / channels at a later time.\n",
        "\n",
        "In addition to the RGB bands (B4, B3, B2), we include the NIR, SWIR 1, and SWIR 2 bands. For the Sentinel 1 bands, we include bands VV and VH, and the ratio of those bands will be calculed before exporting the final GeoTIFF file."
      ],
      "metadata": {
        "id": "OojUk3fq1SPl"
      }
    },
    {
      "cell_type": "code",
      "source": [
        "s1_bands = ['VV', 'VH']\n",
        "s2_bands = ['B4', 'B3', 'B2', 'B8', 'B11', 'B12']"
      ],
      "metadata": {
        "id": "BJ6tlejnuWP4",
        "colab": {
          "base_uri": "https://localhost:8080/",
          "height": 17
        },
        "outputId": "22d7d5d5-963d-4adc-ec17-079c28563d41"
      },
      "execution_count": null,
      "outputs": [
        {
          "output_type": "display_data",
          "data": {
            "text/plain": [
              "<IPython.core.display.HTML object>"
            ],
            "text/html": [
              "\n",
              "            <style>\n",
              "                .geemap-dark {\n",
              "                    --jp-widgets-color: white;\n",
              "                    --jp-widgets-label-color: white;\n",
              "                    --jp-ui-font-color1: white;\n",
              "                    --jp-layout-color2: #454545;\n",
              "                    background-color: #383838;\n",
              "                }\n",
              "\n",
              "                .geemap-dark .jupyter-button {\n",
              "                    --jp-layout-color3: #383838;\n",
              "                }\n",
              "\n",
              "                .geemap-colab {\n",
              "                    background-color: var(--colab-primary-surface-color, white);\n",
              "                }\n",
              "\n",
              "                .geemap-colab .jupyter-button {\n",
              "                    --jp-layout-color3: var(--colab-primary-surface-color, white);\n",
              "                }\n",
              "            </style>\n",
              "            "
            ]
          },
          "metadata": {}
        }
      ]
    },
    {
      "cell_type": "markdown",
      "source": [
        "### Read the shapefile for the training set and print information about the first few entries"
      ],
      "metadata": {
        "id": "3lJt9Wqs1mzv"
      }
    },
    {
      "cell_type": "code",
      "source": [
        "# Read the shapefile for the training dataset\n",
        "airstrip_training_gdf = gpd.read_file(airstrip_training_path)\n",
        "\n",
        "# Display the data for information\n",
        "print(airstrip_training_gdf.head(5).to_markdown(), \"\\n\")\n",
        "print(airstrip_training_gdf.info(), \"\\n\")"
      ],
      "metadata": {
        "colab": {
          "base_uri": "https://localhost:8080/",
          "height": 419
        },
        "id": "ygubMkFvKog8",
        "outputId": "d24578c3-9769-4fe1-93f2-1e355fb8e7ca",
        "collapsed": true
      },
      "execution_count": null,
      "outputs": [
        {
          "output_type": "display_data",
          "data": {
            "text/plain": [
              "<IPython.core.display.HTML object>"
            ],
            "text/html": [
              "\n",
              "            <style>\n",
              "                .geemap-dark {\n",
              "                    --jp-widgets-color: white;\n",
              "                    --jp-widgets-label-color: white;\n",
              "                    --jp-ui-font-color1: white;\n",
              "                    --jp-layout-color2: #454545;\n",
              "                    background-color: #383838;\n",
              "                }\n",
              "\n",
              "                .geemap-dark .jupyter-button {\n",
              "                    --jp-layout-color3: #383838;\n",
              "                }\n",
              "\n",
              "                .geemap-colab {\n",
              "                    background-color: var(--colab-primary-surface-color, white);\n",
              "                }\n",
              "\n",
              "                .geemap-colab .jupyter-button {\n",
              "                    --jp-layout-color3: var(--colab-primary-surface-color, white);\n",
              "                }\n",
              "            </style>\n",
              "            "
            ]
          },
          "metadata": {}
        },
        {
          "output_type": "stream",
          "name": "stdout",
          "text": [
            "|    |   id |   yr |    largo |   Activo | geometry                                                                                                                            |\n",
            "|---:|-----:|-----:|---------:|---------:|:------------------------------------------------------------------------------------------------------------------------------------|\n",
            "|  0 |    1 | 2023 |  968.918 |        0 | LINESTRING (-70.08928656863503 -13.129844039931504, -70.08052787039317 -13.128251134052485, -70.08052787039317 -13.128251134052485) |\n",
            "|  1 |    2 | 2022 | 1105.49  |        0 | LINESTRING (-69.16744237255283 -13.620679758207931, -69.1728593987747 -13.612261251288524)                                          |\n",
            "|  2 |    3 | 2015 |  985.018 |        0 | LINESTRING (-69.14224792429687 -13.694510447986984, -69.14189616934739 -13.685654549844925)                                         |\n",
            "|  3 |    4 | 2020 |  681.914 |        0 | LINESTRING (-69.07843632939438 -13.787902019520923, -69.08404112675193 -13.7906640035937)                                           |\n",
            "|  4 |    5 | 2020 |  699.552 |        0 | LINESTRING (-69.07838092777308 -13.787884084452626, -69.08279459027209 -13.78330162936446)                                          | \n",
            "\n",
            "<class 'geopandas.geodataframe.GeoDataFrame'>\n",
            "RangeIndex: 154 entries, 0 to 153\n",
            "Data columns (total 5 columns):\n",
            " #   Column    Non-Null Count  Dtype   \n",
            "---  ------    --------------  -----   \n",
            " 0   id        154 non-null    int64   \n",
            " 1   yr        154 non-null    int64   \n",
            " 2   largo     154 non-null    float64 \n",
            " 3   Activo    154 non-null    int64   \n",
            " 4   geometry  154 non-null    geometry\n",
            "dtypes: float64(1), geometry(1), int64(3)\n",
            "memory usage: 6.1 KB\n",
            "None \n",
            "\n"
          ]
        }
      ]
    },
    {
      "cell_type": "markdown",
      "source": [
        "### Reproject the data to a projected CRS for accurate centroid calculation"
      ],
      "metadata": {
        "id": "hBPb5aZF2zTv"
      }
    },
    {
      "cell_type": "code",
      "source": [
        "# Temporarily reproject to a projected CRS for accurate centroid calculation\n",
        "projected_airstrip_training_gdf = airstrip_training_gdf.to_crs(epsg=3395)  # World Mercator projection"
      ],
      "metadata": {
        "colab": {
          "base_uri": "https://localhost:8080/",
          "height": 17
        },
        "collapsed": true,
        "id": "WqOj7E-xNKwV",
        "outputId": "7044dfc0-6fbf-4061-9d43-6b9676f6c7e1"
      },
      "execution_count": null,
      "outputs": [
        {
          "output_type": "display_data",
          "data": {
            "text/plain": [
              "<IPython.core.display.HTML object>"
            ],
            "text/html": [
              "\n",
              "            <style>\n",
              "                .geemap-dark {\n",
              "                    --jp-widgets-color: white;\n",
              "                    --jp-widgets-label-color: white;\n",
              "                    --jp-ui-font-color1: white;\n",
              "                    --jp-layout-color2: #454545;\n",
              "                    background-color: #383838;\n",
              "                }\n",
              "\n",
              "                .geemap-dark .jupyter-button {\n",
              "                    --jp-layout-color3: #383838;\n",
              "                }\n",
              "\n",
              "                .geemap-colab {\n",
              "                    background-color: var(--colab-primary-surface-color, white);\n",
              "                }\n",
              "\n",
              "                .geemap-colab .jupyter-button {\n",
              "                    --jp-layout-color3: var(--colab-primary-surface-color, white);\n",
              "                }\n",
              "            </style>\n",
              "            "
            ]
          },
          "metadata": {}
        }
      ]
    },
    {
      "cell_type": "markdown",
      "source": [
        "## Download the training and test GeoTIFF files.\n"
      ],
      "metadata": {
        "id": "rbKdWz3suW4a"
      }
    },
    {
      "cell_type": "markdown",
      "source": [
        "### Download the testing GeoTIFF files\n",
        "\n",
        "Those are the AOIs defined by the Zindi team for scoring. The GeoTIFF files will be used for inference with our model. Make sure to check the name of the output folder on your Google Drive before running the cell.\n",
        "\n",
        "Step-by-step process for each AOI:\n",
        "\n",
        "\n",
        "1.  Extract GeoJSON information (bounding box) stored inside the shape file.\n",
        "2.  Create ee.Geometry object (region).\n",
        "3.  Get the projection and CRS\n",
        "4.  Get the coordinates of the bounding box and find the top left corner.\n",
        "5.  Use the coordinates and scale parameter to create a CRS transfrom to precisely align the pixel scale with the bonding box.\n",
        "\n"
      ],
      "metadata": {
        "id": "DsenriMidZJE"
      }
    },
    {
      "cell_type": "code",
      "source": [
        "# Edit the name of this folder to match the name of your prefered folder on your Google drive.\n",
        "tmp_folder = \"Sentinel_temp\"\n",
        "\n",
        "########################################################\n",
        "#\n",
        "# You shouldn't have to change anything below this line.\n",
        "#\n",
        "########################################################\n",
        "aoi_files = ['aoi_2020_01', 'aoi_2020_02', 'aoi_2020_03', 'aoi_2021_01', 'aoi_2021_02', 'aoi_2021_03', 'aoi_2021_04', 'aoi_2022_01', 'aoi_2022_02', 'aoi_2023_01', 'aoi_2024_01']\n",
        "\n",
        "for aoi_file in aoi_files:\n",
        "    airstrip_testing_gdf = gpd.read_file(f'{base_aoi_path}/{aoi_file}.shp')\n",
        "    #print(airstrip_testing_gdf.head().to_markdown(), \"\\n\")\n",
        "\n",
        "    # Extract CRS of the AOI. We'll need this to export the final GeoTIFF image.\n",
        "    aoi_crs = airstrip_testing_gdf.crs\n",
        "    #print(f'Original CRS: {aoi_crs}',\"\\n\")\n",
        "\n",
        "    geojson_geometry = airstrip_testing_gdf.geometry[0].__geo_interface__\n",
        "    region_utm = ee.Geometry(geojson_geometry,proj=f'{aoi_crs}',geodesic=False)\n",
        "    polygon_crs = region_utm.projection()\n",
        "    output_crs = polygon_crs.crs().getInfo()\n",
        "    bounds_utm = region_utm.bounds(maxError=0.01,proj=polygon_crs)\n",
        "    coords_utm = bounds_utm.coordinates().getInfo()[0]\n",
        "    x_min = min([coord[0] for coord in coords_utm])\n",
        "    y_max = max([coord[1] for coord in coords_utm])\n",
        "    #print(\"Coordinates (UTM):\",coords_utm)\n",
        "    #print(f'Coordintates for top left corner: {x_min},{y_max}')\n",
        "\n",
        "    # Set the scale (10m native Sentinel-2 resolution)\n",
        "    export_scale = 10  # meters\n",
        "\n",
        "    # Generate crsTransform to align pixels with the polygon bounding box\n",
        "    # We'll use the top left corner of the polygon to define the transformation.\n",
        "    # CRS Transform follows the form [scaleX, 0, translateX, 0, scaleY, translateY]\n",
        "    # Units must be the same as the output CRS, i.e. UTM in our case.\n",
        "    crs_transform = [export_scale, 0, x_min, 0, -export_scale, y_max]\n",
        "    #print(crs_transform)\n",
        "\n",
        "    full_band=['B4', 'B3', 'B2', 'B8', 'B11', 'B12', 'VV', 'VH', 'VV_VH_Ratio']\n",
        "\n",
        "\n",
        "    # Get the year of inference from the AOI name\n",
        "    year = aoi_file.split('_')[1]\n",
        "    suffix = aoi_file.split('_')[2]\n",
        "\n",
        "    tmp_file_prefix = f'Sentinel_AllBands_Inference_{year}_{suffix}'\n",
        "    download_s1_and_s2_cloud_score_composite_image(\n",
        "        region=region_utm,\n",
        "        scale=export_scale,\n",
        "        crs=output_crs,\n",
        "        crsTransform=crs_transform,\n",
        "        bands=full_band,\n",
        "        filename_prefix=tmp_file_prefix,\n",
        "        export_folder=tmp_folder,\n",
        "        s2_product='COPERNICUS/S2_SR_HARMONIZED',\n",
        "        min_date=f'{year}-01-01',\n",
        "        max_date=f'{year}-12-31',\n",
        "        QA_BAND='cs_cdf',\n",
        "        clr_thres=0.60)\n"
      ],
      "metadata": {
        "id": "PxnWlM0BEbCC",
        "colab": {
          "base_uri": "https://localhost:8080/",
          "height": 69
        },
        "outputId": "367d282d-fbf1-4ebf-bb49-cab9e9626cad",
        "collapsed": true
      },
      "execution_count": null,
      "outputs": [
        {
          "output_type": "display_data",
          "data": {
            "text/plain": [
              "<IPython.core.display.HTML object>"
            ],
            "text/html": [
              "\n",
              "            <style>\n",
              "                .geemap-dark {\n",
              "                    --jp-widgets-color: white;\n",
              "                    --jp-widgets-label-color: white;\n",
              "                    --jp-ui-font-color1: white;\n",
              "                    --jp-layout-color2: #454545;\n",
              "                    background-color: #383838;\n",
              "                }\n",
              "\n",
              "                .geemap-dark .jupyter-button {\n",
              "                    --jp-layout-color3: #383838;\n",
              "                }\n",
              "\n",
              "                .geemap-colab {\n",
              "                    background-color: var(--colab-primary-surface-color, white);\n",
              "                }\n",
              "\n",
              "                .geemap-colab .jupyter-button {\n",
              "                    --jp-layout-color3: var(--colab-primary-surface-color, white);\n",
              "                }\n",
              "            </style>\n",
              "            "
            ]
          },
          "metadata": {}
        },
        {
          "output_type": "stream",
          "name": "stdout",
          "text": [
            "Task ID: AY7WD6PKXIQ4XSNSWEJW6HYR\n",
            "Exporting to Google Drive...\n",
            "Export tasks should be complete.\n"
          ]
        }
      ]
    },
    {
      "cell_type": "markdown",
      "source": [
        "### Download the training GeoTIFF files\n",
        "\n",
        "We load the reduced list of airstrips for the training set and generate GeoTIFF files for each one. Notice that this will generate one task for each airstrip on the Google Earth Engine server. Edit the name of the Google Drive folder where you want to save the images. Expect 5 minutes per airstrips, so get some coffee."
      ],
      "metadata": {
        "id": "EMxZRIXTcYs8"
      }
    },
    {
      "cell_type": "code",
      "source": [
        "# Edit the name of this folder to match the name of your prefered folder on your Google drive.\n",
        "tmp_folder = \"Sentinel_temp\"\n",
        "\n",
        "########################################################\n",
        "#\n",
        "# You shouldn't have to change anything below this line.\n",
        "#\n",
        "########################################################\n",
        "\n",
        "# Load the reduced training shape file.\n",
        "airstrip_training_path_simple = '/content/zindi-amazon-secret-runway/Data_Visualization/data/pac_2024_training/pac_2024_training_simple.shp'\n",
        "airstrip_training_gdf_simple = gpd.read_file(airstrip_training_path_simple)\n",
        "\n",
        "crs = airstrip_training_gdf_simple.crs\n",
        "print(f\"CRS of the GeoDataFrame: {crs}\")\n",
        "\n",
        "# Loop over the entries and created the GeoTIFF file for model training.\n",
        "for index, row in airstrip_training_gdf_simple.iterrows():\n",
        "    if row['id'] == 182:\n",
        "        centroid = airstrip_training_gdf_simple.geometry[index].centroid\n",
        "        print(f'Lon: {centroid.x} Lat: {centroid.y}')\n",
        "        aoi_crs = latlon_to_utm_epsg(centroid.y, centroid.x)\n",
        "        print(f'AOI CRS: {aoi_crs}')\n",
        "        # Convert the centroid back to WGS84 (LNG, LAT)\n",
        "        centroid_utm = gpd.GeoSeries([centroid], crs=airstrip_training_gdf_simple.crs).to_crs(aoi_crs).geometry[0]\n",
        "        print(f'UTM Lon: {centroid_utm.x} Lat: {centroid_utm.y}')\n",
        "        # Create a new AOI center on the centroid. The lenght of each side is 5km.\n",
        "        newAOI = create_square_around_point(centroid_utm, 5120)\n",
        "        print(\"newAOI:\",newAOI)\n",
        "        geojson_polygon = newAOI.__geo_interface__\n",
        "\n",
        "        region_utm = ee.Geometry(geojson_polygon,proj=f'{aoi_crs}',geodesic=False)\n",
        "        polygon_crs = region_utm.projection()\n",
        "        output_crs = polygon_crs.crs().getInfo()\n",
        "        print(\"Output CRS:\",output_crs)\n",
        "        bounds_utm = region_utm.bounds(maxError=0.01,proj=polygon_crs)\n",
        "        coords_utm = bounds_utm.coordinates().getInfo()[0]\n",
        "        print(\"Coordinates (UTM):\",coords_utm)\n",
        "        x_min = min([coord[0] for coord in coords_utm])\n",
        "        y_max = max([coord[1] for coord in coords_utm])\n",
        "\n",
        "        export_scale = 10\n",
        "        crs_transform = [export_scale, 0, x_min, 0, -export_scale, y_max]\n",
        "        full_band=['B4', 'B3', 'B2', 'B8', 'B11', 'B12', 'VV', 'VH', 'VV_VH_Ratio']\n",
        "        tmp_file_prefix = f\"Sentinel_AllBands_Training_Id_{row['id']}\"\n",
        "        tmp_min_date = f\"{row['yr']}-01-01\"\n",
        "        tmp_max_date = f\"{row['yr']}-12-31\"\n",
        "        s2_product = 'COPERNICUS/S2_HARMONIZED' if row['yr'] < 2019 else 'COPERNICUS/S2_SR_HARMONIZED'\n",
        "        download_s1_and_s2_cloud_score_composite_image(\n",
        "            region=region_utm,\n",
        "            scale=export_scale,\n",
        "            crs=output_crs,\n",
        "            crsTransform=crs_transform,\n",
        "            bands=full_band,\n",
        "            filename_prefix=tmp_file_prefix,\n",
        "            export_folder=tmp_folder,\n",
        "            s2_product=s2_product,\n",
        "            min_date=tmp_min_date,\n",
        "            max_date=tmp_max_date,\n",
        "            QA_BAND='cs_cdf',\n",
        "            clr_thres=0.60)\n",
        "\n",
        "\n",
        "\n"
      ],
      "metadata": {
        "id": "Kq47Sjd3VmUl",
        "outputId": "7da1a497-550a-4a50-c50c-2d222c3d83f8",
        "colab": {
          "base_uri": "https://localhost:8080/",
          "height": 211
        }
      },
      "execution_count": null,
      "outputs": [
        {
          "output_type": "display_data",
          "data": {
            "text/plain": [
              "<IPython.core.display.HTML object>"
            ],
            "text/html": [
              "\n",
              "            <style>\n",
              "                .geemap-dark {\n",
              "                    --jp-widgets-color: white;\n",
              "                    --jp-widgets-label-color: white;\n",
              "                    --jp-ui-font-color1: white;\n",
              "                    --jp-layout-color2: #454545;\n",
              "                    background-color: #383838;\n",
              "                }\n",
              "\n",
              "                .geemap-dark .jupyter-button {\n",
              "                    --jp-layout-color3: #383838;\n",
              "                }\n",
              "\n",
              "                .geemap-colab {\n",
              "                    background-color: var(--colab-primary-surface-color, white);\n",
              "                }\n",
              "\n",
              "                .geemap-colab .jupyter-button {\n",
              "                    --jp-layout-color3: var(--colab-primary-surface-color, white);\n",
              "                }\n",
              "            </style>\n",
              "            "
            ]
          },
          "metadata": {}
        },
        {
          "output_type": "stream",
          "name": "stdout",
          "text": [
            "CRS of the GeoDataFrame: EPSG:4326\n",
            "Lon: -71.3018053691251 Lat: -13.00380897392048\n",
            "AOI CRS: EPSG:32719\n",
            "UTM Lon: 250332.12655607416 Lat: 8561314.136633333\n",
            "newAOI: POLYGON ((247772.12655607416 8558754.136633333, 252892.12655607416 8558754.136633333, 252892.12655607416 8563874.136633333, 247772.12655607416 8563874.136633333, 247772.12655607416 8558754.136633333))\n",
            "Output CRS: EPSG:32719\n",
            "Coordinates (UTM): [[247772.12655607416, 8558754.136633333], [252892.12655607416, 8558754.136633333], [252892.12655607416, 8563874.136633333], [247772.12655607416, 8563874.136633333], [247772.12655607416, 8558754.136633333]]\n",
            "Task ID: 3OKKP4ZYTVYNCYOQYYFN4CT4\n",
            "Exporting to Google Drive...\n",
            "Export tasks should be complete.\n"
          ]
        }
      ]
    },
    {
      "cell_type": "code",
      "source": [],
      "metadata": {
        "id": "kqa30Ie8BTAB"
      },
      "execution_count": null,
      "outputs": []
    }
  ],
  "metadata": {
    "colab": {
      "provenance": [],
      "toc_visible": true,
      "include_colab_link": true
    },
    "kernelspec": {
      "display_name": "Python 3",
      "name": "python3"
    },
    "language_info": {
      "name": "python"
    }
  },
  "nbformat": 4,
  "nbformat_minor": 0
}