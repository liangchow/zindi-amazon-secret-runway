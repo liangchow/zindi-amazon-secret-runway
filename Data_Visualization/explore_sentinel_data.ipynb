{
  "cells": [
    {
      "cell_type": "markdown",
      "metadata": {
        "id": "view-in-github",
        "colab_type": "text"
      },
      "source": [
        "<a href=\"https://colab.research.google.com/github/liangchow/zindi-amazon-secret-runway/blob/main/Data_Visualization/explore_sentinel_data.ipynb\" target=\"_parent\"><img src=\"https://colab.research.google.com/assets/colab-badge.svg\" alt=\"Open In Colab\"/></a>"
      ]
    },
    {
      "cell_type": "markdown",
      "source": [
        "### Imports and Setup\n",
        "\n",
        "Install essential packages missing from the Google Colab environment and import all required packages for the functions in this notebook."
      ],
      "metadata": {
        "id": "0DTLmDupDf4n"
      }
    },
    {
      "cell_type": "code",
      "source": [
        "%%capture\n",
        "!pip -q install geojson\n",
        "!pip -q install rasterio\n",
        "!pip -q install eeconvert\n",
        "!pip -q install geemap\n",
        "!pip install ffmpeg-python"
      ],
      "metadata": {
        "collapsed": true,
        "id": "mvAcyNzKElmB"
      },
      "execution_count": 1,
      "outputs": []
    },
    {
      "cell_type": "code",
      "source": [
        "# Standard imports\n",
        "import os\n",
        "import json\n",
        "import time\n",
        "import datetime\n",
        "import imageio\n",
        "import re\n",
        "\n",
        "# Geospatial processing packages\n",
        "import geopandas as gpd\n",
        "import geojson\n",
        "import shapely\n",
        "import rasterio as rio\n",
        "from rasterio.plot import show\n",
        "from rasterio.plot import reshape_as_image\n",
        "import rasterio.mask\n",
        "from shapely.geometry import Point, Polygon, box\n",
        "from pyproj import Transformer\n",
        "\n",
        "# Mapping and plotting libraries\n",
        "import matplotlib.pyplot as plt\n",
        "import matplotlib.colors as cl\n",
        "import ee\n",
        "import eeconvert as eec\n",
        "import geemap\n",
        "import geemap.foliumap as emap\n",
        "import folium\n",
        "import numpy as np"
      ],
      "metadata": {
        "id": "YKA6BXObDy_K"
      },
      "execution_count": 2,
      "outputs": []
    },
    {
      "cell_type": "markdown",
      "metadata": {
        "id": "WLlGqdpCe49T"
      },
      "source": [
        "### Mount Google Drive and install project files from GitHub\n",
        "\n",
        "First, we'll mount our Google Drive as we'll save the GeoTiff files to our drive. Then we'll clone the main branch from the GitHub repo so we have access to all of the files from there. In particular, we need access to the shape files for the training and test sets."
      ]
    },
    {
      "cell_type": "code",
      "execution_count": 3,
      "metadata": {
        "colab": {
          "base_uri": "https://localhost:8080/",
          "height": 0
        },
        "id": "ONN-mhsCfRX5",
        "outputId": "76af15c2-f7b6-4d24-96cd-6267577a30f9",
        "collapsed": true
      },
      "outputs": [
        {
          "output_type": "display_data",
          "data": {
            "text/plain": [
              "<IPython.core.display.HTML object>"
            ],
            "text/html": [
              "\n",
              "            <style>\n",
              "                .geemap-dark {\n",
              "                    --jp-widgets-color: white;\n",
              "                    --jp-widgets-label-color: white;\n",
              "                    --jp-ui-font-color1: white;\n",
              "                    --jp-layout-color2: #454545;\n",
              "                    background-color: #383838;\n",
              "                }\n",
              "\n",
              "                .geemap-dark .jupyter-button {\n",
              "                    --jp-layout-color3: #383838;\n",
              "                }\n",
              "\n",
              "                .geemap-colab {\n",
              "                    background-color: var(--colab-primary-surface-color, white);\n",
              "                }\n",
              "\n",
              "                .geemap-colab .jupyter-button {\n",
              "                    --jp-layout-color3: var(--colab-primary-surface-color, white);\n",
              "                }\n",
              "            </style>\n",
              "            "
            ]
          },
          "metadata": {}
        },
        {
          "output_type": "stream",
          "name": "stdout",
          "text": [
            "Mounted at /content/drive\n",
            "Reading package lists... Done\n",
            "Building dependency tree... Done\n",
            "Reading state information... Done\n",
            "git is already the newest version (1:2.34.1-1ubuntu1.11).\n",
            "0 upgraded, 0 newly installed, 0 to remove and 49 not upgraded.\n",
            "Cloning into 'zindi-amazon-secret-runway'...\n",
            "remote: Enumerating objects: 438, done.\u001b[K\n",
            "remote: Counting objects: 100% (276/276), done.\u001b[K\n",
            "remote: Compressing objects: 100% (230/230), done.\u001b[K\n",
            "remote: Total 438 (delta 131), reused 103 (delta 45), pack-reused 162 (from 1)\u001b[K\n",
            "Receiving objects: 100% (438/438), 57.11 MiB | 16.49 MiB/s, done.\n",
            "Resolving deltas: 100% (198/198), done.\n",
            "fatal: not a git repository (or any of the parent directories): .git\n"
          ]
        }
      ],
      "source": [
        "# mount your drive in case you have any new data uploaded there you want to use\n",
        "from google.colab import drive\n",
        "drive.mount('/content/drive')\n",
        "\n",
        "# clone the main branch from GitHub to get all the data and files from there onto the current runtime session\n",
        "!apt-get install git\n",
        "!git clone https://github.com/liangchow/zindi-amazon-secret-runway.git\n",
        "!git pull # pulls the latest changes from repo"
      ]
    },
    {
      "cell_type": "markdown",
      "source": [
        "### Authenticate Google Earth Engine\n",
        "Make sure you have signed up for access to Google Earth Engine.\n",
        "\n",
        "⚠**You will need to edit the following code cell to use your own account/project.**⚠\n",
        "\n",
        "All the Sentinel data will be downloaded using Google Earth Engine."
      ],
      "metadata": {
        "id": "rNqavIojGpUb"
      }
    },
    {
      "cell_type": "code",
      "source": [
        "ee.Authenticate()\n",
        "ee.Initialize(project=\"ee-fortinpascal\")"
      ],
      "metadata": {
        "id": "Nq1kHtxNG7Fw",
        "colab": {
          "base_uri": "https://localhost:8080/",
          "height": 0
        },
        "outputId": "28dfc58b-11fb-4cb6-b5e4-96c7a23894ad"
      },
      "execution_count": 4,
      "outputs": [
        {
          "output_type": "display_data",
          "data": {
            "text/plain": [
              "<IPython.core.display.HTML object>"
            ],
            "text/html": [
              "\n",
              "            <style>\n",
              "                .geemap-dark {\n",
              "                    --jp-widgets-color: white;\n",
              "                    --jp-widgets-label-color: white;\n",
              "                    --jp-ui-font-color1: white;\n",
              "                    --jp-layout-color2: #454545;\n",
              "                    background-color: #383838;\n",
              "                }\n",
              "\n",
              "                .geemap-dark .jupyter-button {\n",
              "                    --jp-layout-color3: #383838;\n",
              "                }\n",
              "\n",
              "                .geemap-colab {\n",
              "                    background-color: var(--colab-primary-surface-color, white);\n",
              "                }\n",
              "\n",
              "                .geemap-colab .jupyter-button {\n",
              "                    --jp-layout-color3: var(--colab-primary-surface-color, white);\n",
              "                }\n",
              "            </style>\n",
              "            "
            ]
          },
          "metadata": {}
        }
      ]
    },
    {
      "cell_type": "markdown",
      "source": [
        "### Set the paths to the GitHub shape files"
      ],
      "metadata": {
        "id": "QeyWGSkVIc3a"
      }
    },
    {
      "cell_type": "code",
      "source": [
        "airstrip_training_path = '/content/zindi-amazon-secret-runway/Data_Visualization/data/pac_2024_training/pac_2024_training.shp'\n",
        "base_aoi_path = '/content/zindi-amazon-secret-runway/Data_Visualization/data/shp_test_AOIs'"
      ],
      "metadata": {
        "id": "ouCS_31hIgIy",
        "colab": {
          "base_uri": "https://localhost:8080/",
          "height": 17
        },
        "outputId": "cc91f8b6-4d54-473c-9428-503922cb3db5"
      },
      "execution_count": 5,
      "outputs": [
        {
          "output_type": "display_data",
          "data": {
            "text/plain": [
              "<IPython.core.display.HTML object>"
            ],
            "text/html": [
              "\n",
              "            <style>\n",
              "                .geemap-dark {\n",
              "                    --jp-widgets-color: white;\n",
              "                    --jp-widgets-label-color: white;\n",
              "                    --jp-ui-font-color1: white;\n",
              "                    --jp-layout-color2: #454545;\n",
              "                    background-color: #383838;\n",
              "                }\n",
              "\n",
              "                .geemap-dark .jupyter-button {\n",
              "                    --jp-layout-color3: #383838;\n",
              "                }\n",
              "\n",
              "                .geemap-colab {\n",
              "                    background-color: var(--colab-primary-surface-color, white);\n",
              "                }\n",
              "\n",
              "                .geemap-colab .jupyter-button {\n",
              "                    --jp-layout-color3: var(--colab-primary-surface-color, white);\n",
              "                }\n",
              "            </style>\n",
              "            "
            ]
          },
          "metadata": {}
        }
      ]
    },
    {
      "cell_type": "markdown",
      "source": [
        "### Functions to download and manipulate Sentinel data\n",
        "\n",
        "A significant amount of time was spent downloading and visualizing the Sentinel 1 and 2 data. Many of those functions are useful for exploring different aspects of the data. From interactive maps using the Folium package, to animated GIFs and multi-band images display."
      ],
      "metadata": {
        "id": "kg6DyXmsszj1"
      }
    },
    {
      "cell_type": "code",
      "source": [
        "def create_square_pentagon(center_lon, center_lat, side_length_meters):\n",
        "  \"\"\"\n",
        "  Creates a square geopandas pentagon centered on\n",
        "  a set of Lon/Lat coordinates.\n",
        "\n",
        "  Args:\n",
        "    center_lon: The longitude of the center point.\n",
        "    center_lat: The latitude of the center point.\n",
        "    side_length_meters: The length of each side of\n",
        "                         the square in meters.\n",
        "\n",
        "  Returns:\n",
        "    A geopandas GeoDataFrame containing the pentagon.\n",
        "  \"\"\"\n",
        "\n",
        "  # Define the source and destination coordinate systems\n",
        "  source_crs = \"EPSG:4326\"  # WGS 84 (Lon/Lat)\n",
        "  target_crs = \"EPSG:3395\"  # World Mercator (meters)\n",
        "\n",
        "\n",
        "  # Create a transformer object to convert between coordinate systems\n",
        "  transformer = Transformer.from_crs(source_crs, target_crs, always_xy=True)\n",
        "\n",
        "  # Transform the center coordinates to Web Mercator\n",
        "  center_x, center_y = transformer.transform(center_lon, center_lat)\n",
        "\n",
        "  # Calculate half the side length\n",
        "  half_side = side_length_meters / 2\n",
        "\n",
        "  coordinates = [\n",
        "      (center_x - half_side, center_y + half_side),  # Top left\n",
        "      (center_x + half_side, center_y + half_side),  # Top right\n",
        "      (center_x + half_side, center_y - half_side),  # Bottom right\n",
        "      (center_x - half_side, center_y - half_side),  # Bottom Left\n",
        "      (center_x - half_side, center_y + half_side)   # Top left (close the polygon)\n",
        "  ]\n",
        "\n",
        "\n",
        "  # Create a Polygon object from the coordinates\n",
        "  polygon = Polygon(coordinates)\n",
        "\n",
        "  # Create a GeoDataFrame from the Polygon with World Mercator CRS\n",
        "  gdf = gpd.GeoDataFrame(geometry=[polygon], crs=target_crs)\n",
        "\n",
        "  # Transform the GeoDataFrame back to WGS 84\n",
        "  gdf = gdf.to_crs(source_crs)\n",
        "\n",
        "  return gdf"
      ],
      "metadata": {
        "id": "femEjNbUK6UQ",
        "colab": {
          "base_uri": "https://localhost:8080/",
          "height": 0
        },
        "outputId": "f4155670-40e8-49cc-f29d-cdf6a4cf507a"
      },
      "execution_count": 6,
      "outputs": [
        {
          "output_type": "display_data",
          "data": {
            "text/plain": [
              "<IPython.core.display.HTML object>"
            ],
            "text/html": [
              "\n",
              "            <style>\n",
              "                .geemap-dark {\n",
              "                    --jp-widgets-color: white;\n",
              "                    --jp-widgets-label-color: white;\n",
              "                    --jp-ui-font-color1: white;\n",
              "                    --jp-layout-color2: #454545;\n",
              "                    background-color: #383838;\n",
              "                }\n",
              "\n",
              "                .geemap-dark .jupyter-button {\n",
              "                    --jp-layout-color3: #383838;\n",
              "                }\n",
              "\n",
              "                .geemap-colab {\n",
              "                    background-color: var(--colab-primary-surface-color, white);\n",
              "                }\n",
              "\n",
              "                .geemap-colab .jupyter-button {\n",
              "                    --jp-layout-color3: var(--colab-primary-surface-color, white);\n",
              "                }\n",
              "            </style>\n",
              "            "
            ]
          },
          "metadata": {}
        }
      ]
    },
    {
      "cell_type": "code",
      "source": [
        "def create_square_around_point(center: Point, side_length: float) -> Polygon:\n",
        "    \"\"\"\n",
        "    Create a square polygon centered on a shapely Point object.\n",
        "\n",
        "    Args:\n",
        "        center (Point): The shapely Point object representing the center.\n",
        "        side_length (float): The length of the sides of the square.\n",
        "\n",
        "    Returns:\n",
        "        Polygon: A shapely Polygon object representing the square.\n",
        "    \"\"\"\n",
        "    # Half the side length for corner calculations\n",
        "    half_side = side_length / 2\n",
        "\n",
        "    # Get the center point coordinates\n",
        "    x_center, y_center = center.x, center.y\n",
        "\n",
        "    # Create the corners of the square\n",
        "    square_coords = [\n",
        "        (x_center - half_side, y_center - half_side),  # Bottom-left corner\n",
        "        (x_center + half_side, y_center - half_side),  # Bottom-right corner\n",
        "        (x_center + half_side, y_center + half_side),  # Top-right corner\n",
        "        (x_center - half_side, y_center + half_side),  # Top-left corner\n",
        "        (x_center - half_side, y_center - half_side)   # Closing the square\n",
        "    ]\n",
        "\n",
        "    # Create the polygon using the coordinates\n",
        "    square_polygon = Polygon(square_coords)\n",
        "\n",
        "    return square_polygon\n"
      ],
      "metadata": {
        "id": "x_5gxujhiLMD",
        "outputId": "a45221d1-0aa2-474a-d5c3-3685be883db1",
        "colab": {
          "base_uri": "https://localhost:8080/",
          "height": 0
        }
      },
      "execution_count": 7,
      "outputs": [
        {
          "output_type": "display_data",
          "data": {
            "text/plain": [
              "<IPython.core.display.HTML object>"
            ],
            "text/html": [
              "\n",
              "            <style>\n",
              "                .geemap-dark {\n",
              "                    --jp-widgets-color: white;\n",
              "                    --jp-widgets-label-color: white;\n",
              "                    --jp-ui-font-color1: white;\n",
              "                    --jp-layout-color2: #454545;\n",
              "                    background-color: #383838;\n",
              "                }\n",
              "\n",
              "                .geemap-dark .jupyter-button {\n",
              "                    --jp-layout-color3: #383838;\n",
              "                }\n",
              "\n",
              "                .geemap-colab {\n",
              "                    background-color: var(--colab-primary-surface-color, white);\n",
              "                }\n",
              "\n",
              "                .geemap-colab .jupyter-button {\n",
              "                    --jp-layout-color3: var(--colab-primary-surface-color, white);\n",
              "                }\n",
              "            </style>\n",
              "            "
            ]
          },
          "metadata": {}
        }
      ]
    },
    {
      "cell_type": "code",
      "source": [
        "def export_image(image,region,filename_prefix,bands,export_folder,scale=10,crs=None,crsTransform=None):\n",
        "  \"\"\"\n",
        "  Function to export an image as GeoTIFF and save it to Google Drive\n",
        "\n",
        "  Args:\n",
        "    image:            Google Earth Engine image\n",
        "    region:           Geometry to clip the image to\n",
        "    filename_prefix:  Prefix for the filename\n",
        "    bands:            List of bands to export\n",
        "    export_folder:    Google Drive folder to save to\n",
        "    scale:            Pixel scale (in meters) for the output image\n",
        "    crs:              CRS to export to (default: EPSG:4326)\n",
        "    crsTransform:     Affine transformation matrix for the output image\n",
        "\n",
        "  Returns:\n",
        "    None\n",
        "\n",
        "  \"\"\"\n",
        "\n",
        "\n",
        "  # Check if the image has the 'system:time_start' property.\n",
        "  if 'system:time_start' in image.propertyNames().getInfo():\n",
        "      date = ee.Date(image.get('system:time_start')).format('YYYY-MM-dd').getInfo()\n",
        "      filename = f\"{filename_prefix}_{date}\"\n",
        "  else:\n",
        "      # Handle the case where the property is missing (e.g., use a default date)\n",
        "      #date = 'no_date'\n",
        "      #filename = f\"{filename_prefix}_{date}\"\n",
        "      filename = f'{filename_prefix}' # No date at all...\n",
        "\n",
        "  task = ee.batch.Export.image.toDrive(\n",
        "        image=image.select(bands).clip(region),\n",
        "        description='filename',\n",
        "        folder=export_folder,\n",
        "        fileNamePrefix=filename,\n",
        "        scale=scale,\n",
        "        crs=crs,\n",
        "        crsTransform=crsTransform,\n",
        "        region=region.getInfo()['coordinates'],\n",
        "        maxPixels=1e13,\n",
        "        fileFormat='GeoTIFF'\n",
        "  )\n",
        "  task.start()\n",
        "  print(f'Task ID: {task.id}')\n",
        "  print('Exporting to Google Drive...')\n"
      ],
      "metadata": {
        "id": "tAmGIxPVtnsI",
        "colab": {
          "base_uri": "https://localhost:8080/",
          "height": 0
        },
        "outputId": "50a64a3f-b6c2-4d3a-b056-85d733c61cc9"
      },
      "execution_count": 8,
      "outputs": [
        {
          "output_type": "display_data",
          "data": {
            "text/plain": [
              "<IPython.core.display.HTML object>"
            ],
            "text/html": [
              "\n",
              "            <style>\n",
              "                .geemap-dark {\n",
              "                    --jp-widgets-color: white;\n",
              "                    --jp-widgets-label-color: white;\n",
              "                    --jp-ui-font-color1: white;\n",
              "                    --jp-layout-color2: #454545;\n",
              "                    background-color: #383838;\n",
              "                }\n",
              "\n",
              "                .geemap-dark .jupyter-button {\n",
              "                    --jp-layout-color3: #383838;\n",
              "                }\n",
              "\n",
              "                .geemap-colab {\n",
              "                    background-color: var(--colab-primary-surface-color, white);\n",
              "                }\n",
              "\n",
              "                .geemap-colab .jupyter-button {\n",
              "                    --jp-layout-color3: var(--colab-primary-surface-color, white);\n",
              "                }\n",
              "            </style>\n",
              "            "
            ]
          },
          "metadata": {}
        }
      ]
    },
    {
      "cell_type": "code",
      "source": [
        "def check_all_tasks_completed():\n",
        "  \"\"\"Checks if all Earth Engine tasks have completed.\n",
        "\n",
        "  Returns:\n",
        "    bool: True if all tasks have completed, False otherwise.\n",
        "  \"\"\"\n",
        "\n",
        "  tasks = ee.batch.Task.list()\n",
        "  for task in tasks:\n",
        "    if task.status()['state'] != 'COMPLETED':\n",
        "      return False\n",
        "  return True"
      ],
      "metadata": {
        "colab": {
          "base_uri": "https://localhost:8080/",
          "height": 0
        },
        "id": "BJCQMDoXHNWg",
        "outputId": "31e90db7-e06c-43e3-c66f-19dac3658f64"
      },
      "execution_count": 9,
      "outputs": [
        {
          "output_type": "display_data",
          "data": {
            "text/plain": [
              "<IPython.core.display.HTML object>"
            ],
            "text/html": [
              "\n",
              "            <style>\n",
              "                .geemap-dark {\n",
              "                    --jp-widgets-color: white;\n",
              "                    --jp-widgets-label-color: white;\n",
              "                    --jp-ui-font-color1: white;\n",
              "                    --jp-layout-color2: #454545;\n",
              "                    background-color: #383838;\n",
              "                }\n",
              "\n",
              "                .geemap-dark .jupyter-button {\n",
              "                    --jp-layout-color3: #383838;\n",
              "                }\n",
              "\n",
              "                .geemap-colab {\n",
              "                    background-color: var(--colab-primary-surface-color, white);\n",
              "                }\n",
              "\n",
              "                .geemap-colab .jupyter-button {\n",
              "                    --jp-layout-color3: var(--colab-primary-surface-color, white);\n",
              "                }\n",
              "            </style>\n",
              "            "
            ]
          },
          "metadata": {}
        }
      ]
    },
    {
      "cell_type": "code",
      "source": [
        "# Helper function to calculate VV/VH ratio and add it as a new band\n",
        "def add_vv_vh_ratio(image):\n",
        "    ratio_band = image.select('VV').divide(image.select('VH')).rename('VV_VH_Ratio')\n",
        "    return image.addBands(ratio_band)\n"
      ],
      "metadata": {
        "colab": {
          "base_uri": "https://localhost:8080/",
          "height": 0
        },
        "id": "xpT0IuW2-HGb",
        "outputId": "5e060eb0-e396-4d66-c157-d16f187d9d56"
      },
      "execution_count": 10,
      "outputs": [
        {
          "output_type": "display_data",
          "data": {
            "text/plain": [
              "<IPython.core.display.HTML object>"
            ],
            "text/html": [
              "\n",
              "            <style>\n",
              "                .geemap-dark {\n",
              "                    --jp-widgets-color: white;\n",
              "                    --jp-widgets-label-color: white;\n",
              "                    --jp-ui-font-color1: white;\n",
              "                    --jp-layout-color2: #454545;\n",
              "                    background-color: #383838;\n",
              "                }\n",
              "\n",
              "                .geemap-dark .jupyter-button {\n",
              "                    --jp-layout-color3: #383838;\n",
              "                }\n",
              "\n",
              "                .geemap-colab {\n",
              "                    background-color: var(--colab-primary-surface-color, white);\n",
              "                }\n",
              "\n",
              "                .geemap-colab .jupyter-button {\n",
              "                    --jp-layout-color3: var(--colab-primary-surface-color, white);\n",
              "                }\n",
              "            </style>\n",
              "            "
            ]
          },
          "metadata": {}
        }
      ]
    },
    {
      "cell_type": "code",
      "execution_count": 11,
      "metadata": {
        "id": "SpOJ_5Je5B_d",
        "colab": {
          "base_uri": "https://localhost:8080/",
          "height": 0
        },
        "outputId": "bf331167-698b-4dfa-e9e3-6d595aee81fc"
      },
      "outputs": [
        {
          "output_type": "display_data",
          "data": {
            "text/plain": [
              "<IPython.core.display.HTML object>"
            ],
            "text/html": [
              "\n",
              "            <style>\n",
              "                .geemap-dark {\n",
              "                    --jp-widgets-color: white;\n",
              "                    --jp-widgets-label-color: white;\n",
              "                    --jp-ui-font-color1: white;\n",
              "                    --jp-layout-color2: #454545;\n",
              "                    background-color: #383838;\n",
              "                }\n",
              "\n",
              "                .geemap-dark .jupyter-button {\n",
              "                    --jp-layout-color3: #383838;\n",
              "                }\n",
              "\n",
              "                .geemap-colab {\n",
              "                    background-color: var(--colab-primary-surface-color, white);\n",
              "                }\n",
              "\n",
              "                .geemap-colab .jupyter-button {\n",
              "                    --jp-layout-color3: var(--colab-primary-surface-color, white);\n",
              "                }\n",
              "            </style>\n",
              "            "
            ]
          },
          "metadata": {}
        }
      ],
      "source": [
        "def download_s1_images(\n",
        "    region,\n",
        "    bands = ['VV', 'VH'],\n",
        "    filename_prefix='Sentinel2',\n",
        "    export_folder='Colab Notebooks',\n",
        "    product='COPERNICUS/S1_GRD',\n",
        "    min_date='2024-04-01',\n",
        "    max_date='2024-06-01',\n",
        "):\n",
        "\n",
        "    \"\"\"Generates Sentinel-1 images from Google Earth Engine using the Python Earth Engine API.\n",
        "\n",
        "    Args:\n",
        "      region (ee.Geometry): The geometry of the area of interest to filter to.\n",
        "      bands: List of bands\n",
        "      filename_prefix: Filename prexix to save to disk\n",
        "      export_folder: Google Drive folder to save to\n",
        "      product (str): Earth Engine asset ID\n",
        "        You can find the full list of ImageCollection IDs\n",
        "        at https://developers.google.com/earth-engine/datasets\n",
        "      min_date (str): Minimum date to acquire collection of satellite images\n",
        "      max_date (str): Maximum date to acquire collection of satellite images\n",
        "      range_min (int): Minimum value for visalization range\n",
        "      range_max (int): Maximum value for visualization range\n",
        "      cloud_pct (float): The cloud cover percent to filter by (default 10)\n",
        "\n",
        "    Returns:\n",
        "      ee.image.Image: Generated Sentinel-1 images clipped to the region of interest\n",
        "    \"\"\"\n",
        "\n",
        "    # Define the Sentinel-1 image collection and filter by date and region.\n",
        "    sentinel1 = ee.ImageCollection(product) \\\n",
        "        .filterDate(min_date, max_date) \\\n",
        "        .filterBounds(region) \\\n",
        "        .filter(ee.Filter.eq('instrumentMode', 'IW'))  # Interferometric Wide (IW) swath mode\n",
        "\n",
        "    # Apply the export function to each image in the collection.\n",
        "    collection_list = sentinel1.toList(sentinel1.size())\n",
        "    for i in range(sentinel1.size().getInfo()):\n",
        "      image = ee.Image(collection_list.get(i))\n",
        "      export_image(image=image,filename_prefix=filename_prefix,bands=bands,export_folder=export_folder)\n",
        "\n",
        "    print(\"Export tasks should be complete.\")\n"
      ]
    },
    {
      "cell_type": "code",
      "execution_count": 12,
      "metadata": {
        "id": "uFlTm3WHaSPZ",
        "colab": {
          "base_uri": "https://localhost:8080/",
          "height": 0
        },
        "outputId": "64ab5517-613e-4afd-bc9c-7459f9b1ef53"
      },
      "outputs": [
        {
          "output_type": "display_data",
          "data": {
            "text/plain": [
              "<IPython.core.display.HTML object>"
            ],
            "text/html": [
              "\n",
              "            <style>\n",
              "                .geemap-dark {\n",
              "                    --jp-widgets-color: white;\n",
              "                    --jp-widgets-label-color: white;\n",
              "                    --jp-ui-font-color1: white;\n",
              "                    --jp-layout-color2: #454545;\n",
              "                    background-color: #383838;\n",
              "                }\n",
              "\n",
              "                .geemap-dark .jupyter-button {\n",
              "                    --jp-layout-color3: #383838;\n",
              "                }\n",
              "\n",
              "                .geemap-colab {\n",
              "                    background-color: var(--colab-primary-surface-color, white);\n",
              "                }\n",
              "\n",
              "                .geemap-colab .jupyter-button {\n",
              "                    --jp-layout-color3: var(--colab-primary-surface-color, white);\n",
              "                }\n",
              "            </style>\n",
              "            "
            ]
          },
          "metadata": {}
        }
      ],
      "source": [
        "def download_s2_images(\n",
        "    region,\n",
        "    bands=['B4', 'B3', 'B2', 'B8', 'B11', 'B12'],\n",
        "    filename_prefix='Sentinel2',\n",
        "    export_folder='Colab Notebooks',\n",
        "    product='COPERNICUS/S2_SR_HARMONIZED',\n",
        "    min_date='2023-01-01',\n",
        "    max_date='2024-06-01',\n",
        "    cloud_pct=10\n",
        "):\n",
        "\n",
        "    \"\"\"Generates cloud-filtered, Sentinel-2 images from\n",
        "    Google Earth Engine using the Python Earth Engine API.\n",
        "\n",
        "    Args:\n",
        "      region (ee.Geometry): The geometry of the area of interest to filter to.\n",
        "      product (str): Earth Engine asset ID\n",
        "        You can find the full list of ImageCollection IDs\n",
        "        at https://developers.google.com/earth-engine/datasets\n",
        "      min_date (str): Minimum date to acquire collection of satellite images\n",
        "      max_date (str): Maximum date to acquire collection of satellite images\n",
        "      cloud_pct (float): The cloud cover percent to filter by (default 10)\n",
        "\n",
        "    Returns:\n",
        "      ee.image.Image: Generated Sentinel-2 images clipped to the region of interest\n",
        "    \"\"\"\n",
        "\n",
        "    # Generate collection of images\n",
        "    sentinel2 = ee.ImageCollection(product)\\\n",
        "        .filterBounds(region)\\\n",
        "        .filterDate(str(min_date), str(max_date))\\\n",
        "        .filter(ee.Filter.lt(\"CLOUDY_PIXEL_PERCENTAGE\", cloud_pct))\n",
        "\n",
        "    # Apply the export function to each image in the collection.\n",
        "    collection_list = sentinel2.toList(sentinel2.size())\n",
        "    for i in range(sentinel2.size().getInfo()):\n",
        "      image = ee.Image(collection_list.get(i))\n",
        "      export_image(image=image,filename_prefix=filename_prefix,bands=bands,export_folder=export_folder)\n",
        "\n",
        "    print(\"Export tasks should be complete.\")\n"
      ]
    },
    {
      "cell_type": "code",
      "execution_count": 13,
      "metadata": {
        "colab": {
          "base_uri": "https://localhost:8080/",
          "height": 0
        },
        "outputId": "9bb4a134-1063-4f05-8e63-0d954a3cf38f",
        "id": "BVQasWbFYBuP"
      },
      "outputs": [
        {
          "output_type": "display_data",
          "data": {
            "text/plain": [
              "<IPython.core.display.HTML object>"
            ],
            "text/html": [
              "\n",
              "            <style>\n",
              "                .geemap-dark {\n",
              "                    --jp-widgets-color: white;\n",
              "                    --jp-widgets-label-color: white;\n",
              "                    --jp-ui-font-color1: white;\n",
              "                    --jp-layout-color2: #454545;\n",
              "                    background-color: #383838;\n",
              "                }\n",
              "\n",
              "                .geemap-dark .jupyter-button {\n",
              "                    --jp-layout-color3: #383838;\n",
              "                }\n",
              "\n",
              "                .geemap-colab {\n",
              "                    background-color: var(--colab-primary-surface-color, white);\n",
              "                }\n",
              "\n",
              "                .geemap-colab .jupyter-button {\n",
              "                    --jp-layout-color3: var(--colab-primary-surface-color, white);\n",
              "                }\n",
              "            </style>\n",
              "            "
            ]
          },
          "metadata": {}
        }
      ],
      "source": [
        "def download_s2_cloud_score_composite_image(\n",
        "    region,\n",
        "    scale=10,\n",
        "    crs=None,\n",
        "    crsTransform=None,\n",
        "    bands=['B4', 'B3', 'B2', 'B8', 'B11', 'B12'],\n",
        "    filename_prefix='Sentinel2',\n",
        "    export_folder='Colab Notebooks',\n",
        "    s2_product='COPERNICUS/S2_SR_HARMONIZED',\n",
        "    csPlus_product='GOOGLE/CLOUD_SCORE_PLUS/V1/S2_HARMONIZED',\n",
        "    min_date='2023-01-01',\n",
        "    max_date='2024-06-01',\n",
        "    QA_BAND='cs_cdf',\n",
        "    clr_thres=0.60\n",
        "):\n",
        "\n",
        "    \"\"\"Generates cloud-filtered, Sentinel-2 images from\n",
        "    Google Earth Engine using the Python Earth Engine API.\n",
        "    Downloads resulting composite image to Google Drive.\n",
        "\n",
        "    Args:\n",
        "      region (ee.Geometry): The geometry of the area of interest to filter to.\n",
        "      scale: Pixel scale (in meters) for the output image.\n",
        "      crs: Coordinate reference system (CRS) for the output image.\n",
        "      crsTransform: Affine transformation matrix for the output image.\n",
        "      bands: List of bands to export.\n",
        "      filename_prefix: Filename prexix to save to disk\n",
        "      export_folder: Google Drive folder to save to\n",
        "      s2_product (str): Earth Engine asset ID\n",
        "      csPlus_product (str): Earth Engine asset ID for the Cloud Score Plus product\n",
        "      min_date (str): Minimum date to acquire collection of satellite images\n",
        "      max_date (str): Maximum date to acquire collection of satellite images\n",
        "      QA_BAND (str): Use 'cs' or 'cs_cdf', depending on your use case;\n",
        "        see docs for guidance.\n",
        "      clr_thres (float): The threshold for masking; values between 0.50 and\n",
        "        0.65 generally work well. Higher values will remove thin clouds,\n",
        "        haze & cirrus shadows.\n",
        "    \"\"\"\n",
        "\n",
        "    # Convert region of interest CRS to 4326 (needed by Google Earth Engine)\n",
        "    region_4326 = region.transform(ee.Projection('EPSG:4326'), maxError=0.001)\n",
        "\n",
        "\n",
        "    # Generate collection of images\n",
        "    sentinel2 = ee.ImageCollection(s2_product)\\\n",
        "        .filterBounds(region)\\\n",
        "        .filterDate(str(min_date), str(max_date))\n",
        "\n",
        "    # Import the Cloud Score Plus collection\n",
        "    cs = ee.ImageCollection(csPlus_product)\n",
        "\n",
        "    # Link the Sentinel-2 and Cloud Score Plus collections\n",
        "    linked_collection = sentinel2.linkCollection(cs, [QA_BAND])\n",
        "\n",
        "    # Define a function to mask clouds based on the Cloud Score Plus score\n",
        "    def cloudMask(image):\n",
        "        qa = image.select(QA_BAND)\n",
        "        mask = qa.gte(clr_thres)\n",
        "        return image.updateMask(mask)\n",
        "\n",
        "    # Apply the cloud mask function to the linked collection\n",
        "    masked_collection = linked_collection.map(cloudMask)\n",
        "\n",
        "    # Create a median composite image\n",
        "    median_composite = masked_collection.median()\n",
        "\n",
        "    # Apply the export function.\n",
        "    image = ee.Image(median_composite)\n",
        "    export_image(image=image,region=region_4326,scale=scale,crs=crs,crsTransform=crsTransform,filename_prefix=filename_prefix,bands=bands,export_folder=export_folder)\n",
        "    print(\"Export tasks should be complete.\")\n",
        "\n"
      ]
    },
    {
      "cell_type": "code",
      "source": [
        "def download_s1_and_s2_cloud_score_composite_image(\n",
        "    region,\n",
        "    scale=10,\n",
        "    crs=None,\n",
        "    crsTransform=None,\n",
        "    bands=['B4', 'B3', 'B2', 'B8', 'B11', 'B12', 'VV', 'VH', 'VV_VH_Ratio'],\n",
        "    filename_prefix='Sentinel',\n",
        "    export_folder='Colab Notebooks',\n",
        "    s1_product='COPERNICUS/S1_GRD',\n",
        "    s2_product='COPERNICUS/S2_SR_HARMONIZED',\n",
        "    csPlus_product='GOOGLE/CLOUD_SCORE_PLUS/V1/S2_HARMONIZED',\n",
        "    min_date='2023-01-01',\n",
        "    max_date='2024-06-01',\n",
        "    QA_BAND='cs_cdf',\n",
        "    clr_thres=0.60\n",
        "):\n",
        "\n",
        "    \"\"\"Generates cloud-filtered, Sentinel-2 images from Google Earth Engine\n",
        "    using the Python Earth Engine API. Generate and merge Sentinel 1 images.\n",
        "    Downloads resulting composite image to Google Drive.\n",
        "\n",
        "    Args:\n",
        "      region (ee.Geometry): The geometry of the area of interest to filter to.\n",
        "      scale: Pixel scale (in meters) for the output image.\n",
        "      crs: Coordinate reference system (CRS) for the output image.\n",
        "      crsTransform: Affine transformation matrix for the output image.\n",
        "      bands: List of bands to export.\n",
        "      filename_prefix: Filename prexix to save to disk\n",
        "      export_folder: Google Drive folder to save to\n",
        "      s1_product (str): Earth Engine asset ID for Sentinel-1\n",
        "      s2_product (str): Earth Engine asset ID for Sentinel-2\n",
        "      csPlus_product (str): Earth Engine asset ID for the Cloud Score Plus product\n",
        "      min_date (str): Minimum date to acquire collection of satellite images\n",
        "      max_date (str): Maximum date to acquire collection of satellite images\n",
        "      QA_BAND (str): Use 'cs' or 'cs_cdf', depending on your use case;\n",
        "        see docs for guidance.\n",
        "      clr_thres (float): The threshold for masking; values between 0.50 and\n",
        "        0.65 generally work well. Higher values will remove thin clouds,\n",
        "        haze & cirrus shadows.\n",
        "    \"\"\"\n",
        "\n",
        "    # Convert region of interest CRS to 4326 (needed by Google Earth Engine)\n",
        "    region_4326 = region.transform(ee.Projection('EPSG:4326'), maxError=0.001)\n",
        "\n",
        "    # Define the Sentinel-2 image collection and filter by date and region.\n",
        "    sentinel2 = ee.ImageCollection(s2_product)\\\n",
        "        .filterBounds(region)\\\n",
        "        .filterDate(str(min_date), str(max_date))\n",
        "\n",
        "    # Import the Cloud Score Plus collection\n",
        "    cs = ee.ImageCollection(csPlus_product)\n",
        "\n",
        "    # Link the Sentinel-2 and Cloud Score Plus collections\n",
        "    s2_linked_collection = sentinel2.linkCollection(cs, [QA_BAND])\n",
        "\n",
        "    # Define a function to mask clouds based on the Cloud Score Plus score\n",
        "    def cloudMask(image):\n",
        "        qa = image.select(QA_BAND)\n",
        "        mask = qa.gte(clr_thres)\n",
        "        return image.updateMask(mask)\n",
        "\n",
        "    # Apply the cloud mask function to the linked collection\n",
        "    s2_masked_collection = s2_linked_collection.map(cloudMask)\n",
        "\n",
        "    # Create a S2 median composite image\n",
        "    s2_median_composite = s2_masked_collection.median()\n",
        "\n",
        "    # Define the Sentinel-1 image collection and filter by date and region.\n",
        "    sentinel1 = ee.ImageCollection(s1_product) \\\n",
        "        .filterDate(min_date, max_date) \\\n",
        "        .filterBounds(region) \\\n",
        "        .filter(ee.Filter.listContains('transmitterReceiverPolarisation', 'VV')) \\\n",
        "        .filter(ee.Filter.listContains('transmitterReceiverPolarisation', 'VH')) \\\n",
        "        .filter(ee.Filter.eq('instrumentMode', 'IW')) \\\n",
        "        .map(lambda img: add_vv_vh_ratio(img))\n",
        "\n",
        "    # Create a S1 median composite image\n",
        "    s1_median_composite = sentinel1.median()\n",
        "\n",
        "    # Combine S1 and S2 collections into one image\n",
        "    combined_image = s2_median_composite.addBands(s1_median_composite);\n",
        "\n",
        "    # Apply the export function.\n",
        "    image = ee.Image(combined_image)\n",
        "    export_image(image=image,region=region_4326,scale=scale,crs=crs,crsTransform=crsTransform,filename_prefix=filename_prefix,bands=bands,export_folder=export_folder)\n",
        "    print(\"Export tasks should be complete.\")\n",
        "\n",
        "\n"
      ],
      "metadata": {
        "colab": {
          "base_uri": "https://localhost:8080/",
          "height": 0
        },
        "id": "Y_vjtPIH67kw",
        "outputId": "39fa6df8-d641-45a8-d3e7-037960dfa6cb"
      },
      "execution_count": 14,
      "outputs": [
        {
          "output_type": "display_data",
          "data": {
            "text/plain": [
              "<IPython.core.display.HTML object>"
            ],
            "text/html": [
              "\n",
              "            <style>\n",
              "                .geemap-dark {\n",
              "                    --jp-widgets-color: white;\n",
              "                    --jp-widgets-label-color: white;\n",
              "                    --jp-ui-font-color1: white;\n",
              "                    --jp-layout-color2: #454545;\n",
              "                    background-color: #383838;\n",
              "                }\n",
              "\n",
              "                .geemap-dark .jupyter-button {\n",
              "                    --jp-layout-color3: #383838;\n",
              "                }\n",
              "\n",
              "                .geemap-colab {\n",
              "                    background-color: var(--colab-primary-surface-color, white);\n",
              "                }\n",
              "\n",
              "                .geemap-colab .jupyter-button {\n",
              "                    --jp-layout-color3: var(--colab-primary-surface-color, white);\n",
              "                }\n",
              "            </style>\n",
              "            "
            ]
          },
          "metadata": {}
        }
      ]
    },
    {
      "cell_type": "code",
      "source": [
        "def plot_s1_images(\n",
        "    region,\n",
        "    bands = ['VV', 'VH'],\n",
        "    product='COPERNICUS/S1_GRD',\n",
        "    min_date='2024-06-01',\n",
        "    max_date='2024-07-01'\n",
        "):\n",
        "\n",
        "    \"\"\"Generates Sentinel-1 images from Google Earth Engine using the Python Earth Engine API.\n",
        "\n",
        "    Args:\n",
        "      region (ee.Geometry): The geometry of the area of interest to filter to.\n",
        "      bands: List of bands\n",
        "      product (str): Earth Engine asset ID\n",
        "        You can find the full list of ImageCollection IDs\n",
        "        at https://developers.google.com/earth-engine/datasets\n",
        "      min_date (str): Minimum date to acquire collection of satellite images\n",
        "      max_date (str): Maximum date to acquire collection of satellite images\n",
        "\n",
        "    Returns:\n",
        "      Map\n",
        "    \"\"\"\n",
        "\n",
        "    # Define the Sentinel-1 image collection and filter by date and region.\n",
        "    sentinel1 = ee.ImageCollection(product) \\\n",
        "        .filterDate(min_date, max_date) \\\n",
        "        .filterBounds(region) \\\n",
        "        .filter(ee.Filter.eq('instrumentMode', 'IW'))  # Interferometric Wide (IW) swath mode\n",
        "\n",
        "    # Get the most recent image in the collection.\n",
        "    most_recent_image = sentinel1.sort('system:time_start', False).first().clip(region)\n",
        "\n",
        "    # Select the VV and VH bands.\n",
        "    vv_vh_image = most_recent_image.select(['VV', 'VH'])\n",
        "\n",
        "    # Create a map.\n",
        "    location = region.centroid().coordinates().getInfo()[::-1]\n",
        "    Map = geemap.Map(center=location, zoom=10, basemap='SATELLITE')\n",
        "\n",
        "    # Add Google TERRAIN as a base map.\n",
        "    Map.add_basemap('TERRAIN')\n",
        "\n",
        "    # Define visualization parameters for the VV and VH bands.\n",
        "    #vv_vis_params = {\n",
        "    #    'min': -25,\n",
        "    #    'max': 0,\n",
        "    #    'palette': ['blue', 'white', 'green']\n",
        "    #}\n",
        "    vv_vis_params = {\n",
        "        'min': -25,\n",
        "        'max': 0,\n",
        "        'palette': ['black', 'white']\n",
        "    }\n",
        "\n",
        "\n",
        "    vh_vis_params = {\n",
        "        'min': -25,\n",
        "        'max': 0,\n",
        "        'palette': ['purple', 'white', 'orange']\n",
        "    }\n",
        "\n",
        "    # Make an RGB color composite image (VV,VH,VV/VH).\n",
        "    rgb = ee.Image.rgb(vv_vh_image.select('VV'),\n",
        "                       vv_vh_image.select('VH'),\n",
        "                       vv_vh_image.select('VV').divide(vv_vh_image.select('VH')))\n",
        "\n",
        "\n",
        "    # Add the S1 rgb composite to the map object.\n",
        "    Map.addLayer(rgb, {'min': [-25, -25, 0], 'max': [0, 0, 2]}, 'Fake S1 RGB')\n",
        "\n",
        "    # Add the VV band layer to the map.\n",
        "    Map.addLayer(vv_vh_image.select('VV'), vv_vis_params, 'VV Band')\n",
        "\n",
        "    # Add the VH band layer to the map.\n",
        "    Map.addLayer(vv_vh_image.select('VH'), vh_vis_params, 'VH Band')\n",
        "\n",
        "    # Add the region of interest as a layer.\n",
        "    Map.addLayer(region, {}, 'Region of Interest')\n",
        "\n",
        "    # Display the map.\n",
        "    Map.addLayerControl()  # This line will add a layer control to toggle the layers on/off.\n",
        "    return Map\n"
      ],
      "metadata": {
        "id": "VAElPNUi-sho",
        "colab": {
          "base_uri": "https://localhost:8080/",
          "height": 0
        },
        "outputId": "b1e6c28a-11de-4842-efca-78f2aa65d309"
      },
      "execution_count": 15,
      "outputs": [
        {
          "output_type": "display_data",
          "data": {
            "text/plain": [
              "<IPython.core.display.HTML object>"
            ],
            "text/html": [
              "\n",
              "            <style>\n",
              "                .geemap-dark {\n",
              "                    --jp-widgets-color: white;\n",
              "                    --jp-widgets-label-color: white;\n",
              "                    --jp-ui-font-color1: white;\n",
              "                    --jp-layout-color2: #454545;\n",
              "                    background-color: #383838;\n",
              "                }\n",
              "\n",
              "                .geemap-dark .jupyter-button {\n",
              "                    --jp-layout-color3: #383838;\n",
              "                }\n",
              "\n",
              "                .geemap-colab {\n",
              "                    background-color: var(--colab-primary-surface-color, white);\n",
              "                }\n",
              "\n",
              "                .geemap-colab .jupyter-button {\n",
              "                    --jp-layout-color3: var(--colab-primary-surface-color, white);\n",
              "                }\n",
              "            </style>\n",
              "            "
            ]
          },
          "metadata": {}
        }
      ]
    },
    {
      "cell_type": "code",
      "source": [
        "def plot_s2_images(\n",
        "    region,\n",
        "    bands=['B4', 'B3', 'B2', 'B8', 'B11', 'B12'],\n",
        "    product='COPERNICUS/S2_SR_HARMONIZED',\n",
        "    min_date='2024-06-01',\n",
        "    max_date='2024-07-01',\n",
        "    cloud_pct=10\n",
        "):\n",
        "\n",
        "    \"\"\"Generates Sentinel-2 images from Google Earth Engine using the Python Earth Engine API.\n",
        "\n",
        "    Args:\n",
        "      region (ee.Geometry): The geometry of the area of interest to filter to.\n",
        "      bands: List of bands\n",
        "      product (str): Earth Engine asset ID\n",
        "        You can find the full list of ImageCollection IDs\n",
        "        at https://developers.google.com/earth-engine/datasets\n",
        "      min_date (str): Minimum date to acquire collection of satellite images\n",
        "      max_date (str): Maximum date to acquire collection of satellite images\n",
        "\n",
        "    Returns:\n",
        "      Map\n",
        "    \"\"\"\n",
        "\n",
        "    # Define the Sentinel-2 image collection and filter by date and region.\n",
        "    # Generate collection of images\n",
        "    sentinel2 = ee.ImageCollection(product)\\\n",
        "        .filterBounds(region)\\\n",
        "        .filterDate(str(min_date), str(max_date))\\\n",
        "        .filter(ee.Filter.lt(\"CLOUDY_PIXEL_PERCENTAGE\", cloud_pct))\n",
        "\n",
        "    # Get the most recent image in the collection.\n",
        "    most_recent_image = sentinel2.sort('system:time_start', False).first().clip(region)\n",
        "\n",
        "    # Select the bands to plot.\n",
        "    s2_image = most_recent_image.select(bands)\n",
        "\n",
        "    # Select all bands\n",
        "    band_names = s2_image.bandNames().getInfo()\n",
        "\n",
        "    # Create an RGB visualization layer (bands 4, 3, 2 correspond to Red, Green, Blue)\n",
        "    rgb_viz_params = {\n",
        "        'bands': ['B4', 'B3', 'B2'],  # Red, Green, Blue\n",
        "        'min': 0,\n",
        "        'max': 3000,\n",
        "        'gamma': [0.95, 1.1, 1]\n",
        "    }\n",
        "\n",
        "    # Create a map.\n",
        "    location = region.centroid().coordinates().getInfo()[::-1]\n",
        "    Map = geemap.Map(center=location, zoom=10, basemap='SATELLITE')\n",
        "\n",
        "    # Add Google TERRAIN as a base map.\n",
        "    Map.add_basemap('TERRAIN')\n",
        "\n",
        "    # Add all individual bands as layers\n",
        "    for band in band_names:\n",
        "        Map.addLayer(s2_image.select(band), {'min': 0, 'max': 3000}, f'Sentinel-2 {band}')\n",
        "\n",
        "    # Add the RGB visualization layer\n",
        "    Map.addLayer(s2_image, rgb_viz_params, 'Sentinel-2 RGB')\n",
        "\n",
        "    # Add the region of interest as a layer.\n",
        "    Map.addLayer(region, {}, 'Region of Interest')\n",
        "\n",
        "    # Display the map.\n",
        "    Map.addLayerControl()  # This line will add a layer control to toggle the layers on/off.\n",
        "    return Map\n"
      ],
      "metadata": {
        "id": "7cIqCcXLYlC7",
        "colab": {
          "base_uri": "https://localhost:8080/",
          "height": 0
        },
        "outputId": "20e29dad-df82-4633-e941-590eddfeea1e"
      },
      "execution_count": 16,
      "outputs": [
        {
          "output_type": "display_data",
          "data": {
            "text/plain": [
              "<IPython.core.display.HTML object>"
            ],
            "text/html": [
              "\n",
              "            <style>\n",
              "                .geemap-dark {\n",
              "                    --jp-widgets-color: white;\n",
              "                    --jp-widgets-label-color: white;\n",
              "                    --jp-ui-font-color1: white;\n",
              "                    --jp-layout-color2: #454545;\n",
              "                    background-color: #383838;\n",
              "                }\n",
              "\n",
              "                .geemap-dark .jupyter-button {\n",
              "                    --jp-layout-color3: #383838;\n",
              "                }\n",
              "\n",
              "                .geemap-colab {\n",
              "                    background-color: var(--colab-primary-surface-color, white);\n",
              "                }\n",
              "\n",
              "                .geemap-colab .jupyter-button {\n",
              "                    --jp-layout-color3: var(--colab-primary-surface-color, white);\n",
              "                }\n",
              "            </style>\n",
              "            "
            ]
          },
          "metadata": {}
        }
      ]
    },
    {
      "cell_type": "code",
      "source": [
        "def plot_s2_cloudless_images(\n",
        "    region,\n",
        "    airstrip_gdf,\n",
        "    bands=['B4', 'B3', 'B2', 'B8', 'B11', 'B12'],\n",
        "    product='COPERNICUS/S2_HARMONIZED',\n",
        "    csPlus_product='GOOGLE/CLOUD_SCORE_PLUS/V1/S2_HARMONIZED',\n",
        "    min_date='2020-01-01',\n",
        "    max_date='2021-12-31',\n",
        "    QA_BAND='cs_cdf',\n",
        "    clr_thres=0.60\n",
        "):\n",
        "\n",
        "    \"\"\"Generates Sentinel-2 images from GEE using the Python API.\n",
        "\n",
        "    Args:\n",
        "      region (ee.Geometry): The geometry of the area of interest to filter to\n",
        "      airstrip_gdf: GeoDataFrame containing the airstrips\n",
        "      bands: List of bands\n",
        "      product (str): Earth Engine asset ID\n",
        "        You can find the full list of ImageCollection IDs\n",
        "        at https://developers.google.com/earth-engine/datasets\n",
        "      cdPlus_prodict: Not really an option..\n",
        "      min_date (str): Minimum date to acquire collection of satellite images\n",
        "      max_date (str): Maximum date to acquire collection of satellite images\n",
        "      QA_BAND (str): Use 'cs' or 'cs_cdf', depending on your use case;\n",
        "        see docs for guidance.\n",
        "      clr_thres (float): The threshold for masking; values between 0.50 and\n",
        "        0.65 generally work well.\n",
        "\n",
        "    Returns:\n",
        "      Map\n",
        "    \"\"\"\n",
        "\n",
        "    # Generate collection of images\n",
        "    sentinel2 = ee.ImageCollection(product)\\\n",
        "        .filterBounds(region)\\\n",
        "        .filterDate(str(min_date), str(max_date))\n",
        "\n",
        "    # Import the Cloud Score Plus collection\n",
        "    cs = ee.ImageCollection(csPlus_product)\n",
        "\n",
        "    # Link the Sentinel-2 and Cloud Score Plus collections\n",
        "    linked_collection = sentinel2.linkCollection(cs, [QA_BAND])\n",
        "\n",
        "    # Define a function to mask clouds based on the Cloud Score Plus score\n",
        "    def cloudMask(image):\n",
        "        qa = image.select(QA_BAND)\n",
        "        mask = qa.gte(clr_thres)\n",
        "        return image.updateMask(mask)\n",
        "\n",
        "    # Apply the cloud mask function to the linked collection\n",
        "    masked_collection = linked_collection.map(cloudMask)\n",
        "\n",
        "    # Create a median composite image\n",
        "    median_composite = masked_collection.median().clip(region)\n",
        "\n",
        "    # Select the bands\n",
        "    s2_image = median_composite.select(bands)\n",
        "\n",
        "    # Extract the band names\n",
        "    band_names = s2_image.bandNames().getInfo()\n",
        "\n",
        "    # Create an RGB visualization layer (bands 4, 3, 2 correspond to Red, Green, Blue)\n",
        "    rgb_viz_params = {\n",
        "        'bands': ['B4', 'B3', 'B2'],  # Red, Green, Blue\n",
        "        'min': 0,\n",
        "        'max': 3000,\n",
        "        'gamma': 1.9\n",
        "    }\n",
        "\n",
        "    # List to store the intersecting geometries\n",
        "    intersecting_geometries = []\n",
        "\n",
        "    # Loop through each geometry in the GeoPandas DataFrame\n",
        "    for index, row in airstrip_gdf.iterrows():\n",
        "        # Convert GeoPandas geometry to GeoJSON\n",
        "        geom_geojson = row['geometry'].__geo_interface__\n",
        "\n",
        "        # Convert GeoJSON to Earth Engine Geometry\n",
        "        geom_ee = ee.Geometry(geom_geojson)\n",
        "\n",
        "        # Check if the geometry intersects with the ee.Geometry object\n",
        "        if geom_ee.intersects(region).getInfo():\n",
        "            intersecting_geometries.append(geom_ee)\n",
        "\n",
        "\n",
        "    # Create a map.\n",
        "    location = region.centroid().coordinates().getInfo()[::-1]\n",
        "    #Map = geemap.Map(center=location, zoom=12, basemap='SATELLITE')\n",
        "    Map = geemap.Map(center=location, zoom=12)\n",
        "    Map.add_basemap('SATELLITE')\n",
        "\n",
        "\n",
        "    # Add all individual bands as layers\n",
        "    #for band in band_names:\n",
        "    #    Map.addLayer(s2_image.select(band), {'min': 0, 'max': 3000}, f'Sentinel-2 {band}')\n",
        "\n",
        "    # Add the RGB visualization layer\n",
        "    Map.addLayer(median_composite, rgb_viz_params, 'Sentinel-2 RGB')\n",
        "\n",
        "    # Add the region of interest as a layer.\n",
        "    #Map.addLayer(region, {'color': 'red', 'width': 1, 'fillColor': None}, 'Region of Interest')\n",
        "\n",
        "    # Add the intersecting geometries to the map\n",
        "    for index, geom in enumerate(intersecting_geometries):\n",
        "        Map.addLayer(geom, {'color': 'blue'}, f'Intersecting Airstrip {index}')\n",
        "\n",
        "    # Display the map.\n",
        "    Map.addLayerControl()  # This line will add a layer control to toggle the layers on/off.\n",
        "    return Map\n"
      ],
      "metadata": {
        "id": "yVFHiNzoetUB",
        "outputId": "907612c5-bcb4-458d-8866-33304d3da0cc",
        "colab": {
          "base_uri": "https://localhost:8080/",
          "height": 0
        }
      },
      "execution_count": 17,
      "outputs": [
        {
          "output_type": "display_data",
          "data": {
            "text/plain": [
              "<IPython.core.display.HTML object>"
            ],
            "text/html": [
              "\n",
              "            <style>\n",
              "                .geemap-dark {\n",
              "                    --jp-widgets-color: white;\n",
              "                    --jp-widgets-label-color: white;\n",
              "                    --jp-ui-font-color1: white;\n",
              "                    --jp-layout-color2: #454545;\n",
              "                    background-color: #383838;\n",
              "                }\n",
              "\n",
              "                .geemap-dark .jupyter-button {\n",
              "                    --jp-layout-color3: #383838;\n",
              "                }\n",
              "\n",
              "                .geemap-colab {\n",
              "                    background-color: var(--colab-primary-surface-color, white);\n",
              "                }\n",
              "\n",
              "                .geemap-colab .jupyter-button {\n",
              "                    --jp-layout-color3: var(--colab-primary-surface-color, white);\n",
              "                }\n",
              "            </style>\n",
              "            "
            ]
          },
          "metadata": {}
        }
      ]
    },
    {
      "cell_type": "code",
      "source": [
        "def create_sentinel2_timelapse(region, start_date, end_date, output_video_path):\n",
        "    # Load Sentinel-2 data and filter by date and region\n",
        "    collection = ee.ImageCollection('COPERNICUS/S2_SR_HARMONIZED')\\\n",
        "                  .filterDate(start_date, end_date)\\\n",
        "                  .filterBounds(region)\\\n",
        "                  .filter(ee.Filter.lt('CLOUDY_PIXEL_PERCENTAGE', 10))\n",
        "\n",
        "    count = collection.size()\n",
        "    print('Number of images in the collection:',count.getInfo())\n",
        "\n",
        "\n",
        "    # Define visualization parameters for the RGB composite\n",
        "    vis_params = {\n",
        "        'bands': ['B4', 'B3', 'B2'],  # Red, Green, Blue bands\n",
        "        'min': 0,\n",
        "        'max': 3000,\n",
        "        'gamma': 1.1\n",
        "    }\n",
        "\n",
        "    # Set timelapse parameters\n",
        "    timelapse_params = {\n",
        "        'bands': ['B4', 'B3', 'B2'],  # Use RGB bands\n",
        "        'start_date': start_date,\n",
        "        'end_date': end_date,\n",
        "        'frequency': 'month',  # Time intervals\n",
        "        'reducer': 'median',  # Use median exposure\n",
        "        'date_format': 'YYYY-MM-dd',\n",
        "        'dimensions': 720,\n",
        "        'frames_per_second': 1,  # Adjust FPS for video\n",
        "        'crs': 'EPSG:4326',\n",
        "        'vis_params': vis_params\n",
        "    }\n",
        "\n",
        "\n",
        "    # Generate time-lapse and export to video\n",
        "    timelapse = geemap.create_timelapse(\n",
        "        collection=collection,\n",
        "        region=region,\n",
        "        out_gif=output_video_path,\n",
        "        **timelapse_params\n",
        "    )\n"
      ],
      "metadata": {
        "id": "PFV1ikaJ7ZaZ",
        "colab": {
          "base_uri": "https://localhost:8080/",
          "height": 0
        },
        "outputId": "142ca1f0-de7a-4004-f66f-9e6d213ace29"
      },
      "execution_count": 18,
      "outputs": [
        {
          "output_type": "display_data",
          "data": {
            "text/plain": [
              "<IPython.core.display.HTML object>"
            ],
            "text/html": [
              "\n",
              "            <style>\n",
              "                .geemap-dark {\n",
              "                    --jp-widgets-color: white;\n",
              "                    --jp-widgets-label-color: white;\n",
              "                    --jp-ui-font-color1: white;\n",
              "                    --jp-layout-color2: #454545;\n",
              "                    background-color: #383838;\n",
              "                }\n",
              "\n",
              "                .geemap-dark .jupyter-button {\n",
              "                    --jp-layout-color3: #383838;\n",
              "                }\n",
              "\n",
              "                .geemap-colab {\n",
              "                    background-color: var(--colab-primary-surface-color, white);\n",
              "                }\n",
              "\n",
              "                .geemap-colab .jupyter-button {\n",
              "                    --jp-layout-color3: var(--colab-primary-surface-color, white);\n",
              "                }\n",
              "            </style>\n",
              "            "
            ]
          },
          "metadata": {}
        }
      ]
    },
    {
      "cell_type": "code",
      "source": [
        "def create_geotiff_timelapse(dir_path, output_gif):\n",
        "    \"\"\"\n",
        "    Creates a timelapse animation from GeoTIFF files in a directory.\n",
        "\n",
        "    Args:\n",
        "        dir_path (str): Path to the directory containing GeoTIFF files.\n",
        "        output_gif (str): Name of the output GIF file.\n",
        "    \"\"\"\n",
        "    geotiff_files = [f for f in os.listdir(dir_path) if f.endswith('.tif')]\n",
        "    geotiff_files.sort()  # Sort files to ensure correct order\n",
        "    images = []\n",
        "    for file in geotiff_files:\n",
        "        file_path = os.path.join(dir_path, file)\n",
        "        with rio.open(file_path) as src:\n",
        "            image = src.read()\n",
        "            num_bands = src.count\n",
        "            bands = src.descriptions\n",
        "\n",
        "            # Extract date from filename using regular expression\n",
        "            match = re.search(r'(\\d{4}-\\d{2}-\\d{2})', file)\n",
        "            if match:\n",
        "                date_str = match.group(1)\n",
        "            else:\n",
        "                date_str = 'Date not found'\n",
        "\n",
        "            fig, axes = plt.subplots(1, num_bands, figsize=(30, 8))\n",
        "            for i in range(num_bands):\n",
        "                #show(image[i], ax=axes[i], cmap='gray', title=f'Band {i+1}')\n",
        "                show(image[i], ax=axes[i], cmap='gray', title=bands[i])\n",
        "            plt.suptitle(f'Date: {date_str}')  # Set date as figure title\n",
        "            plt.tight_layout()\n",
        "            temp_file = 'temp_plot.png'\n",
        "            plt.savefig(temp_file)\n",
        "            plt.close()\n",
        "            images.append(imageio.imread(temp_file))\n",
        "            os.remove(temp_file)\n",
        "    imageio.mimsave(output_gif, images, fps=0.5)\n"
      ],
      "metadata": {
        "id": "grDDSpwIUPT8",
        "outputId": "a5e06574-a935-4d31-e3b4-96367cfb326f",
        "colab": {
          "base_uri": "https://localhost:8080/",
          "height": 0
        }
      },
      "execution_count": 19,
      "outputs": [
        {
          "output_type": "display_data",
          "data": {
            "text/plain": [
              "<IPython.core.display.HTML object>"
            ],
            "text/html": [
              "\n",
              "            <style>\n",
              "                .geemap-dark {\n",
              "                    --jp-widgets-color: white;\n",
              "                    --jp-widgets-label-color: white;\n",
              "                    --jp-ui-font-color1: white;\n",
              "                    --jp-layout-color2: #454545;\n",
              "                    background-color: #383838;\n",
              "                }\n",
              "\n",
              "                .geemap-dark .jupyter-button {\n",
              "                    --jp-layout-color3: #383838;\n",
              "                }\n",
              "\n",
              "                .geemap-colab {\n",
              "                    background-color: var(--colab-primary-surface-color, white);\n",
              "                }\n",
              "\n",
              "                .geemap-colab .jupyter-button {\n",
              "                    --jp-layout-color3: var(--colab-primary-surface-color, white);\n",
              "                }\n",
              "            </style>\n",
              "            "
            ]
          },
          "metadata": {}
        }
      ]
    },
    {
      "cell_type": "code",
      "source": [
        "def load_and_plot_geotiffs(directory, output_file, max_images=72, grid_size=(12, 6)):\n",
        "    # List all GeoTIFF files in the directory\n",
        "    files = [os.path.join(directory, f) for f in os.listdir(directory) if f.endswith('.tif')]\n",
        "    files.sort()  # Sort files to ensure correct order\n",
        "    files = files[:max_images]  # Limit to max_images\n",
        "\n",
        "    if len(files) == 0:\n",
        "        print(\"No GeoTIFF files found in the directory.\")\n",
        "        return\n",
        "\n",
        "    # Set up the figure (no spaces between plots, no axes)\n",
        "    fig, axes = plt.subplots(grid_size[0], grid_size[1], figsize=(grid_size[1] * 2, grid_size[0] * 2))\n",
        "    plt.subplots_adjust(wspace=0, hspace=0)\n",
        "\n",
        "    # Loop through files and plot them\n",
        "    for idx, file in enumerate(files):\n",
        "        row, col = divmod(idx, grid_size[1])  # Calculate the row and column for the grid\n",
        "\n",
        "        # Open the GeoTIFF file\n",
        "        with rio.open(file) as src:\n",
        "            # Read the RGB bands (B4, B3, B2). We need to find their indices\n",
        "            # as they can be stored differently...\n",
        "            bands = src.descriptions\n",
        "            B4_idx = bands.index('B4') + 1\n",
        "            B3_idx = bands.index('B3') + 1\n",
        "            B2_idx = bands.index('B2') + 1\n",
        "            b4 = src.read(B4_idx)  # Red\n",
        "            b3 = src.read(B3_idx)  # Green\n",
        "            b2 = src.read(B2_idx)  # Blue\n",
        "\n",
        "            # Normalize the bands to range [0, 1] for plotting\n",
        "            def normalize(band):\n",
        "                return (band - band.min()) / (band.max() - band.min())\n",
        "\n",
        "            rgb_image = np.dstack([normalize(b4), normalize(b3), normalize(b2)])\n",
        "\n",
        "        # Plot the image in the grid\n",
        "        ax = axes[row, col]\n",
        "        ax.imshow(rgb_image)\n",
        "        ax.axis('off')  # Disable axes\n",
        "        # Overlay filename\n",
        "        # Extract date from filename using regular expression\n",
        "        match = re.search(r'(\\d{4}-\\d{2}-\\d{2})', file)\n",
        "        if match:\n",
        "            date_str = match.group(1)\n",
        "        else:\n",
        "            date_str = 'Date not found'\n",
        "        ax.text(0.5,\n",
        "                   0.9,\n",
        "                   date_str,\n",
        "                   ha='center',\n",
        "                   va='center',\n",
        "                   transform=ax.transAxes,\n",
        "                   color='white')\n",
        "\n",
        "\n",
        "    # Remove remaining empty axes\n",
        "    for idx in range(len(files), grid_size[0] * grid_size[1]):\n",
        "        row, col = divmod(idx, grid_size[1])\n",
        "        fig.delaxes(axes[row, col])\n",
        "\n",
        "    # Save the result\n",
        "    plt.savefig(output_file, bbox_inches='tight', pad_inches=0)\n",
        "    plt.close()\n"
      ],
      "metadata": {
        "colab": {
          "base_uri": "https://localhost:8080/",
          "height": 0
        },
        "id": "VzQ8yEFjYMUU",
        "outputId": "0dd92110-d2b6-442e-ac03-dfe411a2f0ba"
      },
      "execution_count": 20,
      "outputs": [
        {
          "output_type": "display_data",
          "data": {
            "text/plain": [
              "<IPython.core.display.HTML object>"
            ],
            "text/html": [
              "\n",
              "            <style>\n",
              "                .geemap-dark {\n",
              "                    --jp-widgets-color: white;\n",
              "                    --jp-widgets-label-color: white;\n",
              "                    --jp-ui-font-color1: white;\n",
              "                    --jp-layout-color2: #454545;\n",
              "                    background-color: #383838;\n",
              "                }\n",
              "\n",
              "                .geemap-dark .jupyter-button {\n",
              "                    --jp-layout-color3: #383838;\n",
              "                }\n",
              "\n",
              "                .geemap-colab {\n",
              "                    background-color: var(--colab-primary-surface-color, white);\n",
              "                }\n",
              "\n",
              "                .geemap-colab .jupyter-button {\n",
              "                    --jp-layout-color3: var(--colab-primary-surface-color, white);\n",
              "                }\n",
              "            </style>\n",
              "            "
            ]
          },
          "metadata": {}
        }
      ]
    },
    {
      "cell_type": "code",
      "source": [
        "def latlon_to_utm_epsg(lat, lon):\n",
        "    \"\"\"\n",
        "    Calculate the UTM EPSG code for a given latitude and longitude.\n",
        "\n",
        "    Parameters:\n",
        "        lat (float): Latitude in EPSG:4326 (degrees).\n",
        "        lon (float): Longitude in EPSG:4326 (degrees).\n",
        "\n",
        "    Returns:\n",
        "        str: EPSG code for the corresponding UTM zone.\n",
        "    \"\"\"\n",
        "    # Determine UTM zone number based on longitude\n",
        "    utm_zone = int((lon + 180) // 6) + 1\n",
        "\n",
        "    # Determine if the point is in the northern or southern hemisphere\n",
        "    if lat >= 0:\n",
        "        epsg_code = 32600 + utm_zone  # Northern hemisphere\n",
        "    else:\n",
        "        epsg_code = 32700 + utm_zone  # Southern hemisphere\n",
        "\n",
        "    return f'EPSG:{epsg_code}'\n"
      ],
      "metadata": {
        "id": "ekfk5l2McnrK",
        "outputId": "df885090-ea1c-4f5e-ae16-acb7d994fae9",
        "colab": {
          "base_uri": "https://localhost:8080/",
          "height": 0
        }
      },
      "execution_count": 21,
      "outputs": [
        {
          "output_type": "display_data",
          "data": {
            "text/plain": [
              "<IPython.core.display.HTML object>"
            ],
            "text/html": [
              "\n",
              "            <style>\n",
              "                .geemap-dark {\n",
              "                    --jp-widgets-color: white;\n",
              "                    --jp-widgets-label-color: white;\n",
              "                    --jp-ui-font-color1: white;\n",
              "                    --jp-layout-color2: #454545;\n",
              "                    background-color: #383838;\n",
              "                }\n",
              "\n",
              "                .geemap-dark .jupyter-button {\n",
              "                    --jp-layout-color3: #383838;\n",
              "                }\n",
              "\n",
              "                .geemap-colab {\n",
              "                    background-color: var(--colab-primary-surface-color, white);\n",
              "                }\n",
              "\n",
              "                .geemap-colab .jupyter-button {\n",
              "                    --jp-layout-color3: var(--colab-primary-surface-color, white);\n",
              "                }\n",
              "            </style>\n",
              "            "
            ]
          },
          "metadata": {}
        }
      ]
    },
    {
      "cell_type": "markdown",
      "source": [
        "## Sentinel data\n",
        "\n",
        "For the training and test data sets, we use the shape files provided by the Zindi team.\n",
        "\n",
        "Each training record contains columns for id, year of detection, largo (length in meters), Activo (activity status at the time of the competition), and geometry of type *LINESTRING* with coordinates (LNG LAT) which define points along the airstrip. For each airstrip, we'll define a square AOI to define a boundary when downloading Sentinel data.\n",
        "\n",
        "For the test data set, the record contains the bounding box for each area. We use the bounding box to define the area requested from Google Earth Engine and make sure the Sentinel pixel grid is precisely aligned."
      ],
      "metadata": {
        "id": "zF6L5ZGyJi9N"
      }
    },
    {
      "cell_type": "markdown",
      "source": [
        "### Select the bands for both Sentinel 1 and 2\n",
        "\n",
        "Not all bands may be used by the model, but it is better to have access to the bands in the GeoTIFF file should we decide to include more bands / channels at a later time.\n",
        "\n",
        "In addition to the RGB bands (B4, B3, B2), we include the NIR, SWIR 1, and SWIR 2 bands. For the Sentinel 1 bands, we include bands VV and VH, and the ratio of those bands will be calculed before exporting the final GeoTIFF file."
      ],
      "metadata": {
        "id": "OojUk3fq1SPl"
      }
    },
    {
      "cell_type": "code",
      "source": [
        "s1_bands = ['VV', 'VH']\n",
        "s2_bands = ['B4', 'B3', 'B2', 'B8', 'B11', 'B12']"
      ],
      "metadata": {
        "id": "BJ6tlejnuWP4",
        "colab": {
          "base_uri": "https://localhost:8080/",
          "height": 17
        },
        "outputId": "451a3b33-56fe-4bca-fc12-2f316fcf4be6"
      },
      "execution_count": 22,
      "outputs": [
        {
          "output_type": "display_data",
          "data": {
            "text/plain": [
              "<IPython.core.display.HTML object>"
            ],
            "text/html": [
              "\n",
              "            <style>\n",
              "                .geemap-dark {\n",
              "                    --jp-widgets-color: white;\n",
              "                    --jp-widgets-label-color: white;\n",
              "                    --jp-ui-font-color1: white;\n",
              "                    --jp-layout-color2: #454545;\n",
              "                    background-color: #383838;\n",
              "                }\n",
              "\n",
              "                .geemap-dark .jupyter-button {\n",
              "                    --jp-layout-color3: #383838;\n",
              "                }\n",
              "\n",
              "                .geemap-colab {\n",
              "                    background-color: var(--colab-primary-surface-color, white);\n",
              "                }\n",
              "\n",
              "                .geemap-colab .jupyter-button {\n",
              "                    --jp-layout-color3: var(--colab-primary-surface-color, white);\n",
              "                }\n",
              "            </style>\n",
              "            "
            ]
          },
          "metadata": {}
        }
      ]
    },
    {
      "cell_type": "markdown",
      "source": [
        "### Read the shapefile for the training set and print information about the first few entries"
      ],
      "metadata": {
        "id": "3lJt9Wqs1mzv"
      }
    },
    {
      "cell_type": "code",
      "source": [
        "# Read the shapefile for the training dataset\n",
        "airstrip_training_gdf = gpd.read_file(airstrip_training_path)\n",
        "\n",
        "# Display the data for information\n",
        "print(airstrip_training_gdf.head(5).to_markdown(), \"\\n\")\n",
        "print(airstrip_training_gdf.info(), \"\\n\")"
      ],
      "metadata": {
        "colab": {
          "base_uri": "https://localhost:8080/",
          "height": 399
        },
        "id": "ygubMkFvKog8",
        "outputId": "ed1f7c37-5384-49ab-b43e-ec129ee2b295",
        "collapsed": true
      },
      "execution_count": 23,
      "outputs": [
        {
          "output_type": "display_data",
          "data": {
            "text/plain": [
              "<IPython.core.display.HTML object>"
            ],
            "text/html": [
              "\n",
              "            <style>\n",
              "                .geemap-dark {\n",
              "                    --jp-widgets-color: white;\n",
              "                    --jp-widgets-label-color: white;\n",
              "                    --jp-ui-font-color1: white;\n",
              "                    --jp-layout-color2: #454545;\n",
              "                    background-color: #383838;\n",
              "                }\n",
              "\n",
              "                .geemap-dark .jupyter-button {\n",
              "                    --jp-layout-color3: #383838;\n",
              "                }\n",
              "\n",
              "                .geemap-colab {\n",
              "                    background-color: var(--colab-primary-surface-color, white);\n",
              "                }\n",
              "\n",
              "                .geemap-colab .jupyter-button {\n",
              "                    --jp-layout-color3: var(--colab-primary-surface-color, white);\n",
              "                }\n",
              "            </style>\n",
              "            "
            ]
          },
          "metadata": {}
        },
        {
          "output_type": "stream",
          "name": "stdout",
          "text": [
            "|    |   id |   yr |    largo |   Activo | geometry                                                                                                                            |\n",
            "|---:|-----:|-----:|---------:|---------:|:------------------------------------------------------------------------------------------------------------------------------------|\n",
            "|  0 |    1 | 2023 |  968.918 |        0 | LINESTRING (-70.08928656863503 -13.129844039931504, -70.08052787039317 -13.128251134052485, -70.08052787039317 -13.128251134052485) |\n",
            "|  1 |    2 | 2022 | 1105.49  |        0 | LINESTRING (-69.16744237255283 -13.620679758207931, -69.1728593987747 -13.612261251288524)                                          |\n",
            "|  2 |    3 | 2015 |  985.018 |        0 | LINESTRING (-69.14224792429687 -13.694510447986984, -69.14189616934739 -13.685654549844925)                                         |\n",
            "|  3 |    4 | 2020 |  681.914 |        0 | LINESTRING (-69.07843632939438 -13.787902019520923, -69.08404112675193 -13.7906640035937)                                           |\n",
            "|  4 |    5 | 2020 |  699.552 |        0 | LINESTRING (-69.07838092777308 -13.787884084452626, -69.08279459027209 -13.78330162936446)                                          | \n",
            "\n",
            "<class 'geopandas.geodataframe.GeoDataFrame'>\n",
            "RangeIndex: 154 entries, 0 to 153\n",
            "Data columns (total 5 columns):\n",
            " #   Column    Non-Null Count  Dtype   \n",
            "---  ------    --------------  -----   \n",
            " 0   id        154 non-null    int64   \n",
            " 1   yr        154 non-null    int64   \n",
            " 2   largo     154 non-null    float64 \n",
            " 3   Activo    154 non-null    int64   \n",
            " 4   geometry  154 non-null    geometry\n",
            "dtypes: float64(1), geometry(1), int64(3)\n",
            "memory usage: 6.1 KB\n",
            "None \n",
            "\n"
          ]
        }
      ]
    },
    {
      "cell_type": "markdown",
      "source": [
        "### Reproject the data to a projected CRS for accurate centroid calculation"
      ],
      "metadata": {
        "id": "hBPb5aZF2zTv"
      }
    },
    {
      "cell_type": "code",
      "source": [
        "# Temporarily reproject to a projected CRS for accurate centroid calculation\n",
        "projected_airstrip_training_gdf = airstrip_training_gdf.to_crs(epsg=3395)  # World Mercator projection"
      ],
      "metadata": {
        "colab": {
          "base_uri": "https://localhost:8080/",
          "height": 17
        },
        "collapsed": true,
        "id": "WqOj7E-xNKwV",
        "outputId": "a83fafad-c69c-4c37-d79f-12f54589e945"
      },
      "execution_count": 24,
      "outputs": [
        {
          "output_type": "display_data",
          "data": {
            "text/plain": [
              "<IPython.core.display.HTML object>"
            ],
            "text/html": [
              "\n",
              "            <style>\n",
              "                .geemap-dark {\n",
              "                    --jp-widgets-color: white;\n",
              "                    --jp-widgets-label-color: white;\n",
              "                    --jp-ui-font-color1: white;\n",
              "                    --jp-layout-color2: #454545;\n",
              "                    background-color: #383838;\n",
              "                }\n",
              "\n",
              "                .geemap-dark .jupyter-button {\n",
              "                    --jp-layout-color3: #383838;\n",
              "                }\n",
              "\n",
              "                .geemap-colab {\n",
              "                    background-color: var(--colab-primary-surface-color, white);\n",
              "                }\n",
              "\n",
              "                .geemap-colab .jupyter-button {\n",
              "                    --jp-layout-color3: var(--colab-primary-surface-color, white);\n",
              "                }\n",
              "            </style>\n",
              "            "
            ]
          },
          "metadata": {}
        }
      ]
    },
    {
      "cell_type": "markdown",
      "source": [
        "## Download the training and test GeoTIFF files.\n"
      ],
      "metadata": {
        "id": "rbKdWz3suW4a"
      }
    },
    {
      "cell_type": "markdown",
      "source": [
        "### Download the testing GeoTIFF files\n",
        "\n",
        "Those are the AOIs defined by the Zindi team for scoring. The GeoTIFF files will be used for inference with our model.\n",
        "\n",
        "⚠**Make sure to check the name of the output folder on your Google Drive before running the cell.**⚠\n",
        "\n",
        "Step-by-step process for each AOI:\n",
        "\n",
        "\n",
        "1.  Extract GeoJSON information (bounding box) stored inside the shape file.\n",
        "2.  Create ee.Geometry object (region).\n",
        "3.  Get the projection and CRS\n",
        "4.  Get the coordinates of the bounding box and find the top left corner.\n",
        "5.  Use the coordinates and scale parameter to create a CRS transfrom to precisely align the pixel scale with the bonding box.\n",
        "\n"
      ],
      "metadata": {
        "id": "DsenriMidZJE"
      }
    },
    {
      "cell_type": "code",
      "source": [
        "# Edit the name of this folder to match the name of your prefered folder on your Google drive.\n",
        "tmp_folder = \"Sentinel_temp\"\n",
        "\n",
        "########################################################\n",
        "#\n",
        "# You shouldn't have to change anything below this line.\n",
        "#\n",
        "########################################################\n",
        "aoi_files = ['aoi_2020_01', 'aoi_2020_02', 'aoi_2020_03', 'aoi_2021_01', 'aoi_2021_02', 'aoi_2021_03', 'aoi_2021_04', 'aoi_2022_01', 'aoi_2022_02', 'aoi_2023_01', 'aoi_2024_01']\n",
        "\n",
        "for aoi_file in aoi_files:\n",
        "    airstrip_testing_gdf = gpd.read_file(f'{base_aoi_path}/{aoi_file}.shp')\n",
        "    #print(airstrip_testing_gdf.head().to_markdown(), \"\\n\")\n",
        "\n",
        "    # Extract CRS of the AOI. We'll need this to export the final GeoTIFF image.\n",
        "    aoi_crs = airstrip_testing_gdf.crs\n",
        "    #print(f'Original CRS: {aoi_crs}',\"\\n\")\n",
        "\n",
        "    geojson_geometry = airstrip_testing_gdf.geometry[0].__geo_interface__\n",
        "    region_utm = ee.Geometry(geojson_geometry,proj=f'{aoi_crs}',geodesic=False)\n",
        "    polygon_crs = region_utm.projection()\n",
        "    output_crs = polygon_crs.crs().getInfo()\n",
        "    bounds_utm = region_utm.bounds(maxError=0.01,proj=polygon_crs)\n",
        "    coords_utm = bounds_utm.coordinates().getInfo()[0]\n",
        "    x_min = min([coord[0] for coord in coords_utm])\n",
        "    y_max = max([coord[1] for coord in coords_utm])\n",
        "    #print(\"Coordinates (UTM):\",coords_utm)\n",
        "    #print(f'Coordintates for top left corner: {x_min},{y_max}')\n",
        "\n",
        "    # Set the scale (10m native Sentinel-2 resolution)\n",
        "    export_scale = 10  # meters\n",
        "\n",
        "    # Generate crsTransform to align pixels with the polygon bounding box\n",
        "    # We'll use the top left corner of the polygon to define the transformation.\n",
        "    # CRS Transform follows the form [scaleX, 0, translateX, 0, scaleY, translateY]\n",
        "    # Units must be the same as the output CRS, i.e. UTM in our case.\n",
        "    crs_transform = [export_scale, 0, x_min, 0, -export_scale, y_max]\n",
        "    #print(crs_transform)\n",
        "\n",
        "    full_band=['B4', 'B3', 'B2', 'B8', 'B11', 'B12', 'VV', 'VH', 'VV_VH_Ratio']\n",
        "\n",
        "\n",
        "    # Get the year of inference from the AOI name\n",
        "    year = aoi_file.split('_')[1]\n",
        "    suffix = aoi_file.split('_')[2]\n",
        "\n",
        "    tmp_file_prefix = f'Sentinel_AllBands_Inference_{year}_{suffix}'\n",
        "    download_s1_and_s2_cloud_score_composite_image(\n",
        "        region=region_utm,\n",
        "        scale=export_scale,\n",
        "        crs=output_crs,\n",
        "        crsTransform=crs_transform,\n",
        "        bands=full_band,\n",
        "        filename_prefix=tmp_file_prefix,\n",
        "        export_folder=tmp_folder,\n",
        "        s2_product='COPERNICUS/S2_SR_HARMONIZED',\n",
        "        min_date=f'{year}-01-01',\n",
        "        max_date=f'{year}-12-31',\n",
        "        QA_BAND='cs_cdf',\n",
        "        clr_thres=0.60)"
      ],
      "metadata": {
        "id": "PxnWlM0BEbCC",
        "colab": {
          "base_uri": "https://localhost:8080/",
          "height": 69
        },
        "outputId": "a3a0be48-028e-4b94-f23b-d4547084be5a",
        "collapsed": true
      },
      "execution_count": 28,
      "outputs": [
        {
          "output_type": "display_data",
          "data": {
            "text/plain": [
              "<IPython.core.display.HTML object>"
            ],
            "text/html": [
              "\n",
              "            <style>\n",
              "                .geemap-dark {\n",
              "                    --jp-widgets-color: white;\n",
              "                    --jp-widgets-label-color: white;\n",
              "                    --jp-ui-font-color1: white;\n",
              "                    --jp-layout-color2: #454545;\n",
              "                    background-color: #383838;\n",
              "                }\n",
              "\n",
              "                .geemap-dark .jupyter-button {\n",
              "                    --jp-layout-color3: #383838;\n",
              "                }\n",
              "\n",
              "                .geemap-colab {\n",
              "                    background-color: var(--colab-primary-surface-color, white);\n",
              "                }\n",
              "\n",
              "                .geemap-colab .jupyter-button {\n",
              "                    --jp-layout-color3: var(--colab-primary-surface-color, white);\n",
              "                }\n",
              "            </style>\n",
              "            "
            ]
          },
          "metadata": {}
        },
        {
          "output_type": "stream",
          "name": "stdout",
          "text": [
            "Task ID: EFGDIB2M5MJTHSTPLKBHVHMC\n",
            "Exporting to Google Drive...\n",
            "Export tasks should be complete.\n"
          ]
        }
      ]
    },
    {
      "cell_type": "markdown",
      "source": [
        "### Download the training GeoTIFF files\n",
        "\n",
        "We load the reduced list of airstrips for the training set and generate GeoTIFF files for each one. Notice that this will generate one task for each airstrip on the Google Earth Engine server.\n",
        "\n",
        "⚠**Edit the name of the Google Drive folder where you want to save the images.**⚠\n",
        "\n",
        "Expect 1 minute per airstrips, so get some coffee."
      ],
      "metadata": {
        "id": "EMxZRIXTcYs8"
      }
    },
    {
      "cell_type": "code",
      "source": [
        "# Edit the name of this folder to match the name of your prefered folder on your Google drive.\n",
        "tmp_folder = \"Sentinel_temp\"\n",
        "\n",
        "########################################################\n",
        "#\n",
        "# You shouldn't have to change anything below this line.\n",
        "#\n",
        "########################################################\n",
        "\n",
        "# Load the reduced training shape file.\n",
        "airstrip_training_path_simple = '/content/zindi-amazon-secret-runway/Data_Visualization/data/pac_2024_training/pac_2024_training_simple.shp'\n",
        "airstrip_training_gdf_simple = gpd.read_file(airstrip_training_path_simple)\n",
        "\n",
        "crs = airstrip_training_gdf_simple.crs\n",
        "print(f\"CRS of the GeoDataFrame: {crs}\")\n",
        "\n",
        "# Loop over the entries and created the GeoTIFF file for model training.\n",
        "for index, row in airstrip_training_gdf_simple.iterrows():\n",
        "        centroid = airstrip_training_gdf_simple.geometry[index].centroid\n",
        "        print(f'Lon: {centroid.x} Lat: {centroid.y}')\n",
        "        aoi_crs = latlon_to_utm_epsg(centroid.y, centroid.x)\n",
        "        print(f'AOI CRS: {aoi_crs}')\n",
        "        # Convert the centroid back to WGS84 (LNG, LAT)\n",
        "        centroid_utm = gpd.GeoSeries([centroid], crs=airstrip_training_gdf_simple.crs).to_crs(aoi_crs).geometry[0]\n",
        "        print(f'UTM Lon: {centroid_utm.x} Lat: {centroid_utm.y}')\n",
        "        # Create a new AOI center on the centroid. The lenght of each side is 5km.\n",
        "        newAOI = create_square_around_point(centroid_utm, 5120)\n",
        "        print(\"newAOI:\",newAOI)\n",
        "        geojson_polygon = newAOI.__geo_interface__\n",
        "\n",
        "        region_utm = ee.Geometry(geojson_polygon,proj=f'{aoi_crs}',geodesic=False)\n",
        "        polygon_crs = region_utm.projection()\n",
        "        output_crs = polygon_crs.crs().getInfo()\n",
        "        print(\"Output CRS:\",output_crs)\n",
        "        bounds_utm = region_utm.bounds(maxError=0.01,proj=polygon_crs)\n",
        "        coords_utm = bounds_utm.coordinates().getInfo()[0]\n",
        "        print(\"Coordinates (UTM):\",coords_utm)\n",
        "        x_min = min([coord[0] for coord in coords_utm])\n",
        "        y_max = max([coord[1] for coord in coords_utm])\n",
        "\n",
        "        export_scale = 10\n",
        "        crs_transform = [export_scale, 0, x_min, 0, -export_scale, y_max]\n",
        "        full_band=['B4', 'B3', 'B2', 'B8', 'B11', 'B12', 'VV', 'VH', 'VV_VH_Ratio']\n",
        "        tmp_file_prefix = f\"Sentinel_AllBands_Training_Id_{row['id']}\"\n",
        "        tmp_min_date = f\"{row['yr']}-01-01\"\n",
        "        tmp_max_date = f\"{row['yr']}-12-31\"\n",
        "        s2_product = 'COPERNICUS/S2_HARMONIZED' if row['yr'] < 2019 else 'COPERNICUS/S2_SR_HARMONIZED'\n",
        "        download_s1_and_s2_cloud_score_composite_image(\n",
        "            region=region_utm,\n",
        "            scale=export_scale,\n",
        "            crs=output_crs,\n",
        "            crsTransform=crs_transform,\n",
        "            bands=full_band,\n",
        "            filename_prefix=tmp_file_prefix,\n",
        "            export_folder=tmp_folder,\n",
        "            s2_product=s2_product,\n",
        "            min_date=tmp_min_date,\n",
        "            max_date=tmp_max_date,\n",
        "            QA_BAND='cs_cdf',\n",
        "            clr_thres=0.60)\n",
        "\n",
        "\n",
        "\n"
      ],
      "metadata": {
        "id": "Kq47Sjd3VmUl",
        "outputId": "10a7e88a-5b8c-4503-f0a6-cb8c059ee391",
        "colab": {
          "base_uri": "https://localhost:8080/",
          "height": 1000
        }
      },
      "execution_count": 31,
      "outputs": [
        {
          "output_type": "display_data",
          "data": {
            "text/plain": [
              "<IPython.core.display.HTML object>"
            ],
            "text/html": [
              "\n",
              "            <style>\n",
              "                .geemap-dark {\n",
              "                    --jp-widgets-color: white;\n",
              "                    --jp-widgets-label-color: white;\n",
              "                    --jp-ui-font-color1: white;\n",
              "                    --jp-layout-color2: #454545;\n",
              "                    background-color: #383838;\n",
              "                }\n",
              "\n",
              "                .geemap-dark .jupyter-button {\n",
              "                    --jp-layout-color3: #383838;\n",
              "                }\n",
              "\n",
              "                .geemap-colab {\n",
              "                    background-color: var(--colab-primary-surface-color, white);\n",
              "                }\n",
              "\n",
              "                .geemap-colab .jupyter-button {\n",
              "                    --jp-layout-color3: var(--colab-primary-surface-color, white);\n",
              "                }\n",
              "            </style>\n",
              "            "
            ]
          },
          "metadata": {}
        },
        {
          "output_type": "stream",
          "name": "stdout",
          "text": [
            "CRS of the GeoDataFrame: EPSG:4326\n",
            "Lon: -70.0849072195141 Lat: -13.129047586991994\n",
            "AOI CRS: EPSG:32719\n",
            "UTM Lon: 382405.9223071927 Lat: 8548340.409700267\n",
            "newAOI: POLYGON ((379845.9223071927 8545780.409700267, 384965.9223071927 8545780.409700267, 384965.9223071927 8550900.409700267, 379845.9223071927 8550900.409700267, 379845.9223071927 8545780.409700267))\n",
            "Output CRS: EPSG:32719\n",
            "Coordinates (UTM): [[379845.9223071927, 8545780.409700267], [384965.9223071927, 8545780.409700267], [384965.9223071927, 8550900.409700267], [379845.9223071927, 8550900.409700267], [379845.9223071927, 8545780.409700267]]\n",
            "Task ID: MXG432COH2MOJIEQXY7AG5LK\n",
            "Exporting to Google Drive...\n",
            "Export tasks should be complete.\n",
            "Lon: -69.17015088566376 Lat: -13.616470504748229\n",
            "AOI CRS: EPSG:32719\n",
            "UTM Lon: 481595.1855543451 Lat: 8494683.054006716\n",
            "newAOI: POLYGON ((479035.1855543451 8492123.054006716, 484155.1855543451 8492123.054006716, 484155.1855543451 8497243.054006716, 479035.1855543451 8497243.054006716, 479035.1855543451 8492123.054006716))\n",
            "Output CRS: EPSG:32719\n",
            "Coordinates (UTM): [[479035.1855543451, 8492123.054006716], [484155.1855543451, 8492123.054006716], [484155.1855543451, 8497243.054006716], [479035.1855543451, 8497243.054006716], [479035.1855543451, 8492123.054006716]]\n",
            "Task ID: GH7DLA52F3LLOGMJ75VHKLXL\n",
            "Exporting to Google Drive...\n",
            "Export tasks should be complete.\n",
            "Lon: -71.13401049396842 Lat: -12.703275135705274\n",
            "AOI CRS: EPSG:32719\n",
            "UTM Lon: 268264.42926205427 Lat: 8594728.269252883\n",
            "newAOI: POLYGON ((265704.42926205427 8592168.269252883, 270824.42926205427 8592168.269252883, 270824.42926205427 8597288.269252883, 265704.42926205427 8597288.269252883, 265704.42926205427 8592168.269252883))\n",
            "Output CRS: EPSG:32719\n",
            "Coordinates (UTM): [[265704.42926205427, 8592168.269252883], [270824.42926205427, 8592168.269252883], [270824.42926205427, 8597288.269252883], [265704.42926205427, 8597288.269252883], [265704.42926205427, 8592168.269252883]]\n",
            "Task ID: RDJIA3WKCWTE6H4NYP6QOTMO\n",
            "Exporting to Google Drive...\n",
            "Export tasks should be complete.\n",
            "Lon: -71.10233908213306 Lat: -12.609808105474588\n",
            "AOI CRS: EPSG:32719\n",
            "UTM Lon: 271621.9071132903 Lat: 8605098.48610057\n",
            "newAOI: POLYGON ((269061.9071132903 8602538.48610057, 274181.9071132903 8602538.48610057, 274181.9071132903 8607658.48610057, 269061.9071132903 8607658.48610057, 269061.9071132903 8602538.48610057))\n",
            "Output CRS: EPSG:32719\n",
            "Coordinates (UTM): [[269061.9071132903, 8602538.48610057], [274181.9071132903, 8602538.48610057], [274181.9071132903, 8607658.48610057], [269061.9071132903, 8607658.48610057], [269061.9071132903, 8602538.48610057]]\n",
            "Task ID: VUIGUUKUUZEQR3PGLXJXF46W\n",
            "Exporting to Google Drive...\n",
            "Export tasks should be complete.\n",
            "Lon: -71.24573911951833 Lat: -12.999691878327937\n",
            "AOI CRS: EPSG:32719\n",
            "UTM Lon: 256412.24883454837 Lat: 8561824.106108742\n",
            "newAOI: POLYGON ((253852.24883454837 8559264.106108742, 258972.24883454837 8559264.106108742, 258972.24883454837 8564384.106108742, 253852.24883454837 8564384.106108742, 253852.24883454837 8559264.106108742))\n"
          ]
        },
        {
          "output_type": "error",
          "ename": "KeyboardInterrupt",
          "evalue": "",
          "traceback": [
            "\u001b[0;31m---------------------------------------------------------------------------\u001b[0m",
            "\u001b[0;31mKeyboardInterrupt\u001b[0m                         Traceback (most recent call last)",
            "\u001b[0;32m<ipython-input-31-af7b591f173a>\u001b[0m in \u001b[0;36m<cell line: 18>\u001b[0;34m()\u001b[0m\n\u001b[1;32m     31\u001b[0m         \u001b[0mregion_utm\u001b[0m \u001b[0;34m=\u001b[0m \u001b[0mee\u001b[0m\u001b[0;34m.\u001b[0m\u001b[0mGeometry\u001b[0m\u001b[0;34m(\u001b[0m\u001b[0mgeojson_polygon\u001b[0m\u001b[0;34m,\u001b[0m\u001b[0mproj\u001b[0m\u001b[0;34m=\u001b[0m\u001b[0;34mf'{aoi_crs}'\u001b[0m\u001b[0;34m,\u001b[0m\u001b[0mgeodesic\u001b[0m\u001b[0;34m=\u001b[0m\u001b[0;32mFalse\u001b[0m\u001b[0;34m)\u001b[0m\u001b[0;34m\u001b[0m\u001b[0;34m\u001b[0m\u001b[0m\n\u001b[1;32m     32\u001b[0m         \u001b[0mpolygon_crs\u001b[0m \u001b[0;34m=\u001b[0m \u001b[0mregion_utm\u001b[0m\u001b[0;34m.\u001b[0m\u001b[0mprojection\u001b[0m\u001b[0;34m(\u001b[0m\u001b[0;34m)\u001b[0m\u001b[0;34m\u001b[0m\u001b[0;34m\u001b[0m\u001b[0m\n\u001b[0;32m---> 33\u001b[0;31m         \u001b[0moutput_crs\u001b[0m \u001b[0;34m=\u001b[0m \u001b[0mpolygon_crs\u001b[0m\u001b[0;34m.\u001b[0m\u001b[0mcrs\u001b[0m\u001b[0;34m(\u001b[0m\u001b[0;34m)\u001b[0m\u001b[0;34m.\u001b[0m\u001b[0mgetInfo\u001b[0m\u001b[0;34m(\u001b[0m\u001b[0;34m)\u001b[0m\u001b[0;34m\u001b[0m\u001b[0;34m\u001b[0m\u001b[0m\n\u001b[0m\u001b[1;32m     34\u001b[0m         \u001b[0mprint\u001b[0m\u001b[0;34m(\u001b[0m\u001b[0;34m\"Output CRS:\"\u001b[0m\u001b[0;34m,\u001b[0m\u001b[0moutput_crs\u001b[0m\u001b[0;34m)\u001b[0m\u001b[0;34m\u001b[0m\u001b[0;34m\u001b[0m\u001b[0m\n\u001b[1;32m     35\u001b[0m         \u001b[0mbounds_utm\u001b[0m \u001b[0;34m=\u001b[0m \u001b[0mregion_utm\u001b[0m\u001b[0;34m.\u001b[0m\u001b[0mbounds\u001b[0m\u001b[0;34m(\u001b[0m\u001b[0mmaxError\u001b[0m\u001b[0;34m=\u001b[0m\u001b[0;36m0.01\u001b[0m\u001b[0;34m,\u001b[0m\u001b[0mproj\u001b[0m\u001b[0;34m=\u001b[0m\u001b[0mpolygon_crs\u001b[0m\u001b[0;34m)\u001b[0m\u001b[0;34m\u001b[0m\u001b[0;34m\u001b[0m\u001b[0m\n",
            "\u001b[0;32m/usr/local/lib/python3.10/dist-packages/ee/computedobject.py\u001b[0m in \u001b[0;36mgetInfo\u001b[0;34m(self)\u001b[0m\n\u001b[1;32m    105\u001b[0m       \u001b[0mThe\u001b[0m \u001b[0mobject\u001b[0m \u001b[0mcan\u001b[0m \u001b[0mevaluate\u001b[0m \u001b[0mto\u001b[0m \u001b[0manything\u001b[0m\u001b[0;34m.\u001b[0m\u001b[0;34m\u001b[0m\u001b[0;34m\u001b[0m\u001b[0m\n\u001b[1;32m    106\u001b[0m     \"\"\"\n\u001b[0;32m--> 107\u001b[0;31m     \u001b[0;32mreturn\u001b[0m \u001b[0mdata\u001b[0m\u001b[0;34m.\u001b[0m\u001b[0mcomputeValue\u001b[0m\u001b[0;34m(\u001b[0m\u001b[0mself\u001b[0m\u001b[0;34m)\u001b[0m\u001b[0;34m\u001b[0m\u001b[0;34m\u001b[0m\u001b[0m\n\u001b[0m\u001b[1;32m    108\u001b[0m \u001b[0;34m\u001b[0m\u001b[0m\n\u001b[1;32m    109\u001b[0m   \u001b[0;32mdef\u001b[0m \u001b[0mencode\u001b[0m\u001b[0;34m(\u001b[0m\u001b[0mself\u001b[0m\u001b[0;34m,\u001b[0m \u001b[0mencoder\u001b[0m\u001b[0;34m:\u001b[0m \u001b[0mOptional\u001b[0m\u001b[0;34m[\u001b[0m\u001b[0mCallable\u001b[0m\u001b[0;34m[\u001b[0m\u001b[0;34m...\u001b[0m\u001b[0;34m,\u001b[0m \u001b[0mAny\u001b[0m\u001b[0;34m]\u001b[0m\u001b[0;34m]\u001b[0m\u001b[0;34m)\u001b[0m \u001b[0;34m->\u001b[0m \u001b[0mDict\u001b[0m\u001b[0;34m[\u001b[0m\u001b[0mstr\u001b[0m\u001b[0;34m,\u001b[0m \u001b[0mAny\u001b[0m\u001b[0;34m]\u001b[0m\u001b[0;34m:\u001b[0m\u001b[0;34m\u001b[0m\u001b[0;34m\u001b[0m\u001b[0m\n",
            "\u001b[0;32m/usr/local/lib/python3.10/dist-packages/ee/data.py\u001b[0m in \u001b[0;36mcomputeValue\u001b[0;34m(obj)\u001b[0m\n\u001b[1;32m   1124\u001b[0m   \u001b[0m_maybe_populate_workload_tag\u001b[0m\u001b[0;34m(\u001b[0m\u001b[0mbody\u001b[0m\u001b[0;34m)\u001b[0m\u001b[0;34m\u001b[0m\u001b[0;34m\u001b[0m\u001b[0m\n\u001b[1;32m   1125\u001b[0m \u001b[0;34m\u001b[0m\u001b[0m\n\u001b[0;32m-> 1126\u001b[0;31m   return _execute_cloud_call(\n\u001b[0m\u001b[1;32m   1127\u001b[0m       \u001b[0m_get_cloud_projects\u001b[0m\u001b[0;34m(\u001b[0m\u001b[0;34m)\u001b[0m\u001b[0;34m\u001b[0m\u001b[0;34m\u001b[0m\u001b[0m\n\u001b[1;32m   1128\u001b[0m       \u001b[0;34m.\u001b[0m\u001b[0mvalue\u001b[0m\u001b[0;34m(\u001b[0m\u001b[0;34m)\u001b[0m\u001b[0;34m\u001b[0m\u001b[0;34m\u001b[0m\u001b[0m\n",
            "\u001b[0;32m/usr/local/lib/python3.10/dist-packages/ee/data.py\u001b[0m in \u001b[0;36m_execute_cloud_call\u001b[0;34m(call, num_retries)\u001b[0m\n\u001b[1;32m    404\u001b[0m   \u001b[0mnum_retries\u001b[0m \u001b[0;34m=\u001b[0m \u001b[0m_max_retries\u001b[0m \u001b[0;32mif\u001b[0m \u001b[0mnum_retries\u001b[0m \u001b[0;32mis\u001b[0m \u001b[0;32mNone\u001b[0m \u001b[0;32melse\u001b[0m \u001b[0mnum_retries\u001b[0m\u001b[0;34m\u001b[0m\u001b[0;34m\u001b[0m\u001b[0m\n\u001b[1;32m    405\u001b[0m   \u001b[0;32mtry\u001b[0m\u001b[0;34m:\u001b[0m\u001b[0;34m\u001b[0m\u001b[0;34m\u001b[0m\u001b[0m\n\u001b[0;32m--> 406\u001b[0;31m     \u001b[0;32mreturn\u001b[0m \u001b[0mcall\u001b[0m\u001b[0;34m.\u001b[0m\u001b[0mexecute\u001b[0m\u001b[0;34m(\u001b[0m\u001b[0mnum_retries\u001b[0m\u001b[0;34m=\u001b[0m\u001b[0mnum_retries\u001b[0m\u001b[0;34m)\u001b[0m\u001b[0;34m\u001b[0m\u001b[0;34m\u001b[0m\u001b[0m\n\u001b[0m\u001b[1;32m    407\u001b[0m   \u001b[0;32mexcept\u001b[0m \u001b[0mgoogleapiclient\u001b[0m\u001b[0;34m.\u001b[0m\u001b[0merrors\u001b[0m\u001b[0;34m.\u001b[0m\u001b[0mHttpError\u001b[0m \u001b[0;32mas\u001b[0m \u001b[0me\u001b[0m\u001b[0;34m:\u001b[0m\u001b[0;34m\u001b[0m\u001b[0;34m\u001b[0m\u001b[0m\n\u001b[1;32m    408\u001b[0m     \u001b[0;32mraise\u001b[0m \u001b[0m_translate_cloud_exception\u001b[0m\u001b[0;34m(\u001b[0m\u001b[0me\u001b[0m\u001b[0;34m)\u001b[0m  \u001b[0;31m# pylint: disable=raise-missing-from\u001b[0m\u001b[0;34m\u001b[0m\u001b[0;34m\u001b[0m\u001b[0m\n",
            "\u001b[0;32m/usr/local/lib/python3.10/dist-packages/googleapiclient/_helpers.py\u001b[0m in \u001b[0;36mpositional_wrapper\u001b[0;34m(*args, **kwargs)\u001b[0m\n\u001b[1;32m    128\u001b[0m                 \u001b[0;32melif\u001b[0m \u001b[0mpositional_parameters_enforcement\u001b[0m \u001b[0;34m==\u001b[0m \u001b[0mPOSITIONAL_WARNING\u001b[0m\u001b[0;34m:\u001b[0m\u001b[0;34m\u001b[0m\u001b[0;34m\u001b[0m\u001b[0m\n\u001b[1;32m    129\u001b[0m                     \u001b[0mlogger\u001b[0m\u001b[0;34m.\u001b[0m\u001b[0mwarning\u001b[0m\u001b[0;34m(\u001b[0m\u001b[0mmessage\u001b[0m\u001b[0;34m)\u001b[0m\u001b[0;34m\u001b[0m\u001b[0;34m\u001b[0m\u001b[0m\n\u001b[0;32m--> 130\u001b[0;31m             \u001b[0;32mreturn\u001b[0m \u001b[0mwrapped\u001b[0m\u001b[0;34m(\u001b[0m\u001b[0;34m*\u001b[0m\u001b[0margs\u001b[0m\u001b[0;34m,\u001b[0m \u001b[0;34m**\u001b[0m\u001b[0mkwargs\u001b[0m\u001b[0;34m)\u001b[0m\u001b[0;34m\u001b[0m\u001b[0;34m\u001b[0m\u001b[0m\n\u001b[0m\u001b[1;32m    131\u001b[0m \u001b[0;34m\u001b[0m\u001b[0m\n\u001b[1;32m    132\u001b[0m         \u001b[0;32mreturn\u001b[0m \u001b[0mpositional_wrapper\u001b[0m\u001b[0;34m\u001b[0m\u001b[0;34m\u001b[0m\u001b[0m\n",
            "\u001b[0;32m/usr/local/lib/python3.10/dist-packages/googleapiclient/http.py\u001b[0m in \u001b[0;36mexecute\u001b[0;34m(self, http, num_retries)\u001b[0m\n\u001b[1;32m    921\u001b[0m \u001b[0;34m\u001b[0m\u001b[0m\n\u001b[1;32m    922\u001b[0m         \u001b[0;31m# Handle retries for server-side errors.\u001b[0m\u001b[0;34m\u001b[0m\u001b[0;34m\u001b[0m\u001b[0m\n\u001b[0;32m--> 923\u001b[0;31m         resp, content = _retry_request(\n\u001b[0m\u001b[1;32m    924\u001b[0m             \u001b[0mhttp\u001b[0m\u001b[0;34m,\u001b[0m\u001b[0;34m\u001b[0m\u001b[0;34m\u001b[0m\u001b[0m\n\u001b[1;32m    925\u001b[0m             \u001b[0mnum_retries\u001b[0m\u001b[0;34m,\u001b[0m\u001b[0;34m\u001b[0m\u001b[0;34m\u001b[0m\u001b[0m\n",
            "\u001b[0;32m/usr/local/lib/python3.10/dist-packages/googleapiclient/http.py\u001b[0m in \u001b[0;36m_retry_request\u001b[0;34m(http, num_retries, req_type, sleep, rand, uri, method, *args, **kwargs)\u001b[0m\n\u001b[1;32m    189\u001b[0m         \u001b[0;32mtry\u001b[0m\u001b[0;34m:\u001b[0m\u001b[0;34m\u001b[0m\u001b[0;34m\u001b[0m\u001b[0m\n\u001b[1;32m    190\u001b[0m             \u001b[0mexception\u001b[0m \u001b[0;34m=\u001b[0m \u001b[0;32mNone\u001b[0m\u001b[0;34m\u001b[0m\u001b[0;34m\u001b[0m\u001b[0m\n\u001b[0;32m--> 191\u001b[0;31m             \u001b[0mresp\u001b[0m\u001b[0;34m,\u001b[0m \u001b[0mcontent\u001b[0m \u001b[0;34m=\u001b[0m \u001b[0mhttp\u001b[0m\u001b[0;34m.\u001b[0m\u001b[0mrequest\u001b[0m\u001b[0;34m(\u001b[0m\u001b[0muri\u001b[0m\u001b[0;34m,\u001b[0m \u001b[0mmethod\u001b[0m\u001b[0;34m,\u001b[0m \u001b[0;34m*\u001b[0m\u001b[0margs\u001b[0m\u001b[0;34m,\u001b[0m \u001b[0;34m**\u001b[0m\u001b[0mkwargs\u001b[0m\u001b[0;34m)\u001b[0m\u001b[0;34m\u001b[0m\u001b[0;34m\u001b[0m\u001b[0m\n\u001b[0m\u001b[1;32m    192\u001b[0m         \u001b[0;31m# Retry on SSL errors and socket timeout errors.\u001b[0m\u001b[0;34m\u001b[0m\u001b[0;34m\u001b[0m\u001b[0m\n\u001b[1;32m    193\u001b[0m         \u001b[0;32mexcept\u001b[0m \u001b[0m_ssl_SSLError\u001b[0m \u001b[0;32mas\u001b[0m \u001b[0mssl_error\u001b[0m\u001b[0;34m:\u001b[0m\u001b[0;34m\u001b[0m\u001b[0;34m\u001b[0m\u001b[0m\n",
            "\u001b[0;32m/usr/local/lib/python3.10/dist-packages/google_auth_httplib2.py\u001b[0m in \u001b[0;36mrequest\u001b[0;34m(self, uri, method, body, headers, redirections, connection_type, **kwargs)\u001b[0m\n\u001b[1;32m    216\u001b[0m \u001b[0;34m\u001b[0m\u001b[0m\n\u001b[1;32m    217\u001b[0m         \u001b[0;31m# Make the request.\u001b[0m\u001b[0;34m\u001b[0m\u001b[0;34m\u001b[0m\u001b[0m\n\u001b[0;32m--> 218\u001b[0;31m         response, content = self.http.request(\n\u001b[0m\u001b[1;32m    219\u001b[0m             \u001b[0muri\u001b[0m\u001b[0;34m,\u001b[0m\u001b[0;34m\u001b[0m\u001b[0;34m\u001b[0m\u001b[0m\n\u001b[1;32m    220\u001b[0m             \u001b[0mmethod\u001b[0m\u001b[0;34m,\u001b[0m\u001b[0;34m\u001b[0m\u001b[0;34m\u001b[0m\u001b[0m\n",
            "\u001b[0;32m/usr/local/lib/python3.10/dist-packages/ee/_cloud_api_utils.py\u001b[0m in \u001b[0;36mrequest\u001b[0;34m(***failed resolving arguments***)\u001b[0m\n\u001b[1;32m     68\u001b[0m       \u001b[0;31m# requests errors should be converted to kinds that googleapiclient\u001b[0m\u001b[0;34m\u001b[0m\u001b[0;34m\u001b[0m\u001b[0m\n\u001b[1;32m     69\u001b[0m       \u001b[0;31m# consider transient.\u001b[0m\u001b[0;34m\u001b[0m\u001b[0;34m\u001b[0m\u001b[0m\n\u001b[0;32m---> 70\u001b[0;31m       response = self._session.request(\n\u001b[0m\u001b[1;32m     71\u001b[0m           \u001b[0mmethod\u001b[0m\u001b[0;34m,\u001b[0m \u001b[0muri\u001b[0m\u001b[0;34m,\u001b[0m \u001b[0mdata\u001b[0m\u001b[0;34m=\u001b[0m\u001b[0mbody\u001b[0m\u001b[0;34m,\u001b[0m \u001b[0mheaders\u001b[0m\u001b[0;34m=\u001b[0m\u001b[0mheaders\u001b[0m\u001b[0;34m,\u001b[0m \u001b[0mtimeout\u001b[0m\u001b[0;34m=\u001b[0m\u001b[0mself\u001b[0m\u001b[0;34m.\u001b[0m\u001b[0m_timeout\u001b[0m\u001b[0;34m\u001b[0m\u001b[0;34m\u001b[0m\u001b[0m\n\u001b[1;32m     72\u001b[0m       )\n",
            "\u001b[0;32m/usr/local/lib/python3.10/dist-packages/requests/sessions.py\u001b[0m in \u001b[0;36mrequest\u001b[0;34m(self, method, url, params, data, headers, cookies, files, auth, timeout, allow_redirects, proxies, hooks, stream, verify, cert, json)\u001b[0m\n\u001b[1;32m    587\u001b[0m         }\n\u001b[1;32m    588\u001b[0m         \u001b[0msend_kwargs\u001b[0m\u001b[0;34m.\u001b[0m\u001b[0mupdate\u001b[0m\u001b[0;34m(\u001b[0m\u001b[0msettings\u001b[0m\u001b[0;34m)\u001b[0m\u001b[0;34m\u001b[0m\u001b[0;34m\u001b[0m\u001b[0m\n\u001b[0;32m--> 589\u001b[0;31m         \u001b[0mresp\u001b[0m \u001b[0;34m=\u001b[0m \u001b[0mself\u001b[0m\u001b[0;34m.\u001b[0m\u001b[0msend\u001b[0m\u001b[0;34m(\u001b[0m\u001b[0mprep\u001b[0m\u001b[0;34m,\u001b[0m \u001b[0;34m**\u001b[0m\u001b[0msend_kwargs\u001b[0m\u001b[0;34m)\u001b[0m\u001b[0;34m\u001b[0m\u001b[0;34m\u001b[0m\u001b[0m\n\u001b[0m\u001b[1;32m    590\u001b[0m \u001b[0;34m\u001b[0m\u001b[0m\n\u001b[1;32m    591\u001b[0m         \u001b[0;32mreturn\u001b[0m \u001b[0mresp\u001b[0m\u001b[0;34m\u001b[0m\u001b[0;34m\u001b[0m\u001b[0m\n",
            "\u001b[0;32m/usr/local/lib/python3.10/dist-packages/requests/sessions.py\u001b[0m in \u001b[0;36msend\u001b[0;34m(self, request, **kwargs)\u001b[0m\n\u001b[1;32m    701\u001b[0m \u001b[0;34m\u001b[0m\u001b[0m\n\u001b[1;32m    702\u001b[0m         \u001b[0;31m# Send the request\u001b[0m\u001b[0;34m\u001b[0m\u001b[0;34m\u001b[0m\u001b[0m\n\u001b[0;32m--> 703\u001b[0;31m         \u001b[0mr\u001b[0m \u001b[0;34m=\u001b[0m \u001b[0madapter\u001b[0m\u001b[0;34m.\u001b[0m\u001b[0msend\u001b[0m\u001b[0;34m(\u001b[0m\u001b[0mrequest\u001b[0m\u001b[0;34m,\u001b[0m \u001b[0;34m**\u001b[0m\u001b[0mkwargs\u001b[0m\u001b[0;34m)\u001b[0m\u001b[0;34m\u001b[0m\u001b[0;34m\u001b[0m\u001b[0m\n\u001b[0m\u001b[1;32m    704\u001b[0m \u001b[0;34m\u001b[0m\u001b[0m\n\u001b[1;32m    705\u001b[0m         \u001b[0;31m# Total elapsed time of the request (approximately)\u001b[0m\u001b[0;34m\u001b[0m\u001b[0;34m\u001b[0m\u001b[0m\n",
            "\u001b[0;32m/usr/local/lib/python3.10/dist-packages/requests/adapters.py\u001b[0m in \u001b[0;36msend\u001b[0;34m(self, request, stream, timeout, verify, cert, proxies)\u001b[0m\n\u001b[1;32m    665\u001b[0m \u001b[0;34m\u001b[0m\u001b[0m\n\u001b[1;32m    666\u001b[0m         \u001b[0;32mtry\u001b[0m\u001b[0;34m:\u001b[0m\u001b[0;34m\u001b[0m\u001b[0;34m\u001b[0m\u001b[0m\n\u001b[0;32m--> 667\u001b[0;31m             resp = conn.urlopen(\n\u001b[0m\u001b[1;32m    668\u001b[0m                 \u001b[0mmethod\u001b[0m\u001b[0;34m=\u001b[0m\u001b[0mrequest\u001b[0m\u001b[0;34m.\u001b[0m\u001b[0mmethod\u001b[0m\u001b[0;34m,\u001b[0m\u001b[0;34m\u001b[0m\u001b[0;34m\u001b[0m\u001b[0m\n\u001b[1;32m    669\u001b[0m                 \u001b[0murl\u001b[0m\u001b[0;34m=\u001b[0m\u001b[0murl\u001b[0m\u001b[0;34m,\u001b[0m\u001b[0;34m\u001b[0m\u001b[0;34m\u001b[0m\u001b[0m\n",
            "\u001b[0;32m/usr/local/lib/python3.10/dist-packages/urllib3/connectionpool.py\u001b[0m in \u001b[0;36murlopen\u001b[0;34m(self, method, url, body, headers, retries, redirect, assert_same_host, timeout, pool_timeout, release_conn, chunked, body_pos, preload_content, decode_content, **response_kw)\u001b[0m\n\u001b[1;32m    787\u001b[0m \u001b[0;34m\u001b[0m\u001b[0m\n\u001b[1;32m    788\u001b[0m             \u001b[0;31m# Make the request on the HTTPConnection object\u001b[0m\u001b[0;34m\u001b[0m\u001b[0;34m\u001b[0m\u001b[0m\n\u001b[0;32m--> 789\u001b[0;31m             response = self._make_request(\n\u001b[0m\u001b[1;32m    790\u001b[0m                 \u001b[0mconn\u001b[0m\u001b[0;34m,\u001b[0m\u001b[0;34m\u001b[0m\u001b[0;34m\u001b[0m\u001b[0m\n\u001b[1;32m    791\u001b[0m                 \u001b[0mmethod\u001b[0m\u001b[0;34m,\u001b[0m\u001b[0;34m\u001b[0m\u001b[0;34m\u001b[0m\u001b[0m\n",
            "\u001b[0;32m/usr/local/lib/python3.10/dist-packages/urllib3/connectionpool.py\u001b[0m in \u001b[0;36m_make_request\u001b[0;34m(self, conn, method, url, body, headers, retries, timeout, chunked, response_conn, preload_content, decode_content, enforce_content_length)\u001b[0m\n\u001b[1;32m    534\u001b[0m         \u001b[0;31m# Receive the response from the server\u001b[0m\u001b[0;34m\u001b[0m\u001b[0;34m\u001b[0m\u001b[0m\n\u001b[1;32m    535\u001b[0m         \u001b[0;32mtry\u001b[0m\u001b[0;34m:\u001b[0m\u001b[0;34m\u001b[0m\u001b[0;34m\u001b[0m\u001b[0m\n\u001b[0;32m--> 536\u001b[0;31m             \u001b[0mresponse\u001b[0m \u001b[0;34m=\u001b[0m \u001b[0mconn\u001b[0m\u001b[0;34m.\u001b[0m\u001b[0mgetresponse\u001b[0m\u001b[0;34m(\u001b[0m\u001b[0;34m)\u001b[0m\u001b[0;34m\u001b[0m\u001b[0;34m\u001b[0m\u001b[0m\n\u001b[0m\u001b[1;32m    537\u001b[0m         \u001b[0;32mexcept\u001b[0m \u001b[0;34m(\u001b[0m\u001b[0mBaseSSLError\u001b[0m\u001b[0;34m,\u001b[0m \u001b[0mOSError\u001b[0m\u001b[0;34m)\u001b[0m \u001b[0;32mas\u001b[0m \u001b[0me\u001b[0m\u001b[0;34m:\u001b[0m\u001b[0;34m\u001b[0m\u001b[0;34m\u001b[0m\u001b[0m\n\u001b[1;32m    538\u001b[0m             \u001b[0mself\u001b[0m\u001b[0;34m.\u001b[0m\u001b[0m_raise_timeout\u001b[0m\u001b[0;34m(\u001b[0m\u001b[0merr\u001b[0m\u001b[0;34m=\u001b[0m\u001b[0me\u001b[0m\u001b[0;34m,\u001b[0m \u001b[0murl\u001b[0m\u001b[0;34m=\u001b[0m\u001b[0murl\u001b[0m\u001b[0;34m,\u001b[0m \u001b[0mtimeout_value\u001b[0m\u001b[0;34m=\u001b[0m\u001b[0mread_timeout\u001b[0m\u001b[0;34m)\u001b[0m\u001b[0;34m\u001b[0m\u001b[0;34m\u001b[0m\u001b[0m\n",
            "\u001b[0;32m/usr/local/lib/python3.10/dist-packages/urllib3/connection.py\u001b[0m in \u001b[0;36mgetresponse\u001b[0;34m(self)\u001b[0m\n\u001b[1;32m    505\u001b[0m \u001b[0;34m\u001b[0m\u001b[0m\n\u001b[1;32m    506\u001b[0m         \u001b[0;31m# Get the response from http.client.HTTPConnection\u001b[0m\u001b[0;34m\u001b[0m\u001b[0;34m\u001b[0m\u001b[0m\n\u001b[0;32m--> 507\u001b[0;31m         \u001b[0mhttplib_response\u001b[0m \u001b[0;34m=\u001b[0m \u001b[0msuper\u001b[0m\u001b[0;34m(\u001b[0m\u001b[0;34m)\u001b[0m\u001b[0;34m.\u001b[0m\u001b[0mgetresponse\u001b[0m\u001b[0;34m(\u001b[0m\u001b[0;34m)\u001b[0m\u001b[0;34m\u001b[0m\u001b[0;34m\u001b[0m\u001b[0m\n\u001b[0m\u001b[1;32m    508\u001b[0m \u001b[0;34m\u001b[0m\u001b[0m\n\u001b[1;32m    509\u001b[0m         \u001b[0;32mtry\u001b[0m\u001b[0;34m:\u001b[0m\u001b[0;34m\u001b[0m\u001b[0;34m\u001b[0m\u001b[0m\n",
            "\u001b[0;32m/usr/lib/python3.10/http/client.py\u001b[0m in \u001b[0;36mgetresponse\u001b[0;34m(self)\u001b[0m\n\u001b[1;32m   1373\u001b[0m         \u001b[0;32mtry\u001b[0m\u001b[0;34m:\u001b[0m\u001b[0;34m\u001b[0m\u001b[0;34m\u001b[0m\u001b[0m\n\u001b[1;32m   1374\u001b[0m             \u001b[0;32mtry\u001b[0m\u001b[0;34m:\u001b[0m\u001b[0;34m\u001b[0m\u001b[0;34m\u001b[0m\u001b[0m\n\u001b[0;32m-> 1375\u001b[0;31m                 \u001b[0mresponse\u001b[0m\u001b[0;34m.\u001b[0m\u001b[0mbegin\u001b[0m\u001b[0;34m(\u001b[0m\u001b[0;34m)\u001b[0m\u001b[0;34m\u001b[0m\u001b[0;34m\u001b[0m\u001b[0m\n\u001b[0m\u001b[1;32m   1376\u001b[0m             \u001b[0;32mexcept\u001b[0m \u001b[0mConnectionError\u001b[0m\u001b[0;34m:\u001b[0m\u001b[0;34m\u001b[0m\u001b[0;34m\u001b[0m\u001b[0m\n\u001b[1;32m   1377\u001b[0m                 \u001b[0mself\u001b[0m\u001b[0;34m.\u001b[0m\u001b[0mclose\u001b[0m\u001b[0;34m(\u001b[0m\u001b[0;34m)\u001b[0m\u001b[0;34m\u001b[0m\u001b[0;34m\u001b[0m\u001b[0m\n",
            "\u001b[0;32m/usr/lib/python3.10/http/client.py\u001b[0m in \u001b[0;36mbegin\u001b[0;34m(self)\u001b[0m\n\u001b[1;32m    316\u001b[0m         \u001b[0;31m# read until we get a non-100 response\u001b[0m\u001b[0;34m\u001b[0m\u001b[0;34m\u001b[0m\u001b[0m\n\u001b[1;32m    317\u001b[0m         \u001b[0;32mwhile\u001b[0m \u001b[0;32mTrue\u001b[0m\u001b[0;34m:\u001b[0m\u001b[0;34m\u001b[0m\u001b[0;34m\u001b[0m\u001b[0m\n\u001b[0;32m--> 318\u001b[0;31m             \u001b[0mversion\u001b[0m\u001b[0;34m,\u001b[0m \u001b[0mstatus\u001b[0m\u001b[0;34m,\u001b[0m \u001b[0mreason\u001b[0m \u001b[0;34m=\u001b[0m \u001b[0mself\u001b[0m\u001b[0;34m.\u001b[0m\u001b[0m_read_status\u001b[0m\u001b[0;34m(\u001b[0m\u001b[0;34m)\u001b[0m\u001b[0;34m\u001b[0m\u001b[0;34m\u001b[0m\u001b[0m\n\u001b[0m\u001b[1;32m    319\u001b[0m             \u001b[0;32mif\u001b[0m \u001b[0mstatus\u001b[0m \u001b[0;34m!=\u001b[0m \u001b[0mCONTINUE\u001b[0m\u001b[0;34m:\u001b[0m\u001b[0;34m\u001b[0m\u001b[0;34m\u001b[0m\u001b[0m\n\u001b[1;32m    320\u001b[0m                 \u001b[0;32mbreak\u001b[0m\u001b[0;34m\u001b[0m\u001b[0;34m\u001b[0m\u001b[0m\n",
            "\u001b[0;32m/usr/lib/python3.10/http/client.py\u001b[0m in \u001b[0;36m_read_status\u001b[0;34m(self)\u001b[0m\n\u001b[1;32m    277\u001b[0m \u001b[0;34m\u001b[0m\u001b[0m\n\u001b[1;32m    278\u001b[0m     \u001b[0;32mdef\u001b[0m \u001b[0m_read_status\u001b[0m\u001b[0;34m(\u001b[0m\u001b[0mself\u001b[0m\u001b[0;34m)\u001b[0m\u001b[0;34m:\u001b[0m\u001b[0;34m\u001b[0m\u001b[0;34m\u001b[0m\u001b[0m\n\u001b[0;32m--> 279\u001b[0;31m         \u001b[0mline\u001b[0m \u001b[0;34m=\u001b[0m \u001b[0mstr\u001b[0m\u001b[0;34m(\u001b[0m\u001b[0mself\u001b[0m\u001b[0;34m.\u001b[0m\u001b[0mfp\u001b[0m\u001b[0;34m.\u001b[0m\u001b[0mreadline\u001b[0m\u001b[0;34m(\u001b[0m\u001b[0m_MAXLINE\u001b[0m \u001b[0;34m+\u001b[0m \u001b[0;36m1\u001b[0m\u001b[0;34m)\u001b[0m\u001b[0;34m,\u001b[0m \u001b[0;34m\"iso-8859-1\"\u001b[0m\u001b[0;34m)\u001b[0m\u001b[0;34m\u001b[0m\u001b[0;34m\u001b[0m\u001b[0m\n\u001b[0m\u001b[1;32m    280\u001b[0m         \u001b[0;32mif\u001b[0m \u001b[0mlen\u001b[0m\u001b[0;34m(\u001b[0m\u001b[0mline\u001b[0m\u001b[0;34m)\u001b[0m \u001b[0;34m>\u001b[0m \u001b[0m_MAXLINE\u001b[0m\u001b[0;34m:\u001b[0m\u001b[0;34m\u001b[0m\u001b[0;34m\u001b[0m\u001b[0m\n\u001b[1;32m    281\u001b[0m             \u001b[0;32mraise\u001b[0m \u001b[0mLineTooLong\u001b[0m\u001b[0;34m(\u001b[0m\u001b[0;34m\"status line\"\u001b[0m\u001b[0;34m)\u001b[0m\u001b[0;34m\u001b[0m\u001b[0;34m\u001b[0m\u001b[0m\n",
            "\u001b[0;32m/usr/lib/python3.10/socket.py\u001b[0m in \u001b[0;36mreadinto\u001b[0;34m(self, b)\u001b[0m\n\u001b[1;32m    703\u001b[0m         \u001b[0;32mwhile\u001b[0m \u001b[0;32mTrue\u001b[0m\u001b[0;34m:\u001b[0m\u001b[0;34m\u001b[0m\u001b[0;34m\u001b[0m\u001b[0m\n\u001b[1;32m    704\u001b[0m             \u001b[0;32mtry\u001b[0m\u001b[0;34m:\u001b[0m\u001b[0;34m\u001b[0m\u001b[0;34m\u001b[0m\u001b[0m\n\u001b[0;32m--> 705\u001b[0;31m                 \u001b[0;32mreturn\u001b[0m \u001b[0mself\u001b[0m\u001b[0;34m.\u001b[0m\u001b[0m_sock\u001b[0m\u001b[0;34m.\u001b[0m\u001b[0mrecv_into\u001b[0m\u001b[0;34m(\u001b[0m\u001b[0mb\u001b[0m\u001b[0;34m)\u001b[0m\u001b[0;34m\u001b[0m\u001b[0;34m\u001b[0m\u001b[0m\n\u001b[0m\u001b[1;32m    706\u001b[0m             \u001b[0;32mexcept\u001b[0m \u001b[0mtimeout\u001b[0m\u001b[0;34m:\u001b[0m\u001b[0;34m\u001b[0m\u001b[0;34m\u001b[0m\u001b[0m\n\u001b[1;32m    707\u001b[0m                 \u001b[0mself\u001b[0m\u001b[0;34m.\u001b[0m\u001b[0m_timeout_occurred\u001b[0m \u001b[0;34m=\u001b[0m \u001b[0;32mTrue\u001b[0m\u001b[0;34m\u001b[0m\u001b[0;34m\u001b[0m\u001b[0m\n",
            "\u001b[0;32m/usr/lib/python3.10/ssl.py\u001b[0m in \u001b[0;36mrecv_into\u001b[0;34m(self, buffer, nbytes, flags)\u001b[0m\n\u001b[1;32m   1301\u001b[0m                   \u001b[0;34m\"non-zero flags not allowed in calls to recv_into() on %s\"\u001b[0m \u001b[0;34m%\u001b[0m\u001b[0;34m\u001b[0m\u001b[0;34m\u001b[0m\u001b[0m\n\u001b[1;32m   1302\u001b[0m                   self.__class__)\n\u001b[0;32m-> 1303\u001b[0;31m             \u001b[0;32mreturn\u001b[0m \u001b[0mself\u001b[0m\u001b[0;34m.\u001b[0m\u001b[0mread\u001b[0m\u001b[0;34m(\u001b[0m\u001b[0mnbytes\u001b[0m\u001b[0;34m,\u001b[0m \u001b[0mbuffer\u001b[0m\u001b[0;34m)\u001b[0m\u001b[0;34m\u001b[0m\u001b[0;34m\u001b[0m\u001b[0m\n\u001b[0m\u001b[1;32m   1304\u001b[0m         \u001b[0;32melse\u001b[0m\u001b[0;34m:\u001b[0m\u001b[0;34m\u001b[0m\u001b[0;34m\u001b[0m\u001b[0m\n\u001b[1;32m   1305\u001b[0m             \u001b[0;32mreturn\u001b[0m \u001b[0msuper\u001b[0m\u001b[0;34m(\u001b[0m\u001b[0;34m)\u001b[0m\u001b[0;34m.\u001b[0m\u001b[0mrecv_into\u001b[0m\u001b[0;34m(\u001b[0m\u001b[0mbuffer\u001b[0m\u001b[0;34m,\u001b[0m \u001b[0mnbytes\u001b[0m\u001b[0;34m,\u001b[0m \u001b[0mflags\u001b[0m\u001b[0;34m)\u001b[0m\u001b[0;34m\u001b[0m\u001b[0;34m\u001b[0m\u001b[0m\n",
            "\u001b[0;32m/usr/lib/python3.10/ssl.py\u001b[0m in \u001b[0;36mread\u001b[0;34m(self, len, buffer)\u001b[0m\n\u001b[1;32m   1157\u001b[0m         \u001b[0;32mtry\u001b[0m\u001b[0;34m:\u001b[0m\u001b[0;34m\u001b[0m\u001b[0;34m\u001b[0m\u001b[0m\n\u001b[1;32m   1158\u001b[0m             \u001b[0;32mif\u001b[0m \u001b[0mbuffer\u001b[0m \u001b[0;32mis\u001b[0m \u001b[0;32mnot\u001b[0m \u001b[0;32mNone\u001b[0m\u001b[0;34m:\u001b[0m\u001b[0;34m\u001b[0m\u001b[0;34m\u001b[0m\u001b[0m\n\u001b[0;32m-> 1159\u001b[0;31m                 \u001b[0;32mreturn\u001b[0m \u001b[0mself\u001b[0m\u001b[0;34m.\u001b[0m\u001b[0m_sslobj\u001b[0m\u001b[0;34m.\u001b[0m\u001b[0mread\u001b[0m\u001b[0;34m(\u001b[0m\u001b[0mlen\u001b[0m\u001b[0;34m,\u001b[0m \u001b[0mbuffer\u001b[0m\u001b[0;34m)\u001b[0m\u001b[0;34m\u001b[0m\u001b[0;34m\u001b[0m\u001b[0m\n\u001b[0m\u001b[1;32m   1160\u001b[0m             \u001b[0;32melse\u001b[0m\u001b[0;34m:\u001b[0m\u001b[0;34m\u001b[0m\u001b[0;34m\u001b[0m\u001b[0m\n\u001b[1;32m   1161\u001b[0m                 \u001b[0;32mreturn\u001b[0m \u001b[0mself\u001b[0m\u001b[0;34m.\u001b[0m\u001b[0m_sslobj\u001b[0m\u001b[0;34m.\u001b[0m\u001b[0mread\u001b[0m\u001b[0;34m(\u001b[0m\u001b[0mlen\u001b[0m\u001b[0;34m)\u001b[0m\u001b[0;34m\u001b[0m\u001b[0;34m\u001b[0m\u001b[0m\n",
            "\u001b[0;31mKeyboardInterrupt\u001b[0m: "
          ]
        }
      ]
    },
    {
      "cell_type": "code",
      "source": [],
      "metadata": {
        "id": "kqa30Ie8BTAB"
      },
      "execution_count": null,
      "outputs": []
    }
  ],
  "metadata": {
    "colab": {
      "provenance": [],
      "toc_visible": true,
      "include_colab_link": true
    },
    "kernelspec": {
      "display_name": "Python 3",
      "name": "python3"
    },
    "language_info": {
      "name": "python"
    }
  },
  "nbformat": 4,
  "nbformat_minor": 0
}