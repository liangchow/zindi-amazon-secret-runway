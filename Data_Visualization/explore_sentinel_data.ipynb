{
  "cells": [
    {
      "cell_type": "markdown",
      "metadata": {
        "id": "view-in-github",
        "colab_type": "text"
      },
      "source": [
        "<a href=\"https://colab.research.google.com/github/liangchow/zindi-amazon-secret-runway/blob/main/Data_Visualization/explore_sentinel_data.ipynb\" target=\"_parent\"><img src=\"https://colab.research.google.com/assets/colab-badge.svg\" alt=\"Open In Colab\"/></a>"
      ]
    },
    {
      "cell_type": "markdown",
      "metadata": {
        "id": "AIhe7OV6OrYf"
      },
      "source": [
        "# Working with github: [A guide from Google](https://colab.research.google.com/github/googlecolab/colabtools/blob/master/notebooks/colab-github-demo.ipynb)"
      ]
    },
    {
      "cell_type": "markdown",
      "source": [
        "### Imports and Setup."
      ],
      "metadata": {
        "id": "0DTLmDupDf4n"
      }
    },
    {
      "cell_type": "code",
      "source": [
        "%%capture\n",
        "!pip -q install geojson\n",
        "!pip -q install rasterio\n",
        "!pip -q install eeconvert\n",
        "##!pip -q install geemap==0.17.3\n",
        "!pip -q install geemap\n",
        "!pip install ffmpeg-python"
      ],
      "metadata": {
        "collapsed": true,
        "id": "mvAcyNzKElmB",
        "outputId": "08d7b616-0a5b-43ba-8fee-c228d1136e9c",
        "colab": {
          "base_uri": "https://localhost:8080/",
          "height": 17
        }
      },
      "execution_count": 21,
      "outputs": [
        {
          "output_type": "display_data",
          "data": {
            "text/plain": [
              "<IPython.core.display.HTML object>"
            ],
            "text/html": [
              "\n",
              "            <style>\n",
              "                .geemap-dark {\n",
              "                    --jp-widgets-color: white;\n",
              "                    --jp-widgets-label-color: white;\n",
              "                    --jp-ui-font-color1: white;\n",
              "                    --jp-layout-color2: #454545;\n",
              "                    background-color: #383838;\n",
              "                }\n",
              "\n",
              "                .geemap-dark .jupyter-button {\n",
              "                    --jp-layout-color3: #383838;\n",
              "                }\n",
              "\n",
              "                .geemap-colab {\n",
              "                    background-color: var(--colab-primary-surface-color, white);\n",
              "                }\n",
              "\n",
              "                .geemap-colab .jupyter-button {\n",
              "                    --jp-layout-color3: var(--colab-primary-surface-color, white);\n",
              "                }\n",
              "            </style>\n",
              "            "
            ]
          },
          "metadata": {}
        }
      ]
    },
    {
      "cell_type": "code",
      "source": [
        "# Standard imports\n",
        "import os\n",
        "import json\n",
        "import datetime\n",
        "\n",
        "# Geospatial processing packages\n",
        "import geopandas as gpd\n",
        "import geojson\n",
        "import shapely\n",
        "import rasterio as rio\n",
        "from rasterio.plot import show\n",
        "import rasterio.mask\n",
        "from shapely.geometry import box\n",
        "from shapely.geometry import Polygon\n",
        "from pyproj import Transformer\n",
        "\n",
        "# Mapping and plotting libraries\n",
        "import matplotlib.pyplot as plt\n",
        "import matplotlib.colors as cl\n",
        "import ee\n",
        "import eeconvert as eec\n",
        "import geemap\n",
        "#import geemap.eefolium as emap\n",
        "import geemap.foliumap as emap\n",
        "import folium"
      ],
      "metadata": {
        "id": "YKA6BXObDy_K",
        "outputId": "5878b8c4-c701-484b-83ad-20e91b92f2f7",
        "colab": {
          "base_uri": "https://localhost:8080/",
          "height": 17
        }
      },
      "execution_count": 3,
      "outputs": [
        {
          "output_type": "display_data",
          "data": {
            "text/plain": [
              "<IPython.core.display.HTML object>"
            ],
            "text/html": [
              "\n",
              "            <style>\n",
              "                .geemap-dark {\n",
              "                    --jp-widgets-color: white;\n",
              "                    --jp-widgets-label-color: white;\n",
              "                    --jp-ui-font-color1: white;\n",
              "                    --jp-layout-color2: #454545;\n",
              "                    background-color: #383838;\n",
              "                }\n",
              "\n",
              "                .geemap-dark .jupyter-button {\n",
              "                    --jp-layout-color3: #383838;\n",
              "                }\n",
              "\n",
              "                .geemap-colab {\n",
              "                    background-color: var(--colab-primary-surface-color, white);\n",
              "                }\n",
              "\n",
              "                .geemap-colab .jupyter-button {\n",
              "                    --jp-layout-color3: var(--colab-primary-surface-color, white);\n",
              "                }\n",
              "            </style>\n",
              "            "
            ]
          },
          "metadata": {}
        }
      ]
    },
    {
      "cell_type": "markdown",
      "metadata": {
        "id": "WLlGqdpCe49T"
      },
      "source": [
        "### Mount your Google Drive and install project files\n",
        "\n",
        "First, we'll mount your Google Drive as we'll save the GeoTiff files to our drive. Then we'll clone the main branch from the GitHub repo so we have access to all of the files from there.\n",
        "If you want to save your files and make a pull request to github, make a new branch and check out the link at the top."
      ]
    },
    {
      "cell_type": "code",
      "execution_count": 4,
      "metadata": {
        "colab": {
          "base_uri": "https://localhost:8080/",
          "height": 260
        },
        "id": "ONN-mhsCfRX5",
        "outputId": "7a42650c-907e-4d6e-908f-94d27b62589c",
        "collapsed": true
      },
      "outputs": [
        {
          "output_type": "display_data",
          "data": {
            "text/plain": [
              "<IPython.core.display.HTML object>"
            ],
            "text/html": [
              "\n",
              "            <style>\n",
              "                .geemap-dark {\n",
              "                    --jp-widgets-color: white;\n",
              "                    --jp-widgets-label-color: white;\n",
              "                    --jp-ui-font-color1: white;\n",
              "                    --jp-layout-color2: #454545;\n",
              "                    background-color: #383838;\n",
              "                }\n",
              "\n",
              "                .geemap-dark .jupyter-button {\n",
              "                    --jp-layout-color3: #383838;\n",
              "                }\n",
              "\n",
              "                .geemap-colab {\n",
              "                    background-color: var(--colab-primary-surface-color, white);\n",
              "                }\n",
              "\n",
              "                .geemap-colab .jupyter-button {\n",
              "                    --jp-layout-color3: var(--colab-primary-surface-color, white);\n",
              "                }\n",
              "            </style>\n",
              "            "
            ]
          },
          "metadata": {}
        },
        {
          "output_type": "stream",
          "name": "stdout",
          "text": [
            "Mounted at /content/drive\n",
            "Reading package lists... Done\n",
            "Building dependency tree... Done\n",
            "Reading state information... Done\n",
            "git is already the newest version (1:2.34.1-1ubuntu1.11).\n",
            "0 upgraded, 0 newly installed, 0 to remove and 49 not upgraded.\n",
            "Cloning into 'zindi-amazon-secret-runway'...\n",
            "remote: Enumerating objects: 120, done.\u001b[K\n",
            "remote: Counting objects: 100% (120/120), done.\u001b[K\n",
            "remote: Compressing objects: 100% (117/117), done.\u001b[K\n",
            "remote: Total 120 (delta 34), reused 11 (delta 2), pack-reused 0 (from 0)\u001b[K\n",
            "Receiving objects: 100% (120/120), 603.29 KiB | 4.22 MiB/s, done.\n",
            "Resolving deltas: 100% (34/34), done.\n",
            "fatal: not a git repository (or any of the parent directories): .git\n"
          ]
        }
      ],
      "source": [
        "# mount your drive in case you have any new data uploaded there you want to use\n",
        "from google.colab import drive\n",
        "drive.mount('/content/drive')\n",
        "\n",
        "# clone the main branch from GitHub to get all the data and files from there onto the current runtime session\n",
        "!apt-get install git\n",
        "!git clone https://github.com/liangchow/zindi-amazon-secret-runway.git\n",
        "!git pull # pulls the latest changes from repo"
      ]
    },
    {
      "cell_type": "markdown",
      "source": [
        "### Authenticate Google Earth Engine\n",
        "Make sure you have signed up for access to Google Earth Engine. You will need to edit the following code cell to use your own account. All the Sentinel data will be downloaded through the Google Earth Engine."
      ],
      "metadata": {
        "id": "rNqavIojGpUb"
      }
    },
    {
      "cell_type": "code",
      "source": [
        "ee.Authenticate()\n",
        "ee.Initialize(project=\"ee-fortinpascal\")"
      ],
      "metadata": {
        "id": "Nq1kHtxNG7Fw",
        "outputId": "24f9e24b-d86f-4aec-94ae-5fc3f370b9d7",
        "colab": {
          "base_uri": "https://localhost:8080/",
          "height": 17
        }
      },
      "execution_count": 5,
      "outputs": [
        {
          "output_type": "display_data",
          "data": {
            "text/plain": [
              "<IPython.core.display.HTML object>"
            ],
            "text/html": [
              "\n",
              "            <style>\n",
              "                .geemap-dark {\n",
              "                    --jp-widgets-color: white;\n",
              "                    --jp-widgets-label-color: white;\n",
              "                    --jp-ui-font-color1: white;\n",
              "                    --jp-layout-color2: #454545;\n",
              "                    background-color: #383838;\n",
              "                }\n",
              "\n",
              "                .geemap-dark .jupyter-button {\n",
              "                    --jp-layout-color3: #383838;\n",
              "                }\n",
              "\n",
              "                .geemap-colab {\n",
              "                    background-color: var(--colab-primary-surface-color, white);\n",
              "                }\n",
              "\n",
              "                .geemap-colab .jupyter-button {\n",
              "                    --jp-layout-color3: var(--colab-primary-surface-color, white);\n",
              "                }\n",
              "            </style>\n",
              "            "
            ]
          },
          "metadata": {}
        }
      ]
    },
    {
      "cell_type": "markdown",
      "source": [
        "### Setup the main paths to the project files and the download location on your Google Drive."
      ],
      "metadata": {
        "id": "QeyWGSkVIc3a"
      }
    },
    {
      "cell_type": "code",
      "source": [
        "airstrip_training_path = '/content/zindi-amazon-secret-runway/Data_Visualization/data/pac_2024_training/pac_2024_training.shp'\n",
        "base_aoi_path = '/content/zindi-amazon-secret-runway/Data_Visualization//data/shp_test_AOIs'\n",
        "illegal_runways_path = '/content/zindi-amazon-secret-runway/Data_Visualization/data/nyt_intercept_illegal_runways/Illegal-Airstrips-NYT-Intercept-Public.geojson'\n",
        "\n",
        "# Select export folder on Google Drive\n",
        "export_folder = 'Colab Notebooks'"
      ],
      "metadata": {
        "id": "ouCS_31hIgIy",
        "outputId": "48d6edee-6ff5-4720-f71a-7053a04ad389",
        "colab": {
          "base_uri": "https://localhost:8080/",
          "height": 17
        }
      },
      "execution_count": 6,
      "outputs": [
        {
          "output_type": "display_data",
          "data": {
            "text/plain": [
              "<IPython.core.display.HTML object>"
            ],
            "text/html": [
              "\n",
              "            <style>\n",
              "                .geemap-dark {\n",
              "                    --jp-widgets-color: white;\n",
              "                    --jp-widgets-label-color: white;\n",
              "                    --jp-ui-font-color1: white;\n",
              "                    --jp-layout-color2: #454545;\n",
              "                    background-color: #383838;\n",
              "                }\n",
              "\n",
              "                .geemap-dark .jupyter-button {\n",
              "                    --jp-layout-color3: #383838;\n",
              "                }\n",
              "\n",
              "                .geemap-colab {\n",
              "                    background-color: var(--colab-primary-surface-color, white);\n",
              "                }\n",
              "\n",
              "                .geemap-colab .jupyter-button {\n",
              "                    --jp-layout-color3: var(--colab-primary-surface-color, white);\n",
              "                }\n",
              "            </style>\n",
              "            "
            ]
          },
          "metadata": {}
        }
      ]
    },
    {
      "cell_type": "markdown",
      "source": [
        "### Define several helper functions to download and manipulate Sentinel data"
      ],
      "metadata": {
        "id": "kg6DyXmsszj1"
      }
    },
    {
      "cell_type": "code",
      "source": [
        "def create_square_pentagon(center_lon, center_lat, side_length_meters):\n",
        "  \"\"\"\n",
        "  Creates a square geopandas pentagon centered on\n",
        "  a set of Lon/Lat coordinates.\n",
        "\n",
        "  Args:\n",
        "    center_lon: The longitude of the center point.\n",
        "    center_lat: The latitude of the center point.\n",
        "    side_length_meters: The length of each side of\n",
        "                         the square in meters.\n",
        "\n",
        "  Returns:\n",
        "    A geopandas GeoDataFrame containing the pentagon.\n",
        "  \"\"\"\n",
        "\n",
        "  # Define the source and destination coordinate systems\n",
        "  source_crs = \"EPSG:4326\"  # WGS 84 (Lon/Lat)\n",
        "  target_crs = \"EPSG:3395\"  # World Mercator (meters)\n",
        "\n",
        "\n",
        "  # Create a transformer object to convert between coordinate systems\n",
        "  transformer = Transformer.from_crs(source_crs, target_crs, always_xy=True)\n",
        "\n",
        "  # Transform the center coordinates to Web Mercator\n",
        "  center_x, center_y = transformer.transform(center_lon, center_lat)\n",
        "\n",
        "  # Calculate half the side length\n",
        "  half_side = side_length_meters / 2\n",
        "\n",
        "  # Calculate the coordinates of the pentagon's vertices in meters\n",
        "  #coordinates = [\n",
        "  #    (center_x, center_y + half_side),  # Top\n",
        "  #    (center_x + half_side, center_y),  # Right\n",
        "  #    (center_x, center_y - half_side),  # Bottom\n",
        "  #    (center_x - half_side, center_y),  # Left\n",
        "  #    (center_x, center_y + half_side)   # Top (close the polygon)\n",
        "  #]\n",
        "  coordinates = [\n",
        "      (center_x - half_side, center_y + half_side),  # Top left\n",
        "      (center_x + half_side, center_y + half_side),  # Top right\n",
        "      (center_x + half_side, center_y - half_side),  # Bottom right\n",
        "      (center_x - half_side, center_y - half_side),  # Bottom Left\n",
        "      (center_x - half_side, center_y + half_side)   # Top left (close the polygon)\n",
        "  ]\n",
        "\n",
        "\n",
        "  # Create a Polygon object from the coordinates\n",
        "  polygon = Polygon(coordinates)\n",
        "\n",
        "  # Create a GeoDataFrame from the Polygon with World Mercator CRS\n",
        "  gdf = gpd.GeoDataFrame(geometry=[polygon], crs=target_crs)\n",
        "\n",
        "  # Transform the GeoDataFrame back to WGS 84\n",
        "  gdf = gdf.to_crs(source_crs)\n",
        "\n",
        "  return gdf"
      ],
      "metadata": {
        "id": "femEjNbUK6UQ",
        "outputId": "15b824f7-bd62-4f0e-ad99-c4b01b3debeb",
        "colab": {
          "base_uri": "https://localhost:8080/",
          "height": 17
        }
      },
      "execution_count": 7,
      "outputs": [
        {
          "output_type": "display_data",
          "data": {
            "text/plain": [
              "<IPython.core.display.HTML object>"
            ],
            "text/html": [
              "\n",
              "            <style>\n",
              "                .geemap-dark {\n",
              "                    --jp-widgets-color: white;\n",
              "                    --jp-widgets-label-color: white;\n",
              "                    --jp-ui-font-color1: white;\n",
              "                    --jp-layout-color2: #454545;\n",
              "                    background-color: #383838;\n",
              "                }\n",
              "\n",
              "                .geemap-dark .jupyter-button {\n",
              "                    --jp-layout-color3: #383838;\n",
              "                }\n",
              "\n",
              "                .geemap-colab {\n",
              "                    background-color: var(--colab-primary-surface-color, white);\n",
              "                }\n",
              "\n",
              "                .geemap-colab .jupyter-button {\n",
              "                    --jp-layout-color3: var(--colab-primary-surface-color, white);\n",
              "                }\n",
              "            </style>\n",
              "            "
            ]
          },
          "metadata": {}
        }
      ]
    },
    {
      "cell_type": "code",
      "source": [
        "# Function to export an image as GeoTIFF and save it to Google Drive\n",
        "def export_image(image,filename_prefix,bands,export_folder):\n",
        "  date = ee.Date(image.get('system:time_start')).format('YYYY-MM-dd').getInfo()\n",
        "  filename = f\"{filename_prefix}_{date}\"\n",
        "\n",
        "  task = ee.batch.Export.image.toDrive(\n",
        "      image=image.select(bands).clip(region),\n",
        "      description='filename',\n",
        "      folder=export_folder,\n",
        "      fileNamePrefix=filename,\n",
        "      scale=10,  # Adjust scale as needed (meters)\n",
        "      region=region.getInfo()['coordinates'],\n",
        "      maxPixels=1e13,\n",
        "      fileFormat='GeoTIFF'\n",
        "  )\n",
        "  task.start()\n",
        "  print(f'Task ID: {task.id}')\n",
        "  print('Exporting to Google Drive...')\n"
      ],
      "metadata": {
        "id": "tAmGIxPVtnsI",
        "outputId": "a1901c53-71a2-4365-c448-3824945d7ef8",
        "colab": {
          "base_uri": "https://localhost:8080/",
          "height": 17
        }
      },
      "execution_count": 8,
      "outputs": [
        {
          "output_type": "display_data",
          "data": {
            "text/plain": [
              "<IPython.core.display.HTML object>"
            ],
            "text/html": [
              "\n",
              "            <style>\n",
              "                .geemap-dark {\n",
              "                    --jp-widgets-color: white;\n",
              "                    --jp-widgets-label-color: white;\n",
              "                    --jp-ui-font-color1: white;\n",
              "                    --jp-layout-color2: #454545;\n",
              "                    background-color: #383838;\n",
              "                }\n",
              "\n",
              "                .geemap-dark .jupyter-button {\n",
              "                    --jp-layout-color3: #383838;\n",
              "                }\n",
              "\n",
              "                .geemap-colab {\n",
              "                    background-color: var(--colab-primary-surface-color, white);\n",
              "                }\n",
              "\n",
              "                .geemap-colab .jupyter-button {\n",
              "                    --jp-layout-color3: var(--colab-primary-surface-color, white);\n",
              "                }\n",
              "            </style>\n",
              "            "
            ]
          },
          "metadata": {}
        }
      ]
    },
    {
      "cell_type": "code",
      "execution_count": 9,
      "metadata": {
        "id": "SpOJ_5Je5B_d",
        "outputId": "b14fcdd0-9001-4849-c5a8-ac7da13b0c58",
        "colab": {
          "base_uri": "https://localhost:8080/",
          "height": 17
        }
      },
      "outputs": [
        {
          "output_type": "display_data",
          "data": {
            "text/plain": [
              "<IPython.core.display.HTML object>"
            ],
            "text/html": [
              "\n",
              "            <style>\n",
              "                .geemap-dark {\n",
              "                    --jp-widgets-color: white;\n",
              "                    --jp-widgets-label-color: white;\n",
              "                    --jp-ui-font-color1: white;\n",
              "                    --jp-layout-color2: #454545;\n",
              "                    background-color: #383838;\n",
              "                }\n",
              "\n",
              "                .geemap-dark .jupyter-button {\n",
              "                    --jp-layout-color3: #383838;\n",
              "                }\n",
              "\n",
              "                .geemap-colab {\n",
              "                    background-color: var(--colab-primary-surface-color, white);\n",
              "                }\n",
              "\n",
              "                .geemap-colab .jupyter-button {\n",
              "                    --jp-layout-color3: var(--colab-primary-surface-color, white);\n",
              "                }\n",
              "            </style>\n",
              "            "
            ]
          },
          "metadata": {}
        }
      ],
      "source": [
        "def download_s1_images(\n",
        "    region,\n",
        "    bands = ['VV', 'VH'],\n",
        "    filename_prefix='Sentinel2',\n",
        "    export_folder='Colab Notebooks',\n",
        "    product='COPERNICUS/S1_GRD',\n",
        "    min_date='2024-04-01',\n",
        "    max_date='2024-06-01',\n",
        "):\n",
        "\n",
        "    \"\"\"Generates Sentinel-1 images from Google Earth Engine using the Python Earth Engine API.\n",
        "\n",
        "    Args:\n",
        "      region (ee.Geometry): The geometry of the area of interest to filter to.\n",
        "      bands: List of bands\n",
        "      filename_prefix: Filename prexix to save to disk\n",
        "      export_folder: Google Drive folder to save to\n",
        "      product (str): Earth Engine asset ID\n",
        "        You can find the full list of ImageCollection IDs\n",
        "        at https://developers.google.com/earth-engine/datasets\n",
        "      min_date (str): Minimum date to acquire collection of satellite images\n",
        "      max_date (str): Maximum date to acquire collection of satellite images\n",
        "      range_min (int): Minimum value for visalization range\n",
        "      range_max (int): Maximum value for visualization range\n",
        "      cloud_pct (float): The cloud cover percent to filter by (default 10)\n",
        "\n",
        "    Returns:\n",
        "      ee.image.Image: Generated Sentinel-1 images clipped to the region of interest\n",
        "    \"\"\"\n",
        "\n",
        "    # Define the Sentinel-1 image collection and filter by date and region.\n",
        "    sentinel1 = ee.ImageCollection(product) \\\n",
        "        .filterDate(min_date, max_date) \\\n",
        "        .filterBounds(region) \\\n",
        "        .filter(ee.Filter.eq('instrumentMode', 'IW'))  # Interferometric Wide (IW) swath mode\n",
        "\n",
        "    # Apply the export function to each image in the collection.\n",
        "    collection_list = sentinel1.toList(sentinel1.size())\n",
        "    for i in range(sentinel1.size().getInfo()):\n",
        "      image = ee.Image(collection_list.get(i))\n",
        "      export_image(image=image,filename_prefix=filename_prefix,bands=bands,export_folder=export_folder)\n",
        "\n",
        "    print(\"Export tasks should be complete.\")\n"
      ]
    },
    {
      "cell_type": "code",
      "execution_count": 10,
      "metadata": {
        "id": "uFlTm3WHaSPZ",
        "outputId": "a85134a6-c7b6-4626-f65d-1719266447ba",
        "colab": {
          "base_uri": "https://localhost:8080/",
          "height": 17
        }
      },
      "outputs": [
        {
          "output_type": "display_data",
          "data": {
            "text/plain": [
              "<IPython.core.display.HTML object>"
            ],
            "text/html": [
              "\n",
              "            <style>\n",
              "                .geemap-dark {\n",
              "                    --jp-widgets-color: white;\n",
              "                    --jp-widgets-label-color: white;\n",
              "                    --jp-ui-font-color1: white;\n",
              "                    --jp-layout-color2: #454545;\n",
              "                    background-color: #383838;\n",
              "                }\n",
              "\n",
              "                .geemap-dark .jupyter-button {\n",
              "                    --jp-layout-color3: #383838;\n",
              "                }\n",
              "\n",
              "                .geemap-colab {\n",
              "                    background-color: var(--colab-primary-surface-color, white);\n",
              "                }\n",
              "\n",
              "                .geemap-colab .jupyter-button {\n",
              "                    --jp-layout-color3: var(--colab-primary-surface-color, white);\n",
              "                }\n",
              "            </style>\n",
              "            "
            ]
          },
          "metadata": {}
        }
      ],
      "source": [
        "def download_s2_images(\n",
        "    region,\n",
        "    bands=['B4', 'B3', 'B2', 'B8', 'B11', 'B12'],\n",
        "    filename_prefix='Sentinel2',\n",
        "    export_folder='Colab Notebooks',\n",
        "    product='COPERNICUS/S2_HARMONIZED',\n",
        "    min_date='2023-01-01',\n",
        "    max_date='2024-06-01',\n",
        "    range_min=0,\n",
        "    range_max=2000,\n",
        "    cloud_pct=10\n",
        "):\n",
        "\n",
        "    \"\"\"Generates cloud-filtered, Sentinel-2 images from\n",
        "    Google Earth Engine using the Python Earth Engine API.\n",
        "\n",
        "    Args:\n",
        "      region (ee.Geometry): The geometry of the area of interest to filter to.\n",
        "      product (str): Earth Engine asset ID\n",
        "        You can find the full list of ImageCollection IDs\n",
        "        at https://developers.google.com/earth-engine/datasets\n",
        "      min_date (str): Minimum date to acquire collection of satellite images\n",
        "      max_date (str): Maximum date to acquire collection of satellite images\n",
        "      range_min (int): Minimum value for visalization range\n",
        "      range_max (int): Maximum value for visualization range\n",
        "      cloud_pct (float): The cloud cover percent to filter by (default 10)\n",
        "\n",
        "    Returns:\n",
        "      ee.image.Image: Generated Sentinel-2 images clipped to the region of interest\n",
        "    \"\"\"\n",
        "\n",
        "    # Generate collection of images\n",
        "    sentinel2 = ee.ImageCollection(product)\\\n",
        "        .filterBounds(region)\\\n",
        "        .filterDate(str(min_date), str(max_date))\\\n",
        "        .filter(ee.Filter.lt(\"CLOUDY_PIXEL_PERCENTAGE\", cloud_pct))\n",
        "\n",
        "    # Apply the export function to each image in the collection.\n",
        "    collection_list = sentinel2.toList(sentinel2.size())\n",
        "    for i in range(sentinel2.size().getInfo()):\n",
        "      image = ee.Image(collection_list.get(i))\n",
        "      export_image(image=image,filename_prefix=filename_prefix,bands=bands,export_folder=export_folder)\n",
        "\n",
        "    print(\"Export tasks should be complete.\")\n"
      ]
    },
    {
      "cell_type": "code",
      "source": [
        "def plot_s1_images(\n",
        "    region,\n",
        "    bands = ['VV', 'VH'],\n",
        "    product='COPERNICUS/S1_GRD',\n",
        "    min_date='2024-06-01',\n",
        "    max_date='2024-07-01'\n",
        "):\n",
        "\n",
        "    \"\"\"Generates Sentinel-1 images from Google Earth Engine using the Python Earth Engine API.\n",
        "\n",
        "    Args:\n",
        "      region (ee.Geometry): The geometry of the area of interest to filter to.\n",
        "      bands: List of bands\n",
        "      product (str): Earth Engine asset ID\n",
        "        You can find the full list of ImageCollection IDs\n",
        "        at https://developers.google.com/earth-engine/datasets\n",
        "      min_date (str): Minimum date to acquire collection of satellite images\n",
        "      max_date (str): Maximum date to acquire collection of satellite images\n",
        "\n",
        "    Returns:\n",
        "      Map\n",
        "    \"\"\"\n",
        "\n",
        "    # Define the Sentinel-1 image collection and filter by date and region.\n",
        "    sentinel1 = ee.ImageCollection(product) \\\n",
        "        .filterDate(min_date, max_date) \\\n",
        "        .filterBounds(region) \\\n",
        "        .filter(ee.Filter.eq('instrumentMode', 'IW'))  # Interferometric Wide (IW) swath mode\n",
        "\n",
        "    # Get the most recent image in the collection.\n",
        "    most_recent_image = sentinel1.sort('system:time_start', False).first().clip(region)\n",
        "\n",
        "    # Select the VV and VH bands.\n",
        "    vv_vh_image = most_recent_image.select(['VV', 'VH'])\n",
        "\n",
        "    # Create a map.\n",
        "    location = region.centroid().coordinates().getInfo()[::-1]\n",
        "    Map = geemap.Map(center=location, zoom=10, basemap='SATELLITE')\n",
        "\n",
        "    # Add Google TERRAIN as a base map.\n",
        "    Map.add_basemap('TERRAIN')\n",
        "\n",
        "    # Define visualization parameters for the VV and VH bands.\n",
        "    #vv_vis_params = {\n",
        "    #    'min': -25,\n",
        "    #    'max': 0,\n",
        "    #    'palette': ['blue', 'white', 'green']\n",
        "    #}\n",
        "    vv_vis_params = {\n",
        "        'min': -25,\n",
        "        'max': 0,\n",
        "        'palette': ['black', 'white']\n",
        "    }\n",
        "\n",
        "\n",
        "    vh_vis_params = {\n",
        "        'min': -25,\n",
        "        'max': 0,\n",
        "        'palette': ['purple', 'white', 'orange']\n",
        "    }\n",
        "\n",
        "    # Make an RGB color composite image (VV,VH,VV/VH).\n",
        "    rgb = ee.Image.rgb(vv_vh_image.select('VV'),\n",
        "                       vv_vh_image.select('VH'),\n",
        "                       vv_vh_image.select('VV').divide(vv_vh_image.select('VH')))\n",
        "\n",
        "\n",
        "    # Add the S1 rgb composite to the map object.\n",
        "    Map.addLayer(rgb, {'min': [-25, -25, 0], 'max': [0, 0, 2]}, 'Fake S1 RGB')\n",
        "\n",
        "    # Add the VV band layer to the map.\n",
        "    Map.addLayer(vv_vh_image.select('VV'), vv_vis_params, 'VV Band')\n",
        "\n",
        "    # Add the VH band layer to the map.\n",
        "    Map.addLayer(vv_vh_image.select('VH'), vh_vis_params, 'VH Band')\n",
        "\n",
        "    # Add the region of interest as a layer.\n",
        "    Map.addLayer(region, {}, 'Region of Interest')\n",
        "\n",
        "    # Display the map.\n",
        "    Map.addLayerControl()  # This line will add a layer control to toggle the layers on/off.\n",
        "    return Map\n"
      ],
      "metadata": {
        "id": "VAElPNUi-sho",
        "outputId": "f3b60a3a-94e3-40e9-af49-6383f114f2e8",
        "colab": {
          "base_uri": "https://localhost:8080/",
          "height": 17
        }
      },
      "execution_count": 11,
      "outputs": [
        {
          "output_type": "display_data",
          "data": {
            "text/plain": [
              "<IPython.core.display.HTML object>"
            ],
            "text/html": [
              "\n",
              "            <style>\n",
              "                .geemap-dark {\n",
              "                    --jp-widgets-color: white;\n",
              "                    --jp-widgets-label-color: white;\n",
              "                    --jp-ui-font-color1: white;\n",
              "                    --jp-layout-color2: #454545;\n",
              "                    background-color: #383838;\n",
              "                }\n",
              "\n",
              "                .geemap-dark .jupyter-button {\n",
              "                    --jp-layout-color3: #383838;\n",
              "                }\n",
              "\n",
              "                .geemap-colab {\n",
              "                    background-color: var(--colab-primary-surface-color, white);\n",
              "                }\n",
              "\n",
              "                .geemap-colab .jupyter-button {\n",
              "                    --jp-layout-color3: var(--colab-primary-surface-color, white);\n",
              "                }\n",
              "            </style>\n",
              "            "
            ]
          },
          "metadata": {}
        }
      ]
    },
    {
      "cell_type": "code",
      "source": [
        "def plot_s2_images(\n",
        "    region,\n",
        "    bands=['B4', 'B3', 'B2', 'B8', 'B11', 'B12'],\n",
        "    product='COPERNICUS/S2_HARMONIZED',\n",
        "    min_date='2024-06-01',\n",
        "    max_date='2024-07-01',\n",
        "    cloud_pct=10\n",
        "):\n",
        "\n",
        "    \"\"\"Generates Sentinel-2 images from Google Earth Engine using the Python Earth Engine API.\n",
        "\n",
        "    Args:\n",
        "      region (ee.Geometry): The geometry of the area of interest to filter to.\n",
        "      bands: List of bands\n",
        "      product (str): Earth Engine asset ID\n",
        "        You can find the full list of ImageCollection IDs\n",
        "        at https://developers.google.com/earth-engine/datasets\n",
        "      min_date (str): Minimum date to acquire collection of satellite images\n",
        "      max_date (str): Maximum date to acquire collection of satellite images\n",
        "\n",
        "    Returns:\n",
        "      Map\n",
        "    \"\"\"\n",
        "\n",
        "    # Define the Sentinel-2 image collection and filter by date and region.\n",
        "    # Generate collection of images\n",
        "    sentinel2 = ee.ImageCollection(product)\\\n",
        "        .filterBounds(region)\\\n",
        "        .filterDate(str(min_date), str(max_date))\\\n",
        "        .filter(ee.Filter.lt(\"CLOUDY_PIXEL_PERCENTAGE\", cloud_pct))\n",
        "\n",
        "    # Get the most recent image in the collection.\n",
        "    most_recent_image = sentinel2.sort('system:time_start', False).first().clip(region)\n",
        "\n",
        "    # Select the bands to plot.\n",
        "    s2_image = most_recent_image.select(bands)\n",
        "\n",
        "    # Select all bands\n",
        "    band_names = s2_image.bandNames().getInfo()\n",
        "\n",
        "    # Create an RGB visualization layer (bands 4, 3, 2 correspond to Red, Green, Blue)\n",
        "    rgb_viz_params = {\n",
        "        'bands': ['B4', 'B3', 'B2'],  # Red, Green, Blue\n",
        "        'min': 0,\n",
        "        'max': 3000,\n",
        "        'gamma': [0.95, 1.1, 1]\n",
        "    }\n",
        "\n",
        "    # Create a map.\n",
        "    location = region.centroid().coordinates().getInfo()[::-1]\n",
        "    Map = geemap.Map(center=location, zoom=10, basemap='SATELLITE')\n",
        "\n",
        "    # Add Google TERRAIN as a base map.\n",
        "    Map.add_basemap('TERRAIN')\n",
        "\n",
        "    # Add all individual bands as layers\n",
        "    for band in band_names:\n",
        "        Map.addLayer(s2_image.select(band), {'min': 0, 'max': 3000}, f'Sentinel-2 {band}')\n",
        "\n",
        "    # Add the RGB visualization layer\n",
        "    Map.addLayer(s2_image, rgb_viz_params, 'Sentinel-2 RGB')\n",
        "\n",
        "#    # Create an RGB layer\n",
        "#    rgb_image = s2_image.select(['B4', 'B3', 'B2'])\n",
        "#    Map.addLayer(rgb_image, {'min': 0, 'max': 3000}, 'RGB')\n",
        "\n",
        "    # Add the region of interest as a layer.\n",
        "    Map.addLayer(region, {}, 'Region of Interest')\n",
        "\n",
        "    # Display the map.\n",
        "    Map.addLayerControl()  # This line will add a layer control to toggle the layers on/off.\n",
        "    return Map\n"
      ],
      "metadata": {
        "id": "7cIqCcXLYlC7",
        "outputId": "dd140060-a68b-4b35-d2d4-c1031529fdd7",
        "colab": {
          "base_uri": "https://localhost:8080/",
          "height": 17
        }
      },
      "execution_count": 12,
      "outputs": [
        {
          "output_type": "display_data",
          "data": {
            "text/plain": [
              "<IPython.core.display.HTML object>"
            ],
            "text/html": [
              "\n",
              "            <style>\n",
              "                .geemap-dark {\n",
              "                    --jp-widgets-color: white;\n",
              "                    --jp-widgets-label-color: white;\n",
              "                    --jp-ui-font-color1: white;\n",
              "                    --jp-layout-color2: #454545;\n",
              "                    background-color: #383838;\n",
              "                }\n",
              "\n",
              "                .geemap-dark .jupyter-button {\n",
              "                    --jp-layout-color3: #383838;\n",
              "                }\n",
              "\n",
              "                .geemap-colab {\n",
              "                    background-color: var(--colab-primary-surface-color, white);\n",
              "                }\n",
              "\n",
              "                .geemap-colab .jupyter-button {\n",
              "                    --jp-layout-color3: var(--colab-primary-surface-color, white);\n",
              "                }\n",
              "            </style>\n",
              "            "
            ]
          },
          "metadata": {}
        }
      ]
    },
    {
      "cell_type": "code",
      "source": [
        "def create_sentinel2_timelapse(region, start_date, end_date, output_video_path):\n",
        "    # Define the time range\n",
        "\n",
        "    # Load Sentinel-2 data and filter by date and region\n",
        "    collection = (ee.ImageCollection('COPERNICUS/S2_HARMONIZED')\\\n",
        "                  .filterDate(start_date, end_date)\\\n",
        "                  .filterBounds(region)\\\n",
        "                  .filter(ee.Filter.lt('CLOUDY_PIXEL_PERCENTAGE', 10)))\n",
        "\n",
        "    count = collection.size()\n",
        "    print('Number of images in the collection:',count.getInfo())\n",
        "\n",
        "\n",
        "    # Define visualization parameters for the RGB composite\n",
        "    vis_params = {\n",
        "        'bands': ['B4', 'B3', 'B2'],  # Red, Green, Blue bands\n",
        "        'min': 0,\n",
        "        'max': 3000,\n",
        "        'gamma': 1.4\n",
        "    }\n",
        "\n",
        "    # Create a Timelapse module instance\n",
        "    #timelapse = geemap.Timelapse()\n",
        "\n",
        "    # Set timelapse parameters\n",
        "    timelapse_params = {\n",
        "        'bands': ['B4', 'B3', 'B2'],  # Use RGB bands\n",
        "        'start_date': start_date,\n",
        "        'end_date': end_date,\n",
        "        'frequency': 'month',  # Time intervals\n",
        "        #'reducer': ee.Reducer.median(),  # Use median exposure\n",
        "        'reducer': 'median',  # Use median exposure\n",
        "        'date_format': 'YYYY-MM-dd',\n",
        "        'dimensions': 720,\n",
        "        'frames_per_second': 1,  # Adjust FPS for video\n",
        "        'crs': 'EPSG:4326',\n",
        "        'vis_params': vis_params\n",
        "    }\n",
        "\n",
        "\n",
        "    # Generate time-lapse and export to video\n",
        "    timelapse = geemap.create_timelapse(\n",
        "        collection=collection,\n",
        "        region=region,\n",
        "        out_gif=output_video_path,\n",
        "        **timelapse_params\n",
        "    )\n",
        "\n"
      ],
      "metadata": {
        "id": "PFV1ikaJ7ZaZ",
        "outputId": "40bf38f6-7257-4261-fadf-9e811b8bc08c",
        "colab": {
          "base_uri": "https://localhost:8080/",
          "height": 17
        }
      },
      "execution_count": 13,
      "outputs": [
        {
          "output_type": "display_data",
          "data": {
            "text/plain": [
              "<IPython.core.display.HTML object>"
            ],
            "text/html": [
              "\n",
              "            <style>\n",
              "                .geemap-dark {\n",
              "                    --jp-widgets-color: white;\n",
              "                    --jp-widgets-label-color: white;\n",
              "                    --jp-ui-font-color1: white;\n",
              "                    --jp-layout-color2: #454545;\n",
              "                    background-color: #383838;\n",
              "                }\n",
              "\n",
              "                .geemap-dark .jupyter-button {\n",
              "                    --jp-layout-color3: #383838;\n",
              "                }\n",
              "\n",
              "                .geemap-colab {\n",
              "                    background-color: var(--colab-primary-surface-color, white);\n",
              "                }\n",
              "\n",
              "                .geemap-colab .jupyter-button {\n",
              "                    --jp-layout-color3: var(--colab-primary-surface-color, white);\n",
              "                }\n",
              "            </style>\n",
              "            "
            ]
          },
          "metadata": {}
        }
      ]
    },
    {
      "cell_type": "markdown",
      "source": [
        "## Let's look at the Sentinel data\n",
        "We'll use the airstrip training shape file. Each record contains columns for id, year of detection, largo (length probably in meters), Activo (activity status???), and geometry of type *Linestring* with coordinates (LNG LAT) which define points along the airstrip. For each airstrip, we'll define a square AOI to define a boundary when downloading Sentinel data."
      ],
      "metadata": {
        "id": "zF6L5ZGyJi9N"
      }
    },
    {
      "cell_type": "markdown",
      "source": [
        "### Select the bands for both Sentinel 1 and 2"
      ],
      "metadata": {
        "id": "OojUk3fq1SPl"
      }
    },
    {
      "cell_type": "code",
      "source": [
        "s1_bands = ['VV', 'VH']\n",
        "s2_bands = ['B4', 'B3', 'B2', 'B8', 'B11', 'B12']"
      ],
      "metadata": {
        "id": "BJ6tlejnuWP4",
        "outputId": "a454fe01-4c0a-441e-fa2e-cccd4e6ec901",
        "colab": {
          "base_uri": "https://localhost:8080/",
          "height": 17
        }
      },
      "execution_count": 14,
      "outputs": [
        {
          "output_type": "display_data",
          "data": {
            "text/plain": [
              "<IPython.core.display.HTML object>"
            ],
            "text/html": [
              "\n",
              "            <style>\n",
              "                .geemap-dark {\n",
              "                    --jp-widgets-color: white;\n",
              "                    --jp-widgets-label-color: white;\n",
              "                    --jp-ui-font-color1: white;\n",
              "                    --jp-layout-color2: #454545;\n",
              "                    background-color: #383838;\n",
              "                }\n",
              "\n",
              "                .geemap-dark .jupyter-button {\n",
              "                    --jp-layout-color3: #383838;\n",
              "                }\n",
              "\n",
              "                .geemap-colab {\n",
              "                    background-color: var(--colab-primary-surface-color, white);\n",
              "                }\n",
              "\n",
              "                .geemap-colab .jupyter-button {\n",
              "                    --jp-layout-color3: var(--colab-primary-surface-color, white);\n",
              "                }\n",
              "            </style>\n",
              "            "
            ]
          },
          "metadata": {}
        }
      ]
    },
    {
      "cell_type": "markdown",
      "source": [
        "### Read the shapefile for the training set and print information about the first few entries"
      ],
      "metadata": {
        "id": "3lJt9Wqs1mzv"
      }
    },
    {
      "cell_type": "code",
      "source": [
        "# Read the shapefile for the training dataset\n",
        "airstrip_training_gdf = gpd.read_file(airstrip_training_path)\n",
        "\n",
        "# Display the data for information\n",
        "print(airstrip_training_gdf.head(20).to_markdown(), \"\\n\")\n",
        "print(airstrip_training_gdf.info(), \"\\n\")"
      ],
      "metadata": {
        "colab": {
          "base_uri": "https://localhost:8080/",
          "height": 659
        },
        "id": "ygubMkFvKog8",
        "outputId": "65adf40a-1607-42b4-e835-a40ca73a50c5"
      },
      "execution_count": 15,
      "outputs": [
        {
          "output_type": "display_data",
          "data": {
            "text/plain": [
              "<IPython.core.display.HTML object>"
            ],
            "text/html": [
              "\n",
              "            <style>\n",
              "                .geemap-dark {\n",
              "                    --jp-widgets-color: white;\n",
              "                    --jp-widgets-label-color: white;\n",
              "                    --jp-ui-font-color1: white;\n",
              "                    --jp-layout-color2: #454545;\n",
              "                    background-color: #383838;\n",
              "                }\n",
              "\n",
              "                .geemap-dark .jupyter-button {\n",
              "                    --jp-layout-color3: #383838;\n",
              "                }\n",
              "\n",
              "                .geemap-colab {\n",
              "                    background-color: var(--colab-primary-surface-color, white);\n",
              "                }\n",
              "\n",
              "                .geemap-colab .jupyter-button {\n",
              "                    --jp-layout-color3: var(--colab-primary-surface-color, white);\n",
              "                }\n",
              "            </style>\n",
              "            "
            ]
          },
          "metadata": {}
        },
        {
          "output_type": "stream",
          "name": "stdout",
          "text": [
            "|    |   id |   yr |    largo |   Activo | geometry                                                                                                                            |\n",
            "|---:|-----:|-----:|---------:|---------:|:------------------------------------------------------------------------------------------------------------------------------------|\n",
            "|  0 |    1 | 2023 |  968.918 |        0 | LINESTRING (-70.08928656863503 -13.129844039931504, -70.08052787039317 -13.128251134052485, -70.08052787039317 -13.128251134052485) |\n",
            "|  1 |    2 | 2022 | 1105.49  |        0 | LINESTRING (-69.16744237255283 -13.620679758207931, -69.1728593987747 -13.612261251288524)                                          |\n",
            "|  2 |    3 | 2015 |  985.018 |        0 | LINESTRING (-69.14224792429687 -13.694510447986984, -69.14189616934739 -13.685654549844925)                                         |\n",
            "|  3 |    4 | 2020 |  681.914 |        0 | LINESTRING (-69.07843632939438 -13.787902019520923, -69.08404112675193 -13.7906640035937)                                           |\n",
            "|  4 |    5 | 2020 |  699.552 |        0 | LINESTRING (-69.07838092777308 -13.787884084452626, -69.08279459027209 -13.78330162936446)                                          |\n",
            "|  5 |    6 | 2021 |  479.657 |        0 | LINESTRING (-69.06908268899375 -13.805145949941648, -69.07118795060414 -13.801352932625479)                                         |\n",
            "|  6 |    7 | 2021 |  590.712 |        1 | LINESTRING (-71.22395866099642 -12.612481103931785, -71.22665410030154 -12.607854214054655)                                         |\n",
            "|  7 |    8 | 2021 |  724.014 |        1 | LINESTRING (-71.22047785987934 -12.616653748874258, -71.22285333696479 -12.610550877825995)                                         |\n",
            "|  8 |    9 | 2022 |  558.365 |        1 | LINESTRING (-71.13171258348166 -12.704395966794003, -71.13630840445518 -12.70215430461654)                                          |\n",
            "|  9 |   10 | 2022 |  596.248 |        0 | LINESTRING (-71.10084107719548 -12.607556160000744, -71.10383708707062 -12.61206005094843)                                          |\n",
            "| 10 |   11 | 2023 |  705.914 |        1 | LINESTRING (-71.24570154819708 -12.9965069461229, -71.24577669083958 -13.002876810532973)                                           |\n",
            "| 11 |   12 | 2015 |  567.836 |        0 | LINESTRING (-73.19064037961633 -12.090132492975844, -73.19324128462931 -12.085683607064079)                                         |\n",
            "| 12 |   13 | 2021 |  982.006 |        0 | LINESTRING (-73.1876152822667 -12.098496766981977, -73.1897265481253 -12.089867031427529)                                           |\n",
            "| 13 |   14 | 2020 |  677.359 |        0 | LINESTRING (-73.19410906095236 -12.084491378399282, -73.19695963345491 -12.079049249291916)                                         |\n",
            "| 14 |   15 | 2021 | 1115.11  |        1 | LINESTRING (-73.22146583073456 -12.048790797013272, -73.2166300380963 -12.03990580262782)                                           |\n",
            "| 15 |   16 | 2022 | 1882.45  |        0 | LINESTRING (-73.20827466104157 -12.026603838374866, -73.20060041568176 -12.011357095839417)                                         |\n",
            "| 16 |   17 | 2021 | 1738.24  |        1 | LINESTRING (-73.72051963100415 -12.06782569389272, -73.70634433509007 -12.06059116995167)                                           |\n",
            "| 17 |   18 | 2020 | 1350.82  |        1 | LINESTRING (-73.47916631120829 -12.299075174034154, -73.46858331839692 -12.305464834553177, -73.46858331839692 -12.305464834553177) |\n",
            "| 18 |   19 | 2016 |  702.358 |        0 | LINESTRING (-73.51360103312273 -12.307501535781709, -73.51895312843364 -12.303949139668285)                                         |\n",
            "| 19 |   20 | 2021 |  441.569 |        0 | LINESTRING (-73.14111168238426 -11.608517165113051, -73.1390149602629 -11.605102792924656)                                          | \n",
            "\n",
            "<class 'geopandas.geodataframe.GeoDataFrame'>\n",
            "RangeIndex: 154 entries, 0 to 153\n",
            "Data columns (total 5 columns):\n",
            " #   Column    Non-Null Count  Dtype   \n",
            "---  ------    --------------  -----   \n",
            " 0   id        154 non-null    int64   \n",
            " 1   yr        154 non-null    int64   \n",
            " 2   largo     154 non-null    float64 \n",
            " 3   Activo    154 non-null    int64   \n",
            " 4   geometry  154 non-null    geometry\n",
            "dtypes: float64(1), geometry(1), int64(3)\n",
            "memory usage: 6.1 KB\n",
            "None \n",
            "\n"
          ]
        }
      ]
    },
    {
      "cell_type": "markdown",
      "source": [
        "### Reproject the data to a projected CRS for accurate centroid calculation"
      ],
      "metadata": {
        "id": "hBPb5aZF2zTv"
      }
    },
    {
      "cell_type": "code",
      "source": [
        "# Temporarily reproject to a projected CRS for accurate centroid calculation\n",
        "projected_airstrip_training_gdf = airstrip_training_gdf.to_crs(epsg=3395)  # World Mercator projection"
      ],
      "metadata": {
        "colab": {
          "base_uri": "https://localhost:8080/",
          "height": 17
        },
        "collapsed": true,
        "id": "WqOj7E-xNKwV",
        "outputId": "9268e2dd-b1d1-42b0-84b3-b5bd13abd5fd"
      },
      "execution_count": 16,
      "outputs": [
        {
          "output_type": "display_data",
          "data": {
            "text/plain": [
              "<IPython.core.display.HTML object>"
            ],
            "text/html": [
              "\n",
              "            <style>\n",
              "                .geemap-dark {\n",
              "                    --jp-widgets-color: white;\n",
              "                    --jp-widgets-label-color: white;\n",
              "                    --jp-ui-font-color1: white;\n",
              "                    --jp-layout-color2: #454545;\n",
              "                    background-color: #383838;\n",
              "                }\n",
              "\n",
              "                .geemap-dark .jupyter-button {\n",
              "                    --jp-layout-color3: #383838;\n",
              "                }\n",
              "\n",
              "                .geemap-colab {\n",
              "                    background-color: var(--colab-primary-surface-color, white);\n",
              "                }\n",
              "\n",
              "                .geemap-colab .jupyter-button {\n",
              "                    --jp-layout-color3: var(--colab-primary-surface-color, white);\n",
              "                }\n",
              "            </style>\n",
              "            "
            ]
          },
          "metadata": {}
        }
      ]
    },
    {
      "cell_type": "markdown",
      "source": [
        "For each entry in the dataset, we'll find the centroid of the airstrip *LINESTRING*, and then define a square area around it to define the boundary geometry when accessing Sentinel data.\n",
        "\n",
        "At this time, we do not loop on all the entries..."
      ],
      "metadata": {
        "id": "06G3AEFS31In"
      }
    },
    {
      "cell_type": "code",
      "source": [
        "## DO NOT RUN THIS CELL !!!\n",
        "\n",
        "\n",
        "# Access the first airstip and calculate its centroid\n",
        "#centroid = projected_airstrip_training_gdf.geometry[0].centroid\n",
        "centroid = projected_airstrip_training_gdf.geometry[10].centroid\n",
        "\n",
        "# Convert the centroid back to WGS84 (LNG, LAT)\n",
        "centroid_wgs84 = gpd.GeoSeries([centroid], crs=projected_airstrip_training_gdf.crs).to_crs(epsg=4326).geometry[0]\n",
        "\n",
        "# Create a new AOI center on the centroid. The lenght of each side is 5km.\n",
        "newAOI = create_square_pentagon(centroid_wgs84.x, centroid_wgs84.y, 5000)\n",
        "\n",
        "#print(newAOI.info(), \"\\n\")\n",
        "#fig, ax = plt.subplots(1, figsize=(10,10))\n",
        "#newAOI.plot(legend=True, ax=ax);"
      ],
      "metadata": {
        "id": "cszSX1vg37p0"
      },
      "execution_count": null,
      "outputs": []
    },
    {
      "cell_type": "code",
      "source": [
        "## DO NOT RUN THIS CELL !!! This is work in progress. I need to keep the code for ongoing work.\n",
        "\n",
        "newAOI_fc = geemap.geopandas_to_ee(newAOI)\n",
        "region = newAOI_fc.geometry()\n",
        "#download_s1_images(region, bands=s1_bands, filename_prefix='Sentinel1', export_folder=export_folder)\n",
        "\n",
        "tmp_folder = f'Sentinel2_Idx_010'\n",
        "print(tmp_folder)\n",
        "download_s2_images(region,\\\n",
        "                   min_date='2015-06-01',\\\n",
        "                   max_date='2024-09-01',\\\n",
        "                   bands=s2_bands,\\\n",
        "                   filename_prefix='Sentinel2_idx_011',\\\n",
        "                   export_folder=tmp_folder)\n",
        "\n",
        "#Map = plot_s1_images(region, bands=s1_bands)\n",
        "#Map = plot_s2_images(region, bands=s2_bands)\n",
        "# Access the first airstip and calculate its centroid\n",
        "#airstrip = geemap.geopandas_to_ee(projected_airstrip_training_gdf.iloc[[11]]).geometry()\n",
        "#Map.addLayer(airstrip, {}, 'Airstrip')\n",
        "#Map\n",
        "\n",
        "# Define the output video file\n",
        "#video_file = 'sentinel2_idx_011_timelapse.gif'\n",
        "# Create the time-lapse video\n",
        "#create_sentinel2_timelapse(region, '2015-07-01', '2024-09-01', video_file)"
      ],
      "metadata": {
        "colab": {
          "base_uri": "https://localhost:8080/"
        },
        "id": "fsORrrfUwXXy",
        "outputId": "9f3e4a5a-8007-480f-d6dd-715a43dc58fc",
        "collapsed": true
      },
      "execution_count": null,
      "outputs": [
        {
          "output_type": "stream",
          "name": "stdout",
          "text": [
            "Sentinel2_Idx_010\n",
            "Task ID: OHOWFSEK6WHHOSDMFDDOLIHA\n",
            "Exporting to Google Drive...\n",
            "Task ID: GIOOANFZJDQH7FL46HK34D7U\n",
            "Exporting to Google Drive...\n",
            "Task ID: 3BVJRONS63NIIMVGMUDHIRKX\n",
            "Exporting to Google Drive...\n",
            "Task ID: XWAGZ7UGYEJIIIA32KSHYKZS\n",
            "Exporting to Google Drive...\n",
            "Task ID: RLXXHNLNHAN5RAXNBLSIWQMV\n",
            "Exporting to Google Drive...\n",
            "Task ID: JIBCKMQS3HZZPBZRENLIMB5A\n",
            "Exporting to Google Drive...\n",
            "Task ID: DLNBI6CND6W6B5UQTTAX7PEB\n",
            "Exporting to Google Drive...\n",
            "Task ID: YRBUQ77TWFAE7MSZ6D77WUY5\n",
            "Exporting to Google Drive...\n",
            "Task ID: FKMKH34YD22YT7S64BCWHJXV\n",
            "Exporting to Google Drive...\n",
            "Task ID: UCQOYYTIBXLFCDDWMXNUU4QH\n",
            "Exporting to Google Drive...\n",
            "Task ID: IOG5K7VHHENRA52X6CHCKZHB\n",
            "Exporting to Google Drive...\n",
            "Task ID: DNOPEIJ7BI2ZJJK2BW4BUBPH\n",
            "Exporting to Google Drive...\n",
            "Task ID: WQZ7FCKLTWDIPVZYJMMWJH2W\n",
            "Exporting to Google Drive...\n",
            "Task ID: P4Y7PWUHGPSLYKMZ34JJU5DL\n",
            "Exporting to Google Drive...\n",
            "Task ID: MJFLXHDDZQM5JYWM6LMGIJMX\n",
            "Exporting to Google Drive...\n",
            "Task ID: SX7YJB4MH5W3FNG5SI3WV6GZ\n",
            "Exporting to Google Drive...\n",
            "Task ID: OAXQB4PIJBE4SYP7WRFVSCOA\n",
            "Exporting to Google Drive...\n",
            "Task ID: 75ZWPWEK7DXVHNODWRYQXXLZ\n",
            "Exporting to Google Drive...\n",
            "Task ID: WHVGRRNIMSYQ4BME6YMYPOCF\n",
            "Exporting to Google Drive...\n",
            "Task ID: CLTP3RQNDIIUDXU3SH4YSPBP\n",
            "Exporting to Google Drive...\n",
            "Task ID: QNZSKSHDIVCUNZRHGWNH2REH\n",
            "Exporting to Google Drive...\n",
            "Task ID: POJBMRFWFHBRC4YXBUBCYT4A\n",
            "Exporting to Google Drive...\n",
            "Task ID: Z4RVENIEWA6CVTTTJQRPC54E\n",
            "Exporting to Google Drive...\n",
            "Task ID: DFO4QY3REB5IDQMDRECSADMA\n",
            "Exporting to Google Drive...\n",
            "Task ID: 6R343UBDTFTWG3TLVWJF5SLG\n",
            "Exporting to Google Drive...\n",
            "Task ID: YD3XEQ6KRBLOHE4JKG5KNFL5\n",
            "Exporting to Google Drive...\n",
            "Task ID: EU6MPGKVOIYOFP7J5U5T7XDG\n",
            "Exporting to Google Drive...\n",
            "Task ID: ET5YXNUDOKPMX55YJPOJZXYO\n",
            "Exporting to Google Drive...\n",
            "Task ID: C6M2AYDJUNWCA6ORWNONVU2A\n",
            "Exporting to Google Drive...\n",
            "Task ID: 627RI7GYJM34Y6GP2HAR5352\n",
            "Exporting to Google Drive...\n",
            "Task ID: QXQA56P52ITFGNNOGD6A7PBZ\n",
            "Exporting to Google Drive...\n",
            "Task ID: 4WYMWWY7RDD7T5CFVF6IVGWP\n",
            "Exporting to Google Drive...\n",
            "Task ID: 3RKL6O6WUVHSX3PYT7C3FZMJ\n",
            "Exporting to Google Drive...\n",
            "Task ID: SAQNZPCAOXOVHXVJYRQWMHLM\n",
            "Exporting to Google Drive...\n",
            "Task ID: XETJQLYIIOEB6JAJ7VEJDR6F\n",
            "Exporting to Google Drive...\n",
            "Task ID: S4ET46IV2HAVJQCR3PHMQC5Y\n",
            "Exporting to Google Drive...\n",
            "Task ID: 4U4C47GVBSGUOOUNGNWOE2PO\n",
            "Exporting to Google Drive...\n",
            "Task ID: N6KXG26HSFUO7FSMHZOA2VZF\n",
            "Exporting to Google Drive...\n",
            "Task ID: 3R7YUQEJBBTQZKZWNV6JWE7K\n",
            "Exporting to Google Drive...\n",
            "Task ID: PG3BTW5W3OZ7E3V6RPQYHMJJ\n",
            "Exporting to Google Drive...\n",
            "Task ID: Y4XIH3IVKDVDGDU3SHL7VCKH\n",
            "Exporting to Google Drive...\n",
            "Task ID: LMXVFWLU7YD3F2CURW3CEBHU\n",
            "Exporting to Google Drive...\n",
            "Task ID: VHHFZIDXNKZ7344EIFNXELAX\n",
            "Exporting to Google Drive...\n",
            "Task ID: 7DNDFCCEK66GE7ZNRYAFQMYM\n",
            "Exporting to Google Drive...\n",
            "Task ID: 6WHVQSFJOHM5GG3ZAJNXCAO2\n",
            "Exporting to Google Drive...\n",
            "Task ID: IKKWSW3VYEZADCGOVFCSKHP5\n",
            "Exporting to Google Drive...\n",
            "Task ID: YSF7JV6HTSEP5T2RWQJLSTNV\n",
            "Exporting to Google Drive...\n",
            "Task ID: 7EPUKKHY7SBAFFOBXASYFOVT\n",
            "Exporting to Google Drive...\n",
            "Task ID: RWGEUWLYW5RKEUEX36J3A4ZY\n",
            "Exporting to Google Drive...\n",
            "Task ID: MH2XCCVVSDQDKAVGIOO64K2R\n",
            "Exporting to Google Drive...\n",
            "Task ID: YVD3KBF72PFM57PNK4VW5DI4\n",
            "Exporting to Google Drive...\n",
            "Task ID: RRLYJRS6KPWPQJ3W53MQBONA\n",
            "Exporting to Google Drive...\n",
            "Task ID: HUXZOGLTLUQDDO2XVIETXDU5\n",
            "Exporting to Google Drive...\n",
            "Task ID: ONI2TO3AYS3LEW2MCACYKL5B\n",
            "Exporting to Google Drive...\n",
            "Task ID: FVW7EXHPO7JKJ5S2ERGITKRW\n",
            "Exporting to Google Drive...\n",
            "Task ID: SCHLNXJ5JTPRZV6Z2IJXLTJQ\n",
            "Exporting to Google Drive...\n",
            "Task ID: 3L7MZIPRTTYXW3UUT3BLXCJX\n",
            "Exporting to Google Drive...\n",
            "Task ID: LE56VCROOBSHOUMYPQWEHZED\n",
            "Exporting to Google Drive...\n",
            "Task ID: 5EKPZTCYAXVAYAPT63WKPLMH\n",
            "Exporting to Google Drive...\n",
            "Task ID: 3DH3XYSEQKAP3G47YLINS3XH\n",
            "Exporting to Google Drive...\n",
            "Export tasks should be complete.\n"
          ]
        }
      ]
    },
    {
      "cell_type": "markdown",
      "source": [
        "### Loop over all entries\n",
        "\n",
        "This is where we loop over all entries. Right now we only use it to generate time lapse of S2 data (RGB), but it could be used for a massive data download centered on each airstrip. Use with care as it takes a while to run. You can drink multiple coffees during that time and you can't leave as Colab is interactive and inaction will disconnect the machine..."
      ],
      "metadata": {
        "id": "rbKdWz3suW4a"
      }
    },
    {
      "cell_type": "code",
      "source": [
        "# Get the current date and time\n",
        "now = datetime.datetime.now()\n",
        "# Format the timestamp as YEAR-MONTH-DAY\n",
        "max_date = now.strftime(\"%Y-%m-%d\")\n",
        "min_date = '2015-07-01' # Launch of Sentinel-2A\n",
        "\n",
        "# This is the loop... We'll produce time lapses for all training entries\n",
        "for index, row in projected_airstrip_training_gdf.iterrows():\n",
        "        # Access the airstrip geometry and get the centroid.\n",
        "        tmp_centroid = row['geometry'].centroid\n",
        "        # Convert the centroid back to WGS84 (LNG, LAT)\n",
        "        tmp_centroid_wgs84 = gpd.GeoSeries([tmp_centroid], crs=projected_airstrip_training_gdf.crs).to_crs(epsg=4326).geometry[0]\n",
        "        # Create a new AOI center on the centroid. The lenght of each side is 5km.\n",
        "        tmp_AOI = create_square_pentagon(tmp_centroid_wgs84.x, tmp_centroid_wgs84.y, 5000)\n",
        "        tmp_AOI_fc = geemap.geopandas_to_ee(tmp_AOI)\n",
        "        region = tmp_AOI_fc.geometry()\n",
        "        video_file = f'sentinel2_idx_{index:03}_timelapse.gif'\n",
        "        # Create the time-lapse video\n",
        "        create_sentinel2_timelapse(region, min_date, max_date, video_file)"
      ],
      "metadata": {
        "collapsed": true,
        "id": "hBQ_PhD549V_",
        "outputId": "c99e8a49-5454-4c1f-888d-5164abb03e6b",
        "colab": {
          "base_uri": "https://localhost:8080/",
          "height": 104
        }
      },
      "execution_count": 119,
      "outputs": [
        {
          "output_type": "display_data",
          "data": {
            "text/plain": [
              "<IPython.core.display.HTML object>"
            ],
            "text/html": [
              "\n",
              "            <style>\n",
              "                .geemap-dark {\n",
              "                    --jp-widgets-color: white;\n",
              "                    --jp-widgets-label-color: white;\n",
              "                    --jp-ui-font-color1: white;\n",
              "                    --jp-layout-color2: #454545;\n",
              "                    background-color: #383838;\n",
              "                }\n",
              "\n",
              "                .geemap-dark .jupyter-button {\n",
              "                    --jp-layout-color3: #383838;\n",
              "                }\n",
              "\n",
              "                .geemap-colab {\n",
              "                    background-color: var(--colab-primary-surface-color, white);\n",
              "                }\n",
              "\n",
              "                .geemap-colab .jupyter-button {\n",
              "                    --jp-layout-color3: var(--colab-primary-surface-color, white);\n",
              "                }\n",
              "            </style>\n",
              "            "
            ]
          },
          "metadata": {}
        },
        {
          "output_type": "stream",
          "name": "stdout",
          "text": [
            "Number of images in the collection: 131\n",
            "Generating URL...\n",
            "Downloading GIF image from https://earthengine.googleapis.com/v1/projects/ee-fortinpascal/videoThumbnails/7707021ba2210596ef2ca1a9b4b01008-e1f423a60365abe6ba93e5eb8c2f9305:getPixels\n",
            "Please wait ...\n",
            "The GIF image has been saved to: /content/sentinel2_idx_151_timelapse.gif\n"
          ]
        }
      ]
    },
    {
      "cell_type": "code",
      "source": [],
      "metadata": {
        "id": "ULFCcL0TKLhh"
      },
      "execution_count": null,
      "outputs": []
    }
  ],
  "metadata": {
    "colab": {
      "provenance": [],
      "include_colab_link": true
    },
    "kernelspec": {
      "display_name": "Python 3",
      "name": "python3"
    },
    "language_info": {
      "name": "python"
    }
  },
  "nbformat": 4,
  "nbformat_minor": 0
}