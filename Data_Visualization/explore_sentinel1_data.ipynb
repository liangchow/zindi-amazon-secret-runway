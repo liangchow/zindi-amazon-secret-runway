{
  "cells": [
    {
      "cell_type": "markdown",
      "metadata": {
        "id": "view-in-github",
        "colab_type": "text"
      },
      "source": [
        "<a href=\"https://colab.research.google.com/github/liangchow/zindi-amazon-secret-runway/blob/explore-sentinel1-data/Data_Visualization/explore_sentinel1_data.ipynb\" target=\"_parent\"><img src=\"https://colab.research.google.com/assets/colab-badge.svg\" alt=\"Open In Colab\"/></a>"
      ]
    },
    {
      "cell_type": "markdown",
      "metadata": {
        "id": "AIhe7OV6OrYf"
      },
      "source": [
        "# Working with github: [A guide from Google](https://colab.research.google.com/github/googlecolab/colabtools/blob/master/notebooks/colab-github-demo.ipynb)"
      ]
    },
    {
      "cell_type": "markdown",
      "source": [
        "### Imports and Setup."
      ],
      "metadata": {
        "id": "0DTLmDupDf4n"
      }
    },
    {
      "cell_type": "code",
      "source": [
        "%%capture\n",
        "!pip -q install geojson\n",
        "!pip -q install rasterio\n",
        "!pip -q install eeconvert\n",
        "!pip -q install geemap==0.17.3"
      ],
      "metadata": {
        "collapsed": true,
        "id": "mvAcyNzKElmB"
      },
      "execution_count": 1,
      "outputs": []
    },
    {
      "cell_type": "code",
      "source": [
        "# Standard imports\n",
        "import os\n",
        "import json\n",
        "\n",
        "# Geospatial processing packages\n",
        "import geopandas as gpd\n",
        "import geojson\n",
        "import shapely\n",
        "import calendar\n",
        "from shapely.geometry import box\n",
        "from shapely.geometry import Polygon, Point\n",
        "from pyproj import Transformer\n",
        "\n",
        "# Mapping and plotting libraries\n",
        "import ee\n",
        "import eeconvert as eec\n",
        "import geemap\n",
        "import geemap.eefolium as emap\n",
        "import folium"
      ],
      "metadata": {
        "id": "YKA6BXObDy_K"
      },
      "execution_count": 2,
      "outputs": []
    },
    {
      "cell_type": "markdown",
      "source": [
        "### Authenticate Google Earth Engine\n",
        "Make sure you have signed up for access to Google Earth Engine. You will need to edit the following code cell to use your own account. All the Sentinel data will be downloaded through the Google Earth Engine."
      ],
      "metadata": {
        "id": "rNqavIojGpUb"
      }
    },
    {
      "cell_type": "code",
      "source": [
        "ee.Authenticate()\n",
        "ee.Initialize(project=\"ee-runway-detection\")"
      ],
      "metadata": {
        "id": "T0GwrBd4rqYX"
      },
      "execution_count": 3,
      "outputs": []
    },
    {
      "cell_type": "markdown",
      "source": [
        "Another way to authenticate is to create a IAM service account. Use the cell below if you want to go that route. Note that any images exported to Google Drive will be exported to Google Drive of the IAM service account and not your personal gmail account."
      ],
      "metadata": {
        "id": "V7v-syxj-ZPv"
      }
    },
    {
      "cell_type": "code",
      "source": [
        "# Load the service account key\n",
        "# service_account = 'earth-engine-sa@ee-runway-detection.iam.gserviceaccount.com'\n",
        "# credentials = ee.ServiceAccountCredentials(service_account, '/content/ee-runway-detection-ce5179ca616c.json')\n",
        "\n",
        "# Authenticate with Earth Engine using the service account\n",
        "# ee.Initialize(credentials)"
      ],
      "metadata": {
        "id": "q5Aj6YNLHCOu"
      },
      "execution_count": null,
      "outputs": []
    },
    {
      "cell_type": "markdown",
      "metadata": {
        "id": "WLlGqdpCe49T"
      },
      "source": [
        "### Mount your Google Drive and install project files\n",
        "\n",
        "First, we'll mount your Google Drive. Then we'll clone the main branch from the GitHub repo so we have access to all of the files from there."
      ]
    },
    {
      "cell_type": "code",
      "execution_count": 4,
      "metadata": {
        "colab": {
          "base_uri": "https://localhost:8080/"
        },
        "id": "ONN-mhsCfRX5",
        "outputId": "1e027f71-b8fd-4c52-8fee-2f1b4c5b3e78",
        "collapsed": true
      },
      "outputs": [
        {
          "output_type": "stream",
          "name": "stdout",
          "text": [
            "Mounted at /content/drive\n",
            "Reading package lists... Done\n",
            "Building dependency tree... Done\n",
            "Reading state information... Done\n",
            "git is already the newest version (1:2.34.1-1ubuntu1.11).\n",
            "0 upgraded, 0 newly installed, 0 to remove and 49 not upgraded.\n",
            "Cloning into 'zindi-amazon-secret-runway'...\n",
            "remote: Enumerating objects: 165, done.\u001b[K\n",
            "remote: Counting objects: 100% (165/165), done.\u001b[K\n",
            "remote: Compressing objects: 100% (163/163), done.\u001b[K\n",
            "remote: Total 165 (delta 58), reused 7 (delta 1), pack-reused 0 (from 0)\u001b[K\n",
            "Receiving objects: 100% (165/165), 792.45 KiB | 3.37 MiB/s, done.\n",
            "Resolving deltas: 100% (58/58), done.\n",
            "fatal: not a git repository (or any of the parent directories): .git\n"
          ]
        }
      ],
      "source": [
        "# mount your drive in case you have any new data uploaded there you want to use\n",
        "from google.colab import drive\n",
        "drive.mount('/content/drive')\n",
        "\n",
        "# clone the main branch from GitHub to get all the data and files from there onto the current runtime session\n",
        "!apt-get install git\n",
        "!git clone https://github.com/liangchow/zindi-amazon-secret-runway.git\n",
        "!git pull # pulls the latest changes from repo"
      ]
    },
    {
      "cell_type": "markdown",
      "source": [
        "### Setup paths to the project files"
      ],
      "metadata": {
        "id": "QeyWGSkVIc3a"
      }
    },
    {
      "cell_type": "code",
      "source": [
        "airstrip_training_path = '/content/zindi-amazon-secret-runway/Data_Visualization/data/pac_2024_training/pac_2024_training.shp'\n",
        "base_aoi_path = '/content/zindi-amazon-secret-runway/Data_Visualization//data/shp_test_AOIs'\n",
        "\n",
        "# Select export folder on Google Drive\n",
        "export_folder = 'Colab Notebooks'"
      ],
      "metadata": {
        "id": "ouCS_31hIgIy"
      },
      "execution_count": 5,
      "outputs": []
    },
    {
      "cell_type": "code",
      "source": [
        "# Read the shapefile for the training dataset\n",
        "airstrip_training_gdf = gpd.read_file(airstrip_training_path)\n",
        "airstrip_training_gdf.head(1)"
      ],
      "metadata": {
        "colab": {
          "base_uri": "https://localhost:8080/",
          "height": 81
        },
        "id": "ygubMkFvKog8",
        "outputId": "6afd56dd-0f41-4fd7-cc54-dd43c8ae55c7"
      },
      "execution_count": 6,
      "outputs": [
        {
          "output_type": "execute_result",
          "data": {
            "text/plain": [
              "   id    yr    largo  Activo  \\\n",
              "0   1  2023  968.918       0   \n",
              "\n",
              "                                            geometry  \n",
              "0  LINESTRING (-70.08929 -13.12984, -70.08053 -13...  "
            ],
            "text/html": [
              "\n",
              "  <div id=\"df-962dacd0-d397-4beb-aaa8-c7437cc5e341\" class=\"colab-df-container\">\n",
              "    <div>\n",
              "<style scoped>\n",
              "    .dataframe tbody tr th:only-of-type {\n",
              "        vertical-align: middle;\n",
              "    }\n",
              "\n",
              "    .dataframe tbody tr th {\n",
              "        vertical-align: top;\n",
              "    }\n",
              "\n",
              "    .dataframe thead th {\n",
              "        text-align: right;\n",
              "    }\n",
              "</style>\n",
              "<table border=\"1\" class=\"dataframe\">\n",
              "  <thead>\n",
              "    <tr style=\"text-align: right;\">\n",
              "      <th></th>\n",
              "      <th>id</th>\n",
              "      <th>yr</th>\n",
              "      <th>largo</th>\n",
              "      <th>Activo</th>\n",
              "      <th>geometry</th>\n",
              "    </tr>\n",
              "  </thead>\n",
              "  <tbody>\n",
              "    <tr>\n",
              "      <th>0</th>\n",
              "      <td>1</td>\n",
              "      <td>2023</td>\n",
              "      <td>968.918</td>\n",
              "      <td>0</td>\n",
              "      <td>LINESTRING (-70.08929 -13.12984, -70.08053 -13...</td>\n",
              "    </tr>\n",
              "  </tbody>\n",
              "</table>\n",
              "</div>\n",
              "    <div class=\"colab-df-buttons\">\n",
              "\n",
              "  <div class=\"colab-df-container\">\n",
              "    <button class=\"colab-df-convert\" onclick=\"convertToInteractive('df-962dacd0-d397-4beb-aaa8-c7437cc5e341')\"\n",
              "            title=\"Convert this dataframe to an interactive table.\"\n",
              "            style=\"display:none;\">\n",
              "\n",
              "  <svg xmlns=\"http://www.w3.org/2000/svg\" height=\"24px\" viewBox=\"0 -960 960 960\">\n",
              "    <path d=\"M120-120v-720h720v720H120Zm60-500h600v-160H180v160Zm220 220h160v-160H400v160Zm0 220h160v-160H400v160ZM180-400h160v-160H180v160Zm440 0h160v-160H620v160ZM180-180h160v-160H180v160Zm440 0h160v-160H620v160Z\"/>\n",
              "  </svg>\n",
              "    </button>\n",
              "\n",
              "  <style>\n",
              "    .colab-df-container {\n",
              "      display:flex;\n",
              "      gap: 12px;\n",
              "    }\n",
              "\n",
              "    .colab-df-convert {\n",
              "      background-color: #E8F0FE;\n",
              "      border: none;\n",
              "      border-radius: 50%;\n",
              "      cursor: pointer;\n",
              "      display: none;\n",
              "      fill: #1967D2;\n",
              "      height: 32px;\n",
              "      padding: 0 0 0 0;\n",
              "      width: 32px;\n",
              "    }\n",
              "\n",
              "    .colab-df-convert:hover {\n",
              "      background-color: #E2EBFA;\n",
              "      box-shadow: 0px 1px 2px rgba(60, 64, 67, 0.3), 0px 1px 3px 1px rgba(60, 64, 67, 0.15);\n",
              "      fill: #174EA6;\n",
              "    }\n",
              "\n",
              "    .colab-df-buttons div {\n",
              "      margin-bottom: 4px;\n",
              "    }\n",
              "\n",
              "    [theme=dark] .colab-df-convert {\n",
              "      background-color: #3B4455;\n",
              "      fill: #D2E3FC;\n",
              "    }\n",
              "\n",
              "    [theme=dark] .colab-df-convert:hover {\n",
              "      background-color: #434B5C;\n",
              "      box-shadow: 0px 1px 3px 1px rgba(0, 0, 0, 0.15);\n",
              "      filter: drop-shadow(0px 1px 2px rgba(0, 0, 0, 0.3));\n",
              "      fill: #FFFFFF;\n",
              "    }\n",
              "  </style>\n",
              "\n",
              "    <script>\n",
              "      const buttonEl =\n",
              "        document.querySelector('#df-962dacd0-d397-4beb-aaa8-c7437cc5e341 button.colab-df-convert');\n",
              "      buttonEl.style.display =\n",
              "        google.colab.kernel.accessAllowed ? 'block' : 'none';\n",
              "\n",
              "      async function convertToInteractive(key) {\n",
              "        const element = document.querySelector('#df-962dacd0-d397-4beb-aaa8-c7437cc5e341');\n",
              "        const dataTable =\n",
              "          await google.colab.kernel.invokeFunction('convertToInteractive',\n",
              "                                                    [key], {});\n",
              "        if (!dataTable) return;\n",
              "\n",
              "        const docLinkHtml = 'Like what you see? Visit the ' +\n",
              "          '<a target=\"_blank\" href=https://colab.research.google.com/notebooks/data_table.ipynb>data table notebook</a>'\n",
              "          + ' to learn more about interactive tables.';\n",
              "        element.innerHTML = '';\n",
              "        dataTable['output_type'] = 'display_data';\n",
              "        await google.colab.output.renderOutput(dataTable, element);\n",
              "        const docLink = document.createElement('div');\n",
              "        docLink.innerHTML = docLinkHtml;\n",
              "        element.appendChild(docLink);\n",
              "      }\n",
              "    </script>\n",
              "  </div>\n",
              "\n",
              "\n",
              "    </div>\n",
              "  </div>\n"
            ],
            "application/vnd.google.colaboratory.intrinsic+json": {
              "type": "dataframe",
              "variable_name": "airstrip_training_gdf",
              "summary": "{\n  \"name\": \"airstrip_training_gdf\",\n  \"rows\": 154,\n  \"fields\": [\n    {\n      \"column\": \"id\",\n      \"properties\": {\n        \"dtype\": \"number\",\n        \"std\": 53,\n        \"min\": 1,\n        \"max\": 182,\n        \"num_unique_values\": 154,\n        \"samples\": [\n          16,\n          109,\n          179\n        ],\n        \"semantic_type\": \"\",\n        \"description\": \"\"\n      }\n    },\n    {\n      \"column\": \"yr\",\n      \"properties\": {\n        \"dtype\": \"number\",\n        \"std\": 2,\n        \"min\": 2015,\n        \"max\": 2023,\n        \"num_unique_values\": 9,\n        \"samples\": [\n          2018,\n          2022,\n          2016\n        ],\n        \"semantic_type\": \"\",\n        \"description\": \"\"\n      }\n    },\n    {\n      \"column\": \"largo\",\n      \"properties\": {\n        \"dtype\": \"number\",\n        \"std\": 403.4936220989744,\n        \"min\": 376.568,\n        \"max\": 3127.759,\n        \"num_unique_values\": 154,\n        \"samples\": [\n          1882.449,\n          902.063,\n          958.783\n        ],\n        \"semantic_type\": \"\",\n        \"description\": \"\"\n      }\n    },\n    {\n      \"column\": \"Activo\",\n      \"properties\": {\n        \"dtype\": \"number\",\n        \"std\": 0,\n        \"min\": 0,\n        \"max\": 2,\n        \"num_unique_values\": 3,\n        \"samples\": [\n          0,\n          1,\n          2\n        ],\n        \"semantic_type\": \"\",\n        \"description\": \"\"\n      }\n    },\n    {\n      \"column\": \"geometry\",\n      \"properties\": {\n        \"dtype\": \"geometry\",\n        \"num_unique_values\": 154,\n        \"samples\": [\n          \"LINESTRING (-73.20827466104157 -12.026603838374866, -73.20060041568176 -12.011357095839417)\",\n          \"LINESTRING (-75.3717072799285 -9.341339896981115, -75.37967914348991 -9.343308959240288)\",\n          \"LINESTRING (-75.15325812968838 -9.663126357620518, -75.15410504925467 -9.654495242204929)\"\n        ],\n        \"semantic_type\": \"\",\n        \"description\": \"\"\n      }\n    }\n  ]\n}"
            }
          },
          "metadata": {},
          "execution_count": 6
        }
      ]
    },
    {
      "cell_type": "code",
      "source": [
        "# Reproject the data to World Mercator projection\n",
        "projected_airstrip_training_gdf = airstrip_training_gdf.to_crs(epsg=3395)\n",
        "projected_airstrip_training_gdf.head(1)"
      ],
      "metadata": {
        "colab": {
          "base_uri": "https://localhost:8080/",
          "height": 81
        },
        "collapsed": true,
        "id": "WqOj7E-xNKwV",
        "outputId": "7847bca9-7dff-4eb6-c35e-745a210ad766"
      },
      "execution_count": 7,
      "outputs": [
        {
          "output_type": "execute_result",
          "data": {
            "text/plain": [
              "   id    yr    largo  Activo  \\\n",
              "0   1  2023  968.918       0   \n",
              "\n",
              "                                            geometry  \n",
              "0  LINESTRING (-7802303.691 -1464870.283, -780132...  "
            ],
            "text/html": [
              "\n",
              "  <div id=\"df-71e49132-0fbf-474d-adc4-0604d37b421f\" class=\"colab-df-container\">\n",
              "    <div>\n",
              "<style scoped>\n",
              "    .dataframe tbody tr th:only-of-type {\n",
              "        vertical-align: middle;\n",
              "    }\n",
              "\n",
              "    .dataframe tbody tr th {\n",
              "        vertical-align: top;\n",
              "    }\n",
              "\n",
              "    .dataframe thead th {\n",
              "        text-align: right;\n",
              "    }\n",
              "</style>\n",
              "<table border=\"1\" class=\"dataframe\">\n",
              "  <thead>\n",
              "    <tr style=\"text-align: right;\">\n",
              "      <th></th>\n",
              "      <th>id</th>\n",
              "      <th>yr</th>\n",
              "      <th>largo</th>\n",
              "      <th>Activo</th>\n",
              "      <th>geometry</th>\n",
              "    </tr>\n",
              "  </thead>\n",
              "  <tbody>\n",
              "    <tr>\n",
              "      <th>0</th>\n",
              "      <td>1</td>\n",
              "      <td>2023</td>\n",
              "      <td>968.918</td>\n",
              "      <td>0</td>\n",
              "      <td>LINESTRING (-7802303.691 -1464870.283, -780132...</td>\n",
              "    </tr>\n",
              "  </tbody>\n",
              "</table>\n",
              "</div>\n",
              "    <div class=\"colab-df-buttons\">\n",
              "\n",
              "  <div class=\"colab-df-container\">\n",
              "    <button class=\"colab-df-convert\" onclick=\"convertToInteractive('df-71e49132-0fbf-474d-adc4-0604d37b421f')\"\n",
              "            title=\"Convert this dataframe to an interactive table.\"\n",
              "            style=\"display:none;\">\n",
              "\n",
              "  <svg xmlns=\"http://www.w3.org/2000/svg\" height=\"24px\" viewBox=\"0 -960 960 960\">\n",
              "    <path d=\"M120-120v-720h720v720H120Zm60-500h600v-160H180v160Zm220 220h160v-160H400v160Zm0 220h160v-160H400v160ZM180-400h160v-160H180v160Zm440 0h160v-160H620v160ZM180-180h160v-160H180v160Zm440 0h160v-160H620v160Z\"/>\n",
              "  </svg>\n",
              "    </button>\n",
              "\n",
              "  <style>\n",
              "    .colab-df-container {\n",
              "      display:flex;\n",
              "      gap: 12px;\n",
              "    }\n",
              "\n",
              "    .colab-df-convert {\n",
              "      background-color: #E8F0FE;\n",
              "      border: none;\n",
              "      border-radius: 50%;\n",
              "      cursor: pointer;\n",
              "      display: none;\n",
              "      fill: #1967D2;\n",
              "      height: 32px;\n",
              "      padding: 0 0 0 0;\n",
              "      width: 32px;\n",
              "    }\n",
              "\n",
              "    .colab-df-convert:hover {\n",
              "      background-color: #E2EBFA;\n",
              "      box-shadow: 0px 1px 2px rgba(60, 64, 67, 0.3), 0px 1px 3px 1px rgba(60, 64, 67, 0.15);\n",
              "      fill: #174EA6;\n",
              "    }\n",
              "\n",
              "    .colab-df-buttons div {\n",
              "      margin-bottom: 4px;\n",
              "    }\n",
              "\n",
              "    [theme=dark] .colab-df-convert {\n",
              "      background-color: #3B4455;\n",
              "      fill: #D2E3FC;\n",
              "    }\n",
              "\n",
              "    [theme=dark] .colab-df-convert:hover {\n",
              "      background-color: #434B5C;\n",
              "      box-shadow: 0px 1px 3px 1px rgba(0, 0, 0, 0.15);\n",
              "      filter: drop-shadow(0px 1px 2px rgba(0, 0, 0, 0.3));\n",
              "      fill: #FFFFFF;\n",
              "    }\n",
              "  </style>\n",
              "\n",
              "    <script>\n",
              "      const buttonEl =\n",
              "        document.querySelector('#df-71e49132-0fbf-474d-adc4-0604d37b421f button.colab-df-convert');\n",
              "      buttonEl.style.display =\n",
              "        google.colab.kernel.accessAllowed ? 'block' : 'none';\n",
              "\n",
              "      async function convertToInteractive(key) {\n",
              "        const element = document.querySelector('#df-71e49132-0fbf-474d-adc4-0604d37b421f');\n",
              "        const dataTable =\n",
              "          await google.colab.kernel.invokeFunction('convertToInteractive',\n",
              "                                                    [key], {});\n",
              "        if (!dataTable) return;\n",
              "\n",
              "        const docLinkHtml = 'Like what you see? Visit the ' +\n",
              "          '<a target=\"_blank\" href=https://colab.research.google.com/notebooks/data_table.ipynb>data table notebook</a>'\n",
              "          + ' to learn more about interactive tables.';\n",
              "        element.innerHTML = '';\n",
              "        dataTable['output_type'] = 'display_data';\n",
              "        await google.colab.output.renderOutput(dataTable, element);\n",
              "        const docLink = document.createElement('div');\n",
              "        docLink.innerHTML = docLinkHtml;\n",
              "        element.appendChild(docLink);\n",
              "      }\n",
              "    </script>\n",
              "  </div>\n",
              "\n",
              "\n",
              "    </div>\n",
              "  </div>\n"
            ],
            "application/vnd.google.colaboratory.intrinsic+json": {
              "type": "dataframe",
              "variable_name": "projected_airstrip_training_gdf",
              "summary": "{\n  \"name\": \"projected_airstrip_training_gdf\",\n  \"rows\": 154,\n  \"fields\": [\n    {\n      \"column\": \"id\",\n      \"properties\": {\n        \"dtype\": \"number\",\n        \"std\": 53,\n        \"min\": 1,\n        \"max\": 182,\n        \"num_unique_values\": 154,\n        \"samples\": [\n          16,\n          109,\n          179\n        ],\n        \"semantic_type\": \"\",\n        \"description\": \"\"\n      }\n    },\n    {\n      \"column\": \"yr\",\n      \"properties\": {\n        \"dtype\": \"number\",\n        \"std\": 2,\n        \"min\": 2015,\n        \"max\": 2023,\n        \"num_unique_values\": 9,\n        \"samples\": [\n          2018,\n          2022,\n          2016\n        ],\n        \"semantic_type\": \"\",\n        \"description\": \"\"\n      }\n    },\n    {\n      \"column\": \"largo\",\n      \"properties\": {\n        \"dtype\": \"number\",\n        \"std\": 403.4936220989744,\n        \"min\": 376.568,\n        \"max\": 3127.759,\n        \"num_unique_values\": 154,\n        \"samples\": [\n          1882.449,\n          902.063,\n          958.783\n        ],\n        \"semantic_type\": \"\",\n        \"description\": \"\"\n      }\n    },\n    {\n      \"column\": \"Activo\",\n      \"properties\": {\n        \"dtype\": \"number\",\n        \"std\": 0,\n        \"min\": 0,\n        \"max\": 2,\n        \"num_unique_values\": 3,\n        \"samples\": [\n          0,\n          1,\n          2\n        ],\n        \"semantic_type\": \"\",\n        \"description\": \"\"\n      }\n    },\n    {\n      \"column\": \"geometry\",\n      \"properties\": {\n        \"dtype\": \"geometry\",\n        \"num_unique_values\": 154,\n        \"samples\": [\n          \"LINESTRING (-8149507.85712126 -1339838.6471315052, -8148653.564035583 -1338114.4636919198)\",\n          \"LINESTRING (-8390340.074621312 -1037579.968123614, -8391227.498413641 -1037800.6614335941)\",\n          \"LINESTRING (-8366022.426452357 -1073662.9036972933, -8366116.70510722 -1072694.618389654)\"\n        ],\n        \"semantic_type\": \"\",\n        \"description\": \"\"\n      }\n    }\n  ]\n}"
            }
          },
          "metadata": {},
          "execution_count": 7
        }
      ]
    },
    {
      "cell_type": "markdown",
      "source": [
        "### Download Sentinel1 Image Collection\n",
        "\n",
        "Sentinel-1 collects C-band synthetic aperture radar (SAR) imagery at a variety of polarizations and resolutions. [Read more](https://developers.google.com/earth-engine/guides/sentinel1) about filtering the data to a homogenous susbet.\n",
        "\n",
        "\n",
        "\n",
        "- Different polarization combinations are more and less sensitive to different kinds landcover features and phenomena. For example VV modes tend to pick up height/vertical features where VH modes tend to be more sensitive to surface textures. (Source)[https://support.capellaspace.com/hc/en-us/articles/360044738831-Sentinel-1-Polarization]\n",
        "\n",
        "- For this application the most suitable product is the Interferometric Wide with dual polarisation. In fact, the cross-polarisation VH is more sensitive to change in vegetation density and structure while the polarisation ratio VH/VV is an important index for vegetation phenology or water content (European Wide Forest Classification Based on Sentinel-1 Data). (Source)[https://sentiwiki.copernicus.eu/web/s1-applications#S1Applications-ForestryS1-Applications-Forestry]\n",
        "\n",
        "- Different polarization combinations provide different and complementary information about the surface features. For example, linearly oriented structures such as buildings or ripples in the sand tend to reflect and preserve the coherence (same linear direction) of the polarimetric signal. Randomly oriented structures such as tree leaves scatter and depolarize the signal as it bounces multiple times. (Source)[https://medium.com/@pulakeshpradhan/sentinel-1-sar-data-processing-2dd9b2751d95]"
      ],
      "metadata": {
        "id": "EXbmBa0k8Vz1"
      }
    },
    {
      "cell_type": "code",
      "source": [
        "# Helper function to calculate VV/VH ratio and add it as a new band\n",
        "def add_vv_vh_ratio(image):\n",
        "    ratio_band = image.select('VV').divide(image.select('VH')).rename('VV_VH_Ratio')\n",
        "    return image.addBands(ratio_band)"
      ],
      "metadata": {
        "id": "FuEYbA0fsHMW"
      },
      "execution_count": 8,
      "outputs": []
    },
    {
      "cell_type": "code",
      "source": [
        "# Helper function to rename band\n",
        "def rename_bands(image, suffix):\n",
        "    # Get the original band names\n",
        "    original_band_names = image.bandNames()\n",
        "\n",
        "    # Create new band names using server-side expression\n",
        "    new_band_names = original_band_names.map(lambda band: ee.String(band).cat('_').cat(suffix))\n",
        "\n",
        "    # Rename all bands\n",
        "    renamed_image_all = image.rename(new_band_names)\n",
        "\n",
        "    return renamed_image_all"
      ],
      "metadata": {
        "id": "TIfRwzhaWIdW"
      },
      "execution_count": 9,
      "outputs": []
    },
    {
      "cell_type": "code",
      "source": [
        "# Function to convert bands to Float32 to reduce file size\n",
        "def to_float(image):\n",
        "    return image.toFloat()"
      ],
      "metadata": {
        "id": "cUsY6F9SBZDR"
      },
      "execution_count": 10,
      "outputs": []
    },
    {
      "cell_type": "code",
      "source": [
        "# @title\n",
        "def download_sentinel1_monthly_data(aoi, id, year=2023):\n",
        "\n",
        "  # Load Sentinel-1 data for ascending and descending orbits\n",
        "  sentinel1_collection = ee.ImageCollection('COPERNICUS/S1_GRD') \\\n",
        "    .filterBounds(aoi) \\\n",
        "    .filter(ee.Filter.listContains('transmitterReceiverPolarisation', 'VV')) \\\n",
        "    .filter(ee.Filter.listContains('transmitterReceiverPolarisation', 'VH')) \\\n",
        "    .filter(ee.Filter.eq('instrumentMode', 'IW'))\n",
        "\n",
        "  print(f'Number of images in the collection: {sentinel1_collection.size().getInfo()}')\n",
        "\n",
        "  # Process and export monthly composites\n",
        "  for month in range(1, 13):\n",
        "      # Define start and end dates for the month\n",
        "      start_date = ee.Date.fromYMD(year, month, 1)\n",
        "      end_date = ee.Date.fromYMD(year, month, calendar.monthrange(year, month)[1])\n",
        "\n",
        "      # Filter Sentinel-1 data for the current month\n",
        "      monthly_collection = sentinel1_collection.filterDate(start_date, end_date) \\\n",
        "                                        .map(lambda img: add_vv_vh_ratio(img)) \\\n",
        "                                        .map(lambda img: to_float(img))\n",
        "      print(f'Number of images in {calendar.month_name[month]}: {monthly_collection.size().getInfo()}')\n",
        "\n",
        "      # Calculate median composite for the current month\n",
        "      monthly_median_composite = monthly_collection.median().clip(aoi)\n",
        "\n",
        "      # # Define the export description and file name prefix\n",
        "      export_description = f'S1_Monthly_Median_Composite_{id}_{year}_{month:02d}'\n",
        "      file_name_prefix = f'S1_Monthly_Median_Composite_{id}_{year}_{month:02d}'\n",
        "\n",
        "      # # # Export the combined composite to Google Drive\n",
        "      task = ee.batch.Export.image.toDrive(\n",
        "          image=monthly_median_composite.select(['VV', 'VH', 'VV_VH_Ratio']),\n",
        "          description=export_description,\n",
        "          folder='GEE_Exports',\n",
        "          fileNamePrefix=file_name_prefix,\n",
        "          crs=proj_3395,\n",
        "          scale=10,\n",
        "          region=aoi,\n",
        "          maxPixels=1e13,\n",
        "          fileFormat='GeoTIFF'\n",
        "      )\n",
        "\n",
        "      # # Start the export task\n",
        "      task.start()\n",
        "\n",
        "      print(f'Export task for {calendar.month_name[month]} started. Check your Google Drive for the exported image.')"
      ],
      "metadata": {
        "id": "9_xygrKl7l9Z"
      },
      "execution_count": 42,
      "outputs": []
    },
    {
      "cell_type": "code",
      "source": [
        "def download_sentinel1_annual_data(aoi, id, year=2023):\n",
        "\n",
        "  # Load Sentinel-1 data for ascending and descending orbits\n",
        "  sentinel1_collection = ee.ImageCollection('COPERNICUS/S1_GRD') \\\n",
        "    .filterBounds(aoi) \\\n",
        "    .filter(ee.Filter.listContains('transmitterReceiverPolarisation', 'VV')) \\\n",
        "    .filter(ee.Filter.listContains('transmitterReceiverPolarisation', 'VH')) \\\n",
        "    .filter(ee.Filter.eq('instrumentMode', 'IW'))\n",
        "\n",
        "  print(f'Number of images in the collection: {sentinel1_collection.size().getInfo()}')\n",
        "\n",
        "  start_year = year - 1\n",
        "  end_year = year + 1\n",
        "\n",
        "  # Process and export monthly composites\n",
        "  for year in range(start_year, end_year):\n",
        "      # Define start and end dates for the year\n",
        "      start_date = ee.Date.fromYMD(year, 1, 1)\n",
        "      end_date = ee.Date.fromYMD(year, 12, 31)\n",
        "\n",
        "      # Filter Sentinel-1 data for the current year\n",
        "      annual_collection = sentinel1_collection.filterDate(start_date, end_date) \\\n",
        "                                        .map(lambda img: add_vv_vh_ratio(img)) \\\n",
        "                                        .map(lambda img: to_float(img))\n",
        "\n",
        "      # Calculate median composite for the current year\n",
        "      annual_median_composite = annual_collection.median().clip(aoi)\n",
        "\n",
        "      # # Define the export description and file name prefix\n",
        "      export_description = f'S1_Annual_Median_Composite_{id}_{year}'\n",
        "      file_name_prefix = f'S1_Annual_Median_Composite_{id}_{year}'\n",
        "\n",
        "      # # # Export the combined composite to Google Drive\n",
        "      task = ee.batch.Export.image.toDrive(\n",
        "          image=annual_median_composite.select(['VV', 'VH', 'VV_VH_Ratio']),\n",
        "          description=export_description,\n",
        "          folder='GEE_Exports',\n",
        "          fileNamePrefix=file_name_prefix,\n",
        "          crs=proj_3395,\n",
        "          scale=10,\n",
        "          region=aoi,\n",
        "          maxPixels=1e13,\n",
        "          fileFormat='GeoTIFF'\n",
        "      )\n",
        "\n",
        "      # # Start the export task\n",
        "      task.start()\n",
        "\n",
        "      print(f'Export task for {year} started. Check your Google Drive for the exported image.')"
      ],
      "metadata": {
        "id": "Bt-nc9996P32"
      },
      "execution_count": 39,
      "outputs": []
    },
    {
      "cell_type": "code",
      "source": [
        "# EPSG:3395 (World Mercator) as Proj4 string\n",
        "proj_3395 = 'PROJCS[\"WGS 84 / World Mercator\",GEOGCS[\"WGS 84\",DATUM[\"WGS_1984\",SPHEROID[\"WGS 84\",6378137,298.257223563,AUTHORITY[\"EPSG\",\"7030\"]],AUTHORITY[\"EPSG\",\"6326\"]],PRIMEM[\"Greenwich\",0,AUTHORITY[\"EPSG\",\"8901\"]],UNIT[\"degree\",0.0174532925199433,AUTHORITY[\"EPSG\",\"9122\"]],AUTHORITY[\"EPSG\",\"4326\"]],UNIT[\"metre\",1,AUTHORITY[\"EPSG\",\"9001\"]],PROJECTION[\"Mercator_1SP\"],PARAMETER[\"central_meridian\",0],PARAMETER[\"scale_factor\",1],PARAMETER[\"false_easting\",0],PARAMETER[\"false_northing\",0],AUTHORITY[\"EPSG\",\"3395\"],AXIS[\"Easting\",EAST],AXIS[\"Northing\",NORTH]]'"
      ],
      "metadata": {
        "id": "mBf9uOfWBTzZ"
      },
      "execution_count": 37,
      "outputs": []
    },
    {
      "cell_type": "markdown",
      "source": [
        "### Process  single runway"
      ],
      "metadata": {
        "id": "1rJNJd7j7QOg"
      }
    },
    {
      "cell_type": "code",
      "source": [
        "# Helper function to convert geopandas feature geometry to Earth Engine geometry for plotting\n",
        "def gpd_geometry_to_ee_geometry(gpd_geometry, target_crs='EPSG:3395'):\n",
        "  # Convert the reprojected GeoPandas geometry to GeoJSON-like format\n",
        "  geojson_geometry = gpd_geometry.__geo_interface__\n",
        "\n",
        "  # Define the CRS\n",
        "  crs = ee.Projection(target_crs)\n",
        "\n",
        "  # Convert the GeoJSON geometry to Earth Engine geometry\n",
        "  ee_geometry = ee.Geometry(geojson_geometry, proj=crs)\n",
        "\n",
        "  return ee_geometry"
      ],
      "metadata": {
        "id": "2y3hMC-GFcpp"
      },
      "execution_count": 36,
      "outputs": []
    },
    {
      "cell_type": "code",
      "source": [
        "# Select airstrip record\n",
        "airstrip_gpd = projected_airstrip_training_gdf.iloc[22]\n",
        "\n",
        "# Get information from the airstrip\n",
        "year = int(airstrip_gpd.yr)\n",
        "id = airstrip_gpd.id\n",
        "airstrip_gpd_geometry = airstrip_gpd.geometry\n",
        "\n",
        "# Create a square buffer at a distance of 1 km around centroid of airstrip\n",
        "buffer_gpd = Point(airstrip_gpd_geometry.centroid).buffer(1000, cap_style=3)\n",
        "\n",
        "# Convert GeoPandas geometry to Earth Engine features\n",
        "airstrip_ee = gpd_geometry_to_ee_geometry(airstrip_gpd_geometry)\n",
        "buffer_ee = gpd_geometry_to_ee_geometry(buffer_gpd)\n",
        "\n",
        "# Download monthly composites\n",
        "# GEE expects the aoi to be in geogprahic coordinates to filter the image collection\n",
        "\n",
        "#img = download_sentinel1_data(buffer_ee, id)\n",
        "#download_sentinel1_monthly_data(buffer_ee, id, year)\n",
        "download_sentinel1_annual_data(buffer_ee, id, year)"
      ],
      "metadata": {
        "id": "2XO2xMul52tA",
        "outputId": "ae4f2231-bf53-49f4-a583-dbabfbc8e9a7",
        "colab": {
          "base_uri": "https://localhost:8080/"
        },
        "collapsed": true
      },
      "execution_count": 40,
      "outputs": [
        {
          "output_type": "stream",
          "name": "stdout",
          "text": [
            "Number of images in the collection: 420\n",
            "Export task for 2021 started. Check your Google Drive for the exported image.\n",
            "Export task for 2022 started. Check your Google Drive for the exported image.\n"
          ]
        }
      ]
    },
    {
      "cell_type": "markdown",
      "source": [
        "### Process single Test AOI"
      ],
      "metadata": {
        "id": "tc3zKlrOZ29l"
      }
    },
    {
      "cell_type": "code",
      "source": [
        "# Load the shape file and import into geopanda dataframe\n",
        "test_gdf = gpd.read_file(f'{base_aoi_path}/aoi_2020_01.shp')\n",
        "test_gdf.head()"
      ],
      "metadata": {
        "colab": {
          "base_uri": "https://localhost:8080/",
          "height": 81
        },
        "id": "I8Eqwd7EZGz6",
        "outputId": "1fde8799-087b-4a24-d207-690e787dee83"
      },
      "execution_count": 30,
      "outputs": [
        {
          "output_type": "execute_result",
          "data": {
            "text/plain": [
              "            MINX          MINY           MAXX          MAXY           CNTX  \\\n",
              "0  690096.799317  8.793048e+06  705506.799317  8.808318e+06  697801.799317   \n",
              "\n",
              "           CNTY         AREA    PERIM   HEIGHT    WIDTH  \\\n",
              "0  8.800683e+06  235310700.0  61360.0  15270.0  15410.0   \n",
              "\n",
              "                                            geometry  \n",
              "0  POLYGON ((690096.799 8793048.011, 690096.799 8...  "
            ],
            "text/html": [
              "\n",
              "  <div id=\"df-e4032d60-f0b9-4ce0-bfff-8fa5ad5b914d\" class=\"colab-df-container\">\n",
              "    <div>\n",
              "<style scoped>\n",
              "    .dataframe tbody tr th:only-of-type {\n",
              "        vertical-align: middle;\n",
              "    }\n",
              "\n",
              "    .dataframe tbody tr th {\n",
              "        vertical-align: top;\n",
              "    }\n",
              "\n",
              "    .dataframe thead th {\n",
              "        text-align: right;\n",
              "    }\n",
              "</style>\n",
              "<table border=\"1\" class=\"dataframe\">\n",
              "  <thead>\n",
              "    <tr style=\"text-align: right;\">\n",
              "      <th></th>\n",
              "      <th>MINX</th>\n",
              "      <th>MINY</th>\n",
              "      <th>MAXX</th>\n",
              "      <th>MAXY</th>\n",
              "      <th>CNTX</th>\n",
              "      <th>CNTY</th>\n",
              "      <th>AREA</th>\n",
              "      <th>PERIM</th>\n",
              "      <th>HEIGHT</th>\n",
              "      <th>WIDTH</th>\n",
              "      <th>geometry</th>\n",
              "    </tr>\n",
              "  </thead>\n",
              "  <tbody>\n",
              "    <tr>\n",
              "      <th>0</th>\n",
              "      <td>690096.799317</td>\n",
              "      <td>8.793048e+06</td>\n",
              "      <td>705506.799317</td>\n",
              "      <td>8.808318e+06</td>\n",
              "      <td>697801.799317</td>\n",
              "      <td>8.800683e+06</td>\n",
              "      <td>235310700.0</td>\n",
              "      <td>61360.0</td>\n",
              "      <td>15270.0</td>\n",
              "      <td>15410.0</td>\n",
              "      <td>POLYGON ((690096.799 8793048.011, 690096.799 8...</td>\n",
              "    </tr>\n",
              "  </tbody>\n",
              "</table>\n",
              "</div>\n",
              "    <div class=\"colab-df-buttons\">\n",
              "\n",
              "  <div class=\"colab-df-container\">\n",
              "    <button class=\"colab-df-convert\" onclick=\"convertToInteractive('df-e4032d60-f0b9-4ce0-bfff-8fa5ad5b914d')\"\n",
              "            title=\"Convert this dataframe to an interactive table.\"\n",
              "            style=\"display:none;\">\n",
              "\n",
              "  <svg xmlns=\"http://www.w3.org/2000/svg\" height=\"24px\" viewBox=\"0 -960 960 960\">\n",
              "    <path d=\"M120-120v-720h720v720H120Zm60-500h600v-160H180v160Zm220 220h160v-160H400v160Zm0 220h160v-160H400v160ZM180-400h160v-160H180v160Zm440 0h160v-160H620v160ZM180-180h160v-160H180v160Zm440 0h160v-160H620v160Z\"/>\n",
              "  </svg>\n",
              "    </button>\n",
              "\n",
              "  <style>\n",
              "    .colab-df-container {\n",
              "      display:flex;\n",
              "      gap: 12px;\n",
              "    }\n",
              "\n",
              "    .colab-df-convert {\n",
              "      background-color: #E8F0FE;\n",
              "      border: none;\n",
              "      border-radius: 50%;\n",
              "      cursor: pointer;\n",
              "      display: none;\n",
              "      fill: #1967D2;\n",
              "      height: 32px;\n",
              "      padding: 0 0 0 0;\n",
              "      width: 32px;\n",
              "    }\n",
              "\n",
              "    .colab-df-convert:hover {\n",
              "      background-color: #E2EBFA;\n",
              "      box-shadow: 0px 1px 2px rgba(60, 64, 67, 0.3), 0px 1px 3px 1px rgba(60, 64, 67, 0.15);\n",
              "      fill: #174EA6;\n",
              "    }\n",
              "\n",
              "    .colab-df-buttons div {\n",
              "      margin-bottom: 4px;\n",
              "    }\n",
              "\n",
              "    [theme=dark] .colab-df-convert {\n",
              "      background-color: #3B4455;\n",
              "      fill: #D2E3FC;\n",
              "    }\n",
              "\n",
              "    [theme=dark] .colab-df-convert:hover {\n",
              "      background-color: #434B5C;\n",
              "      box-shadow: 0px 1px 3px 1px rgba(0, 0, 0, 0.15);\n",
              "      filter: drop-shadow(0px 1px 2px rgba(0, 0, 0, 0.3));\n",
              "      fill: #FFFFFF;\n",
              "    }\n",
              "  </style>\n",
              "\n",
              "    <script>\n",
              "      const buttonEl =\n",
              "        document.querySelector('#df-e4032d60-f0b9-4ce0-bfff-8fa5ad5b914d button.colab-df-convert');\n",
              "      buttonEl.style.display =\n",
              "        google.colab.kernel.accessAllowed ? 'block' : 'none';\n",
              "\n",
              "      async function convertToInteractive(key) {\n",
              "        const element = document.querySelector('#df-e4032d60-f0b9-4ce0-bfff-8fa5ad5b914d');\n",
              "        const dataTable =\n",
              "          await google.colab.kernel.invokeFunction('convertToInteractive',\n",
              "                                                    [key], {});\n",
              "        if (!dataTable) return;\n",
              "\n",
              "        const docLinkHtml = 'Like what you see? Visit the ' +\n",
              "          '<a target=\"_blank\" href=https://colab.research.google.com/notebooks/data_table.ipynb>data table notebook</a>'\n",
              "          + ' to learn more about interactive tables.';\n",
              "        element.innerHTML = '';\n",
              "        dataTable['output_type'] = 'display_data';\n",
              "        await google.colab.output.renderOutput(dataTable, element);\n",
              "        const docLink = document.createElement('div');\n",
              "        docLink.innerHTML = docLinkHtml;\n",
              "        element.appendChild(docLink);\n",
              "      }\n",
              "    </script>\n",
              "  </div>\n",
              "\n",
              "\n",
              "    </div>\n",
              "  </div>\n"
            ],
            "application/vnd.google.colaboratory.intrinsic+json": {
              "type": "dataframe",
              "variable_name": "test_gdf",
              "summary": "{\n  \"name\": \"test_gdf\",\n  \"rows\": 1,\n  \"fields\": [\n    {\n      \"column\": \"MINX\",\n      \"properties\": {\n        \"dtype\": \"number\",\n        \"std\": null,\n        \"min\": 690096.7993172235,\n        \"max\": 690096.7993172235,\n        \"num_unique_values\": 1,\n        \"samples\": [\n          690096.7993172235\n        ],\n        \"semantic_type\": \"\",\n        \"description\": \"\"\n      }\n    },\n    {\n      \"column\": \"MINY\",\n      \"properties\": {\n        \"dtype\": \"number\",\n        \"std\": null,\n        \"min\": 8793048.01069312,\n        \"max\": 8793048.01069312,\n        \"num_unique_values\": 1,\n        \"samples\": [\n          8793048.01069312\n        ],\n        \"semantic_type\": \"\",\n        \"description\": \"\"\n      }\n    },\n    {\n      \"column\": \"MAXX\",\n      \"properties\": {\n        \"dtype\": \"number\",\n        \"std\": null,\n        \"min\": 705506.7993172235,\n        \"max\": 705506.7993172235,\n        \"num_unique_values\": 1,\n        \"samples\": [\n          705506.7993172235\n        ],\n        \"semantic_type\": \"\",\n        \"description\": \"\"\n      }\n    },\n    {\n      \"column\": \"MAXY\",\n      \"properties\": {\n        \"dtype\": \"number\",\n        \"std\": null,\n        \"min\": 8808318.01069312,\n        \"max\": 8808318.01069312,\n        \"num_unique_values\": 1,\n        \"samples\": [\n          8808318.01069312\n        ],\n        \"semantic_type\": \"\",\n        \"description\": \"\"\n      }\n    },\n    {\n      \"column\": \"CNTX\",\n      \"properties\": {\n        \"dtype\": \"number\",\n        \"std\": null,\n        \"min\": 697801.7993172235,\n        \"max\": 697801.7993172235,\n        \"num_unique_values\": 1,\n        \"samples\": [\n          697801.7993172235\n        ],\n        \"semantic_type\": \"\",\n        \"description\": \"\"\n      }\n    },\n    {\n      \"column\": \"CNTY\",\n      \"properties\": {\n        \"dtype\": \"number\",\n        \"std\": null,\n        \"min\": 8800683.01069312,\n        \"max\": 8800683.01069312,\n        \"num_unique_values\": 1,\n        \"samples\": [\n          8800683.01069312\n        ],\n        \"semantic_type\": \"\",\n        \"description\": \"\"\n      }\n    },\n    {\n      \"column\": \"AREA\",\n      \"properties\": {\n        \"dtype\": \"number\",\n        \"std\": null,\n        \"min\": 235310700.0,\n        \"max\": 235310700.0,\n        \"num_unique_values\": 1,\n        \"samples\": [\n          235310700.0\n        ],\n        \"semantic_type\": \"\",\n        \"description\": \"\"\n      }\n    },\n    {\n      \"column\": \"PERIM\",\n      \"properties\": {\n        \"dtype\": \"number\",\n        \"std\": null,\n        \"min\": 61360.0,\n        \"max\": 61360.0,\n        \"num_unique_values\": 1,\n        \"samples\": [\n          61360.0\n        ],\n        \"semantic_type\": \"\",\n        \"description\": \"\"\n      }\n    },\n    {\n      \"column\": \"HEIGHT\",\n      \"properties\": {\n        \"dtype\": \"number\",\n        \"std\": null,\n        \"min\": 15270.0,\n        \"max\": 15270.0,\n        \"num_unique_values\": 1,\n        \"samples\": [\n          15270.0\n        ],\n        \"semantic_type\": \"\",\n        \"description\": \"\"\n      }\n    },\n    {\n      \"column\": \"WIDTH\",\n      \"properties\": {\n        \"dtype\": \"number\",\n        \"std\": null,\n        \"min\": 15410.0,\n        \"max\": 15410.0,\n        \"num_unique_values\": 1,\n        \"samples\": [\n          15410.0\n        ],\n        \"semantic_type\": \"\",\n        \"description\": \"\"\n      }\n    },\n    {\n      \"column\": \"geometry\",\n      \"properties\": {\n        \"dtype\": \"geometry\",\n        \"num_unique_values\": 1,\n        \"samples\": [\n          \"POLYGON ((690096.7993172235 8793048.01069312, 690096.7993172235 8808318.01069312, 705506.7993172235 8808318.01069312, 705506.7993172235 8793048.01069312, 690096.7993172235 8793048.01069312))\"\n        ],\n        \"semantic_type\": \"\",\n        \"description\": \"\"\n      }\n    }\n  ]\n}"
            }
          },
          "metadata": {},
          "execution_count": 30
        }
      ]
    },
    {
      "cell_type": "code",
      "source": [
        "# Reproject to EPSG:3395\n",
        "test_gdf_3395 = test_gdf.to_crs(epsg=3395)\n",
        "test_gdf_3395.head()"
      ],
      "metadata": {
        "colab": {
          "base_uri": "https://localhost:8080/",
          "height": 81
        },
        "id": "oPV_C8ok-FkO",
        "outputId": "87aa0078-a76a-44ad-ef74-307a85f89005"
      },
      "execution_count": 31,
      "outputs": [
        {
          "output_type": "execute_result",
          "data": {
            "text/plain": [
              "            MINX          MINY           MAXX          MAXY           CNTX  \\\n",
              "0  690096.799317  8.793048e+06  705506.799317  8.808318e+06  697801.799317   \n",
              "\n",
              "           CNTY         AREA    PERIM   HEIGHT    WIDTH  \\\n",
              "0  8.800683e+06  235310700.0  61360.0  15270.0  15410.0   \n",
              "\n",
              "                                            geometry  \n",
              "0  POLYGON ((-8155337.243 -1214204.7, -8155426.03...  "
            ],
            "text/html": [
              "\n",
              "  <div id=\"df-2adaaebe-0319-41c5-9626-558c641c27a5\" class=\"colab-df-container\">\n",
              "    <div>\n",
              "<style scoped>\n",
              "    .dataframe tbody tr th:only-of-type {\n",
              "        vertical-align: middle;\n",
              "    }\n",
              "\n",
              "    .dataframe tbody tr th {\n",
              "        vertical-align: top;\n",
              "    }\n",
              "\n",
              "    .dataframe thead th {\n",
              "        text-align: right;\n",
              "    }\n",
              "</style>\n",
              "<table border=\"1\" class=\"dataframe\">\n",
              "  <thead>\n",
              "    <tr style=\"text-align: right;\">\n",
              "      <th></th>\n",
              "      <th>MINX</th>\n",
              "      <th>MINY</th>\n",
              "      <th>MAXX</th>\n",
              "      <th>MAXY</th>\n",
              "      <th>CNTX</th>\n",
              "      <th>CNTY</th>\n",
              "      <th>AREA</th>\n",
              "      <th>PERIM</th>\n",
              "      <th>HEIGHT</th>\n",
              "      <th>WIDTH</th>\n",
              "      <th>geometry</th>\n",
              "    </tr>\n",
              "  </thead>\n",
              "  <tbody>\n",
              "    <tr>\n",
              "      <th>0</th>\n",
              "      <td>690096.799317</td>\n",
              "      <td>8.793048e+06</td>\n",
              "      <td>705506.799317</td>\n",
              "      <td>8.808318e+06</td>\n",
              "      <td>697801.799317</td>\n",
              "      <td>8.800683e+06</td>\n",
              "      <td>235310700.0</td>\n",
              "      <td>61360.0</td>\n",
              "      <td>15270.0</td>\n",
              "      <td>15410.0</td>\n",
              "      <td>POLYGON ((-8155337.243 -1214204.7, -8155426.03...</td>\n",
              "    </tr>\n",
              "  </tbody>\n",
              "</table>\n",
              "</div>\n",
              "    <div class=\"colab-df-buttons\">\n",
              "\n",
              "  <div class=\"colab-df-container\">\n",
              "    <button class=\"colab-df-convert\" onclick=\"convertToInteractive('df-2adaaebe-0319-41c5-9626-558c641c27a5')\"\n",
              "            title=\"Convert this dataframe to an interactive table.\"\n",
              "            style=\"display:none;\">\n",
              "\n",
              "  <svg xmlns=\"http://www.w3.org/2000/svg\" height=\"24px\" viewBox=\"0 -960 960 960\">\n",
              "    <path d=\"M120-120v-720h720v720H120Zm60-500h600v-160H180v160Zm220 220h160v-160H400v160Zm0 220h160v-160H400v160ZM180-400h160v-160H180v160Zm440 0h160v-160H620v160ZM180-180h160v-160H180v160Zm440 0h160v-160H620v160Z\"/>\n",
              "  </svg>\n",
              "    </button>\n",
              "\n",
              "  <style>\n",
              "    .colab-df-container {\n",
              "      display:flex;\n",
              "      gap: 12px;\n",
              "    }\n",
              "\n",
              "    .colab-df-convert {\n",
              "      background-color: #E8F0FE;\n",
              "      border: none;\n",
              "      border-radius: 50%;\n",
              "      cursor: pointer;\n",
              "      display: none;\n",
              "      fill: #1967D2;\n",
              "      height: 32px;\n",
              "      padding: 0 0 0 0;\n",
              "      width: 32px;\n",
              "    }\n",
              "\n",
              "    .colab-df-convert:hover {\n",
              "      background-color: #E2EBFA;\n",
              "      box-shadow: 0px 1px 2px rgba(60, 64, 67, 0.3), 0px 1px 3px 1px rgba(60, 64, 67, 0.15);\n",
              "      fill: #174EA6;\n",
              "    }\n",
              "\n",
              "    .colab-df-buttons div {\n",
              "      margin-bottom: 4px;\n",
              "    }\n",
              "\n",
              "    [theme=dark] .colab-df-convert {\n",
              "      background-color: #3B4455;\n",
              "      fill: #D2E3FC;\n",
              "    }\n",
              "\n",
              "    [theme=dark] .colab-df-convert:hover {\n",
              "      background-color: #434B5C;\n",
              "      box-shadow: 0px 1px 3px 1px rgba(0, 0, 0, 0.15);\n",
              "      filter: drop-shadow(0px 1px 2px rgba(0, 0, 0, 0.3));\n",
              "      fill: #FFFFFF;\n",
              "    }\n",
              "  </style>\n",
              "\n",
              "    <script>\n",
              "      const buttonEl =\n",
              "        document.querySelector('#df-2adaaebe-0319-41c5-9626-558c641c27a5 button.colab-df-convert');\n",
              "      buttonEl.style.display =\n",
              "        google.colab.kernel.accessAllowed ? 'block' : 'none';\n",
              "\n",
              "      async function convertToInteractive(key) {\n",
              "        const element = document.querySelector('#df-2adaaebe-0319-41c5-9626-558c641c27a5');\n",
              "        const dataTable =\n",
              "          await google.colab.kernel.invokeFunction('convertToInteractive',\n",
              "                                                    [key], {});\n",
              "        if (!dataTable) return;\n",
              "\n",
              "        const docLinkHtml = 'Like what you see? Visit the ' +\n",
              "          '<a target=\"_blank\" href=https://colab.research.google.com/notebooks/data_table.ipynb>data table notebook</a>'\n",
              "          + ' to learn more about interactive tables.';\n",
              "        element.innerHTML = '';\n",
              "        dataTable['output_type'] = 'display_data';\n",
              "        await google.colab.output.renderOutput(dataTable, element);\n",
              "        const docLink = document.createElement('div');\n",
              "        docLink.innerHTML = docLinkHtml;\n",
              "        element.appendChild(docLink);\n",
              "      }\n",
              "    </script>\n",
              "  </div>\n",
              "\n",
              "\n",
              "    </div>\n",
              "  </div>\n"
            ],
            "application/vnd.google.colaboratory.intrinsic+json": {
              "type": "dataframe",
              "variable_name": "test_gdf_3395",
              "summary": "{\n  \"name\": \"test_gdf_3395\",\n  \"rows\": 1,\n  \"fields\": [\n    {\n      \"column\": \"MINX\",\n      \"properties\": {\n        \"dtype\": \"number\",\n        \"std\": null,\n        \"min\": 690096.7993172235,\n        \"max\": 690096.7993172235,\n        \"num_unique_values\": 1,\n        \"samples\": [\n          690096.7993172235\n        ],\n        \"semantic_type\": \"\",\n        \"description\": \"\"\n      }\n    },\n    {\n      \"column\": \"MINY\",\n      \"properties\": {\n        \"dtype\": \"number\",\n        \"std\": null,\n        \"min\": 8793048.01069312,\n        \"max\": 8793048.01069312,\n        \"num_unique_values\": 1,\n        \"samples\": [\n          8793048.01069312\n        ],\n        \"semantic_type\": \"\",\n        \"description\": \"\"\n      }\n    },\n    {\n      \"column\": \"MAXX\",\n      \"properties\": {\n        \"dtype\": \"number\",\n        \"std\": null,\n        \"min\": 705506.7993172235,\n        \"max\": 705506.7993172235,\n        \"num_unique_values\": 1,\n        \"samples\": [\n          705506.7993172235\n        ],\n        \"semantic_type\": \"\",\n        \"description\": \"\"\n      }\n    },\n    {\n      \"column\": \"MAXY\",\n      \"properties\": {\n        \"dtype\": \"number\",\n        \"std\": null,\n        \"min\": 8808318.01069312,\n        \"max\": 8808318.01069312,\n        \"num_unique_values\": 1,\n        \"samples\": [\n          8808318.01069312\n        ],\n        \"semantic_type\": \"\",\n        \"description\": \"\"\n      }\n    },\n    {\n      \"column\": \"CNTX\",\n      \"properties\": {\n        \"dtype\": \"number\",\n        \"std\": null,\n        \"min\": 697801.7993172235,\n        \"max\": 697801.7993172235,\n        \"num_unique_values\": 1,\n        \"samples\": [\n          697801.7993172235\n        ],\n        \"semantic_type\": \"\",\n        \"description\": \"\"\n      }\n    },\n    {\n      \"column\": \"CNTY\",\n      \"properties\": {\n        \"dtype\": \"number\",\n        \"std\": null,\n        \"min\": 8800683.01069312,\n        \"max\": 8800683.01069312,\n        \"num_unique_values\": 1,\n        \"samples\": [\n          8800683.01069312\n        ],\n        \"semantic_type\": \"\",\n        \"description\": \"\"\n      }\n    },\n    {\n      \"column\": \"AREA\",\n      \"properties\": {\n        \"dtype\": \"number\",\n        \"std\": null,\n        \"min\": 235310700.0,\n        \"max\": 235310700.0,\n        \"num_unique_values\": 1,\n        \"samples\": [\n          235310700.0\n        ],\n        \"semantic_type\": \"\",\n        \"description\": \"\"\n      }\n    },\n    {\n      \"column\": \"PERIM\",\n      \"properties\": {\n        \"dtype\": \"number\",\n        \"std\": null,\n        \"min\": 61360.0,\n        \"max\": 61360.0,\n        \"num_unique_values\": 1,\n        \"samples\": [\n          61360.0\n        ],\n        \"semantic_type\": \"\",\n        \"description\": \"\"\n      }\n    },\n    {\n      \"column\": \"HEIGHT\",\n      \"properties\": {\n        \"dtype\": \"number\",\n        \"std\": null,\n        \"min\": 15270.0,\n        \"max\": 15270.0,\n        \"num_unique_values\": 1,\n        \"samples\": [\n          15270.0\n        ],\n        \"semantic_type\": \"\",\n        \"description\": \"\"\n      }\n    },\n    {\n      \"column\": \"WIDTH\",\n      \"properties\": {\n        \"dtype\": \"number\",\n        \"std\": null,\n        \"min\": 15410.0,\n        \"max\": 15410.0,\n        \"num_unique_values\": 1,\n        \"samples\": [\n          15410.0\n        ],\n        \"semantic_type\": \"\",\n        \"description\": \"\"\n      }\n    },\n    {\n      \"column\": \"geometry\",\n      \"properties\": {\n        \"dtype\": \"geometry\",\n        \"num_unique_values\": 1,\n        \"samples\": [\n          \"POLYGON ((-8155337.24261557 -1214204.7000216092, -8155426.03496581 -1198659.8711328004, -8139742.897513595 -1198567.2676616071, -8139646.919835391 -1214110.8384976326, -8155337.24261557 -1214204.7000216092))\"\n        ],\n        \"semantic_type\": \"\",\n        \"description\": \"\"\n      }\n    }\n  ]\n}"
            }
          },
          "metadata": {},
          "execution_count": 31
        }
      ]
    },
    {
      "cell_type": "code",
      "source": [
        "# Select airstrip record\n",
        "test_gpd = test_gdf_3395.iloc[0]\n",
        "\n",
        "# Get information from the airstrip\n",
        "year = 2023\n",
        "id = 'Test'\n",
        "test_gpd_geometry = test_gpd.geometry\n",
        "\n",
        "# Convert GeoPandas geometry to Earth Engine features\n",
        "test_ee = gpd_geometry_to_ee_geometry(test_gpd_geometry)\n",
        "\n",
        "# Download annual composite for test area\n",
        "download_sentinel1_annual_data(test_ee, id, year)"
      ],
      "metadata": {
        "collapsed": true,
        "colab": {
          "base_uri": "https://localhost:8080/"
        },
        "id": "5XRJUZ6AZ6-J",
        "outputId": "0f9e611f-3153-450c-9ac3-16f157330b7c"
      },
      "execution_count": 41,
      "outputs": [
        {
          "output_type": "stream",
          "name": "stdout",
          "text": [
            "Number of images in the collection: 420\n",
            "Export task for 2022 started. Check your Google Drive for the exported image.\n",
            "Export task for 2023 started. Check your Google Drive for the exported image.\n"
          ]
        }
      ]
    },
    {
      "cell_type": "markdown",
      "source": [
        "###Plot the images.\n",
        "Modify the download scripts to return the image composites instead of exporting to geotiff files. Or download images from export folder in Google drive to plot on map."
      ],
      "metadata": {
        "id": "zpR8U7j_Venv"
      }
    },
    {
      "cell_type": "code",
      "source": [
        "# @title\n",
        "# Create a map\n",
        "m = geemap.Map()\n",
        "\n",
        "# Visualization params\n",
        "vis_params = {\n",
        "    'min': -30,\n",
        "    'max': 100,\n",
        "    #'palette': ['blue', 'green', 'red']\n",
        "}\n",
        "\n",
        "# Display the map\n",
        "m.centerObject(buffer_ee, zoom=15)\n",
        "\n",
        "# Enable layer control\n",
        "m.addLayerControl()\n",
        "\n",
        "# Add layers\n",
        "m.addLayer(img[1], vis_params, 'SAR')\n",
        "m.addLayer(airstrip_ee, {'color': 'red', 'width': 1}, 'Airstrip')\n",
        "\n",
        "m"
      ],
      "metadata": {
        "colab": {
          "base_uri": "https://localhost:8080/",
          "height": 621,
          "referenced_widgets": [
            "699a223fbed04b67916443ed850e31b7",
            "7796152728994e58905dcbc0d7532f83",
            "b86497fe1e8d4ed6b799baf43e59b800",
            "beb99a5779ea4ce08037a59f5370da7b",
            "d3619dc5fd704967973b2f77da92b324",
            "4a201c811f654975aae66ce72005275d",
            "b42e12f35aa043e793fe6beb64d0c4e8",
            "aae42592b8cf44a8900fa8f7921708e8",
            "a11b861225ff41deb4ca7fe930828b4c",
            "49e693b89d17472a97e678484cc79072",
            "a240ee9e1c594f56b2b0195c086a01ec",
            "314c7da7c1b34067a23f7287c0eea30b",
            "1db73bd181d14f33b6ee3b28be218443",
            "432258f3cdd54befabb2e38118970382",
            "827b940d71e541fea6f9bb9cadf787f8",
            "289962652cc74983b0c3deb9773d1248",
            "3473467c5e8f4d8ea949ef88efde5793",
            "bbd4a6a6f059491db8d2e2ee47ba2705",
            "1cd91ef57aca478da6b259f1239a12f2",
            "5aa4a7fc76e24b8cad3ebda7d7fd5400",
            "f52774ff9baa48c08c33b750745273b6",
            "771b2a3af03541448397338a401f4cc6",
            "3eed974aae01425e9141039509fa6d00",
            "719313db43844ca8a9bae2ef42dc0b23",
            "7491727bf1b54b4d9f20caf14fe0a1c4",
            "d66bc40bdae04672b82a07e264c93ef3",
            "6dbb9bbb8e324dae8b2380dbcd062a07",
            "17b15e4dde0e4edea644650bc35e5117"
          ]
        },
        "id": "ORlc5mcrBgKy",
        "outputId": "2470cc3b-a229-4328-f20e-c67c74fa55b4",
        "cellView": "form",
        "collapsed": true
      },
      "execution_count": null,
      "outputs": [
        {
          "output_type": "display_data",
          "data": {
            "text/plain": [
              "Map(center=[-13.616470429757568, -69.17015088567591], controls=(WidgetControl(options=['position', 'transparen…"
            ],
            "application/vnd.jupyter.widget-view+json": {
              "version_major": 2,
              "version_minor": 0,
              "model_id": "699a223fbed04b67916443ed850e31b7"
            }
          },
          "metadata": {
            "application/vnd.jupyter.widget-view+json": {
              "colab": {
                "custom_widget_manager": {
                  "url": "https://ssl.gstatic.com/colaboratory-static/widgets/colab-cdn-widget-manager/2b70e893a8ba7c0f/manager.min.js"
                }
              }
            }
          }
        }
      ]
    },
    {
      "cell_type": "markdown",
      "source": [
        "### Loop over all runways"
      ],
      "metadata": {
        "id": "rbKdWz3suW4a"
      }
    },
    {
      "cell_type": "code",
      "source": [
        "# Function to download annual composites for one airstrip\n",
        "def export_images_by_airstrip(airstrip_gpd):\n",
        "  # Get information from the airstrip\n",
        "  year = int(airstrip_gpd.yr)\n",
        "  id = airstrip_gpd.id\n",
        "  airstrip_gpd_geometry = airstrip_gpd.geometry\n",
        "\n",
        "  # Create a square buffer at a distance of 5 km around centroid of airstrip\n",
        "  buffer_gpd = Point(airstrip_gpd_geometry.centroid).buffer(1000, cap_style=3)\n",
        "\n",
        "  # Convert GeoPandas geometry to Earth Engine features\n",
        "  airstrip_ee = gpd_geometry_to_ee_geometry(airstrip_gpd_geometry)\n",
        "  buffer_ee = gpd_geometry_to_ee_geometry(buffer_gpd)\n",
        "\n",
        "  # Download monthly composites\n",
        "  # GEE expects the aoi to be in geogprahic coordinates to filter the image collection\n",
        "\n",
        "  #img = download_sentinel1_data(buffer_ee, id)\n",
        "  #download_sentinel1_monthly_data(buffer_ee, id, year)\n",
        "  download_sentinel1_annual_data(buffer_ee, id, year)\n",
        "  return None"
      ],
      "metadata": {
        "collapsed": true,
        "id": "hBQ_PhD549V_"
      },
      "execution_count": null,
      "outputs": []
    },
    {
      "cell_type": "code",
      "source": [
        "# Iterate through all airstrips\n",
        "#for index, row in projected_airstrip_training_gdf.iterrows():\n",
        "  #export_images_by_airstrip(row)"
      ],
      "metadata": {
        "id": "YwO6_T3y6J33",
        "collapsed": true
      },
      "execution_count": null,
      "outputs": []
    },
    {
      "cell_type": "markdown",
      "source": [
        "###Extra\n",
        "If you are using a service account, the following workflow can be used to download images from Google Drive associated with service account. This code is a WIP."
      ],
      "metadata": {
        "id": "xdR6HQZp5_-8"
      }
    },
    {
      "cell_type": "code",
      "source": [
        "from pydrive.auth import GoogleAuth\n",
        "from pydrive.drive import GoogleDrive\n",
        "from oauth2client.service_account import ServiceAccountCredentials\n",
        "\n",
        "# authenticate to Google Drive (of the Service account)\n",
        "#service_account = 'earth-engine-sa@ee-runway-detection.iam.gserviceaccount.com'\n",
        "#credentials = ee.ServiceAccountCredentials(service_account, '/content/ee-runway-detection-ce5179ca616c.json')\n",
        "\n",
        "gauth = GoogleAuth()\n",
        "scopes = ['https://www.googleapis.com/auth/drive']\n",
        "gauth.credentials = ServiceAccountCredentials.from_json_keyfile_name('/content/ee-runway-detection-ce5179ca616c.json', scopes=scopes)\n",
        "\n",
        "drive = GoogleDrive(gauth)"
      ],
      "metadata": {
        "id": "_grnqQN2IgMK"
      },
      "execution_count": null,
      "outputs": []
    },
    {
      "cell_type": "code",
      "source": [
        "from google.oauth2 import service_account\n",
        "from googleapiclient.discovery import build\n",
        "import io\n",
        "from googleapiclient.http import MediaIoBaseDownload\n",
        "\n",
        "# Path to your service account key file\n",
        "SERVICE_ACCOUNT_FILE = '/content/ee-runway-detection-ce5179ca616c.json'\n",
        "\n",
        "# Define the required scopes\n",
        "SCOPES = ['https://www.googleapis.com/auth/drive']\n",
        "\n",
        "# Authenticate using the service account\n",
        "credentials = service_account.Credentials.from_service_account_file(\n",
        "    SERVICE_ACCOUNT_FILE, scopes=SCOPES)\n",
        "\n",
        "# Initialize the Google Drive service\n",
        "drive_service = build('drive', 'v3', credentials=credentials)\n",
        "\n",
        "# Function to download a file from Google Drive\n",
        "def download_file(file_id, file_name):\n",
        "    request = drive_service.files().get_media(fileId=file_id)\n",
        "    fh = io.FileIO(file_name, 'wb')\n",
        "    downloader = MediaIoBaseDownload(fh, request)\n",
        "    done = False\n",
        "    while done is False:\n",
        "        status, done = downloader.next_chunk()\n",
        "        print(f\"Download {int(status.progress() * 100)}% complete.\")\n",
        "    print(f\"File {file_name} downloaded successfully.\")\n",
        "\n",
        "# Example: List files in the service account's Google Drive\n",
        "results = drive_service.files().list(\n",
        "    pageSize=10, fields=\"nextPageToken, files(id, name)\").execute()\n",
        "items = results.get('files', [])\n",
        "\n",
        "# Print the list of files in the Drive\n",
        "if not items:\n",
        "    print('No files found.')\n",
        "else:\n",
        "    print('Files:')\n",
        "    for item in items:\n",
        "        print(f\"{item['name']} ({item['id']})\")\n",
        "\n",
        "# Download a specific file by its file ID\n",
        "# Replace 'your-file-id' with the actual file ID and 'your-file-name' with the desired name\n",
        "file_id = '1laCSccscSYJcC2RmiOCRHyfB8qXlc5WH'  # Replace with the file ID you want to download\n",
        "file_name = 'Sentinel1_Composite_2_2023_01.tif'  # Replace with the desired local file name\n",
        "download_file(file_id, file_name)\n"
      ],
      "metadata": {
        "colab": {
          "base_uri": "https://localhost:8080/"
        },
        "id": "moRd7K7rJNBo",
        "outputId": "d990ee28-0dad-4cef-e977-432282eee473"
      },
      "execution_count": null,
      "outputs": [
        {
          "output_type": "stream",
          "name": "stdout",
          "text": [
            "Files:\n",
            "Sentinel1_Composite_2_2023_01.tif (1laCSccscSYJcC2RmiOCRHyfB8qXlc5WH)\n",
            "Sentinel1_Composite_2_2023_02.tif (10DnqxGv1dSktCLB40Syb5tmR0weggm3p)\n",
            "Colab Notebooks/GEE_Exports (1sJip4DGO9ABQ8DM28ESt-5wW6iIYjU5C)\n",
            "Colab Notebooks/GEE_Exports (17ujqiU1kbte753XzgtH3VtCl5SS_SSwe)\n",
            "GEE_Exports (1b1ZqdSvjijkgyX3t9qUw1bZyqcbdJ9w_)\n",
            "Sentinel1_Composite_2_2023_02.tif (14-0RMjA_vMAUWs-ThTQcsKr18ke0IImV)\n",
            "Sentinel1_Composite_2_2023_01.tif (1WsJlc9g37S2WiIGCF5UXysnggFPS9P4s)\n",
            "Sentinel1_Composite_2_2023_01.tif (17E8BUf2o9nyguuIjhUPJetq5XWMYJWxs)\n",
            "Sentinel1_Composite_2_2023_02.tif (1YIkQ1H5tiiSE4eCnvJmGWrnp0IPSUXJ5)\n",
            "Colab Notebooks (1J5U7Ofd0z5gmKzof_GNvQh2pT1YSY6kl)\n",
            "Download 100% complete.\n",
            "File Sentinel1_Composite_2_2023_01.tif downloaded successfully.\n"
          ]
        }
      ]
    }
  ],
  "metadata": {
    "colab": {
      "provenance": [],
      "include_colab_link": true
    },
    "kernelspec": {
      "display_name": "Python 3",
      "name": "python3"
    },
    "language_info": {
      "name": "python"
    },
    "widgets": {
      "application/vnd.jupyter.widget-state+json": {
        "699a223fbed04b67916443ed850e31b7": {
          "model_module": "jupyter-leaflet",
          "model_name": "LeafletMapModel",
          "model_module_version": "^0.19",
          "state": {
            "_dom_classes": [],
            "_model_module": "jupyter-leaflet",
            "_model_module_version": "^0.19",
            "_model_name": "LeafletMapModel",
            "_view_count": null,
            "_view_module": "jupyter-leaflet",
            "_view_module_version": "^0.19",
            "_view_name": "LeafletMapView",
            "bottom": 564782,
            "bounce_at_zoom_limits": true,
            "box_zoom": true,
            "center": [
              -13.668005461145267,
              -69.03499603271486
            ],
            "close_popup_on_click": true,
            "controls": [
              "IPY_MODEL_7796152728994e58905dcbc0d7532f83",
              "IPY_MODEL_b86497fe1e8d4ed6b799baf43e59b800",
              "IPY_MODEL_beb99a5779ea4ce08037a59f5370da7b",
              "IPY_MODEL_d3619dc5fd704967973b2f77da92b324",
              "IPY_MODEL_4a201c811f654975aae66ce72005275d",
              "IPY_MODEL_b42e12f35aa043e793fe6beb64d0c4e8",
              "IPY_MODEL_aae42592b8cf44a8900fa8f7921708e8",
              "IPY_MODEL_a11b861225ff41deb4ca7fe930828b4c",
              "IPY_MODEL_49e693b89d17472a97e678484cc79072"
            ],
            "crs": {
              "name": "EPSG3857",
              "custom": false
            },
            "default_style": "IPY_MODEL_a240ee9e1c594f56b2b0195c086a01ec",
            "double_click_zoom": true,
            "dragging": true,
            "dragging_style": "IPY_MODEL_314c7da7c1b34067a23f7287c0eea30b",
            "east": -68.84891510009767,
            "fullscreen": false,
            "inertia": true,
            "inertia_deceleration": 3000,
            "inertia_max_speed": 1500,
            "interpolation": "bilinear",
            "keyboard": true,
            "keyboard_pan_offset": 80,
            "keyboard_zoom_offset": 1,
            "layers": [
              "IPY_MODEL_1db73bd181d14f33b6ee3b28be218443",
              "IPY_MODEL_432258f3cdd54befabb2e38118970382",
              "IPY_MODEL_827b940d71e541fea6f9bb9cadf787f8",
              "IPY_MODEL_289962652cc74983b0c3deb9773d1248"
            ],
            "layout": "IPY_MODEL_3473467c5e8f4d8ea949ef88efde5793",
            "left": 322668,
            "max_zoom": 24,
            "min_zoom": null,
            "modisdate": "2024-09-21",
            "north": -13.567904171553462,
            "options": [
              "bounce_at_zoom_limits",
              "box_zoom",
              "center",
              "close_popup_on_click",
              "double_click_zoom",
              "dragging",
              "fullscreen",
              "inertia",
              "inertia_deceleration",
              "inertia_max_speed",
              "interpolation",
              "keyboard",
              "keyboard_pan_offset",
              "keyboard_zoom_offset",
              "max_zoom",
              "min_zoom",
              "prefer_canvas",
              "scroll_wheel_zoom",
              "tap",
              "tap_tolerance",
              "touch_zoom",
              "world_copy_jump",
              "zoom",
              "zoom_animation_threshold",
              "zoom_delta",
              "zoom_snap"
            ],
            "panes": {},
            "prefer_canvas": false,
            "right": 323751,
            "scroll_wheel_zoom": true,
            "south": -13.768064239482104,
            "style": "IPY_MODEL_a240ee9e1c594f56b2b0195c086a01ec",
            "tap": true,
            "tap_tolerance": 15,
            "top": 564182,
            "touch_zoom": true,
            "west": -69.22073364257814,
            "window_url": "https://qdnl4xae1q-496ff2e9c6d22116-0-colab.googleusercontent.com/outputframe.html?vrz=colab_20240909-060126_RC00_672496832",
            "world_copy_jump": false,
            "zoom": 12,
            "zoom_animation_threshold": 4,
            "zoom_delta": 1,
            "zoom_snap": 1
          }
        },
        "7796152728994e58905dcbc0d7532f83": {
          "model_module": "jupyter-leaflet",
          "model_name": "LeafletWidgetControlModel",
          "model_module_version": "^0.19",
          "state": {
            "_model_module": "jupyter-leaflet",
            "_model_module_version": "^0.19",
            "_model_name": "LeafletWidgetControlModel",
            "_view_count": null,
            "_view_module": "jupyter-leaflet",
            "_view_module_version": "^0.19",
            "_view_name": "LeafletWidgetControlView",
            "max_height": null,
            "max_width": null,
            "min_height": null,
            "min_width": null,
            "options": [
              "position",
              "transparent_bg"
            ],
            "position": "topleft",
            "transparent_bg": false,
            "widget": "IPY_MODEL_1cd91ef57aca478da6b259f1239a12f2"
          }
        },
        "b86497fe1e8d4ed6b799baf43e59b800": {
          "model_module": "jupyter-leaflet",
          "model_name": "LeafletZoomControlModel",
          "model_module_version": "^0.19",
          "state": {
            "_model_module": "jupyter-leaflet",
            "_model_module_version": "^0.19",
            "_model_name": "LeafletZoomControlModel",
            "_view_count": null,
            "_view_module": "jupyter-leaflet",
            "_view_module_version": "^0.19",
            "_view_name": "LeafletZoomControlView",
            "options": [
              "position",
              "zoom_in_text",
              "zoom_in_title",
              "zoom_out_text",
              "zoom_out_title"
            ],
            "position": "topleft",
            "zoom_in_text": "+",
            "zoom_in_title": "Zoom in",
            "zoom_out_text": "-",
            "zoom_out_title": "Zoom out"
          }
        },
        "beb99a5779ea4ce08037a59f5370da7b": {
          "model_module": "jupyter-leaflet",
          "model_name": "LeafletScaleControlModel",
          "model_module_version": "^0.19",
          "state": {
            "_model_module": "jupyter-leaflet",
            "_model_module_version": "^0.19",
            "_model_name": "LeafletScaleControlModel",
            "_view_count": null,
            "_view_module": "jupyter-leaflet",
            "_view_module_version": "^0.19",
            "_view_name": "LeafletScaleControlView",
            "imperial": true,
            "max_width": 100,
            "metric": true,
            "options": [
              "imperial",
              "max_width",
              "metric",
              "position",
              "update_when_idle"
            ],
            "position": "bottomleft",
            "update_when_idle": false
          }
        },
        "d3619dc5fd704967973b2f77da92b324": {
          "model_module": "jupyter-leaflet",
          "model_name": "LeafletFullScreenControlModel",
          "model_module_version": "^0.19",
          "state": {
            "_model_module": "jupyter-leaflet",
            "_model_module_version": "^0.19",
            "_model_name": "LeafletFullScreenControlModel",
            "_view_count": null,
            "_view_module": "jupyter-leaflet",
            "_view_module_version": "^0.19",
            "_view_name": "LeafletFullScreenControlView",
            "options": [
              "position"
            ],
            "position": "topleft"
          }
        },
        "4a201c811f654975aae66ce72005275d": {
          "model_module": "jupyter-leaflet",
          "model_name": "LeafletMeasureControlModel",
          "model_module_version": "^0.19",
          "state": {
            "_custom_units": {},
            "_model_module": "jupyter-leaflet",
            "_model_module_version": "^0.19",
            "_model_name": "LeafletMeasureControlModel",
            "_view_count": null,
            "_view_module": "jupyter-leaflet",
            "_view_module_version": "^0.19",
            "_view_name": "LeafletMeasureControlView",
            "active_color": "orange",
            "capture_z_index": 10000,
            "completed_color": "#C8F2BE",
            "options": [
              "active_color",
              "capture_z_index",
              "completed_color",
              "popup_options",
              "position",
              "primary_area_unit",
              "primary_length_unit",
              "secondary_area_unit",
              "secondary_length_unit"
            ],
            "popup_options": {
              "className": "leaflet-measure-resultpopup",
              "autoPanPadding": [
                10,
                10
              ]
            },
            "position": "bottomleft",
            "primary_area_unit": "acres",
            "primary_length_unit": "kilometers",
            "secondary_area_unit": null,
            "secondary_length_unit": null
          }
        },
        "b42e12f35aa043e793fe6beb64d0c4e8": {
          "model_module": "jupyter-leaflet",
          "model_name": "LeafletAttributionControlModel",
          "model_module_version": "^0.19",
          "state": {
            "_model_module": "jupyter-leaflet",
            "_model_module_version": "^0.19",
            "_model_name": "LeafletAttributionControlModel",
            "_view_count": null,
            "_view_module": "jupyter-leaflet",
            "_view_module_version": "^0.19",
            "_view_name": "LeafletAttributionControlView",
            "options": [
              "position",
              "prefix"
            ],
            "position": "bottomright",
            "prefix": "ipyleaflet"
          }
        },
        "aae42592b8cf44a8900fa8f7921708e8": {
          "model_module": "jupyter-leaflet",
          "model_name": "LeafletDrawControlModel",
          "model_module_version": "^0.19",
          "state": {
            "_model_module": "jupyter-leaflet",
            "_model_module_version": "^0.19",
            "_model_name": "LeafletDrawControlModel",
            "_view_count": null,
            "_view_module": "jupyter-leaflet",
            "_view_module_version": "^0.19",
            "_view_name": "LeafletDrawControlView",
            "circle": {
              "shapeOptions": {
                "color": "#3388ff"
              }
            },
            "circlemarker": {},
            "data": [],
            "edit": true,
            "marker": {
              "shapeOptions": {
                "color": "#3388ff"
              }
            },
            "options": [
              "position"
            ],
            "polygon": {
              "shapeOptions": {}
            },
            "polyline": {
              "shapeOptions": {}
            },
            "position": "topleft",
            "rectangle": {
              "shapeOptions": {
                "color": "#3388ff"
              }
            },
            "remove": true
          }
        },
        "a11b861225ff41deb4ca7fe930828b4c": {
          "model_module": "jupyter-leaflet",
          "model_name": "LeafletWidgetControlModel",
          "model_module_version": "^0.19",
          "state": {
            "_model_module": "jupyter-leaflet",
            "_model_module_version": "^0.19",
            "_model_name": "LeafletWidgetControlModel",
            "_view_count": null,
            "_view_module": "jupyter-leaflet",
            "_view_module_version": "^0.19",
            "_view_name": "LeafletWidgetControlView",
            "max_height": null,
            "max_width": null,
            "min_height": null,
            "min_width": null,
            "options": [
              "position",
              "transparent_bg"
            ],
            "position": "topright",
            "transparent_bg": false,
            "widget": "IPY_MODEL_5aa4a7fc76e24b8cad3ebda7d7fd5400"
          }
        },
        "49e693b89d17472a97e678484cc79072": {
          "model_module": "jupyter-leaflet",
          "model_name": "LeafletLayersControlModel",
          "model_module_version": "^0.19",
          "state": {
            "_model_module": "jupyter-leaflet",
            "_model_module_version": "^0.19",
            "_model_name": "LeafletLayersControlModel",
            "_view_count": null,
            "_view_module": "jupyter-leaflet",
            "_view_module_version": "^0.19",
            "_view_name": "LeafletLayersControlView",
            "collapsed": true,
            "options": [
              "collapsed",
              "position"
            ],
            "position": "topright"
          }
        },
        "a240ee9e1c594f56b2b0195c086a01ec": {
          "model_module": "jupyter-leaflet",
          "model_name": "LeafletMapStyleModel",
          "model_module_version": "^0.19",
          "state": {
            "_model_module": "jupyter-leaflet",
            "_model_module_version": "^0.19",
            "_model_name": "LeafletMapStyleModel",
            "_view_count": null,
            "_view_module": "@jupyter-widgets/base",
            "_view_module_version": "1.2.0",
            "_view_name": "StyleView",
            "cursor": "grab"
          }
        },
        "314c7da7c1b34067a23f7287c0eea30b": {
          "model_module": "jupyter-leaflet",
          "model_name": "LeafletMapStyleModel",
          "model_module_version": "^0.19",
          "state": {
            "_model_module": "jupyter-leaflet",
            "_model_module_version": "^0.19",
            "_model_name": "LeafletMapStyleModel",
            "_view_count": null,
            "_view_module": "@jupyter-widgets/base",
            "_view_module_version": "1.2.0",
            "_view_name": "StyleView",
            "cursor": "move"
          }
        },
        "1db73bd181d14f33b6ee3b28be218443": {
          "model_module": "jupyter-leaflet",
          "model_name": "LeafletTileLayerModel",
          "model_module_version": "^0.19",
          "state": {
            "_model_module": "jupyter-leaflet",
            "_model_module_version": "^0.19",
            "_model_name": "LeafletTileLayerModel",
            "_view_count": null,
            "_view_module": "jupyter-leaflet",
            "_view_module_version": "^0.19",
            "_view_name": "LeafletTileLayerView",
            "attribution": "&copy; <a href=\"https://www.openstreetmap.org/copyright\">OpenStreetMap</a> contributors",
            "base": true,
            "bottom": true,
            "bounds": null,
            "detect_retina": false,
            "loading": false,
            "max_native_zoom": null,
            "max_zoom": 19,
            "min_native_zoom": null,
            "min_zoom": 1,
            "name": "OpenStreetMap.Mapnik",
            "no_wrap": false,
            "opacity": 1,
            "options": [
              "attribution",
              "bounds",
              "detect_retina",
              "max_native_zoom",
              "max_zoom",
              "min_native_zoom",
              "min_zoom",
              "no_wrap",
              "tile_size",
              "tms",
              "zoom_offset"
            ],
            "pane": "",
            "popup": null,
            "popup_max_height": null,
            "popup_max_width": 300,
            "popup_min_width": 50,
            "show_loading": false,
            "subitems": [],
            "tile_size": 256,
            "tms": false,
            "url": "https://tile.openstreetmap.org/{z}/{x}/{y}.png",
            "visible": true,
            "zoom_offset": 0
          }
        },
        "432258f3cdd54befabb2e38118970382": {
          "model_module": "jupyter-leaflet",
          "model_name": "LeafletTileLayerModel",
          "model_module_version": "^0.19",
          "state": {
            "_model_module": "jupyter-leaflet",
            "_model_module_version": "^0.19",
            "_model_name": "LeafletTileLayerModel",
            "_view_count": null,
            "_view_module": "jupyter-leaflet",
            "_view_module_version": "^0.19",
            "_view_name": "LeafletTileLayerView",
            "attribution": "Google",
            "base": false,
            "bottom": true,
            "bounds": null,
            "detect_retina": false,
            "loading": false,
            "max_native_zoom": null,
            "max_zoom": 22,
            "min_native_zoom": null,
            "min_zoom": 0,
            "name": "Google Maps",
            "no_wrap": false,
            "opacity": 1,
            "options": [
              "attribution",
              "bounds",
              "detect_retina",
              "max_native_zoom",
              "max_zoom",
              "min_native_zoom",
              "min_zoom",
              "no_wrap",
              "tile_size",
              "tms",
              "zoom_offset"
            ],
            "pane": "",
            "popup": null,
            "popup_max_height": null,
            "popup_max_width": 300,
            "popup_min_width": 50,
            "show_loading": false,
            "subitems": [],
            "tile_size": 256,
            "tms": false,
            "url": "https://mt1.google.com/vt/lyrs=m&x={x}&y={y}&z={z}",
            "visible": true,
            "zoom_offset": 0
          }
        },
        "827b940d71e541fea6f9bb9cadf787f8": {
          "model_module": "jupyter-leaflet",
          "model_name": "LeafletTileLayerModel",
          "model_module_version": "^0.19",
          "state": {
            "_model_module": "jupyter-leaflet",
            "_model_module_version": "^0.19",
            "_model_name": "LeafletTileLayerModel",
            "_view_count": null,
            "_view_module": "jupyter-leaflet",
            "_view_module_version": "^0.19",
            "_view_name": "LeafletTileLayerView",
            "attribution": "Google Earth Engine",
            "base": false,
            "bottom": true,
            "bounds": null,
            "detect_retina": false,
            "loading": false,
            "max_native_zoom": null,
            "max_zoom": 24,
            "min_native_zoom": null,
            "min_zoom": 0,
            "name": "SAR",
            "no_wrap": false,
            "opacity": 1,
            "options": [
              "attribution",
              "bounds",
              "detect_retina",
              "max_native_zoom",
              "max_zoom",
              "min_native_zoom",
              "min_zoom",
              "no_wrap",
              "tile_size",
              "tms",
              "zoom_offset"
            ],
            "pane": "",
            "popup": null,
            "popup_max_height": null,
            "popup_max_width": 300,
            "popup_min_width": 50,
            "show_loading": false,
            "subitems": [],
            "tile_size": 256,
            "tms": false,
            "url": "https://earthengine.googleapis.com/v1/projects/earthengine-legacy/maps/b05d8aec253f1b5426e8ce2098213841-c3813ee88e9e360dacf03e1040d05ed4/tiles/{z}/{x}/{y}",
            "visible": true,
            "zoom_offset": 0
          }
        },
        "289962652cc74983b0c3deb9773d1248": {
          "model_module": "jupyter-leaflet",
          "model_name": "LeafletTileLayerModel",
          "model_module_version": "^0.19",
          "state": {
            "_model_module": "jupyter-leaflet",
            "_model_module_version": "^0.19",
            "_model_name": "LeafletTileLayerModel",
            "_view_count": null,
            "_view_module": "jupyter-leaflet",
            "_view_module_version": "^0.19",
            "_view_name": "LeafletTileLayerView",
            "attribution": "Google Earth Engine",
            "base": false,
            "bottom": true,
            "bounds": null,
            "detect_retina": false,
            "loading": false,
            "max_native_zoom": null,
            "max_zoom": 24,
            "min_native_zoom": null,
            "min_zoom": 0,
            "name": "Airstrip",
            "no_wrap": false,
            "opacity": 1,
            "options": [
              "attribution",
              "bounds",
              "detect_retina",
              "max_native_zoom",
              "max_zoom",
              "min_native_zoom",
              "min_zoom",
              "no_wrap",
              "tile_size",
              "tms",
              "zoom_offset"
            ],
            "pane": "",
            "popup": null,
            "popup_max_height": null,
            "popup_max_width": 300,
            "popup_min_width": 50,
            "show_loading": false,
            "subitems": [],
            "tile_size": 256,
            "tms": false,
            "url": "https://earthengine.googleapis.com/v1/projects/earthengine-legacy/maps/9af30fcfdb6d8ef1d3c9fe6208994e2d-f6d3f1d736d9e1895192efd7f1276ac5/tiles/{z}/{x}/{y}",
            "visible": true,
            "zoom_offset": 0
          }
        },
        "3473467c5e8f4d8ea949ef88efde5793": {
          "model_module": "@jupyter-widgets/base",
          "model_name": "LayoutModel",
          "model_module_version": "1.2.0",
          "state": {
            "_model_module": "@jupyter-widgets/base",
            "_model_module_version": "1.2.0",
            "_model_name": "LayoutModel",
            "_view_count": null,
            "_view_module": "@jupyter-widgets/base",
            "_view_module_version": "1.2.0",
            "_view_name": "LayoutView",
            "align_content": null,
            "align_items": null,
            "align_self": null,
            "border": null,
            "bottom": null,
            "display": null,
            "flex": null,
            "flex_flow": null,
            "grid_area": null,
            "grid_auto_columns": null,
            "grid_auto_flow": null,
            "grid_auto_rows": null,
            "grid_column": null,
            "grid_gap": null,
            "grid_row": null,
            "grid_template_areas": null,
            "grid_template_columns": null,
            "grid_template_rows": null,
            "height": "600px",
            "justify_content": null,
            "justify_items": null,
            "left": null,
            "margin": null,
            "max_height": null,
            "max_width": null,
            "min_height": null,
            "min_width": null,
            "object_fit": null,
            "object_position": null,
            "order": null,
            "overflow": null,
            "overflow_x": null,
            "overflow_y": null,
            "padding": null,
            "right": null,
            "top": null,
            "visibility": null,
            "width": null
          }
        },
        "bbd4a6a6f059491db8d2e2ee47ba2705": {
          "model_module": "jupyter-leaflet",
          "model_name": "LeafletMapStyleModel",
          "model_module_version": "^0.19",
          "state": {
            "_model_module": "jupyter-leaflet",
            "_model_module_version": "^0.19",
            "_model_name": "LeafletMapStyleModel",
            "_view_count": null,
            "_view_module": "@jupyter-widgets/base",
            "_view_module_version": "1.2.0",
            "_view_name": "StyleView",
            "cursor": "grab"
          }
        },
        "1cd91ef57aca478da6b259f1239a12f2": {
          "model_module": "@jupyter-widgets/controls",
          "model_name": "HBoxModel",
          "model_module_version": "1.5.0",
          "state": {
            "_dom_classes": [],
            "_model_module": "@jupyter-widgets/controls",
            "_model_module_version": "1.5.0",
            "_model_name": "HBoxModel",
            "_view_count": null,
            "_view_module": "@jupyter-widgets/controls",
            "_view_module_version": "1.5.0",
            "_view_name": "HBoxView",
            "box_style": "",
            "children": [
              "IPY_MODEL_f52774ff9baa48c08c33b750745273b6"
            ],
            "layout": "IPY_MODEL_771b2a3af03541448397338a401f4cc6"
          }
        },
        "5aa4a7fc76e24b8cad3ebda7d7fd5400": {
          "model_module": "@jupyter-widgets/controls",
          "model_name": "VBoxModel",
          "model_module_version": "1.5.0",
          "state": {
            "_dom_classes": [],
            "_model_module": "@jupyter-widgets/controls",
            "_model_module_version": "1.5.0",
            "_model_name": "VBoxModel",
            "_view_count": null,
            "_view_module": "@jupyter-widgets/controls",
            "_view_module_version": "1.5.0",
            "_view_name": "VBoxView",
            "box_style": "",
            "children": [
              "IPY_MODEL_3eed974aae01425e9141039509fa6d00"
            ],
            "layout": "IPY_MODEL_719313db43844ca8a9bae2ef42dc0b23"
          }
        },
        "f52774ff9baa48c08c33b750745273b6": {
          "model_module": "@jupyter-widgets/controls",
          "model_name": "ToggleButtonModel",
          "model_module_version": "1.5.0",
          "state": {
            "_dom_classes": [],
            "_model_module": "@jupyter-widgets/controls",
            "_model_module_version": "1.5.0",
            "_model_name": "ToggleButtonModel",
            "_view_count": null,
            "_view_module": "@jupyter-widgets/controls",
            "_view_module_version": "1.5.0",
            "_view_name": "ToggleButtonView",
            "button_style": "",
            "description": "",
            "description_tooltip": null,
            "disabled": false,
            "icon": "globe",
            "layout": "IPY_MODEL_7491727bf1b54b4d9f20caf14fe0a1c4",
            "style": "IPY_MODEL_d66bc40bdae04672b82a07e264c93ef3",
            "tooltip": "Search location/data",
            "value": false
          }
        },
        "771b2a3af03541448397338a401f4cc6": {
          "model_module": "@jupyter-widgets/base",
          "model_name": "LayoutModel",
          "model_module_version": "1.2.0",
          "state": {
            "_model_module": "@jupyter-widgets/base",
            "_model_module_version": "1.2.0",
            "_model_name": "LayoutModel",
            "_view_count": null,
            "_view_module": "@jupyter-widgets/base",
            "_view_module_version": "1.2.0",
            "_view_name": "LayoutView",
            "align_content": null,
            "align_items": null,
            "align_self": null,
            "border": null,
            "bottom": null,
            "display": null,
            "flex": null,
            "flex_flow": null,
            "grid_area": null,
            "grid_auto_columns": null,
            "grid_auto_flow": null,
            "grid_auto_rows": null,
            "grid_column": null,
            "grid_gap": null,
            "grid_row": null,
            "grid_template_areas": null,
            "grid_template_columns": null,
            "grid_template_rows": null,
            "height": null,
            "justify_content": null,
            "justify_items": null,
            "left": null,
            "margin": null,
            "max_height": null,
            "max_width": null,
            "min_height": null,
            "min_width": null,
            "object_fit": null,
            "object_position": null,
            "order": null,
            "overflow": null,
            "overflow_x": null,
            "overflow_y": null,
            "padding": null,
            "right": null,
            "top": null,
            "visibility": null,
            "width": null
          }
        },
        "3eed974aae01425e9141039509fa6d00": {
          "model_module": "@jupyter-widgets/controls",
          "model_name": "ToggleButtonModel",
          "model_module_version": "1.5.0",
          "state": {
            "_dom_classes": [],
            "_model_module": "@jupyter-widgets/controls",
            "_model_module_version": "1.5.0",
            "_model_name": "ToggleButtonModel",
            "_view_count": null,
            "_view_module": "@jupyter-widgets/controls",
            "_view_module_version": "1.5.0",
            "_view_name": "ToggleButtonView",
            "button_style": "",
            "description": "",
            "description_tooltip": null,
            "disabled": false,
            "icon": "wrench",
            "layout": "IPY_MODEL_6dbb9bbb8e324dae8b2380dbcd062a07",
            "style": "IPY_MODEL_17b15e4dde0e4edea644650bc35e5117",
            "tooltip": "Toolbar",
            "value": false
          }
        },
        "719313db43844ca8a9bae2ef42dc0b23": {
          "model_module": "@jupyter-widgets/base",
          "model_name": "LayoutModel",
          "model_module_version": "1.2.0",
          "state": {
            "_model_module": "@jupyter-widgets/base",
            "_model_module_version": "1.2.0",
            "_model_name": "LayoutModel",
            "_view_count": null,
            "_view_module": "@jupyter-widgets/base",
            "_view_module_version": "1.2.0",
            "_view_name": "LayoutView",
            "align_content": null,
            "align_items": null,
            "align_self": null,
            "border": null,
            "bottom": null,
            "display": null,
            "flex": null,
            "flex_flow": null,
            "grid_area": null,
            "grid_auto_columns": null,
            "grid_auto_flow": null,
            "grid_auto_rows": null,
            "grid_column": null,
            "grid_gap": null,
            "grid_row": null,
            "grid_template_areas": null,
            "grid_template_columns": null,
            "grid_template_rows": null,
            "height": null,
            "justify_content": null,
            "justify_items": null,
            "left": null,
            "margin": null,
            "max_height": null,
            "max_width": null,
            "min_height": null,
            "min_width": null,
            "object_fit": null,
            "object_position": null,
            "order": null,
            "overflow": null,
            "overflow_x": null,
            "overflow_y": null,
            "padding": null,
            "right": null,
            "top": null,
            "visibility": null,
            "width": null
          }
        },
        "7491727bf1b54b4d9f20caf14fe0a1c4": {
          "model_module": "@jupyter-widgets/base",
          "model_name": "LayoutModel",
          "model_module_version": "1.2.0",
          "state": {
            "_model_module": "@jupyter-widgets/base",
            "_model_module_version": "1.2.0",
            "_model_name": "LayoutModel",
            "_view_count": null,
            "_view_module": "@jupyter-widgets/base",
            "_view_module_version": "1.2.0",
            "_view_name": "LayoutView",
            "align_content": null,
            "align_items": null,
            "align_self": null,
            "border": null,
            "bottom": null,
            "display": null,
            "flex": null,
            "flex_flow": null,
            "grid_area": null,
            "grid_auto_columns": null,
            "grid_auto_flow": null,
            "grid_auto_rows": null,
            "grid_column": null,
            "grid_gap": null,
            "grid_row": null,
            "grid_template_areas": null,
            "grid_template_columns": null,
            "grid_template_rows": null,
            "height": "28px",
            "justify_content": null,
            "justify_items": null,
            "left": null,
            "margin": null,
            "max_height": null,
            "max_width": null,
            "min_height": null,
            "min_width": null,
            "object_fit": null,
            "object_position": null,
            "order": null,
            "overflow": null,
            "overflow_x": null,
            "overflow_y": null,
            "padding": "0px 0px 0px 4px",
            "right": null,
            "top": null,
            "visibility": null,
            "width": "28px"
          }
        },
        "d66bc40bdae04672b82a07e264c93ef3": {
          "model_module": "@jupyter-widgets/controls",
          "model_name": "DescriptionStyleModel",
          "model_module_version": "1.5.0",
          "state": {
            "_model_module": "@jupyter-widgets/controls",
            "_model_module_version": "1.5.0",
            "_model_name": "DescriptionStyleModel",
            "_view_count": null,
            "_view_module": "@jupyter-widgets/base",
            "_view_module_version": "1.2.0",
            "_view_name": "StyleView",
            "description_width": ""
          }
        },
        "6dbb9bbb8e324dae8b2380dbcd062a07": {
          "model_module": "@jupyter-widgets/base",
          "model_name": "LayoutModel",
          "model_module_version": "1.2.0",
          "state": {
            "_model_module": "@jupyter-widgets/base",
            "_model_module_version": "1.2.0",
            "_model_name": "LayoutModel",
            "_view_count": null,
            "_view_module": "@jupyter-widgets/base",
            "_view_module_version": "1.2.0",
            "_view_name": "LayoutView",
            "align_content": null,
            "align_items": null,
            "align_self": null,
            "border": null,
            "bottom": null,
            "display": null,
            "flex": null,
            "flex_flow": null,
            "grid_area": null,
            "grid_auto_columns": null,
            "grid_auto_flow": null,
            "grid_auto_rows": null,
            "grid_column": null,
            "grid_gap": null,
            "grid_row": null,
            "grid_template_areas": null,
            "grid_template_columns": null,
            "grid_template_rows": null,
            "height": "28px",
            "justify_content": null,
            "justify_items": null,
            "left": null,
            "margin": null,
            "max_height": null,
            "max_width": null,
            "min_height": null,
            "min_width": null,
            "object_fit": null,
            "object_position": null,
            "order": null,
            "overflow": null,
            "overflow_x": null,
            "overflow_y": null,
            "padding": "0px 0px 0px 4px",
            "right": null,
            "top": null,
            "visibility": null,
            "width": "28px"
          }
        },
        "17b15e4dde0e4edea644650bc35e5117": {
          "model_module": "@jupyter-widgets/controls",
          "model_name": "DescriptionStyleModel",
          "model_module_version": "1.5.0",
          "state": {
            "_model_module": "@jupyter-widgets/controls",
            "_model_module_version": "1.5.0",
            "_model_name": "DescriptionStyleModel",
            "_view_count": null,
            "_view_module": "@jupyter-widgets/base",
            "_view_module_version": "1.2.0",
            "_view_name": "StyleView",
            "description_width": ""
          }
        }
      }
    }
  },
  "nbformat": 4,
  "nbformat_minor": 0
}