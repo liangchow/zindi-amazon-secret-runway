{
  "nbformat": 4,
  "nbformat_minor": 0,
  "metadata": {
    "colab": {
      "provenance": [],
      "authorship_tag": "ABX9TyMoB6a5Poa1lt6BfKcgYfU8",
      "include_colab_link": true
    },
    "kernelspec": {
      "name": "python3",
      "display_name": "Python 3"
    },
    "language_info": {
      "name": "python"
    }
  },
  "cells": [
    {
      "cell_type": "markdown",
      "metadata": {
        "id": "view-in-github",
        "colab_type": "text"
      },
      "source": [
        "<a href=\"https://colab.research.google.com/github/liangchow/zindi-amazon-secret-runway/blob/main/zindi_airstrip_training.ipynb\" target=\"_parent\"><img src=\"https://colab.research.google.com/assets/colab-badge.svg\" alt=\"Open In Colab\"/></a>"
      ]
    },
    {
      "cell_type": "markdown",
      "source": [
        "# Imports and Setup."
      ],
      "metadata": {
        "id": "LwUDlijZkmlQ"
      }
    },
    {
      "cell_type": "code",
      "execution_count": 162,
      "metadata": {
        "id": "XVAHPN3ujSqo"
      },
      "outputs": [],
      "source": [
        "%%capture\n",
        "!pip -q install rasterio\n",
        "!pip -q install torch\n",
        "!pip -q install torchvision\n",
        "!pip -q install albumentations\n",
        "!pip -q install segmentation-models-pytorch\n",
        "!pip -q install tqdm"
      ]
    },
    {
      "cell_type": "code",
      "source": [
        "import os\n",
        "import torch\n",
        "import rasterio\n",
        "import albumentations as A\n",
        "from torch.utils import data\n",
        "from torch.utils.data import Dataset, DataLoader\n",
        "import segmentation_models_pytorch as smp\n",
        "from torchvision import transforms as T\n",
        "from albumentations.pytorch import ToTensorV2\n",
        "import torch.nn.functional as F\n",
        "import torchsummary\n",
        "from tqdm import tqdm\n",
        "\n",
        "# Data manipulation and visualization\n",
        "import matplotlib.pyplot as plt\n",
        "from PIL import Image\n",
        "import numpy as np\n",
        "\n",
        "# Set seed for reproducibility\n",
        "SEED = 42\n",
        "np.random.seed(SEED)"
      ],
      "metadata": {
        "id": "fE3-VAiOlEwa"
      },
      "execution_count": 163,
      "outputs": []
    },
    {
      "cell_type": "markdown",
      "source": [
        "# Download training data to local compute node"
      ],
      "metadata": {
        "id": "2gqrUzVPp8Zy"
      }
    },
    {
      "cell_type": "markdown",
      "source": [
        "## Mount your Google Drive"
      ],
      "metadata": {
        "id": "eZ9NJwoXrC7y"
      }
    },
    {
      "cell_type": "code",
      "source": [
        "from google.colab import drive\n",
        "drive.mount('/content/drive')"
      ],
      "metadata": {
        "colab": {
          "base_uri": "https://localhost:8080/"
        },
        "id": "9FZv4psrrG-L",
        "outputId": "f2e265fe-4a0d-419e-e6c0-fd381b3b6ca8"
      },
      "execution_count": 120,
      "outputs": [
        {
          "output_type": "stream",
          "name": "stdout",
          "text": [
            "Drive already mounted at /content/drive; to attempt to forcibly remount, call drive.mount(\"/content/drive\", force_remount=True).\n"
          ]
        }
      ]
    },
    {
      "cell_type": "markdown",
      "source": [
        "## Compress training files, copy over and uncompress"
      ],
      "metadata": {
        "id": "155cMjbjriz6"
      }
    },
    {
      "cell_type": "code",
      "source": [
        "# Navigate to the shared directory\n",
        "%cd /content/drive/MyDrive/Zindi-Amazon/training\n",
        "# Zip the data\n",
        "!zip -r /content/images.zip images\n",
        "!zip -r /content/masks.zip masks\n",
        "# Unzip the files\n",
        "!unzip /content/images.zip -d /content\n",
        "!unzip /content/masks.zip -d /content"
      ],
      "metadata": {
        "colab": {
          "base_uri": "https://localhost:8080/"
        },
        "collapsed": true,
        "id": "uiqGZSObr51z",
        "outputId": "8aadb9f5-d6b0-458b-e02c-46d9d44c1c1a"
      },
      "execution_count": 121,
      "outputs": [
        {
          "output_type": "stream",
          "name": "stdout",
          "text": [
            "/content/drive/.shortcut-targets-by-id/14mw0v8Bi-MzhsqSI0K3KO23YrUHttM7P/Zindi-Amazon/training\n",
            "  adding: images/ (stored 0%)\n",
            "  adding: images/Sentinel_AllBands_Training_Id_20.tif (deflated 5%)\n",
            "  adding: images/Sentinel_AllBands_Training_Id_59.tif (deflated 5%)\n",
            "  adding: images/Sentinel_AllBands_Training_Id_61.tif (deflated 5%)\n",
            "  adding: images/Sentinel_AllBands_Training_Id_78.tif (deflated 5%)\n",
            "  adding: images/Sentinel_AllBands_Training_Id_79.tif (deflated 5%)\n",
            "  adding: images/Sentinel_AllBands_Training_Id_105.tif (deflated 5%)\n",
            "  adding: images/Sentinel_AllBands_Training_Id_120.tif (deflated 5%)\n",
            "  adding: images/Sentinel_AllBands_Training_Id_135.tif (deflated 5%)\n",
            "  adding: images/Sentinel_AllBands_Training_Id_139.tif (deflated 5%)\n",
            "  adding: images/Sentinel_AllBands_Training_Id_138.tif (deflated 5%)\n",
            "  adding: images/Sentinel_AllBands_Training_Id_66.tif (deflated 4%)\n",
            "  adding: images/Sentinel_AllBands_Training_Id_176.tif (deflated 5%)\n",
            "  adding: images/Sentinel_AllBands_Training_Id_157.tif (deflated 5%)\n",
            "  adding: images/Sentinel_AllBands_Training_Id_182.tif (deflated 5%)\n",
            "  adding: images/Sentinel_AllBands_Training_Id_148.tif (deflated 4%)\n",
            "  adding: images/Sentinel_AllBands_Training_Id_36.tif (deflated 5%)\n",
            "  adding: images/Sentinel_AllBands_Training_Id_143.tif (deflated 4%)\n",
            "  adding: images/Sentinel_AllBands_Training_Id_137.tif (deflated 5%)\n",
            "  adding: images/Sentinel_AllBands_Training_Id_17.tif (deflated 4%)\n",
            "  adding: images/Sentinel_AllBands_Training_Id_114.tif (deflated 5%)\n",
            "  adding: images/Sentinel_AllBands_Training_Id_62.tif (deflated 5%)\n",
            "  adding: images/Sentinel_AllBands_Training_Id_147.tif (deflated 5%)\n",
            "  adding: images/Sentinel_AllBands_Training_Id_23.tif (deflated 5%)\n",
            "  adding: images/Sentinel_AllBands_Training_Id_71.tif (deflated 5%)\n",
            "  adding: images/Sentinel_AllBands_Training_Id_151.tif (deflated 5%)\n",
            "  adding: images/Sentinel_AllBands_Training_Id_9.tif (deflated 5%)\n",
            "  adding: images/Sentinel_AllBands_Training_Id_140.tif (deflated 5%)\n",
            "  adding: images/Sentinel_AllBands_Training_Id_57.tif (deflated 5%)\n",
            "  adding: images/Sentinel_AllBands_Training_Id_99.tif (deflated 5%)\n",
            "  adding: images/Sentinel_AllBands_Training_Id_22.tif (deflated 4%)\n",
            "  adding: images/Sentinel_AllBands_Training_Id_98.tif (deflated 4%)\n",
            "  adding: images/Sentinel_AllBands_Training_Id_110.tif (deflated 5%)\n",
            "  adding: images/Sentinel_AllBands_Training_Id_172.tif (deflated 5%)\n",
            "  adding: images/Sentinel_AllBands_Training_Id_41.tif (deflated 5%)\n",
            "  adding: images/Sentinel_AllBands_Training_Id_56.tif (deflated 5%)\n",
            "  adding: images/Sentinel_AllBands_Training_Id_179.tif (deflated 5%)\n",
            "  adding: images/Sentinel_AllBands_Training_Id_31.tif (deflated 5%)\n",
            "  adding: images/Sentinel_AllBands_Training_Id_60.tif (deflated 5%)\n",
            "  adding: images/Sentinel_AllBands_Training_Id_102.tif (deflated 5%)\n",
            "  adding: images/Sentinel_AllBands_Training_Id_162.tif (deflated 5%)\n",
            "  adding: images/Sentinel_AllBands_Training_Id_85.tif (deflated 5%)\n",
            "  adding: images/Sentinel_AllBands_Training_Id_165.tif (deflated 4%)\n",
            "  adding: images/Sentinel_AllBands_Training_Id_46.tif (deflated 5%)\n",
            "  adding: images/Sentinel_AllBands_Training_Id_144.tif (deflated 5%)\n",
            "  adding: images/Sentinel_AllBands_Training_Id_118.tif (deflated 5%)\n",
            "  adding: images/Sentinel_AllBands_Training_Id_125.tif (deflated 5%)\n",
            "  adding: images/Sentinel_AllBands_Training_Id_124.tif (deflated 5%)\n",
            "  adding: images/Sentinel_AllBands_Training_Id_175.tif (deflated 5%)\n",
            "  adding: images/Sentinel_AllBands_Training_Id_141.tif (deflated 5%)\n",
            "  adding: images/Sentinel_AllBands_Training_Id_145.tif (deflated 4%)\n",
            "  adding: images/Sentinel_AllBands_Training_Id_67.tif (deflated 5%)\n",
            "  adding: images/Sentinel_AllBands_Training_Id_58.tif (deflated 5%)\n",
            "  adding: images/Sentinel_AllBands_Training_Id_149.tif (deflated 5%)\n",
            "  adding: images/Sentinel_AllBands_Training_Id_107.tif (deflated 5%)\n",
            "  adding: images/Sentinel_AllBands_Training_Id_100.tif (deflated 4%)\n",
            "  adding: images/Sentinel_AllBands_Training_Id_77.tif (deflated 5%)\n",
            "  adding: images/Sentinel_AllBands_Training_Id_156.tif (deflated 5%)\n",
            "  adding: images/Sentinel_AllBands_Training_Id_45.tif (deflated 5%)\n",
            "  adding: images/Sentinel_AllBands_Training_Id_73.tif (deflated 5%)\n",
            "  adding: images/Sentinel_AllBands_Training_Id_18.tif (deflated 5%)\n",
            "  adding: images/Sentinel_AllBands_Training_Id_146.tif (deflated 5%)\n",
            "  adding: images/Sentinel_AllBands_Training_Id_88.tif (deflated 5%)\n",
            "  adding: images/Sentinel_AllBands_Training_Id_89.tif (deflated 5%)\n",
            "  adding: images/Sentinel_AllBands_Training_Id_155.tif (deflated 4%)\n",
            "  adding: images/Sentinel_AllBands_Training_Id_55.tif (deflated 4%)\n",
            "  adding: images/Sentinel_AllBands_Training_Id_37.tif (deflated 5%)\n",
            "  adding: images/Sentinel_AllBands_Training_Id_10.tif (deflated 5%)\n",
            "  adding: images/Sentinel_AllBands_Training_Id_1.tif (deflated 5%)\n",
            "  adding: images/Sentinel_AllBands_Training_Id_64.tif (deflated 5%)\n",
            "  adding: images/Sentinel_AllBands_Training_Id_40.tif (deflated 5%)\n",
            "  adding: images/Sentinel_AllBands_Training_Id_75.tif (deflated 5%)\n",
            "  adding: images/Sentinel_AllBands_Training_Id_32.tif (deflated 5%)\n",
            "  adding: images/Sentinel_AllBands_Training_Id_121.tif (deflated 5%)\n",
            "  adding: images/Sentinel_AllBands_Training_Id_161.tif (deflated 5%)\n",
            "  adding: images/Sentinel_AllBands_Training_Id_103.tif (deflated 4%)\n",
            "  adding: images/Sentinel_AllBands_Training_Id_115.tif (deflated 5%)\n",
            "  adding: images/Sentinel_AllBands_Training_Id_30.tif (deflated 4%)\n",
            "  adding: images/Sentinel_AllBands_Training_Id_69.tif (deflated 5%)\n",
            "  adding: images/Sentinel_AllBands_Training_Id_28.tif (deflated 5%)\n",
            "  adding: images/Sentinel_AllBands_Training_Id_132.tif (deflated 5%)\n",
            "  adding: images/Sentinel_AllBands_Training_Id_111.tif (deflated 5%)\n",
            "  adding: images/Sentinel_AllBands_Training_Id_42.tif (deflated 5%)\n",
            "  adding: images/Sentinel_AllBands_Training_Id_131.tif (deflated 5%)\n",
            "  adding: images/Sentinel_AllBands_Training_Id_160.tif (deflated 4%)\n",
            "  adding: images/Sentinel_AllBands_Training_Id_68.tif (deflated 5%)\n",
            "  adding: images/Sentinel_AllBands_Training_Id_130.tif (deflated 5%)\n",
            "  adding: images/Sentinel_AllBands_Training_Id_65.tif (deflated 5%)\n",
            "  adding: images/Sentinel_AllBands_Training_Id_39.tif (deflated 4%)\n",
            "  adding: images/Sentinel_AllBands_Training_Id_154.tif (deflated 5%)\n",
            "  adding: images/Sentinel_AllBands_Training_Id_106.tif (deflated 5%)\n",
            "  adding: images/Sentinel_AllBands_Training_Id_74.tif (deflated 5%)\n",
            "  adding: images/Sentinel_AllBands_Training_Id_21.tif (deflated 5%)\n",
            "  adding: images/Sentinel_AllBands_Training_Id_38.tif (deflated 5%)\n",
            "  adding: images/Sentinel_AllBands_Training_Id_101.tif (deflated 4%)\n",
            "  adding: images/Sentinel_AllBands_Training_Id_152.tif (deflated 4%)\n",
            "  adding: images/Sentinel_AllBands_Training_Id_163.tif (deflated 4%)\n",
            "  adding: images/Sentinel_AllBands_Training_Id_63.tif (deflated 5%)\n",
            "  adding: images/Sentinel_AllBands_Training_Id_76.tif (deflated 5%)\n",
            "  adding: images/Sentinel_AllBands_Training_Id_2.tif (deflated 4%)\n",
            "  adding: images/Sentinel_AllBands_Training_Id_19.tif (deflated 4%)\n",
            "  adding: images/Sentinel_AllBands_Training_Id_169.tif (deflated 4%)\n",
            "  adding: images/Sentinel_AllBands_Training_Id_108.tif (deflated 5%)\n",
            "  adding: images/Sentinel_AllBands_Training_Id_136.tif (deflated 5%)\n",
            "  adding: images/Sentinel_AllBands_Training_Id_123.tif (deflated 4%)\n",
            "  adding: images/Sentinel_AllBands_Training_Id_126.tif (deflated 5%)\n",
            "  adding: images/Sentinel_AllBands_Training_Id_33.tif (deflated 5%)\n",
            "  adding: images/Sentinel_AllBands_Training_Id_11.tif (deflated 5%)\n",
            "  adding: images/Sentinel_AllBands_Training_Id_150.tif (deflated 4%)\n",
            "  adding: images/Sentinel_AllBands_Training_Id_44.tif (deflated 5%)\n",
            "  adding: masks/ (stored 0%)\n",
            "  adding: masks/Mask_Buffer50m_Id_1.tif (deflated 100%)\n",
            "  adding: masks/Mask_Buffer50m_Id_58.tif (deflated 100%)\n",
            "  adding: masks/Mask_Buffer50m_Id_149.tif (deflated 100%)\n",
            "  adding: masks/Mask_Buffer50m_Id_75.tif (deflated 100%)\n",
            "  adding: masks/Mask_Buffer50m_Id_106.tif (deflated 100%)\n",
            "  adding: masks/Mask_Buffer50m_Id_175.tif (deflated 100%)\n",
            "  adding: masks/Mask_Buffer50m_Id_169.tif (deflated 100%)\n",
            "  adding: masks/Mask_Buffer50m_Id_172.tif (deflated 100%)\n",
            "  adding: masks/Mask_Buffer50m_Id_165.tif (deflated 100%)\n",
            "  adding: masks/Mask_Buffer50m_Id_146.tif (deflated 100%)\n",
            "  adding: masks/Mask_Buffer50m_Id_145.tif (deflated 100%)\n",
            "  adding: masks/Mask_Buffer50m_Id_144.tif (deflated 100%)\n",
            "  adding: masks/Mask_Buffer50m_Id_147.tif (deflated 100%)\n",
            "  adding: masks/Mask_Buffer50m_Id_148.tif (deflated 100%)\n",
            "  adding: masks/Mask_Buffer50m_Id_143.tif (deflated 100%)\n",
            "  adding: masks/Mask_Buffer50m_Id_163.tif (deflated 100%)\n",
            "  adding: masks/Mask_Buffer50m_Id_56.tif (deflated 100%)\n",
            "  adding: masks/Mask_Buffer50m_Id_57.tif (deflated 100%)\n",
            "  adding: masks/Mask_Buffer50m_Id_45.tif (deflated 100%)\n",
            "  adding: masks/Mask_Buffer50m_Id_46.tif (deflated 100%)\n",
            "  adding: masks/Mask_Buffer50m_Id_55.tif (deflated 100%)\n",
            "  adding: masks/Mask_Buffer50m_Id_44.tif (deflated 100%)\n",
            "  adding: masks/Mask_Buffer50m_Id_162.tif (deflated 100%)\n",
            "  adding: masks/Mask_Buffer50m_Id_126.tif (deflated 100%)\n",
            "  adding: masks/Mask_Buffer50m_Id_130.tif (deflated 100%)\n",
            "  adding: masks/Mask_Buffer50m_Id_125.tif (deflated 100%)\n",
            "  adding: masks/Mask_Buffer50m_Id_123.tif (deflated 100%)\n",
            "  adding: masks/Mask_Buffer50m_Id_74.tif (deflated 100%)\n",
            "  adding: masks/Mask_Buffer50m_Id_71.tif (deflated 100%)\n",
            "  adding: masks/Mask_Buffer50m_Id_73.tif (deflated 100%)\n",
            "  adding: masks/Mask_Buffer50m_Id_69.tif (deflated 100%)\n",
            "  adding: masks/Mask_Buffer50m_Id_30.tif (deflated 100%)\n",
            "  adding: masks/Mask_Buffer50m_Id_23.tif (deflated 100%)\n",
            "  adding: masks/Mask_Buffer50m_Id_31.tif (deflated 100%)\n",
            "  adding: masks/Mask_Buffer50m_Id_28.tif (deflated 100%)\n",
            "  adding: masks/Mask_Buffer50m_Id_22.tif (deflated 100%)\n",
            "  adding: masks/Mask_Buffer50m_Id_21.tif (deflated 100%)\n",
            "  adding: masks/Mask_Buffer50m_Id_161.tif (deflated 100%)\n",
            "  adding: masks/Mask_Buffer50m_Id_105.tif (deflated 100%)\n",
            "  adding: masks/Mask_Buffer50m_Id_101.tif (deflated 100%)\n",
            "  adding: masks/Mask_Buffer50m_Id_102.tif (deflated 100%)\n",
            "  adding: masks/Mask_Buffer50m_Id_103.tif (deflated 100%)\n",
            "  adding: masks/Mask_Buffer50m_Id_100.tif (deflated 100%)\n",
            "  adding: masks/Mask_Buffer50m_Id_67.tif (deflated 100%)\n",
            "  adding: masks/Mask_Buffer50m_Id_68.tif (deflated 100%)\n",
            "  adding: masks/Mask_Buffer50m_Id_124.tif (deflated 100%)\n",
            "  adding: masks/Mask_Buffer50m_Id_141.tif (deflated 100%)\n",
            "  adding: masks/Mask_Buffer50m_Id_160.tif (deflated 100%)\n",
            "  adding: masks/Mask_Buffer50m_Id_152.tif (deflated 100%)\n",
            "  adding: masks/Mask_Buffer50m_Id_155.tif (deflated 100%)\n",
            "  adding: masks/Mask_Buffer50m_Id_154.tif (deflated 100%)\n",
            "  adding: masks/Mask_Buffer50m_Id_150.tif (deflated 100%)\n",
            "  adding: masks/Mask_Buffer50m_Id_156.tif (deflated 100%)\n",
            "  adding: masks/Mask_Buffer50m_Id_151.tif (deflated 100%)\n",
            "  adding: masks/Mask_Buffer50m_Id_42.tif (deflated 100%)\n",
            "  adding: masks/Mask_Buffer50m_Id_99.tif (deflated 100%)\n",
            "  adding: masks/Mask_Buffer50m_Id_121.tif (deflated 100%)\n",
            "  adding: masks/Mask_Buffer50m_Id_38.tif (deflated 100%)\n",
            "  adding: masks/Mask_Buffer50m_Id_33.tif (deflated 100%)\n",
            "  adding: masks/Mask_Buffer50m_Id_37.tif (deflated 100%)\n",
            "  adding: masks/Mask_Buffer50m_Id_36.tif (deflated 100%)\n",
            "  adding: masks/Mask_Buffer50m_Id_39.tif (deflated 100%)\n",
            "  adding: masks/Mask_Buffer50m_Id_40.tif (deflated 100%)\n",
            "  adding: masks/Mask_Buffer50m_Id_41.tif (deflated 100%)\n",
            "  adding: masks/Mask_Buffer50m_Id_135.tif (deflated 100%)\n",
            "  adding: masks/Mask_Buffer50m_Id_139.tif (deflated 100%)\n",
            "  adding: masks/Mask_Buffer50m_Id_136.tif (deflated 100%)\n",
            "  adding: masks/Mask_Buffer50m_Id_132.tif (deflated 100%)\n",
            "  adding: masks/Mask_Buffer50m_Id_137.tif (deflated 100%)\n",
            "  adding: masks/Mask_Buffer50m_Id_138.tif (deflated 100%)\n",
            "  adding: masks/Mask_Buffer50m_Id_140.tif (deflated 100%)\n",
            "  adding: masks/Mask_Buffer50m_Id_66.tif (deflated 100%)\n",
            "  adding: masks/Mask_Buffer50m_Id_61.tif (deflated 100%)\n",
            "  adding: masks/Mask_Buffer50m_Id_63.tif (deflated 100%)\n",
            "  adding: masks/Mask_Buffer50m_Id_59.tif (deflated 100%)\n",
            "  adding: masks/Mask_Buffer50m_Id_60.tif (deflated 100%)\n",
            "  adding: masks/Mask_Buffer50m_Id_62.tif (deflated 100%)\n",
            "  adding: masks/Mask_Buffer50m_Id_120.tif (deflated 100%)\n",
            "  adding: masks/Mask_Buffer50m_Id_115.tif (deflated 100%)\n",
            "  adding: masks/Mask_Buffer50m_Id_114.tif (deflated 100%)\n",
            "  adding: masks/Mask_Buffer50m_Id_108.tif (deflated 100%)\n",
            "  adding: masks/Mask_Buffer50m_Id_110.tif (deflated 100%)\n",
            "  adding: masks/Mask_Buffer50m_Id_107.tif (deflated 100%)\n",
            "  adding: masks/Mask_Buffer50m_Id_111.tif (deflated 100%)\n",
            "  adding: masks/Mask_Buffer50m_Id_98.tif (deflated 100%)\n",
            "  adding: masks/Mask_Buffer50m_Id_88.tif (deflated 100%)\n",
            "  adding: masks/Mask_Buffer50m_Id_76.tif (deflated 100%)\n",
            "  adding: masks/Mask_Buffer50m_Id_77.tif (deflated 100%)\n",
            "  adding: masks/Mask_Buffer50m_Id_78.tif (deflated 100%)\n",
            "  adding: masks/Mask_Buffer50m_Id_85.tif (deflated 100%)\n",
            "  adding: masks/Mask_Buffer50m_Id_79.tif (deflated 100%)\n",
            "  adding: masks/Mask_Buffer50m_Id_20.tif (deflated 100%)\n",
            "  adding: masks/Mask_Buffer50m_Id_11.tif (deflated 100%)\n",
            "  adding: masks/Mask_Buffer50m_Id_2.tif (deflated 100%)\n",
            "  adding: masks/Mask_Buffer50m_Id_17.tif (deflated 100%)\n",
            "  adding: masks/Mask_Buffer50m_Id_9.tif (deflated 100%)\n",
            "  adding: masks/Mask_Buffer50m_Id_18.tif (deflated 100%)\n",
            "  adding: masks/Mask_Buffer50m_Id_10.tif (deflated 100%)\n",
            "  adding: masks/Mask_Buffer50m_Id_19.tif (deflated 100%)\n",
            "  adding: masks/Mask_Buffer50m_Id_118.tif (deflated 100%)\n",
            "  adding: masks/Mask_Buffer50m_Id_89.tif (deflated 100%)\n",
            "  adding: masks/Mask_Buffer50m_Id_131.tif (deflated 100%)\n",
            "  adding: masks/Mask_Buffer50m_Id_157.tif (deflated 100%)\n",
            "  adding: masks/Mask_Buffer50m_Id_64.tif (deflated 100%)\n",
            "  adding: masks/Mask_Buffer50m_Id_65.tif (deflated 100%)\n",
            "  adding: masks/Mask_Buffer50m_Id_176.tif (deflated 100%)\n",
            "  adding: masks/Mask_Buffer50m_Id_179.tif (deflated 100%)\n",
            "  adding: masks/Mask_Buffer50m_Id_182.tif (deflated 100%)\n",
            "  adding: masks/Mask_Buffer50m_Id_32.tif (deflated 100%)\n",
            "Archive:  /content/images.zip\n",
            "   creating: /content/images/\n",
            "  inflating: /content/images/Sentinel_AllBands_Training_Id_20.tif  \n",
            "  inflating: /content/images/Sentinel_AllBands_Training_Id_59.tif  \n",
            "  inflating: /content/images/Sentinel_AllBands_Training_Id_61.tif  \n",
            "  inflating: /content/images/Sentinel_AllBands_Training_Id_78.tif  \n",
            "  inflating: /content/images/Sentinel_AllBands_Training_Id_79.tif  \n",
            "  inflating: /content/images/Sentinel_AllBands_Training_Id_105.tif  \n",
            "  inflating: /content/images/Sentinel_AllBands_Training_Id_120.tif  \n",
            "  inflating: /content/images/Sentinel_AllBands_Training_Id_135.tif  \n",
            "  inflating: /content/images/Sentinel_AllBands_Training_Id_139.tif  \n",
            "  inflating: /content/images/Sentinel_AllBands_Training_Id_138.tif  \n",
            "  inflating: /content/images/Sentinel_AllBands_Training_Id_66.tif  \n",
            "  inflating: /content/images/Sentinel_AllBands_Training_Id_176.tif  \n",
            "  inflating: /content/images/Sentinel_AllBands_Training_Id_157.tif  \n",
            "  inflating: /content/images/Sentinel_AllBands_Training_Id_182.tif  \n",
            "  inflating: /content/images/Sentinel_AllBands_Training_Id_148.tif  \n",
            "  inflating: /content/images/Sentinel_AllBands_Training_Id_36.tif  \n",
            "  inflating: /content/images/Sentinel_AllBands_Training_Id_143.tif  \n",
            "  inflating: /content/images/Sentinel_AllBands_Training_Id_137.tif  \n",
            "  inflating: /content/images/Sentinel_AllBands_Training_Id_17.tif  \n",
            "  inflating: /content/images/Sentinel_AllBands_Training_Id_114.tif  \n",
            "  inflating: /content/images/Sentinel_AllBands_Training_Id_62.tif  \n",
            "  inflating: /content/images/Sentinel_AllBands_Training_Id_147.tif  \n",
            "  inflating: /content/images/Sentinel_AllBands_Training_Id_23.tif  \n",
            "  inflating: /content/images/Sentinel_AllBands_Training_Id_71.tif  \n",
            "  inflating: /content/images/Sentinel_AllBands_Training_Id_151.tif  \n",
            "  inflating: /content/images/Sentinel_AllBands_Training_Id_9.tif  \n",
            "  inflating: /content/images/Sentinel_AllBands_Training_Id_140.tif  \n",
            "  inflating: /content/images/Sentinel_AllBands_Training_Id_57.tif  \n",
            "  inflating: /content/images/Sentinel_AllBands_Training_Id_99.tif  \n",
            "  inflating: /content/images/Sentinel_AllBands_Training_Id_22.tif  \n",
            "  inflating: /content/images/Sentinel_AllBands_Training_Id_98.tif  \n",
            "  inflating: /content/images/Sentinel_AllBands_Training_Id_110.tif  \n",
            "  inflating: /content/images/Sentinel_AllBands_Training_Id_172.tif  \n",
            "  inflating: /content/images/Sentinel_AllBands_Training_Id_41.tif  \n",
            "  inflating: /content/images/Sentinel_AllBands_Training_Id_56.tif  \n",
            "  inflating: /content/images/Sentinel_AllBands_Training_Id_179.tif  \n",
            "  inflating: /content/images/Sentinel_AllBands_Training_Id_31.tif  \n",
            "  inflating: /content/images/Sentinel_AllBands_Training_Id_60.tif  \n",
            "  inflating: /content/images/Sentinel_AllBands_Training_Id_102.tif  \n",
            "  inflating: /content/images/Sentinel_AllBands_Training_Id_162.tif  \n",
            "  inflating: /content/images/Sentinel_AllBands_Training_Id_85.tif  \n",
            "  inflating: /content/images/Sentinel_AllBands_Training_Id_165.tif  \n",
            "  inflating: /content/images/Sentinel_AllBands_Training_Id_46.tif  \n",
            "  inflating: /content/images/Sentinel_AllBands_Training_Id_144.tif  \n",
            "  inflating: /content/images/Sentinel_AllBands_Training_Id_118.tif  \n",
            "  inflating: /content/images/Sentinel_AllBands_Training_Id_125.tif  \n",
            "  inflating: /content/images/Sentinel_AllBands_Training_Id_124.tif  \n",
            "  inflating: /content/images/Sentinel_AllBands_Training_Id_175.tif  \n",
            "  inflating: /content/images/Sentinel_AllBands_Training_Id_141.tif  \n",
            "  inflating: /content/images/Sentinel_AllBands_Training_Id_145.tif  \n",
            "  inflating: /content/images/Sentinel_AllBands_Training_Id_67.tif  \n",
            "  inflating: /content/images/Sentinel_AllBands_Training_Id_58.tif  \n",
            "  inflating: /content/images/Sentinel_AllBands_Training_Id_149.tif  \n",
            "  inflating: /content/images/Sentinel_AllBands_Training_Id_107.tif  \n",
            "  inflating: /content/images/Sentinel_AllBands_Training_Id_100.tif  \n",
            "  inflating: /content/images/Sentinel_AllBands_Training_Id_77.tif  \n",
            "  inflating: /content/images/Sentinel_AllBands_Training_Id_156.tif  \n",
            "  inflating: /content/images/Sentinel_AllBands_Training_Id_45.tif  \n",
            "  inflating: /content/images/Sentinel_AllBands_Training_Id_73.tif  \n",
            "  inflating: /content/images/Sentinel_AllBands_Training_Id_18.tif  \n",
            "  inflating: /content/images/Sentinel_AllBands_Training_Id_146.tif  \n",
            "  inflating: /content/images/Sentinel_AllBands_Training_Id_88.tif  \n",
            "  inflating: /content/images/Sentinel_AllBands_Training_Id_89.tif  \n",
            "  inflating: /content/images/Sentinel_AllBands_Training_Id_155.tif  \n",
            "  inflating: /content/images/Sentinel_AllBands_Training_Id_55.tif  \n",
            "  inflating: /content/images/Sentinel_AllBands_Training_Id_37.tif  \n",
            "  inflating: /content/images/Sentinel_AllBands_Training_Id_10.tif  \n",
            "  inflating: /content/images/Sentinel_AllBands_Training_Id_1.tif  \n",
            "  inflating: /content/images/Sentinel_AllBands_Training_Id_64.tif  \n",
            "  inflating: /content/images/Sentinel_AllBands_Training_Id_40.tif  \n",
            "  inflating: /content/images/Sentinel_AllBands_Training_Id_75.tif  \n",
            "  inflating: /content/images/Sentinel_AllBands_Training_Id_32.tif  \n",
            "  inflating: /content/images/Sentinel_AllBands_Training_Id_121.tif  \n",
            "  inflating: /content/images/Sentinel_AllBands_Training_Id_161.tif  \n",
            "  inflating: /content/images/Sentinel_AllBands_Training_Id_103.tif  \n",
            "  inflating: /content/images/Sentinel_AllBands_Training_Id_115.tif  \n",
            "  inflating: /content/images/Sentinel_AllBands_Training_Id_30.tif  \n",
            "  inflating: /content/images/Sentinel_AllBands_Training_Id_69.tif  \n",
            "  inflating: /content/images/Sentinel_AllBands_Training_Id_28.tif  \n",
            "  inflating: /content/images/Sentinel_AllBands_Training_Id_132.tif  \n",
            "  inflating: /content/images/Sentinel_AllBands_Training_Id_111.tif  \n",
            "  inflating: /content/images/Sentinel_AllBands_Training_Id_42.tif  \n",
            "  inflating: /content/images/Sentinel_AllBands_Training_Id_131.tif  \n",
            "  inflating: /content/images/Sentinel_AllBands_Training_Id_160.tif  \n",
            "  inflating: /content/images/Sentinel_AllBands_Training_Id_68.tif  \n",
            "  inflating: /content/images/Sentinel_AllBands_Training_Id_130.tif  \n",
            "  inflating: /content/images/Sentinel_AllBands_Training_Id_65.tif  \n",
            "  inflating: /content/images/Sentinel_AllBands_Training_Id_39.tif  \n",
            "  inflating: /content/images/Sentinel_AllBands_Training_Id_154.tif  \n",
            "  inflating: /content/images/Sentinel_AllBands_Training_Id_106.tif  \n",
            "  inflating: /content/images/Sentinel_AllBands_Training_Id_74.tif  \n",
            "  inflating: /content/images/Sentinel_AllBands_Training_Id_21.tif  \n",
            "  inflating: /content/images/Sentinel_AllBands_Training_Id_38.tif  \n",
            "  inflating: /content/images/Sentinel_AllBands_Training_Id_101.tif  \n",
            "  inflating: /content/images/Sentinel_AllBands_Training_Id_152.tif  \n",
            "  inflating: /content/images/Sentinel_AllBands_Training_Id_163.tif  \n",
            "  inflating: /content/images/Sentinel_AllBands_Training_Id_63.tif  \n",
            "  inflating: /content/images/Sentinel_AllBands_Training_Id_76.tif  \n",
            "  inflating: /content/images/Sentinel_AllBands_Training_Id_2.tif  \n",
            "  inflating: /content/images/Sentinel_AllBands_Training_Id_19.tif  \n",
            "  inflating: /content/images/Sentinel_AllBands_Training_Id_169.tif  \n",
            "  inflating: /content/images/Sentinel_AllBands_Training_Id_108.tif  \n",
            "  inflating: /content/images/Sentinel_AllBands_Training_Id_136.tif  \n",
            "  inflating: /content/images/Sentinel_AllBands_Training_Id_123.tif  \n",
            "  inflating: /content/images/Sentinel_AllBands_Training_Id_126.tif  \n",
            "  inflating: /content/images/Sentinel_AllBands_Training_Id_33.tif  \n",
            "  inflating: /content/images/Sentinel_AllBands_Training_Id_11.tif  \n",
            "  inflating: /content/images/Sentinel_AllBands_Training_Id_150.tif  \n",
            "  inflating: /content/images/Sentinel_AllBands_Training_Id_44.tif  \n",
            "Archive:  /content/masks.zip\n",
            "   creating: /content/masks/\n",
            "  inflating: /content/masks/Mask_Buffer50m_Id_1.tif  \n",
            "  inflating: /content/masks/Mask_Buffer50m_Id_58.tif  \n",
            "  inflating: /content/masks/Mask_Buffer50m_Id_149.tif  \n",
            "  inflating: /content/masks/Mask_Buffer50m_Id_75.tif  \n",
            "  inflating: /content/masks/Mask_Buffer50m_Id_106.tif  \n",
            "  inflating: /content/masks/Mask_Buffer50m_Id_175.tif  \n",
            "  inflating: /content/masks/Mask_Buffer50m_Id_169.tif  \n",
            "  inflating: /content/masks/Mask_Buffer50m_Id_172.tif  \n",
            "  inflating: /content/masks/Mask_Buffer50m_Id_165.tif  \n",
            "  inflating: /content/masks/Mask_Buffer50m_Id_146.tif  \n",
            "  inflating: /content/masks/Mask_Buffer50m_Id_145.tif  \n",
            "  inflating: /content/masks/Mask_Buffer50m_Id_144.tif  \n",
            "  inflating: /content/masks/Mask_Buffer50m_Id_147.tif  \n",
            "  inflating: /content/masks/Mask_Buffer50m_Id_148.tif  \n",
            "  inflating: /content/masks/Mask_Buffer50m_Id_143.tif  \n",
            "  inflating: /content/masks/Mask_Buffer50m_Id_163.tif  \n",
            "  inflating: /content/masks/Mask_Buffer50m_Id_56.tif  \n",
            "  inflating: /content/masks/Mask_Buffer50m_Id_57.tif  \n",
            "  inflating: /content/masks/Mask_Buffer50m_Id_45.tif  \n",
            "  inflating: /content/masks/Mask_Buffer50m_Id_46.tif  \n",
            "  inflating: /content/masks/Mask_Buffer50m_Id_55.tif  \n",
            "  inflating: /content/masks/Mask_Buffer50m_Id_44.tif  \n",
            "  inflating: /content/masks/Mask_Buffer50m_Id_162.tif  \n",
            "  inflating: /content/masks/Mask_Buffer50m_Id_126.tif  \n",
            "  inflating: /content/masks/Mask_Buffer50m_Id_130.tif  \n",
            "  inflating: /content/masks/Mask_Buffer50m_Id_125.tif  \n",
            "  inflating: /content/masks/Mask_Buffer50m_Id_123.tif  \n",
            "  inflating: /content/masks/Mask_Buffer50m_Id_74.tif  \n",
            "  inflating: /content/masks/Mask_Buffer50m_Id_71.tif  \n",
            "  inflating: /content/masks/Mask_Buffer50m_Id_73.tif  \n",
            "  inflating: /content/masks/Mask_Buffer50m_Id_69.tif  \n",
            "  inflating: /content/masks/Mask_Buffer50m_Id_30.tif  \n",
            "  inflating: /content/masks/Mask_Buffer50m_Id_23.tif  \n",
            "  inflating: /content/masks/Mask_Buffer50m_Id_31.tif  \n",
            "  inflating: /content/masks/Mask_Buffer50m_Id_28.tif  \n",
            "  inflating: /content/masks/Mask_Buffer50m_Id_22.tif  \n",
            "  inflating: /content/masks/Mask_Buffer50m_Id_21.tif  \n",
            "  inflating: /content/masks/Mask_Buffer50m_Id_161.tif  \n",
            "  inflating: /content/masks/Mask_Buffer50m_Id_105.tif  \n",
            "  inflating: /content/masks/Mask_Buffer50m_Id_101.tif  \n",
            "  inflating: /content/masks/Mask_Buffer50m_Id_102.tif  \n",
            "  inflating: /content/masks/Mask_Buffer50m_Id_103.tif  \n",
            "  inflating: /content/masks/Mask_Buffer50m_Id_100.tif  \n",
            "  inflating: /content/masks/Mask_Buffer50m_Id_67.tif  \n",
            "  inflating: /content/masks/Mask_Buffer50m_Id_68.tif  \n",
            "  inflating: /content/masks/Mask_Buffer50m_Id_124.tif  \n",
            "  inflating: /content/masks/Mask_Buffer50m_Id_141.tif  \n",
            "  inflating: /content/masks/Mask_Buffer50m_Id_160.tif  \n",
            "  inflating: /content/masks/Mask_Buffer50m_Id_152.tif  \n",
            "  inflating: /content/masks/Mask_Buffer50m_Id_155.tif  \n",
            "  inflating: /content/masks/Mask_Buffer50m_Id_154.tif  \n",
            "  inflating: /content/masks/Mask_Buffer50m_Id_150.tif  \n",
            "  inflating: /content/masks/Mask_Buffer50m_Id_156.tif  \n",
            "  inflating: /content/masks/Mask_Buffer50m_Id_151.tif  \n",
            "  inflating: /content/masks/Mask_Buffer50m_Id_42.tif  \n",
            "  inflating: /content/masks/Mask_Buffer50m_Id_99.tif  \n",
            "  inflating: /content/masks/Mask_Buffer50m_Id_121.tif  \n",
            "  inflating: /content/masks/Mask_Buffer50m_Id_38.tif  \n",
            "  inflating: /content/masks/Mask_Buffer50m_Id_33.tif  \n",
            "  inflating: /content/masks/Mask_Buffer50m_Id_37.tif  \n",
            "  inflating: /content/masks/Mask_Buffer50m_Id_36.tif  \n",
            "  inflating: /content/masks/Mask_Buffer50m_Id_39.tif  \n",
            "  inflating: /content/masks/Mask_Buffer50m_Id_40.tif  \n",
            "  inflating: /content/masks/Mask_Buffer50m_Id_41.tif  \n",
            "  inflating: /content/masks/Mask_Buffer50m_Id_135.tif  \n",
            "  inflating: /content/masks/Mask_Buffer50m_Id_139.tif  \n",
            "  inflating: /content/masks/Mask_Buffer50m_Id_136.tif  \n",
            "  inflating: /content/masks/Mask_Buffer50m_Id_132.tif  \n",
            "  inflating: /content/masks/Mask_Buffer50m_Id_137.tif  \n",
            "  inflating: /content/masks/Mask_Buffer50m_Id_138.tif  \n",
            "  inflating: /content/masks/Mask_Buffer50m_Id_140.tif  \n",
            "  inflating: /content/masks/Mask_Buffer50m_Id_66.tif  \n",
            "  inflating: /content/masks/Mask_Buffer50m_Id_61.tif  \n",
            "  inflating: /content/masks/Mask_Buffer50m_Id_63.tif  \n",
            "  inflating: /content/masks/Mask_Buffer50m_Id_59.tif  \n",
            "  inflating: /content/masks/Mask_Buffer50m_Id_60.tif  \n",
            "  inflating: /content/masks/Mask_Buffer50m_Id_62.tif  \n",
            "  inflating: /content/masks/Mask_Buffer50m_Id_120.tif  \n",
            "  inflating: /content/masks/Mask_Buffer50m_Id_115.tif  \n",
            "  inflating: /content/masks/Mask_Buffer50m_Id_114.tif  \n",
            "  inflating: /content/masks/Mask_Buffer50m_Id_108.tif  \n",
            "  inflating: /content/masks/Mask_Buffer50m_Id_110.tif  \n",
            "  inflating: /content/masks/Mask_Buffer50m_Id_107.tif  \n",
            "  inflating: /content/masks/Mask_Buffer50m_Id_111.tif  \n",
            "  inflating: /content/masks/Mask_Buffer50m_Id_98.tif  \n",
            "  inflating: /content/masks/Mask_Buffer50m_Id_88.tif  \n",
            "  inflating: /content/masks/Mask_Buffer50m_Id_76.tif  \n",
            "  inflating: /content/masks/Mask_Buffer50m_Id_77.tif  \n",
            "  inflating: /content/masks/Mask_Buffer50m_Id_78.tif  \n",
            "  inflating: /content/masks/Mask_Buffer50m_Id_85.tif  \n",
            "  inflating: /content/masks/Mask_Buffer50m_Id_79.tif  \n",
            "  inflating: /content/masks/Mask_Buffer50m_Id_20.tif  \n",
            "  inflating: /content/masks/Mask_Buffer50m_Id_11.tif  \n",
            "  inflating: /content/masks/Mask_Buffer50m_Id_2.tif  \n",
            "  inflating: /content/masks/Mask_Buffer50m_Id_17.tif  \n",
            "  inflating: /content/masks/Mask_Buffer50m_Id_9.tif  \n",
            "  inflating: /content/masks/Mask_Buffer50m_Id_18.tif  \n",
            "  inflating: /content/masks/Mask_Buffer50m_Id_10.tif  \n",
            "  inflating: /content/masks/Mask_Buffer50m_Id_19.tif  \n",
            "  inflating: /content/masks/Mask_Buffer50m_Id_118.tif  \n",
            "  inflating: /content/masks/Mask_Buffer50m_Id_89.tif  \n",
            "  inflating: /content/masks/Mask_Buffer50m_Id_131.tif  \n",
            "  inflating: /content/masks/Mask_Buffer50m_Id_157.tif  \n",
            "  inflating: /content/masks/Mask_Buffer50m_Id_64.tif  \n",
            "  inflating: /content/masks/Mask_Buffer50m_Id_65.tif  \n",
            "  inflating: /content/masks/Mask_Buffer50m_Id_176.tif  \n",
            "  inflating: /content/masks/Mask_Buffer50m_Id_179.tif  \n",
            "  inflating: /content/masks/Mask_Buffer50m_Id_182.tif  \n",
            "  inflating: /content/masks/Mask_Buffer50m_Id_32.tif  \n"
          ]
        }
      ]
    },
    {
      "cell_type": "markdown",
      "source": [
        "# Custom classes and functions to handle Sentinel 1/2 data and corresponding masks"
      ],
      "metadata": {
        "id": "j99ho52LmkCJ"
      }
    },
    {
      "cell_type": "code",
      "source": [
        "# Custom Dataset class for Sentinel 1/2 bands and mask\n",
        "class Sentinel2Dataset(Dataset):\n",
        "    def __init__(self, image_paths, mask_paths, transform=None):\n",
        "        self.image_paths = image_paths\n",
        "        self.mask_paths = mask_paths\n",
        "        self.transform = transform\n",
        "\n",
        "    def __len__(self):\n",
        "        return len(self.image_paths)\n",
        "\n",
        "    def __getitem__(self, idx):\n",
        "        # Load image and mask using rasterio\n",
        "        image_path = self.image_paths[idx]\n",
        "        mask_path = self.mask_paths[idx]\n",
        "\n",
        "        with rasterio.open(image_path) as src:\n",
        "            # Extract band indexes from descriptions and read directly\n",
        "            bands = {'B4': None, 'B3': None, 'B2': None}\n",
        "            for i, desc in enumerate(src.descriptions):\n",
        "                if desc in bands:\n",
        "                    bands[desc] = src.read(i + 1)  # Read 1-based bands\n",
        "\n",
        "            # Check if all required bands were found\n",
        "            if any(value is None for value in bands.values()):\n",
        "                raise ValueError(f\"Not all bands found in image: {image_path}\")\n",
        "\n",
        "            # Stack the selected bands to form the final image array\n",
        "            #image = np.stack([bands['B4'], bands['B3'], bands['B2']], axis=-1)\n",
        "            image = np.stack([np.clip(bands['B4'],0,2000)/2000,\n",
        "                              np.clip(bands['B3'],0,2000)/2000,\n",
        "                              np.clip(bands['B2'],0,2000)/2000], axis=-1)\n",
        "\n",
        "        with rasterio.open(mask_path) as mask_src:\n",
        "            mask = mask_src.read(1)\n",
        "\n",
        "        # Ensure both image and mask are numpy arrays before applying transforms\n",
        "        image = np.array(image)\n",
        "        mask = np.array(mask)\n",
        "\n",
        "        # Convert image and mask to PyTorch tensors\n",
        "        #image = torch.from_numpy(image).type(torch.float32)  # Assuming image is a NumPy array\n",
        "        #mask = torch.from_numpy(mask).type(torch.float32)   # Assuming mask is a NumPy array\n",
        "\n",
        "        # Continue with your transformations and other logic:\n",
        "        if self.transform:\n",
        "            augmented = self.transform(image=image, mask=mask)\n",
        "            image = augmented['image']\n",
        "            mask = augmented['mask']\n",
        "\n",
        "        # Only convert to PyTorch tensors if not already tensors (skip if the transform does it)\n",
        "        if not isinstance(image, torch.Tensor):\n",
        "            image = torch.from_numpy(image).permute(2, 0, 1).float()  # Channels first\n",
        "        if not isinstance(mask, torch.Tensor):\n",
        "            mask = torch.from_numpy(mask).long()\n",
        "\n",
        "        return image, mask\n"
      ],
      "metadata": {
        "id": "P1Gpd0xNmuVN"
      },
      "execution_count": 122,
      "outputs": []
    },
    {
      "cell_type": "code",
      "source": [
        "# Augmentations using albumentations and PyTorch's ToTensor\n",
        "def get_augmentations(option='train'):\n",
        "    if option == 'train':\n",
        "        return A.Compose([\n",
        "            A.RandomCrop(width=224, height=224),\n",
        "            A.HorizontalFlip(p=0.5),\n",
        "            A.VerticalFlip(p=0.5),\n",
        "            A.RandomRotate90(p=0.5),\n",
        "            A.Normalize(mean=(0.485, 0.456, 0.406), std=(0.229, 0.224, 0.225)),\n",
        "            #A.Resize(width=224, height=224),\n",
        "            ToTensorV2(),\n",
        "        ], additional_targets={'mask': 'mask'})\n",
        "    elif option == 'val':\n",
        "        return A.Compose([\n",
        "            A.RandomCrop(height=224, width=224),  # Resize for validation\n",
        "            A.Normalize(mean=(0.485, 0.456, 0.406), std=(0.229, 0.224, 0.225)),\n",
        "            ToTensorV2(),\n",
        "        ], additional_targets={'mask': 'mask'})\n",
        "    elif option == 'test':\n",
        "        return A.Compose([\n",
        "            A.RandomCrop(height=224, width=224),  # Resize for testing\n",
        "            A.Normalize(mean=(0.485, 0.456, 0.406), std=(0.229, 0.224, 0.225)),\n",
        "            ToTensorV2(),\n",
        "        ], additional_targets={'mask': 'mask'})\n",
        "    else:\n",
        "        raise ValueError(\"Invalid option. Choose from 'train', 'val', or 'test'.\")"
      ],
      "metadata": {
        "id": "z5SLf_idpKOI"
      },
      "execution_count": 181,
      "outputs": []
    },
    {
      "cell_type": "code",
      "source": [
        "# UNet model with ResNet50 encoder\n",
        "def get_model():\n",
        "    model = smp.Unet(\n",
        "        encoder_name='resnet50',        # Choose encoder, ResNet50 in this case\n",
        "        encoder_weights='imagenet',     # Use pre-trained weights\n",
        "        in_channels=3,                  # RGB, modify later for more channels\n",
        "        classes=1,                      # Binary segmentation\n",
        "    )\n",
        "    return model"
      ],
      "metadata": {
        "id": "6cKtflytpvYD"
      },
      "execution_count": 124,
      "outputs": []
    },
    {
      "cell_type": "code",
      "source": [
        "# Training loop\n",
        "def train_model(model, dataloader, criterion, optimizer, device):\n",
        "    model.train()\n",
        "\n",
        "    running_loss = 0.0\n",
        "    running_total_correct = 0.0\n",
        "\n",
        "    for images, masks in enumerate(tqdm(dataloader)):\n",
        "        images = images.to(device)\n",
        "        # Change data type of masks to float32 before moving to device\n",
        "        masks = masks.type(torch.float32).to(device).unsqueeze(1)  # Add channel dimension to masks\n",
        "\n",
        "        images = images.float()\n",
        "\n",
        "\n",
        "        # Forward pass\n",
        "        outputs = model(images)\n",
        "        loss = criterion(outputs, masks)\n",
        "\n",
        "        # Backward pass\n",
        "        optimizer.zero_grad()\n",
        "        loss.backward()\n",
        "        optimizer.step()\n",
        "\n",
        "        #print(f\"Loss: {loss.item()}\")\n",
        "\n",
        "        # Calculate statistics\n",
        "        _, preds = torch.max(outputs, 1)\n",
        "\n",
        "        # Calculate running loss and accuracy\n",
        "        running_loss += loss.item() * images.size(0)\n",
        "        running_total_correct += torch.sum(preds == masks)\n",
        "\n",
        "        # Calculate epoch loss and accuracy\n",
        "        epoch_loss = running_loss / len(dataloader.dataset)\n",
        "        epoch_accuracy = (running_total_correct / len(dataloader.dataset)) * 100\n",
        "        print(f\"Train Loss: {epoch_loss:.2f}; Accuracy: {epoch_accuracy:.2f}\")\n",
        "\n",
        "    return epoch_loss, epoch_accuracy"
      ],
      "metadata": {
        "id": "1GHRuS8-pz78"
      },
      "execution_count": 160,
      "outputs": []
    },
    {
      "cell_type": "code",
      "source": [
        "def evaluate(model, dataloader, criterion, device, phase=\"val\" ):\n",
        "  model.eval()\n",
        "\n",
        "  running_loss = 0.0\n",
        "  running_total_correct = 0.0\n",
        "\n",
        "  for i, (images, masks) in enumerate(tqdm(dataloader)):\n",
        "    images = images.to(device)\n",
        "    masks = masks.to(device)\n",
        "\n",
        "    # Add channel dimension to the target masks\n",
        "    masks = masks.type(torch.float32)\n",
        "    masks = masks.unsqueeze(1)\n",
        "\n",
        "\n",
        "    with torch.set_grad_enabled(False):\n",
        "      outputs = model(images)\n",
        "      loss = criterion(outputs, masks)\n",
        "      _, preds = torch.max(outputs, 1)\n",
        "\n",
        "    running_loss += loss.item() * images.size(0)\n",
        "    running_total_correct += torch.sum(preds == masks)\n",
        "\n",
        "  # Calculate epoch loss and accuracy\n",
        "  epoch_loss = running_loss / len(dataloader.dataset)\n",
        "  epoch_accuracy = (running_total_correct / len(dataloader.dataset)) * 100\n",
        "  print(f\"{phase.title()} Loss: {epoch_loss:.2f}; Accuracy: {epoch_accuracy:.2f}\")\n",
        "\n",
        "  return epoch_loss, epoch_accuracy"
      ],
      "metadata": {
        "id": "CE3T19fdrKIw"
      },
      "execution_count": 169,
      "outputs": []
    },
    {
      "cell_type": "code",
      "source": [
        "def fit(model, train_loader, val_loader, n_epochs, lr, criterion, optimizer, device):\n",
        "  # Keep track of the best loss and\n",
        "  # best model weights with the lowest loss\n",
        "\n",
        "  best_loss = np.inf # Initialize with a very high value\n",
        "  best_model = model.state_dict() # Initialize with the initial model state\n",
        "\n",
        "  # Train and test over n_epochs\n",
        "  for epoch in range(n_epochs):\n",
        "    print(\"Epoch {}\".format(epoch+1))\n",
        "    train_model(model, train_loader, criterion, optimizer, device)\n",
        "    val_loss, _ = evaluate(model, val_loader, criterion, device)\n",
        "\n",
        "    if val_loss < best_loss:\n",
        "      best_loss = val_loss\n",
        "      best_model = model.state_dict()\n",
        "\n",
        "  # Load the best model state\n",
        "  model.load_state_dict(best_model)\n",
        "\n",
        "\n",
        "  return model"
      ],
      "metadata": {
        "id": "wRqL9KVgrywK"
      },
      "execution_count": 180,
      "outputs": []
    },
    {
      "cell_type": "markdown",
      "source": [
        "# Google Colab GPU\n",
        "Check that the GPU enabled in your colab notebook by running the cell below."
      ],
      "metadata": {
        "id": "wetH6xysyWYu"
      }
    },
    {
      "cell_type": "code",
      "source": [
        "# Check is GPU is enabled\n",
        "device = torch.device(\"cuda:0\" if torch.cuda.is_available() else \"cpu\")\n",
        "print(\"Device: {}\".format(device))\n",
        "\n",
        "# Get specific GPU model\n",
        "if str(device) == \"cuda:0\":\n",
        "  print(\"GPU: {}\".format(torch.cuda.get_device_name(0)))"
      ],
      "metadata": {
        "colab": {
          "base_uri": "https://localhost:8080/"
        },
        "id": "GBGwqqvDw2ej",
        "outputId": "ab4c0d78-7b93-4adc-d224-809d8d52795a"
      },
      "execution_count": 126,
      "outputs": [
        {
          "output_type": "stream",
          "name": "stdout",
          "text": [
            "Device: cpu\n"
          ]
        }
      ]
    },
    {
      "cell_type": "markdown",
      "source": [
        "# Main loop"
      ],
      "metadata": {
        "id": "8K-GU8jnyqtT"
      }
    },
    {
      "cell_type": "code",
      "source": [
        "image_dir = '/content/images'\n",
        "mask_dir = '/content/masks'\n",
        "\n",
        "# List image and mask file paths\n",
        "image_paths = [os.path.join(image_dir, img) for img in sorted(os.listdir(image_dir)) if img.endswith('.tif')]\n",
        "mask_paths = [os.path.join(mask_dir, mask) for mask in sorted(os.listdir(mask_dir)) if mask.endswith('.tif')]"
      ],
      "metadata": {
        "id": "fXjRxXHmysoZ",
        "collapsed": true
      },
      "execution_count": 127,
      "outputs": []
    },
    {
      "cell_type": "markdown",
      "source": [
        "## Split into Train, Validation, and Test Sets"
      ],
      "metadata": {
        "id": "VnvXT2VEd7ii"
      }
    },
    {
      "cell_type": "code",
      "source": [
        "# Create dataset and dataloader\n",
        "\n",
        "# Apply different transformations to the training, val, and test sets\n",
        "train_data = Sentinel2Dataset(image_paths=image_paths, mask_paths=mask_paths, transform=get_augmentations(option='train'))\n",
        "val_data = Sentinel2Dataset(image_paths=image_paths, mask_paths=mask_paths, transform=get_augmentations(option='val'))\n",
        "test_data =  Sentinel2Dataset(image_paths=image_paths, mask_paths=mask_paths, transform=get_augmentations(option='test'))\n",
        "\n",
        "# Randomly split the dataset into 80% train / 10% val / 10% test\n",
        "# by subsetting the transformed train and test datasets\n",
        "train_size = 0.80\n",
        "val_size = 0.10\n",
        "indices = list(range(int(len(train_data))))\n",
        "train_split = int(train_size * len(train_data))\n",
        "val_split = int(val_size * len(val_data))\n",
        "np.random.shuffle(indices)\n",
        "\n",
        "train_data = data.Subset(train_data, indices=indices[:train_split])\n",
        "val_data = data.Subset(val_data, indices=indices[train_split: train_split+val_split])\n",
        "test_data = data.Subset(test_data, indices=indices[train_split+val_split:])\n",
        "print(\"Train/val/test sizes: {}/{}/{}\".format(len(train_data), len(val_data), len(test_data)))"
      ],
      "metadata": {
        "id": "ZyHDXeFPzgRp",
        "outputId": "32a75d2f-003d-43b2-81f3-ee1cfa280131",
        "colab": {
          "base_uri": "https://localhost:8080/"
        }
      },
      "execution_count": 182,
      "outputs": [
        {
          "output_type": "stream",
          "name": "stdout",
          "text": [
            "Train/val/test sizes: 87/10/12\n"
          ]
        }
      ]
    },
    {
      "cell_type": "markdown",
      "source": [
        "## Create a data loaders"
      ],
      "metadata": {
        "id": "LK6w7cOPfv9v"
      }
    },
    {
      "cell_type": "code",
      "source": [
        "batch_size = 8\n",
        "num_workers = 2\n",
        "\n",
        "train_loader = DataLoader(train_data, batch_size=batch_size, num_workers=num_workers, shuffle=True)\n",
        "val_loader = DataLoader(val_data, batch_size=batch_size, num_workers=num_workers, shuffle=False)\n",
        "test_loader = DataLoader(test_data, batch_size=batch_size, num_workers=num_workers, shuffle=False)"
      ],
      "metadata": {
        "id": "aKOBsD_lfxyZ"
      },
      "execution_count": 183,
      "outputs": []
    },
    {
      "cell_type": "markdown",
      "source": [
        "## Visualize the data"
      ],
      "metadata": {
        "id": "7b2bG41ahDxg"
      }
    },
    {
      "cell_type": "code",
      "source": [
        "# You do not have to run this cell, It simply forces one iteration of the\n",
        "# data loader (training) and plot the returned images and corresponding masks\n",
        "# after image augmentation. This is a nice sanity check to make sure the mask\n",
        "# and image still match...\n",
        "\n",
        "\n",
        "images, masks = next(iter(train_loader))\n",
        "fig, axes = plt.subplots(8, 2, figsize=(5, 25))\n",
        "plt.subplots_adjust(wspace=0, hspace=0)\n",
        "\n",
        "for i in range(8):\n",
        "    image = torch.clamp(images[i],0,1).permute(1, 2, 0).numpy()\n",
        "    mask = masks[i].squeeze().numpy()\n",
        "    axes[i, 0].imshow(image)\n",
        "    axes[i, 0].axis('off')\n",
        "    axes[i, 1].imshow(mask, cmap='gray')\n",
        "    axes[i, 1].axis('off')\n",
        "plt.show()\n"
      ],
      "metadata": {
        "collapsed": true,
        "id": "GTbN_mcZhnNl",
        "outputId": "f708884e-fb83-45d8-c2d9-7b4f38420938",
        "colab": {
          "base_uri": "https://localhost:8080/",
          "height": 1000
        }
      },
      "execution_count": 184,
      "outputs": [
        {
          "output_type": "display_data",
          "data": {
            "text/plain": [
              "<Figure size 500x2500 with 16 Axes>"
            ],
            "image/png": "[encoded data removed]"
          },
          "metadata": {}
        }
      ]
    },
    {
      "cell_type": "markdown",
      "source": [
        "## Instantiate the model"
      ],
      "metadata": {
        "id": "DR66RG_DmDu-"
      }
    },
    {
      "cell_type": "code",
      "source": [
        "model = get_model().to(device)\n",
        "torchsummary.summary(model, (3, 224, 224))"
      ],
      "metadata": {
        "collapsed": true,
        "id": "Ta8bZkfzgjg_",
        "outputId": "0d24c284-e715-44e8-e274-0de509b7231c",
        "colab": {
          "base_uri": "https://localhost:8080/"
        }
      },
      "execution_count": 185,
      "outputs": [
        {
          "output_type": "stream",
          "name": "stdout",
          "text": [
            "----------------------------------------------------------------\n",
            "        Layer (type)               Output Shape         Param #\n",
            "================================================================\n",
            "            Conv2d-1         [-1, 64, 112, 112]           9,408\n",
            "       BatchNorm2d-2         [-1, 64, 112, 112]             128\n",
            "              ReLU-3         [-1, 64, 112, 112]               0\n",
            "         MaxPool2d-4           [-1, 64, 56, 56]               0\n",
            "            Conv2d-5           [-1, 64, 56, 56]           4,096\n",
            "       BatchNorm2d-6           [-1, 64, 56, 56]             128\n",
            "              ReLU-7           [-1, 64, 56, 56]               0\n",
            "            Conv2d-8           [-1, 64, 56, 56]          36,864\n",
            "       BatchNorm2d-9           [-1, 64, 56, 56]             128\n",
            "             ReLU-10           [-1, 64, 56, 56]               0\n",
            "           Conv2d-11          [-1, 256, 56, 56]          16,384\n",
            "      BatchNorm2d-12          [-1, 256, 56, 56]             512\n",
            "           Conv2d-13          [-1, 256, 56, 56]          16,384\n",
            "      BatchNorm2d-14          [-1, 256, 56, 56]             512\n",
            "             ReLU-15          [-1, 256, 56, 56]               0\n",
            "       Bottleneck-16          [-1, 256, 56, 56]               0\n",
            "           Conv2d-17           [-1, 64, 56, 56]          16,384\n",
            "      BatchNorm2d-18           [-1, 64, 56, 56]             128\n",
            "             ReLU-19           [-1, 64, 56, 56]               0\n",
            "           Conv2d-20           [-1, 64, 56, 56]          36,864\n",
            "      BatchNorm2d-21           [-1, 64, 56, 56]             128\n",
            "             ReLU-22           [-1, 64, 56, 56]               0\n",
            "           Conv2d-23          [-1, 256, 56, 56]          16,384\n",
            "      BatchNorm2d-24          [-1, 256, 56, 56]             512\n",
            "             ReLU-25          [-1, 256, 56, 56]               0\n",
            "       Bottleneck-26          [-1, 256, 56, 56]               0\n",
            "           Conv2d-27           [-1, 64, 56, 56]          16,384\n",
            "      BatchNorm2d-28           [-1, 64, 56, 56]             128\n",
            "             ReLU-29           [-1, 64, 56, 56]               0\n",
            "           Conv2d-30           [-1, 64, 56, 56]          36,864\n",
            "      BatchNorm2d-31           [-1, 64, 56, 56]             128\n",
            "             ReLU-32           [-1, 64, 56, 56]               0\n",
            "           Conv2d-33          [-1, 256, 56, 56]          16,384\n",
            "      BatchNorm2d-34          [-1, 256, 56, 56]             512\n",
            "             ReLU-35          [-1, 256, 56, 56]               0\n",
            "       Bottleneck-36          [-1, 256, 56, 56]               0\n",
            "           Conv2d-37          [-1, 128, 56, 56]          32,768\n",
            "      BatchNorm2d-38          [-1, 128, 56, 56]             256\n",
            "             ReLU-39          [-1, 128, 56, 56]               0\n",
            "           Conv2d-40          [-1, 128, 28, 28]         147,456\n",
            "      BatchNorm2d-41          [-1, 128, 28, 28]             256\n",
            "             ReLU-42          [-1, 128, 28, 28]               0\n",
            "           Conv2d-43          [-1, 512, 28, 28]          65,536\n",
            "      BatchNorm2d-44          [-1, 512, 28, 28]           1,024\n",
            "           Conv2d-45          [-1, 512, 28, 28]         131,072\n",
            "      BatchNorm2d-46          [-1, 512, 28, 28]           1,024\n",
            "             ReLU-47          [-1, 512, 28, 28]               0\n",
            "       Bottleneck-48          [-1, 512, 28, 28]               0\n",
            "           Conv2d-49          [-1, 128, 28, 28]          65,536\n",
            "      BatchNorm2d-50          [-1, 128, 28, 28]             256\n",
            "             ReLU-51          [-1, 128, 28, 28]               0\n",
            "           Conv2d-52          [-1, 128, 28, 28]         147,456\n",
            "      BatchNorm2d-53          [-1, 128, 28, 28]             256\n",
            "             ReLU-54          [-1, 128, 28, 28]               0\n",
            "           Conv2d-55          [-1, 512, 28, 28]          65,536\n",
            "      BatchNorm2d-56          [-1, 512, 28, 28]           1,024\n",
            "             ReLU-57          [-1, 512, 28, 28]               0\n",
            "       Bottleneck-58          [-1, 512, 28, 28]               0\n",
            "           Conv2d-59          [-1, 128, 28, 28]          65,536\n",
            "      BatchNorm2d-60          [-1, 128, 28, 28]             256\n",
            "             ReLU-61          [-1, 128, 28, 28]               0\n",
            "           Conv2d-62          [-1, 128, 28, 28]         147,456\n",
            "      BatchNorm2d-63          [-1, 128, 28, 28]             256\n",
            "             ReLU-64          [-1, 128, 28, 28]               0\n",
            "           Conv2d-65          [-1, 512, 28, 28]          65,536\n",
            "      BatchNorm2d-66          [-1, 512, 28, 28]           1,024\n",
            "             ReLU-67          [-1, 512, 28, 28]               0\n",
            "       Bottleneck-68          [-1, 512, 28, 28]               0\n",
            "           Conv2d-69          [-1, 128, 28, 28]          65,536\n",
            "      BatchNorm2d-70          [-1, 128, 28, 28]             256\n",
            "             ReLU-71          [-1, 128, 28, 28]               0\n",
            "           Conv2d-72          [-1, 128, 28, 28]         147,456\n",
            "      BatchNorm2d-73          [-1, 128, 28, 28]             256\n",
            "             ReLU-74          [-1, 128, 28, 28]               0\n",
            "           Conv2d-75          [-1, 512, 28, 28]          65,536\n",
            "      BatchNorm2d-76          [-1, 512, 28, 28]           1,024\n",
            "             ReLU-77          [-1, 512, 28, 28]               0\n",
            "       Bottleneck-78          [-1, 512, 28, 28]               0\n",
            "           Conv2d-79          [-1, 256, 28, 28]         131,072\n",
            "      BatchNorm2d-80          [-1, 256, 28, 28]             512\n",
            "             ReLU-81          [-1, 256, 28, 28]               0\n",
            "           Conv2d-82          [-1, 256, 14, 14]         589,824\n",
            "      BatchNorm2d-83          [-1, 256, 14, 14]             512\n",
            "             ReLU-84          [-1, 256, 14, 14]               0\n",
            "           Conv2d-85         [-1, 1024, 14, 14]         262,144\n",
            "      BatchNorm2d-86         [-1, 1024, 14, 14]           2,048\n",
            "           Conv2d-87         [-1, 1024, 14, 14]         524,288\n",
            "      BatchNorm2d-88         [-1, 1024, 14, 14]           2,048\n",
            "             ReLU-89         [-1, 1024, 14, 14]               0\n",
            "       Bottleneck-90         [-1, 1024, 14, 14]               0\n",
            "           Conv2d-91          [-1, 256, 14, 14]         262,144\n",
            "      BatchNorm2d-92          [-1, 256, 14, 14]             512\n",
            "             ReLU-93          [-1, 256, 14, 14]               0\n",
            "           Conv2d-94          [-1, 256, 14, 14]         589,824\n",
            "      BatchNorm2d-95          [-1, 256, 14, 14]             512\n",
            "             ReLU-96          [-1, 256, 14, 14]               0\n",
            "           Conv2d-97         [-1, 1024, 14, 14]         262,144\n",
            "      BatchNorm2d-98         [-1, 1024, 14, 14]           2,048\n",
            "             ReLU-99         [-1, 1024, 14, 14]               0\n",
            "      Bottleneck-100         [-1, 1024, 14, 14]               0\n",
            "          Conv2d-101          [-1, 256, 14, 14]         262,144\n",
            "     BatchNorm2d-102          [-1, 256, 14, 14]             512\n",
            "            ReLU-103          [-1, 256, 14, 14]               0\n",
            "          Conv2d-104          [-1, 256, 14, 14]         589,824\n",
            "     BatchNorm2d-105          [-1, 256, 14, 14]             512\n",
            "            ReLU-106          [-1, 256, 14, 14]               0\n",
            "          Conv2d-107         [-1, 1024, 14, 14]         262,144\n",
            "     BatchNorm2d-108         [-1, 1024, 14, 14]           2,048\n",
            "            ReLU-109         [-1, 1024, 14, 14]               0\n",
            "      Bottleneck-110         [-1, 1024, 14, 14]               0\n",
            "          Conv2d-111          [-1, 256, 14, 14]         262,144\n",
            "     BatchNorm2d-112          [-1, 256, 14, 14]             512\n",
            "            ReLU-113          [-1, 256, 14, 14]               0\n",
            "          Conv2d-114          [-1, 256, 14, 14]         589,824\n",
            "     BatchNorm2d-115          [-1, 256, 14, 14]             512\n",
            "            ReLU-116          [-1, 256, 14, 14]               0\n",
            "          Conv2d-117         [-1, 1024, 14, 14]         262,144\n",
            "     BatchNorm2d-118         [-1, 1024, 14, 14]           2,048\n",
            "            ReLU-119         [-1, 1024, 14, 14]               0\n",
            "      Bottleneck-120         [-1, 1024, 14, 14]               0\n",
            "          Conv2d-121          [-1, 256, 14, 14]         262,144\n",
            "     BatchNorm2d-122          [-1, 256, 14, 14]             512\n",
            "            ReLU-123          [-1, 256, 14, 14]               0\n",
            "          Conv2d-124          [-1, 256, 14, 14]         589,824\n",
            "     BatchNorm2d-125          [-1, 256, 14, 14]             512\n",
            "            ReLU-126          [-1, 256, 14, 14]               0\n",
            "          Conv2d-127         [-1, 1024, 14, 14]         262,144\n",
            "     BatchNorm2d-128         [-1, 1024, 14, 14]           2,048\n",
            "            ReLU-129         [-1, 1024, 14, 14]               0\n",
            "      Bottleneck-130         [-1, 1024, 14, 14]               0\n",
            "          Conv2d-131          [-1, 256, 14, 14]         262,144\n",
            "     BatchNorm2d-132          [-1, 256, 14, 14]             512\n",
            "            ReLU-133          [-1, 256, 14, 14]               0\n",
            "          Conv2d-134          [-1, 256, 14, 14]         589,824\n",
            "     BatchNorm2d-135          [-1, 256, 14, 14]             512\n",
            "            ReLU-136          [-1, 256, 14, 14]               0\n",
            "          Conv2d-137         [-1, 1024, 14, 14]         262,144\n",
            "     BatchNorm2d-138         [-1, 1024, 14, 14]           2,048\n",
            "            ReLU-139         [-1, 1024, 14, 14]               0\n",
            "      Bottleneck-140         [-1, 1024, 14, 14]               0\n",
            "          Conv2d-141          [-1, 512, 14, 14]         524,288\n",
            "     BatchNorm2d-142          [-1, 512, 14, 14]           1,024\n",
            "            ReLU-143          [-1, 512, 14, 14]               0\n",
            "          Conv2d-144            [-1, 512, 7, 7]       2,359,296\n",
            "     BatchNorm2d-145            [-1, 512, 7, 7]           1,024\n",
            "            ReLU-146            [-1, 512, 7, 7]               0\n",
            "          Conv2d-147           [-1, 2048, 7, 7]       1,048,576\n",
            "     BatchNorm2d-148           [-1, 2048, 7, 7]           4,096\n",
            "          Conv2d-149           [-1, 2048, 7, 7]       2,097,152\n",
            "     BatchNorm2d-150           [-1, 2048, 7, 7]           4,096\n",
            "            ReLU-151           [-1, 2048, 7, 7]               0\n",
            "      Bottleneck-152           [-1, 2048, 7, 7]               0\n",
            "          Conv2d-153            [-1, 512, 7, 7]       1,048,576\n",
            "     BatchNorm2d-154            [-1, 512, 7, 7]           1,024\n",
            "            ReLU-155            [-1, 512, 7, 7]               0\n",
            "          Conv2d-156            [-1, 512, 7, 7]       2,359,296\n",
            "     BatchNorm2d-157            [-1, 512, 7, 7]           1,024\n",
            "            ReLU-158            [-1, 512, 7, 7]               0\n",
            "          Conv2d-159           [-1, 2048, 7, 7]       1,048,576\n",
            "     BatchNorm2d-160           [-1, 2048, 7, 7]           4,096\n",
            "            ReLU-161           [-1, 2048, 7, 7]               0\n",
            "      Bottleneck-162           [-1, 2048, 7, 7]               0\n",
            "          Conv2d-163            [-1, 512, 7, 7]       1,048,576\n",
            "     BatchNorm2d-164            [-1, 512, 7, 7]           1,024\n",
            "            ReLU-165            [-1, 512, 7, 7]               0\n",
            "          Conv2d-166            [-1, 512, 7, 7]       2,359,296\n",
            "     BatchNorm2d-167            [-1, 512, 7, 7]           1,024\n",
            "            ReLU-168            [-1, 512, 7, 7]               0\n",
            "          Conv2d-169           [-1, 2048, 7, 7]       1,048,576\n",
            "     BatchNorm2d-170           [-1, 2048, 7, 7]           4,096\n",
            "            ReLU-171           [-1, 2048, 7, 7]               0\n",
            "      Bottleneck-172           [-1, 2048, 7, 7]               0\n",
            "   ResNetEncoder-173  [[-1, 3, 224, 224], [-1, 64, 112, 112], [-1, 256, 56, 56], [-1, 512, 28, 28], [-1, 1024, 14, 14], [-1, 2048, 7, 7]]               0\n",
            "        Identity-174           [-1, 2048, 7, 7]               0\n",
            "        Identity-175         [-1, 3072, 14, 14]               0\n",
            "       Attention-176         [-1, 3072, 14, 14]               0\n",
            "          Conv2d-177          [-1, 256, 14, 14]       7,077,888\n",
            "     BatchNorm2d-178          [-1, 256, 14, 14]             512\n",
            "            ReLU-179          [-1, 256, 14, 14]               0\n",
            "          Conv2d-180          [-1, 256, 14, 14]         589,824\n",
            "     BatchNorm2d-181          [-1, 256, 14, 14]             512\n",
            "            ReLU-182          [-1, 256, 14, 14]               0\n",
            "        Identity-183          [-1, 256, 14, 14]               0\n",
            "       Attention-184          [-1, 256, 14, 14]               0\n",
            "    DecoderBlock-185          [-1, 256, 14, 14]               0\n",
            "        Identity-186          [-1, 768, 28, 28]               0\n",
            "       Attention-187          [-1, 768, 28, 28]               0\n",
            "          Conv2d-188          [-1, 128, 28, 28]         884,736\n",
            "     BatchNorm2d-189          [-1, 128, 28, 28]             256\n",
            "            ReLU-190          [-1, 128, 28, 28]               0\n",
            "          Conv2d-191          [-1, 128, 28, 28]         147,456\n",
            "     BatchNorm2d-192          [-1, 128, 28, 28]             256\n",
            "            ReLU-193          [-1, 128, 28, 28]               0\n",
            "        Identity-194          [-1, 128, 28, 28]               0\n",
            "       Attention-195          [-1, 128, 28, 28]               0\n",
            "    DecoderBlock-196          [-1, 128, 28, 28]               0\n",
            "        Identity-197          [-1, 384, 56, 56]               0\n",
            "       Attention-198          [-1, 384, 56, 56]               0\n",
            "          Conv2d-199           [-1, 64, 56, 56]         221,184\n",
            "     BatchNorm2d-200           [-1, 64, 56, 56]             128\n",
            "            ReLU-201           [-1, 64, 56, 56]               0\n",
            "          Conv2d-202           [-1, 64, 56, 56]          36,864\n",
            "     BatchNorm2d-203           [-1, 64, 56, 56]             128\n",
            "            ReLU-204           [-1, 64, 56, 56]               0\n",
            "        Identity-205           [-1, 64, 56, 56]               0\n",
            "       Attention-206           [-1, 64, 56, 56]               0\n",
            "    DecoderBlock-207           [-1, 64, 56, 56]               0\n",
            "        Identity-208        [-1, 128, 112, 112]               0\n",
            "       Attention-209        [-1, 128, 112, 112]               0\n",
            "          Conv2d-210         [-1, 32, 112, 112]          36,864\n",
            "     BatchNorm2d-211         [-1, 32, 112, 112]              64\n",
            "            ReLU-212         [-1, 32, 112, 112]               0\n",
            "          Conv2d-213         [-1, 32, 112, 112]           9,216\n",
            "     BatchNorm2d-214         [-1, 32, 112, 112]              64\n",
            "            ReLU-215         [-1, 32, 112, 112]               0\n",
            "        Identity-216         [-1, 32, 112, 112]               0\n",
            "       Attention-217         [-1, 32, 112, 112]               0\n",
            "    DecoderBlock-218         [-1, 32, 112, 112]               0\n",
            "          Conv2d-219         [-1, 16, 224, 224]           4,608\n",
            "     BatchNorm2d-220         [-1, 16, 224, 224]              32\n",
            "            ReLU-221         [-1, 16, 224, 224]               0\n",
            "          Conv2d-222         [-1, 16, 224, 224]           2,304\n",
            "     BatchNorm2d-223         [-1, 16, 224, 224]              32\n",
            "            ReLU-224         [-1, 16, 224, 224]               0\n",
            "        Identity-225         [-1, 16, 224, 224]               0\n",
            "       Attention-226         [-1, 16, 224, 224]               0\n",
            "    DecoderBlock-227         [-1, 16, 224, 224]               0\n",
            "     UnetDecoder-228         [-1, 16, 224, 224]               0\n",
            "          Conv2d-229          [-1, 1, 224, 224]             145\n",
            "        Identity-230          [-1, 1, 224, 224]               0\n",
            "        Identity-231          [-1, 1, 224, 224]               0\n",
            "      Activation-232          [-1, 1, 224, 224]               0\n",
            "================================================================\n",
            "Total params: 32,521,105\n",
            "Trainable params: 32,521,105\n",
            "Non-trainable params: 0\n",
            "----------------------------------------------------------------\n",
            "Input size (MB): 0.57\n",
            "Forward/backward pass size (MB): 463.01\n",
            "Params size (MB): 124.06\n",
            "Estimated Total Size (MB): 587.64\n",
            "----------------------------------------------------------------\n"
          ]
        }
      ]
    },
    {
      "cell_type": "markdown",
      "source": [
        "## Model Training and Evaluation\n",
        "\n",
        "We can now proceed to model training and evaluation.\n",
        "\n",
        "This section has three major parts:\n",
        "\n",
        "Specify the criterion, optimizer, and hyperparameters (e.g.\n",
        "\n",
        "1.   Specify the criterion, optimizer, and hyperparameters (e.g. n_epochs, learning rate, etc.).\n",
        "2.   Train the model on the training set by updating its weights to minimize the loss function.\n",
        "3.    Evaluate the model on the test set to observe performance on new, unseen data.\n",
        "4.    Repeat steps 2 and 3 n_epochs times."
      ],
      "metadata": {
        "id": "ouMuaPVdmcal"
      }
    },
    {
      "cell_type": "code",
      "source": [
        "criterion = torch.nn.BCEWithLogitsLoss()  # Binary cross-entropy loss\n",
        "optimizer = torch.optim.Adam(model.parameters(), lr=0.001)\n",
        "epochs = 1\n",
        "\n",
        "\n"
      ],
      "metadata": {
        "id": "AM1rFatjirQL"
      },
      "execution_count": 186,
      "outputs": []
    },
    {
      "cell_type": "markdown",
      "source": [
        "We can now commence model training and evaluation in the following cell."
      ],
      "metadata": {
        "id": "vxmQuuIKsHAB"
      }
    },
    {
      "cell_type": "code",
      "source": [
        "best_model = fit(model, train_loader, val_loader, epochs, lr=0.001, criterion=criterion, optimizer=optimizer, device=device)\n",
        "\n",
        "# Training loop\n",
        "#for epoch in range(epochs):\n",
        "#    print(f\"Epoch {epoch+1}/{epochs}\")\n",
        "#    train_model(model, train_loader, criterion, optimizer, device)\n",
        "\n",
        "\n",
        "#for epoch in range(epochs):\n",
        "#    print(f\"Epoch {epoch+1}/{epochs}\")\n",
        "#    train_model(model, train_loader, criterion, optimizer, device)\n"
      ],
      "metadata": {
        "id": "qa_AMrpusJJK",
        "outputId": "69a8dd22-1aff-4ed2-83b1-7dd1b3304c7a",
        "colab": {
          "base_uri": "https://localhost:8080/"
        }
      },
      "execution_count": 187,
      "outputs": [
        {
          "output_type": "stream",
          "name": "stdout",
          "text": [
            "Epoch 1\n",
            "Train Loss: 0.05; Accuracy: 3633729.00\n",
            "Train Loss: 0.10; Accuracy: 7290253.00\n",
            "Train Loss: 0.15; Accuracy: 10939862.00\n",
            "Train Loss: 0.19; Accuracy: 14582180.00\n",
            "Train Loss: 0.22; Accuracy: 18228828.00\n",
            "Train Loss: 0.25; Accuracy: 21863640.00\n",
            "Train Loss: 0.28; Accuracy: 25523752.00\n",
            "Train Loss: 0.31; Accuracy: 29172762.00\n",
            "Train Loss: 0.34; Accuracy: 32803872.00\n",
            "Train Loss: 0.36; Accuracy: 36455752.00\n",
            "Train Loss: 0.38; Accuracy: 39231552.00\n"
          ]
        },
        {
          "output_type": "stream",
          "name": "stderr",
          "text": [
            "100%|██████████| 2/2 [00:07<00:00,  3.84s/it]"
          ]
        },
        {
          "output_type": "stream",
          "name": "stdout",
          "text": [
            "Val Loss: 0.26; Accuracy: 33737860.00\n"
          ]
        },
        {
          "output_type": "stream",
          "name": "stderr",
          "text": [
            "\n"
          ]
        }
      ]
    },
    {
      "cell_type": "markdown",
      "source": [
        "## Model Performance on the Test Set\n",
        "\n",
        "Using the best model from the previous steps, we can evaluate the model performance on the test set."
      ],
      "metadata": {
        "id": "4HlmzgdS0Ui7"
      }
    },
    {
      "cell_type": "code",
      "source": [
        "test_loss, _ = evaluate(best_model, test_loader, criterion, device=device, phase=\"test\")"
      ],
      "metadata": {
        "id": "mYB6DeVf0VgT",
        "outputId": "4a2bc442-fb52-45a6-939e-770aeb000643",
        "colab": {
          "base_uri": "https://localhost:8080/"
        }
      },
      "execution_count": 188,
      "outputs": [
        {
          "output_type": "stream",
          "name": "stderr",
          "text": [
            "100%|██████████| 2/2 [00:08<00:00,  4.49s/it]"
          ]
        },
        {
          "output_type": "stream",
          "name": "stdout",
          "text": [
            "Test Loss: 0.27; Accuracy: 33043266.00\n"
          ]
        },
        {
          "output_type": "stream",
          "name": "stderr",
          "text": [
            "\n"
          ]
        }
      ]
    },
    {
      "cell_type": "markdown",
      "source": [
        "## Save Model\n",
        "\n",
        "Let's define a function for saving the model to our local Google drive as follows."
      ],
      "metadata": {
        "id": "q7MyJkkA5KRb"
      }
    },
    {
      "cell_type": "code",
      "source": [
        "model_dir = \"/content/drive/My Drive/Colab Notebooks/models/\"\n",
        "if not os.path.exists(model_dir):\n",
        "  os.makedirs(model_dir)\n",
        "\n",
        "model_file = os.path.join(model_dir, 'zindi_best_model.pth')\n",
        "model_file"
      ],
      "metadata": {
        "id": "ba9hED500koL",
        "outputId": "7d9fc50e-1e0d-490f-c6f4-89080717048d",
        "colab": {
          "base_uri": "https://localhost:8080/",
          "height": 35
        }
      },
      "execution_count": 189,
      "outputs": [
        {
          "output_type": "execute_result",
          "data": {
            "text/plain": [
              "'/content/drive/My Drive/Colab Notebooks/models/zindi_best_model.pth'"
            ],
            "application/vnd.google.colaboratory.intrinsic+json": {
              "type": "string"
            }
          },
          "metadata": {},
          "execution_count": 189
        }
      ]
    },
    {
      "cell_type": "code",
      "source": [
        "def save_model(best_model, model_file):\n",
        "  torch.save(best_model.state_dict(), model_file)\n",
        "  print('Model successfully saved to {}.'.format(model_file))"
      ],
      "metadata": {
        "id": "l3ttUUpO5ii1"
      },
      "execution_count": 190,
      "outputs": []
    },
    {
      "cell_type": "code",
      "source": [
        "save_model(best_model, model_file)"
      ],
      "metadata": {
        "id": "c2lRxCX95n2r",
        "outputId": "4442f73b-fcbf-4354-b55f-4ec7f08124d6",
        "colab": {
          "base_uri": "https://localhost:8080/"
        }
      },
      "execution_count": 191,
      "outputs": [
        {
          "output_type": "stream",
          "name": "stdout",
          "text": [
            "Model successfully saved to /content/drive/My Drive/Colab Notebooks/models/zindi_best_model.pth.\n"
          ]
        }
      ]
    },
    {
      "cell_type": "code",
      "source": [],
      "metadata": {
        "id": "FamHfXvC5qUe"
      },
      "execution_count": null,
      "outputs": []
    }
  ]
}