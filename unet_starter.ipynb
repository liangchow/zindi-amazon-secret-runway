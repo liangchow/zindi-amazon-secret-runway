{
  "nbformat": 4,
  "nbformat_minor": 0,
  "metadata": {
    "colab": {
      "provenance": [],
      "include_colab_link": true
    },
    "kernelspec": {
      "name": "python3",
      "display_name": "Python 3"
    },
    "language_info": {
      "name": "python"
    }
  },
  "cells": [
    {
      "cell_type": "markdown",
      "metadata": {
        "id": "view-in-github",
        "colab_type": "text"
      },
      "source": [
        "<a href=\"https://colab.research.google.com/github/liangchow/zindi-amazon-secret-runway/blob/dylan/unet_starter.ipynb\" target=\"_parent\"><img src=\"https://colab.research.google.com/assets/colab-badge.svg\" alt=\"Open In Colab\"/></a>"
      ]
    },
    {
      "cell_type": "code",
      "execution_count": null,
      "metadata": {
        "id": "0bNoSnqe7aJt"
      },
      "outputs": [],
      "source": [
        "# Read this first (10-15 minutes read)\n",
        "# https://amaarora.github.io/posts/2020-09-13-unet.html\n",
        "\n",
        "# Then, read these:\n",
        "# https://pyimagesearch.com/2021/11/08/u-net-training-image-segmentation-models-in-pytorch/\n",
        "# https://www.kaggle.com/code/quadeer15sh/how-to-perform-semantic-segmentation-using-u-net/\n",
        "# https://www.kaggle.com/code/awsaf49/uwmgi-unet-train-pytorch#Class-Distribution\n",
        "# https://pytorch.org/hub/mateuszbuda_brain-segmentation-pytorch_unet/"
      ]
    },
    {
      "cell_type": "code",
      "source": [
        "!pip install rasterio geopandas numpy matplotlib"
      ],
      "metadata": {
        "id": "r-U0qi46Frp1",
        "outputId": "efc6d7f9-a361-4549-b934-61da6a522c91",
        "colab": {
          "base_uri": "https://localhost:8080/"
        }
      },
      "execution_count": 1,
      "outputs": [
        {
          "output_type": "stream",
          "name": "stdout",
          "text": [
            "Requirement already satisfied: rasterio in /usr/local/lib/python3.10/dist-packages (1.4.1)\n",
            "Requirement already satisfied: geopandas in /usr/local/lib/python3.10/dist-packages (1.0.1)\n",
            "Requirement already satisfied: numpy in /usr/local/lib/python3.10/dist-packages (1.26.4)\n",
            "Requirement already satisfied: matplotlib in /usr/local/lib/python3.10/dist-packages (3.7.1)\n",
            "Requirement already satisfied: affine in /usr/local/lib/python3.10/dist-packages (from rasterio) (2.4.0)\n",
            "Requirement already satisfied: attrs in /usr/local/lib/python3.10/dist-packages (from rasterio) (24.2.0)\n",
            "Requirement already satisfied: certifi in /usr/local/lib/python3.10/dist-packages (from rasterio) (2024.8.30)\n",
            "Requirement already satisfied: click>=4.0 in /usr/local/lib/python3.10/dist-packages (from rasterio) (8.1.7)\n",
            "Requirement already satisfied: cligj>=0.5 in /usr/local/lib/python3.10/dist-packages (from rasterio) (0.7.2)\n",
            "Requirement already satisfied: click-plugins in /usr/local/lib/python3.10/dist-packages (from rasterio) (1.1.1)\n",
            "Requirement already satisfied: pyparsing in /usr/local/lib/python3.10/dist-packages (from rasterio) (3.1.4)\n",
            "Requirement already satisfied: pyogrio>=0.7.2 in /usr/local/lib/python3.10/dist-packages (from geopandas) (0.10.0)\n",
            "Requirement already satisfied: packaging in /usr/local/lib/python3.10/dist-packages (from geopandas) (24.1)\n",
            "Requirement already satisfied: pandas>=1.4.0 in /usr/local/lib/python3.10/dist-packages (from geopandas) (2.2.2)\n",
            "Requirement already satisfied: pyproj>=3.3.0 in /usr/local/lib/python3.10/dist-packages (from geopandas) (3.7.0)\n",
            "Requirement already satisfied: shapely>=2.0.0 in /usr/local/lib/python3.10/dist-packages (from geopandas) (2.0.6)\n",
            "Requirement already satisfied: contourpy>=1.0.1 in /usr/local/lib/python3.10/dist-packages (from matplotlib) (1.3.0)\n",
            "Requirement already satisfied: cycler>=0.10 in /usr/local/lib/python3.10/dist-packages (from matplotlib) (0.12.1)\n",
            "Requirement already satisfied: fonttools>=4.22.0 in /usr/local/lib/python3.10/dist-packages (from matplotlib) (4.54.1)\n",
            "Requirement already satisfied: kiwisolver>=1.0.1 in /usr/local/lib/python3.10/dist-packages (from matplotlib) (1.4.7)\n",
            "Requirement already satisfied: pillow>=6.2.0 in /usr/local/lib/python3.10/dist-packages (from matplotlib) (10.4.0)\n",
            "Requirement already satisfied: python-dateutil>=2.7 in /usr/local/lib/python3.10/dist-packages (from matplotlib) (2.8.2)\n",
            "Requirement already satisfied: pytz>=2020.1 in /usr/local/lib/python3.10/dist-packages (from pandas>=1.4.0->geopandas) (2024.2)\n",
            "Requirement already satisfied: tzdata>=2022.7 in /usr/local/lib/python3.10/dist-packages (from pandas>=1.4.0->geopandas) (2024.2)\n",
            "Requirement already satisfied: six>=1.5 in /usr/local/lib/python3.10/dist-packages (from python-dateutil>=2.7->matplotlib) (1.16.0)\n"
          ]
        }
      ]
    },
    {
      "cell_type": "code",
      "source": [
        "# Import packages\n",
        "import torch\n",
        "import os\n",
        "import rasterio\n",
        "import numpy as np\n",
        "import matplotlib.pyplot as plt\n",
        "import geopandas as gpd"
      ],
      "metadata": {
        "id": "JhSKF2qxCcha"
      },
      "execution_count": 104,
      "outputs": []
    },
    {
      "cell_type": "code",
      "source": [
        "# Set path\n",
        "path = os.path.join(\"/content\", \"drive\", \"MyDrive\", \"training\")\n",
        "\n",
        "image_path = os.path.join(path, \"images\")\n",
        "mask_path = os.path.join(path, \"masks\")\n",
        "\n",
        "# Define test split\n",
        "test_split = 0.15\n",
        "\n",
        "# Check device\n",
        "device = \"cuda\" if torch.cuda.is_available() else \"cpu\"\n",
        "memory = True if device == \"cuda\" else False"
      ],
      "metadata": {
        "id": "VoGB-NYd-UCp"
      },
      "execution_count": 105,
      "outputs": []
    },
    {
      "cell_type": "code",
      "source": [
        "def load_tifs_as_arrays(image_path):\n",
        "  image_arrays = []\n",
        "  for filename in os.listdir(image_path):\n",
        "      if filename.endswith(\".tif\"):\n",
        "          image_filepath = os.path.join(image_path, filename)\n",
        "          with rasterio.open(image_filepath) as src:\n",
        "            img_array = src.read()\n",
        "            image_arrays.append(img_array)\n",
        "  return image_arrays\n",
        "\n",
        "# Example usage\n",
        "image_arrays = load_tifs_as_arrays(image_path)\n"
      ],
      "metadata": {
        "id": "Ldhb0ZKmFmEB"
      },
      "execution_count": 106,
      "outputs": []
    },
    {
      "cell_type": "code",
      "source": [
        "def normalize_image_channels(image_arrays):\n",
        "  \"\"\"Normalizes all channels of a list of image arrays.\n",
        "\n",
        "  Args:\n",
        "    image_arrays: A list of image arrays, where each array has shape (C, H, W).\n",
        "\n",
        "  Returns:\n",
        "    A list of normalized image arrays.\n",
        "  \"\"\"\n",
        "  normalized_image_arrays = []\n",
        "  for image in image_arrays:\n",
        "    normalized_image = []\n",
        "    for channel in image:\n",
        "        # Normalize the channel\n",
        "        channel_min = np.nanmin(channel)\n",
        "        channel_max = np.nanmax(channel)\n",
        "        normalized_channel = (channel - channel_min) / (channel_max - channel_min)\n",
        "        normalized_image.append(normalized_channel)\n",
        "\n",
        "    normalized_image_arrays.append(np.stack(np.nan_to_num(normalized_image, nan=0.0)))\n",
        "\n",
        "  return normalized_image_arrays\n",
        "\n",
        "normalized_image_arrays = normalize_image_channels(image_arrays)"
      ],
      "metadata": {
        "id": "-tAOAzLvJPBD"
      },
      "execution_count": null,
      "outputs": []
    },
    {
      "cell_type": "code",
      "source": [
        "# prompt: Trim the arrays in normalized_image_arrays that have shape (9, 512, 513) so they all have shape (9, 512, 512)\n",
        "\n",
        "trimmed_normalized_image_arrays = []\n",
        "for image_array in normalized_image_arrays:\n",
        "  if image_array.shape == (9, 512, 513):\n",
        "    trimmed_image_array = image_array[:, :, :512]\n",
        "    trimmed_normalized_image_arrays.append(trimmed_image_array)\n",
        "  else:\n",
        "    trimmed_normalized_image_arrays.append(image_array)\n",
        "\n",
        "training_stack = np.stack(trimmed_normalized_image_arrays)\n",
        "print(training_stack.shape)"
      ],
      "metadata": {
        "id": "L76Bvd04UpXB",
        "outputId": "b5f986ea-eb4f-403d-cf05-6ba4065993b4",
        "colab": {
          "base_uri": "https://localhost:8080/"
        }
      },
      "execution_count": 103,
      "outputs": [
        {
          "output_type": "stream",
          "name": "stdout",
          "text": [
            "(112, 9, 512, 512)\n"
          ]
        }
      ]
    },
    {
      "cell_type": "code",
      "source": [
        "# Define number of channels, number of classes, and number of level in U-Net\n",
        "num_channels = 1\n",
        "num_classes = 1\n",
        "num_levels = 3\n",
        "\n",
        "# Define learning ratem number of epochs, and batch size\n",
        "learning_rate = 0.001\n",
        "num_epochs = 100\n",
        "batch_size = 16\n",
        "\n",
        "# Define input image dimensions\n",
        "input_image_height = 512\n",
        "input_image_width = 512\n",
        "\n",
        "# Define threshold\n",
        "threshold = 0.5\n",
        "\n",
        "# Define path to base output directory\n",
        "base_output_dir = \"output\"\n",
        "\n",
        "# Define path to output serialized model, model training plot, and test image path\n",
        "output_model_path = os.path.join(base_output_dir, \"unet_tgs_salt.pth\")\n",
        "output_plot_path = os.path.join(base_output_dir, \"plot.png\")"
      ],
      "metadata": {
        "id": "w44YW7rD_Cxi"
      },
      "execution_count": null,
      "outputs": []
    }
  ]
}