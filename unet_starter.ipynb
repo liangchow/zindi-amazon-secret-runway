{
  "nbformat": 4,
  "nbformat_minor": 0,
  "metadata": {
    "colab": {
      "provenance": [],
      "authorship_tag": "ABX9TyMMwwJZuT4rmbypWlBCk8D6",
      "include_colab_link": true
    },
    "kernelspec": {
      "name": "python3",
      "display_name": "Python 3"
    },
    "language_info": {
      "name": "python"
    }
  },
  "cells": [
    {
      "cell_type": "markdown",
      "metadata": {
        "id": "view-in-github",
        "colab_type": "text"
      },
      "source": [
        "<a href=\"https://colab.research.google.com/github/liangchow/zindi-amazon-secret-runway/blob/main/unet_starter.ipynb\" target=\"_parent\"><img src=\"https://colab.research.google.com/assets/colab-badge.svg\" alt=\"Open In Colab\"/></a>"
      ]
    },
    {
      "cell_type": "code",
      "execution_count": 1,
      "metadata": {
        "id": "0bNoSnqe7aJt"
      },
      "outputs": [],
      "source": [
        "# Read this first (10-15 minutes read)\n",
        "# https://amaarora.github.io/posts/2020-09-13-unet.html\n",
        "\n",
        "# Then, read these:\n",
        "# https://pyimagesearch.com/2021/11/08/u-net-training-image-segmentation-models-in-pytorch/\n",
        "# https://www.kaggle.com/code/quadeer15sh/how-to-perform-semantic-segmentation-using-u-net/\n",
        "# https://www.kaggle.com/code/awsaf49/uwmgi-unet-train-pytorch#Class-Distribution\n",
        "# https://pytorch.org/hub/mateuszbuda_brain-segmentation-pytorch_unet/"
      ]
    },
    {
      "cell_type": "code",
      "source": [
        "# Import packages\n",
        "import torch\n",
        "import os"
      ],
      "metadata": {
        "id": "JhSKF2qxCcha"
      },
      "execution_count": null,
      "outputs": []
    },
    {
      "cell_type": "code",
      "source": [
        "# Set path\n",
        "path = os.path.join(\"dataset\", \"train\")\n",
        "\n",
        "image_path = os.path.join(path, \"images\")\n",
        "mask_path = os.path.join(path, \"masks\")\n",
        "\n",
        "# Define test split\n",
        "test_split = 0.15\n",
        "\n",
        "# Check device\n",
        "device = \"cuda\" if torch.cuda.is_available() else \"cpu\"\n",
        "memory = True if device == \"cuda\" else False"
      ],
      "metadata": {
        "id": "VoGB-NYd-UCp"
      },
      "execution_count": 2,
      "outputs": []
    },
    {
      "cell_type": "code",
      "source": [
        "# Define number of channels, number of classes, and number of level in U-Net\n",
        "num_channels = 1\n",
        "num_classes = 1\n",
        "num_levels = 3\n",
        "\n",
        "# Define learning ratem number of epochs, and batch size\n",
        "learning_rate = 0.001\n",
        "num_epochs = 100\n",
        "batch_size = 16\n",
        "\n",
        "# Define input image dimensions\n",
        "input_image_height = 512\n",
        "input_image_width = 512\n",
        "\n",
        "# Define threshold\n",
        "threshold = 0.5\n",
        "\n",
        "# Define path to base output directory\n",
        "base_output_dir = \"output\"\n",
        "\n",
        "# Define path to output serialized model, model training plot, and test image path\n",
        "output_model_path = os.path.join(base_output_dir, \"unet_tgs_salt.pth\")\n",
        "output_plot_path = os.path.join(base_output_dir, \"plot.png\")\n",
        "output_test_image"
      ],
      "metadata": {
        "id": "w44YW7rD_Cxi"
      },
      "execution_count": null,
      "outputs": []
    }
  ]
}